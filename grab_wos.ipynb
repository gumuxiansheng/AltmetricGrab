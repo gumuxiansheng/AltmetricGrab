{
 "nbformat": 4,
 "nbformat_minor": 2,
 "metadata": {
  "language_info": {
   "name": "python",
   "codemirror_mode": {
    "name": "ipython",
    "version": 3
   },
   "version": "3.7.3"
  },
  "orig_nbformat": 2,
  "file_extension": ".py",
  "mimetype": "text/x-python",
  "name": "python",
  "npconvert_exporter": "python",
  "pygments_lexer": "ipython3",
  "version": 3
 },
 "cells": [
  {
   "cell_type": "code",
   "execution_count": 82,
   "metadata": {},
   "outputs": [],
   "source": [
    "from grab_util import *\n",
    "import json\n",
    "import pandas as pd\n",
    "import numpy as np\n",
    "import math\n",
    "import urllib\n",
    "import requests\n",
    "from requests import ConnectionError, ReadTimeout"
   ]
  },
  {
   "cell_type": "code",
   "execution_count": 83,
   "metadata": {},
   "outputs": [],
   "source": [
    "class Request(object):\n",
    "    def __init__(self, request_session):\n",
    "        self.request_session = request_session\n",
    "    \n",
    "    def get(self, url, headers={'Accept': '* / *',\n",
    "               'Accept-Language': 'zh-TW, zh; q=0.9, en-US; q=0.8, en; q=0.7, zh-CN; q=0.6',\n",
    "               'User-Agent': 'Mozilla/5.0 (Macintosh; Intel Mac OS X 10_14_1) AppleWebKit/537.36 (KHTML, like Gecko) Chrome/72.0.3610.2 Safari/537.36'\n",
    "               }, timeout=10, allow_redirects=False):\n",
    "        try:\n",
    "            print(url)\n",
    "            headers['Host'] = urllib.request.splithost(urllib.request.splittype(url)[1])[0]\n",
    "            res = self.request_session.get(url, headers=headers, timeout=timeout, allow_redirects=allow_redirects)\n",
    "        except ConnectionError as ce:\n",
    "            print('ConnectionError: ' + str(ce))\n",
    "            return self.get(self, url=url, headers=headers, timeout=timeout, allow_redirects=allow_redirects)\n",
    "        except ReadTimeout as rte:\n",
    "            print('ReadTimeout: ' + str(rte))\n",
    "            return self.get(self, url=url, headers=headers, timeout=timeout, allow_redirects=allow_redirects)\n",
    "\n",
    "        return res\n",
    "    \n",
    "    def post(self, url, data, headers={'Accept': '* / *',\n",
    "               'Accept-Language': 'zh-TW, zh; q=0.9, en-US; q=0.8, en; q=0.7, zh-CN; q=0.6',\n",
    "               'User-Agent': 'Mozilla/5.0 (Macintosh; Intel Mac OS X 10_14_1) AppleWebKit/537.36 (KHTML, like Gecko) Chrome/72.0.3610.2 Safari/537.36'\n",
    "               }, timeout=10, allow_redirects=False):\n",
    "        try:\n",
    "            headers['host'] = urllib.request.splithost(urllib.request.splittype(url)[1])[0]\n",
    "            res = self.request_session.post(url, data=data, headers=headers, timeout=timeout, allow_redirects=allow_redirects)\n",
    "        except ConnectionError as ce:\n",
    "            print('ConnectionError: ' + str(ce))\n",
    "            return self.post(self, url=url, data=data, headers=headers, timeout=timeout, allow_redirects=allow_redirects)\n",
    "        except ReadTimeout as rte:\n",
    "            print('ReadTimeout: ' + str(rte))\n",
    "            return self.post(self, url=url, data=data, headers=headers, timeout=timeout, allow_redirects=allow_redirects)\n",
    "\n",
    "        return res\n",
    "\n",
    "    def get_cookie_dict(self):\n",
    "        return requests.utils.dict_from_cookiejar(self.request_session.cookies)"
   ]
  },
  {
   "cell_type": "markdown",
   "execution_count": null,
   "metadata": {},
   "outputs": [],
   "source": [
    "## Initial Cookies"
   ]
  },
  {
   "cell_type": "code",
   "execution_count": 84,
   "metadata": {},
   "outputs": [
    {
     "name": "stdout",
     "output_type": "stream",
     "text": "http://apps.webofknowledge.com/UA_AdvancedSearch.do\n{'Content-Length': '0', 'Server': 'Apache-Coyote/1.1', 'Location': 'http://www.webofknowledge.com?&Error=Client.NullSessionID', 'Date': 'Mon, 30 Dec 2019 09:37:29 GMT', 'Set-Cookie': 'JSESSIONID=3FEF758F916D8D3BD159956FCA419648; Path=/; HttpOnly, bm_sz=AE7F113F3CCB087BF4A856C8896D20BF~YAAQzawsFzBPzIVuAQAA9eMqVgZnO+3OanDa92JCWtPqR7JcWgiDeRzC/DfpkHIS/hU2a9fCHBQ09SNJBoKmLNjMoOIgrCNVAalFGei1q9R6UP/Z4fJ4lZAoUJttpUSHrU1suhlFjlBd132xofTn04CTuBXWDlJ1kX3dT+MPKbT+J0Sa0ZcupvWQxfP4GPPlPi48IFFW4O0=; Domain=.webofknowledge.com; Path=/; Expires=Mon, 30 Dec 2019 13:37:28 GMT; Max-Age=14399; HttpOnly, _abck=7D2E2C4C3CDC75B85BFDB585587B30AD~-1~YAAQzawsFzFPzIVuAQAA9eMqVgOVadItAclcE1EN7ZBK4zA3hpd5RC/Z1RDjiVQ86n/lJpdks4vG8ZG5el3Ro343XqVOmRRf3fD/zZghNoCPCCqFFMINqZrrMbZonE/AAP4Vtyt5Cmtf7Rsym3xxxbgqeUsmBcwc7KTru0UaFIJ3MDSKqw64FzSYg1LUWVYQ91kdUwBKdTbPJAu6kcyZUMzXRhE37BwzX1vgKLjBMipnfplvluy6UaOS9Ni5EsEu0nw0yMK2NdF8GnEg2WWmUOafb9lJE158GW2NF/I=~-1~-1~-1; Domain=.webofknowledge.com; Path=/; Expires=Tue, 29 Dec 2020 09:37:29 GMT; Max-Age=31536000', 'Connection': 'keep-alive'}\nhttp://www.webofknowledge.com?&Error=Client.NullSessionID\n{'Content-Length': '0', 'Server': 'Apache-Coyote/1.1', 'Location': 'http://apps.webofknowledge.com/?Init=Yes&Error=Client.NullSessionID&SrcApp=CR&SID=6F42n2LeSaYxO3aINbl', 'Date': 'Mon, 30 Dec 2019 09:37:30 GMT', 'Set-Cookie': 'SID=\"6F42n2LeSaYxO3aINbl\"; Version=1; Domain=.webofknowledge.com; Path=/; HttpOnly, WOK5_SID=\"\"; Version=1; Domain=.webofknowledge.com; Max-Age=0; Path=/; HttpOnly; Expires=Thu, 01-Jan-1970 00:00:10 GMT, CUSTOMER=\"SOUTH UNIV OF SCIENCE and TECH OF CHINA SUSTC\"; Version=1; Domain=.webofknowledge.com; Path=/; HttpOnly, E_GROUP_NAME=\"SOUTH UNIV OF SCIENCE and TECH OF CHINA SUSTC\"; Version=1; Domain=.webofknowledge.com; Path=/; HttpOnly', 'Connection': 'keep-alive'}\n"
    }
   ],
   "source": [
    "url = \"http://apps.webofknowledge.com/UA_AdvancedSearch.do\"\n",
    "\n",
    "headers = {\n",
    "    'User-Agent': \"Mozilla/5.0 (Macintosh; Intel Mac OS X 10_15) AppleWebKit/605.1.15 (KHTML, like Gecko) Version/13.0.2 Safari/605.1.15\",\n",
    "    'Accept': \"*/*\",\n",
    "    'Cache-Control': \"no-cache\",\n",
    "    'Accept-Encoding': \"gzip, deflate\",\n",
    "    'Accept-Language': \"en-us\",\n",
    "    'Connection': \"keep-alive\"\n",
    "    }\n",
    "\n",
    "req = Request(requests.Session())\n",
    "response = req.get(url, headers, 40, False)\n",
    "print(response.headers)\n",
    "\n",
    "\n",
    "while ('Location' in response.headers) and ('SID' not in response.headers.get('Location')):\n",
    "    headers['Referer'] = url\n",
    "    url = response.headers.get('Location')\n",
    "\n",
    "    response = req.get(url, headers=headers, timeout=40, allow_redirects=False)\n",
    "    print(response.headers)\n",
    "\n"
   ]
  },
  {
   "cell_type": "code",
   "execution_count": 85,
   "metadata": {},
   "outputs": [
    {
     "data": {
      "text/plain": "{'CUSTOMER': '\"SOUTH UNIV OF SCIENCE and TECH OF CHINA SUSTC\"',\n 'E_GROUP_NAME': '\"SOUTH UNIV OF SCIENCE and TECH OF CHINA SUSTC\"',\n 'SID': '\"6F42n2LeSaYxO3aINbl\"',\n '_abck': '7D2E2C4C3CDC75B85BFDB585587B30AD~-1~YAAQzawsFzFPzIVuAQAA9eMqVgOVadItAclcE1EN7ZBK4zA3hpd5RC/Z1RDjiVQ86n/lJpdks4vG8ZG5el3Ro343XqVOmRRf3fD/zZghNoCPCCqFFMINqZrrMbZonE/AAP4Vtyt5Cmtf7Rsym3xxxbgqeUsmBcwc7KTru0UaFIJ3MDSKqw64FzSYg1LUWVYQ91kdUwBKdTbPJAu6kcyZUMzXRhE37BwzX1vgKLjBMipnfplvluy6UaOS9Ni5EsEu0nw0yMK2NdF8GnEg2WWmUOafb9lJE158GW2NF/I=~-1~-1~-1',\n 'bm_sz': 'AE7F113F3CCB087BF4A856C8896D20BF~YAAQzawsFzBPzIVuAQAA9eMqVgZnO+3OanDa92JCWtPqR7JcWgiDeRzC/DfpkHIS/hU2a9fCHBQ09SNJBoKmLNjMoOIgrCNVAalFGei1q9R6UP/Z4fJ4lZAoUJttpUSHrU1suhlFjlBd132xofTn04CTuBXWDlJ1kX3dT+MPKbT+J0Sa0ZcupvWQxfP4GPPlPi48IFFW4O0=',\n 'JSESSIONID': '3FEF758F916D8D3BD159956FCA419648'}"
     },
     "execution_count": 85,
     "metadata": {},
     "output_type": "execute_result"
    }
   ],
   "source": [
    "sid = req.get_cookie_dict()['SID']\n",
    "req.get_cookie_dict()"
   ]
  },
  {
   "cell_type": "code",
   "execution_count": 86,
   "metadata": {},
   "outputs": [
    {
     "name": "stdout",
     "output_type": "stream",
     "text": "http://apps.webofknowledge.com/?Init=Yes&Error=Client.NullSessionID&SrcApp=CR&SID=6F42n2LeSaYxO3aINbl\n{'Content-Type': 'text/html;charset=UTF-8', 'Content-Length': '0', 'Server': 'Apache-Coyote/1.1', 'Location': 'home.do?Init=Yes&Error=Client.NullSessionID&SrcApp=CR&SID=6F42n2LeSaYxO3aINbl', 'Date': 'Mon, 30 Dec 2019 09:37:30 GMT', 'Set-Cookie': 'JSESSIONID=54C123454DEDA5A2D75D6137797971D8; Path=/; HttpOnly, dotmatics.elementalKey=SLsLWlMhrHnTjDerSrlG; Version=1; Domain=.webofknowledge.com, ak_bmsc=B19FF4110178444EE29555740709703E172CACCDA57F00005AC5095EF901BA6B~plWngDBf/aOf3G083x+VvFmIwxWxeTyaUVSmKa2Y+WgD5GUYMaKpwLQWr5w5bde8UUOebYDHhe1DRMdi/SOfvB8dYe310zdf1sb7+zITzxr26PFzenVl8nIlfBMsJ3os0bd8xwjVG1oQLgElFshGt3Lg5v4RacqzN+Ye4cBetYPtyxtIt86Gu8ht4KMMVEPlWpoDB+xB3H1fdl4eAVrWCgaO/T52y5qcRLbTeGW2t3sx7z1Mln4gSjNWWPjQRtytE8; expires=Mon, 30 Dec 2019 11:37:30 GMT; max-age=7200; path=/; domain=.webofknowledge.com; HttpOnly', 'Connection': 'keep-alive'}\nhttp://apps.webofknowledge.com/home.do?Init=Yes&Error=Client.NullSessionID&SrcApp=CR&SID=6F42n2LeSaYxO3aINbl\n{'CUSTOMER': '\"SOUTH UNIV OF SCIENCE and TECH OF CHINA SUSTC\"', 'E_GROUP_NAME': '\"SOUTH UNIV OF SCIENCE and TECH OF CHINA SUSTC\"', 'SID': '\"6F42n2LeSaYxO3aINbl\"', '_abck': '7D2E2C4C3CDC75B85BFDB585587B30AD~-1~YAAQzawsFzFPzIVuAQAA9eMqVgOVadItAclcE1EN7ZBK4zA3hpd5RC/Z1RDjiVQ86n/lJpdks4vG8ZG5el3Ro343XqVOmRRf3fD/zZghNoCPCCqFFMINqZrrMbZonE/AAP4Vtyt5Cmtf7Rsym3xxxbgqeUsmBcwc7KTru0UaFIJ3MDSKqw64FzSYg1LUWVYQ91kdUwBKdTbPJAu6kcyZUMzXRhE37BwzX1vgKLjBMipnfplvluy6UaOS9Ni5EsEu0nw0yMK2NdF8GnEg2WWmUOafb9lJE158GW2NF/I=~-1~-1~-1', 'ak_bmsc': 'B19FF4110178444EE29555740709703E172CACCDA57F00005AC5095EF901BA6B~plWngDBf/aOf3G083x+VvFmIwxWxeTyaUVSmKa2Y+WgD5GUYMaKpwLQWr5w5bde8UUOebYDHhe1DRMdi/SOfvB8dYe310zdf1sb7+zITzxr26PFzenVl8nIlfBMsJ3os0bd8xwjVG1oQLgElFshGt3Lg5v4RacqzN+Ye4cBetYPtyxtIt86Gu8ht4KMMVEPlWpoDB+xB3H1fdl4eAVrWCgaO/T52y5qcRLbTeGW2t3sx7z1Mln4gSjNWWPjQRtytE8', 'bm_sv': '3566D1569B9F33F2345471B812F0E5C2~z3Zj/eNnZTGXs552DHuARSvcM4sgNltHU9Ja0MqT04jwk7gFlK7oB/NJ0O+c/lugIgzVuotbHkNLoodK9H8HPLlHlpWQ9YmbWOzJ1XczDmYMTM4l96HtFxvknPO9LAOALReuCUSEuhqsGNJK9UmMxECHZAYmI+pq3D2TLvRfGKY=', 'bm_sz': 'AE7F113F3CCB087BF4A856C8896D20BF~YAAQzawsFzBPzIVuAQAA9eMqVgZnO+3OanDa92JCWtPqR7JcWgiDeRzC/DfpkHIS/hU2a9fCHBQ09SNJBoKmLNjMoOIgrCNVAalFGei1q9R6UP/Z4fJ4lZAoUJttpUSHrU1suhlFjlBd132xofTn04CTuBXWDlJ1kX3dT+MPKbT+J0Sa0ZcupvWQxfP4GPPlPi48IFFW4O0=', 'dotmatics.elementalKey': 'SLsLWlMhrHnTjDerSrlG', 'JSESSIONID': '1DF927F8873C19C661FE589AF2CD78C7'}\n"
    }
   ],
   "source": [
    "headers['Referer'] = url\n",
    "url = response.headers.get('Location')\n",
    "response = req.get(url, headers, 40, False)\n",
    "print(response.headers)\n",
    "headers['Referer'] = url\n",
    "url = 'http://apps.webofknowledge.com/' + response.headers['Location']\n",
    "response = req.get(url, headers, 40, False)\n",
    "print(req.get_cookie_dict())"
   ]
  },
  {
   "cell_type": "code",
   "execution_count": 87,
   "metadata": {},
   "outputs": [],
   "source": [
    "sid_pure = sid.replace('\"', '')"
   ]
  },
  {
   "cell_type": "code",
   "execution_count": 88,
   "metadata": {},
   "outputs": [],
   "source": [
    "url = f'http://apps.webofknowledge.com/AutoSave_UA_AdvancedSearch_input.do?action=saveForm&SID={sid_pure}&product=UA&search_mode=AdvancedSearch'\n",
    "search_data = [\n",
    "    ('product', \"UA\"),\n",
    "    ('search_mode', \"AdvancedSearch\"),\n",
    "    ('SID', sid_pure),\n",
    "    ('input_invalid_notice', \"Search Error: Please enter a search term.\"),\n",
    "    ('input_invalid_notice_limits', \" <br/>Note: Fields displayed in scrolling boxes must be combined with at least one other search field.\"),\n",
    "    ('action', \"search\"),\n",
    "    ('replaceSetId', \"\"),\n",
    "    ('goToPageLoc', \"SearchHistoryTableBanner\"),\n",
    "    ('value(input1)', \"SO=(OMEGA) AND PY=(2014 OR 2015 OR 2016 OR 2017 OR 2018)\"),\n",
    "    ('value(searchOp)', \"search\"),\n",
    "    ('limitStatus', \"expanded\"),\n",
    "    ('ss_lemmatization', \"On\"),\n",
    "    ('ss_spellchecking', \"Suggest\"),\n",
    "    ('SinceLastVisit_UTC', \"\"),\n",
    "    ('SinceLastVisit_DATE', \"\"),\n",
    "    ('period', \"Range Selection\"),\n",
    "    ('range', \"ALL\"),\n",
    "    ('startYear', \"1900\"),\n",
    "    ('endYear', \"2019\"),\n",
    "    ('editions', \"WOS.SSCI\"),\n",
    "    ('editions', \"WOS.SCI\"),\n",
    "    # ('editions', \"WOS.IC\"),\n",
    "    # ('editions', \"WOS.ISSHP\"),\n",
    "    # ('editions', \"WOS.ISTP\"),\n",
    "    # ('editions', \"WOS.CCR\"),\n",
    "    ('collections', \"WOS\"),\n",
    "    # ('editions', \"CSCD.CSCD\"),\n",
    "    # ('collections', \"CSCD\"),\n",
    "    # ('editions', \"SCIELO.SCIELO\"),\n",
    "    # ('collections', \"SCIELO\"),\n",
    "    ('update_back2search_link_param', \"yes\"),\n",
    "    ('ssStatus', \"display,none\"),\n",
    "    ('ss_showsuggestions', \"ON\"),\n",
    "    ('ss_query_language', \"auto\"),\n",
    "    ('rs_sort_by', \"PY.D;LD.D;SO.A;VL.D;PG.A;AU.A\")\n",
    "]"
   ]
  },
  {
   "cell_type": "code",
   "execution_count": 89,
   "metadata": {},
   "outputs": [
    {
     "name": "stdout",
     "output_type": "stream",
     "text": "http://apps.webofknowledge.com/UA_AdvancedSearch_input.do?product=UA&search_mode=AdvancedSearch&replaceSetId=&goToPageLoc=SearchHistoryTableBanner&SID=6F42n2LeSaYxO3aINbl&errorQid=1\n"
    }
   ],
   "source": [
    "response = req.post(url, search_data, headers, 40, False)\n",
    "\n",
    "headers['Referer'] = url\n",
    "url = 'http://apps.webofknowledge.com/UA_AdvancedSearch.do'\n",
    "response = req.post(url, search_data, headers, 40, False)\n",
    "headers['Referer'] = url\n",
    "url = 'http://apps.webofknowledge.com' + response.headers.get('Location')\n",
    "response = req.get(url, headers=headers, timeout=40, allow_redirects=False)"
   ]
  },
  {
   "cell_type": "code",
   "execution_count": 90,
   "metadata": {},
   "outputs": [],
   "source": [
    "start = response.text.find('<div id=\"set_1_div\" class=\"historyResults\">')\n",
    "end = start + 500"
   ]
  },
  {
   "cell_type": "code",
   "execution_count": 91,
   "metadata": {},
   "outputs": [
    {
     "data": {
      "text/plain": "'                                   <tr id=\"set_1_row\" class=\"\"> <td align=\"center\" valign=\"top\" class=\"historySetNum\"> <div class=\"syntax33_highlight\"># 1</div> </td> <td align=\"center\" valign=\"top\"> <div id=\"set_1_div\" class=\"historyResults\">                     <a href=\"/summary.do?product=UA&doc=1&qid=1&SID=6F42n2LeSaYxO3aINbl&search_mode=AdvancedSearch&update_back2search_link_param=yes\" id=\"hitCount\" class=\"hitCount\" title=\"Click to view the results\">641</a>            </div> </td> <td valign=\"top\"> <div class=\"historyQuery\">             <if test=\"true\">   <if test=\"false\">  </if>   <if test=\"false\">  </if> </if>  SO=(OMEGA) AND PY=(2014 OR 2015 OR 2016 OR 2017 OR 2018)  </div> <div>    '"
     },
     "execution_count": 91,
     "metadata": {},
     "output_type": "execute_result"
    }
   ],
   "source": [
    "response.text[start - 200:end]"
   ]
  },
  {
   "cell_type": "code",
   "execution_count": 92,
   "metadata": {},
   "outputs": [
    {
     "data": {
      "text/plain": "{'CUSTOMER': '\"SOUTH UNIV OF SCIENCE and TECH OF CHINA SUSTC\"',\n 'E_GROUP_NAME': '\"SOUTH UNIV OF SCIENCE and TECH OF CHINA SUSTC\"',\n 'SID': '\"6F42n2LeSaYxO3aINbl\"',\n '_abck': '7D2E2C4C3CDC75B85BFDB585587B30AD~-1~YAAQzawsFzFPzIVuAQAA9eMqVgOVadItAclcE1EN7ZBK4zA3hpd5RC/Z1RDjiVQ86n/lJpdks4vG8ZG5el3Ro343XqVOmRRf3fD/zZghNoCPCCqFFMINqZrrMbZonE/AAP4Vtyt5Cmtf7Rsym3xxxbgqeUsmBcwc7KTru0UaFIJ3MDSKqw64FzSYg1LUWVYQ91kdUwBKdTbPJAu6kcyZUMzXRhE37BwzX1vgKLjBMipnfplvluy6UaOS9Ni5EsEu0nw0yMK2NdF8GnEg2WWmUOafb9lJE158GW2NF/I=~-1~-1~-1',\n 'ak_bmsc': 'B19FF4110178444EE29555740709703E172CACCDA57F00005AC5095EF901BA6B~plWngDBf/aOf3G083x+VvFmIwxWxeTyaUVSmKa2Y+WgD5GUYMaKpwLQWr5w5bde8UUOebYDHhe1DRMdi/SOfvB8dYe310zdf1sb7+zITzxr26PFzenVl8nIlfBMsJ3os0bd8xwjVG1oQLgElFshGt3Lg5v4RacqzN+Ye4cBetYPtyxtIt86Gu8ht4KMMVEPlWpoDB+xB3H1fdl4eAVrWCgaO/T52y5qcRLbTeGW2t3sx7z1Mln4gSjNWWPjQRtytE8',\n 'bm_sv': '3566D1569B9F33F2345471B812F0E5C2~z3Zj/eNnZTGXs552DHuARSvcM4sgNltHU9Ja0MqT04jwk7gFlK7oB/NJ0O+c/lugIgzVuotbHkNLoodK9H8HPLlHlpWQ9YmbWOzJ1XczDmYMTM4l96HtFxvknPO9LAOAP1IX1de6PysMIxRyx9rEqznrHQG63+5yIWKm3MPxtzw=',\n 'bm_sz': 'AE7F113F3CCB087BF4A856C8896D20BF~YAAQzawsFzBPzIVuAQAA9eMqVgZnO+3OanDa92JCWtPqR7JcWgiDeRzC/DfpkHIS/hU2a9fCHBQ09SNJBoKmLNjMoOIgrCNVAalFGei1q9R6UP/Z4fJ4lZAoUJttpUSHrU1suhlFjlBd132xofTn04CTuBXWDlJ1kX3dT+MPKbT+J0Sa0ZcupvWQxfP4GPPlPi48IFFW4O0=',\n 'dotmatics.elementalKey': 'SLsLWlMhrHnTjDerSrlG',\n 'JSESSIONID': '7423B410F45D7CAE21E46B93947344AE'}"
     },
     "execution_count": 92,
     "metadata": {},
     "output_type": "execute_result"
    }
   ],
   "source": [
    "req.get_cookie_dict()"
   ]
  },
  {
   "cell_type": "code",
   "execution_count": 93,
   "metadata": {},
   "outputs": [
    {
     "name": "stdout",
     "output_type": "stream",
     "text": "http://apps.webofknowledge.com/summary.do?product=UA&doc=1&qid=1&SID=5COWRs8gVgnqzqpvhSj&search_mode=AdvancedSearch&update_back2search_link_param=yes\n"
    }
   ],
   "source": [
    "url = 'http://apps.webofknowledge.com' + '/summary.do?product=UA&doc=1&qid=1&SID=5COWRs8gVgnqzqpvhSj&search_mode=AdvancedSearch&update_back2search_link_param=yes'\n",
    "response = req.get(url, headers=headers, timeout=40, allow_redirects=False)"
   ]
  },
  {
   "cell_type": "code",
   "execution_count": null,
   "metadata": {},
   "outputs": [],
   "source": []
  }
 ]
}