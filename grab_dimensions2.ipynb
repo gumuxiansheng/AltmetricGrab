{
 "cells": [
  {
   "cell_type": "markdown",
   "metadata": {},
   "source": [
    "# Grab Dimensions Data\n",
    "\n",
    "https://app.dimensions.ai/discover/publication\n",
    "\n",
    "This notebook handles the downloads of Dimensions data.\n"
   ]
  },
  {
   "cell_type": "code",
   "execution_count": 1,
   "metadata": {},
   "outputs": [],
   "source": [
    "import pandas as pd\n",
    "import numpy as np"
   ]
  },
  {
   "cell_type": "markdown",
   "metadata": {},
   "source": [
    "## Load Journals"
   ]
  },
  {
   "cell_type": "code",
   "execution_count": 2,
   "metadata": {},
   "outputs": [],
   "source": [
    "origin_folder = 'SUSTC_Journals'"
   ]
  },
  {
   "cell_type": "code",
   "execution_count": 3,
   "metadata": {},
   "outputs": [],
   "source": [
    "journals_file = f'{origin_folder}/WOS期刊汇总_DimentionsSearch.csv'\n",
    "ori_journals = pd.read_csv(journals_file, usecols=['search title', 'search id'])\n",
    "ori_journals = ori_journals.dropna()"
   ]
  },
  {
   "cell_type": "code",
   "execution_count": 4,
   "metadata": {},
   "outputs": [
    {
     "data": {
      "text/plain": [
       "3890"
      ]
     },
     "execution_count": 4,
     "metadata": {},
     "output_type": "execute_result"
    }
   ],
   "source": [
    "len(ori_journals)"
   ]
  },
  {
   "cell_type": "code",
   "execution_count": 5,
   "metadata": {},
   "outputs": [],
   "source": [
    "start_index = 4\n",
    "end_index = 10\n",
    "sep_len = 100"
   ]
  },
  {
   "cell_type": "code",
   "execution_count": 6,
   "metadata": {},
   "outputs": [
    {
     "data": {
      "text/html": [
       "<div>\n",
       "<style scoped>\n",
       "    .dataframe tbody tr th:only-of-type {\n",
       "        vertical-align: middle;\n",
       "    }\n",
       "\n",
       "    .dataframe tbody tr th {\n",
       "        vertical-align: top;\n",
       "    }\n",
       "\n",
       "    .dataframe thead th {\n",
       "        text-align: right;\n",
       "    }\n",
       "</style>\n",
       "<table border=\"1\" class=\"dataframe\">\n",
       "  <thead>\n",
       "    <tr style=\"text-align: right;\">\n",
       "      <th></th>\n",
       "      <th>search title</th>\n",
       "      <th>search id</th>\n",
       "    </tr>\n",
       "  </thead>\n",
       "  <tbody>\n",
       "    <tr>\n",
       "      <td>0</td>\n",
       "      <td>Abacus</td>\n",
       "      <td>jour.1327791</td>\n",
       "    </tr>\n",
       "    <tr>\n",
       "      <td>2</td>\n",
       "      <td>Academic Psychiatry</td>\n",
       "      <td>jour.1086415</td>\n",
       "    </tr>\n",
       "    <tr>\n",
       "      <td>3</td>\n",
       "      <td>Academy of Management Annals</td>\n",
       "      <td>jour.1042145</td>\n",
       "    </tr>\n",
       "    <tr>\n",
       "      <td>4</td>\n",
       "      <td>Academy of Management Journal</td>\n",
       "      <td>jour.1086344</td>\n",
       "    </tr>\n",
       "    <tr>\n",
       "      <td>5</td>\n",
       "      <td>Academy of Management Learning and Education</td>\n",
       "      <td>jour.1046551</td>\n",
       "    </tr>\n",
       "    <tr>\n",
       "      <td>...</td>\n",
       "      <td>...</td>\n",
       "      <td>...</td>\n",
       "    </tr>\n",
       "    <tr>\n",
       "      <td>5367</td>\n",
       "      <td>Journal of Product Innovation Management</td>\n",
       "      <td>jour.1053471</td>\n",
       "    </tr>\n",
       "    <tr>\n",
       "      <td>5368</td>\n",
       "      <td>Management Science</td>\n",
       "      <td>jour.1123547</td>\n",
       "    </tr>\n",
       "    <tr>\n",
       "      <td>5369</td>\n",
       "      <td>Ocean &amp; Coastal Management</td>\n",
       "      <td>jour.1042461</td>\n",
       "    </tr>\n",
       "    <tr>\n",
       "      <td>5370</td>\n",
       "      <td>Omega</td>\n",
       "      <td>jour.1120987</td>\n",
       "    </tr>\n",
       "    <tr>\n",
       "      <td>5371</td>\n",
       "      <td>Waste Management &amp; Research</td>\n",
       "      <td>jour.1124900</td>\n",
       "    </tr>\n",
       "  </tbody>\n",
       "</table>\n",
       "<p>3890 rows × 2 columns</p>\n",
       "</div>"
      ],
      "text/plain": [
       "                                      search title     search id\n",
       "0                                           Abacus  jour.1327791\n",
       "2                              Academic Psychiatry  jour.1086415\n",
       "3                     Academy of Management Annals  jour.1042145\n",
       "4                    Academy of Management Journal  jour.1086344\n",
       "5     Academy of Management Learning and Education  jour.1046551\n",
       "...                                            ...           ...\n",
       "5367      Journal of Product Innovation Management  jour.1053471\n",
       "5368                            Management Science  jour.1123547\n",
       "5369                    Ocean & Coastal Management  jour.1042461\n",
       "5370                                         Omega  jour.1120987\n",
       "5371                   Waste Management & Research  jour.1124900\n",
       "\n",
       "[3890 rows x 2 columns]"
      ]
     },
     "execution_count": 6,
     "metadata": {},
     "output_type": "execute_result"
    }
   ],
   "source": [
    "ori_journals"
   ]
  },
  {
   "cell_type": "markdown",
   "metadata": {},
   "source": [
    "## Request Functions\n",
    "\n",
    "This part contains functions we need to fetch the web data and should also handle the exceptions while fetching here."
   ]
  },
  {
   "cell_type": "code",
   "execution_count": 7,
   "metadata": {},
   "outputs": [],
   "source": [
    "import requests\n",
    "import json\n",
    "\n",
    "from requests import ConnectionError, ReadTimeout\n",
    "\n",
    "def grab_from_url_content(url):\n",
    "    headers = {'Accept': '* / *',\n",
    "               'Accept-Language': 'zh-TW, zh; q=0.9, en-US; q=0.8, en; q=0.7, zh-CN; q=0.6',\n",
    "               'User-Agent': 'Mozilla/5.0 (Macintosh; Intel Mac OS X 10_14_1) AppleWebKit/537.36 (KHTML, like Gecko) Chrome/72.0.3610.2 Safari/537.36'\n",
    "               }\n",
    "    rescontent = ''\n",
    "    try:\n",
    "        res = requests.get(url, headers=headers, timeout=10)\n",
    "        rescontent = res.text\n",
    "    except ConnectionError as ce:\n",
    "        print('ConnectionError: ' + str(ce))\n",
    "        return grab_from_url_content(url)\n",
    "    except ReadTimeout as rte:\n",
    "        print('ReadTimeout: ' + str(rte))\n",
    "        return grab_from_url_content(url)\n",
    "\n",
    "    return rescontent\n",
    "\n"
   ]
  },
  {
   "cell_type": "markdown",
   "metadata": {},
   "source": [
    "## Parser\n",
    "\n",
    "We will get the html content from the url which is not listed as we want it be, so we need parser to parse them into listed data, in json form."
   ]
  },
  {
   "cell_type": "code",
   "execution_count": 8,
   "metadata": {},
   "outputs": [],
   "source": [
    "from html.parser import HTMLParser\n",
    "\n",
    "class DimensionsHTMLParser(HTMLParser):\n",
    "    articles = []\n",
    "    in_article = False\n",
    "    is_next_trigger = False\n",
    "    next_trigger_url = ''\n",
    "\n",
    "    def handle_starttag(self, tag, attrs):\n",
    "        if tag == 'article':\n",
    "            self.in_article = True\n",
    "        \n",
    "        if self.in_article:\n",
    "            for attr in attrs:\n",
    "                if attr[0] == 'data-doc':\n",
    "                    self.articles.append(json.loads(attr[1]))\n",
    "                    break\n",
    "\n",
    "        if tag == 'a':\n",
    "            for attr in attrs:\n",
    "                if (attr[0] == 'class') and (attr[1] == 'nextPage-trigger'):\n",
    "                    self.is_next_trigger = True\n",
    "                if self.is_next_trigger and (attr[0] == 'href'):\n",
    "                    self.next_trigger_url = f'https://app.dimensions.ai{attr[1]}&{search_params}'\n",
    "                    break\n",
    "        return\n",
    "                    \n",
    "    def handle_endtag(self, tag):\n",
    "        if tag == 'article':\n",
    "            self.in_article = False\n",
    "        self.is_next_trigger = False\n",
    "        return\n",
    "\n",
    "    def handle_data(self, data):\n",
    "        pass\n",
    "\n",
    "    def handle_comment(self, data):\n",
    "        pass\n",
    "\n",
    "    def handle_entityref(self, name):\n",
    "        pass\n",
    "\n",
    "    def handle_charref(self, name):\n",
    "        pass\n",
    "\n",
    "    def handle_decl(self, data):\n",
    "        pass\n",
    "    \n",
    "parser = DimensionsHTMLParser()"
   ]
  },
  {
   "cell_type": "markdown",
   "metadata": {},
   "source": [
    "## Grab Data\n",
    "\n",
    "The data fetching starts from here."
   ]
  },
  {
   "cell_type": "code",
   "execution_count": null,
   "metadata": {},
   "outputs": [
    {
     "name": "stdout",
     "output_type": "stream",
     "text": [
      "401-500\n",
      "https://app.dimensions.ai/discover/publication.contents.html?or_facet_year=2014&or_facet_year=2015&or_facet_year=2016&or_facet_year=2017&or_facet_year=2018&or_facet_source_title=jour.1142404\n",
      "0\n",
      "10\n",
      "https://app.dimensions.ai/discover/publication.contents.html?or_facet_year=2014&or_facet_year=2015&or_facet_year=2016&or_facet_year=2017&or_facet_year=2018&or_facet_source_title=jour.1146242\n",
      "0\n"
     ]
    }
   ],
   "source": [
    "%%time\n",
    "\n",
    "if end_index > int(len(ori_journals) / sep_len):\n",
    "    end_index = int(len(ori_journals) / sep_len)\n",
    "for l in range(start_index, end_index):\n",
    "    parser.articles = []\n",
    "\n",
    "    journals_index = str(1 + l * sep_len) + '-' + str((l + 1) * sep_len)\n",
    "    start = int(journals_index.split('-')[0])\n",
    "    end = int(journals_index.split('-')[1])\n",
    "    if end < len(ori_journals):\n",
    "        journals = ori_journals[start - 1:end]\n",
    "    else:\n",
    "        journals = ori_journals[start - 1:]\n",
    "    print(journals_index)\n",
    "\n",
    "    for index, row in journals.iterrows():\n",
    "        journal_search = row['search id']\n",
    "        # This is very important for data fetching, generally you get url in the form as 'https://app.dimensions.ai/discover/publication?and_facet_for=2209&and_facet_for=2202&or_facet_source_title=jour.1082997', and search_params is just the substring after '?'.\n",
    "        # Here is where we need to change for each search.\n",
    "        search_params = f'or_facet_year=2014&or_facet_year=2015&or_facet_year=2016&or_facet_year=2017&or_facet_year=2018&or_facet_source_title={journal_search}'\n",
    "        grab_url = f'https://app.dimensions.ai/discover/publication.contents.html?{search_params}'\n",
    "        print(grab_url)\n",
    "\n",
    "        parser.feed(grab_from_url_content(grab_url))\n",
    "        next_trigger_anchor = ''\n",
    "        i = 0\n",
    "        while parser.next_trigger_url != next_trigger_anchor:\n",
    "            if i % 10 == 0:\n",
    "                print(str(i))\n",
    "            i+=1\n",
    "            next_trigger_anchor = parser.next_trigger_url\n",
    "            parser.feed(grab_from_url_content(parser.next_trigger_url))\n",
    "    \n",
    "    print(len(parser.articles))\n",
    "    with open(f\"{origin_folder}/articles_wos_{journals_index}.json\", \"w\") as dump_f:\n",
    "        dump_f.write(json.dumps(parser.articles))"
   ]
  },
  {
   "cell_type": "code",
   "execution_count": null,
   "metadata": {},
   "outputs": [],
   "source": []
  },
  {
   "cell_type": "code",
   "execution_count": null,
   "metadata": {},
   "outputs": [],
   "source": []
  },
  {
   "cell_type": "code",
   "execution_count": null,
   "metadata": {},
   "outputs": [],
   "source": [
    "%%time\n",
    "for l in range(start_index, int(len(ori_journals) / sep_len)):\n",
    "    journals_index = str(1 + l * sep_len) + '-' + str((l + 1) * sep_len)\n",
    "    with open(f'{origin_folder}/articles_wos_{journals_index}.json') as f:\n",
    "        articles = json.load(f)\n",
    "\n",
    "    df_articles = pd.DataFrame(columns=['SO', 'SO_id', 'DI', 'dimensions_id'])\n",
    "\n",
    "    for article in articles:\n",
    "        if 'doi' not in article:\n",
    "            continue\n",
    "        if article['doi'] in df_articles['DI']:\n",
    "            continue\n",
    "        df_article = pd.DataFrame(columns=['SO', 'SO_id', 'DI', 'dimensions_id'])\n",
    "        df_article['SO'] = [article['source_title']]\n",
    "        df_article['SO_id'] = [article['source_title_id']]\n",
    "        df_article['DI'] = [article['doi']]\n",
    "        df_article['dimensions_id'] = [article['id']]\n",
    "        df_articles = df_articles.append(df_article, ignore_index=True)\n",
    "\n",
    "    df_articles.to_csv(f'{origin_folder}/articles_wos_{journals_index}.csv', index=False)"
   ]
  },
  {
   "cell_type": "code",
   "execution_count": null,
   "metadata": {},
   "outputs": [],
   "source": []
  }
 ],
 "metadata": {
  "file_extension": ".py",
  "kernelspec": {
   "display_name": "Python 3",
   "language": "python",
   "name": "python3"
  },
  "language_info": {
   "codemirror_mode": {
    "name": "ipython",
    "version": 3
   },
   "file_extension": ".py",
   "mimetype": "text/x-python",
   "name": "python",
   "nbconvert_exporter": "python",
   "pygments_lexer": "ipython3",
   "version": "3.7.4"
  },
  "mimetype": "text/x-python",
  "name": "python",
  "npconvert_exporter": "python",
  "pygments_lexer": "ipython3",
  "version": 3
 },
 "nbformat": 4,
 "nbformat_minor": 2
}
