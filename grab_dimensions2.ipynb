{
 "cells": [
  {
   "cell_type": "markdown",
   "metadata": {},
   "outputs": [],
   "source": [
    "# Grab Dimensions Data\n",
    "\n",
    "https://app.dimensions.ai/discover/publication\n",
    "\n",
    "This notebook handles the downloads of Dimensions data.\n"
   ]
  },
  {
   "cell_type": "code",
   "execution_count": 1,
   "metadata": {},
   "outputs": [],
   "source": [
    "import pandas as pd\n",
    "import numpy as np\n",
    "import json"
   ]
  },
  {
   "cell_type": "markdown",
   "metadata": {},
   "outputs": [],
   "source": [
    "## Load Journals"
   ]
  },
  {
   "cell_type": "code",
   "execution_count": 14,
   "metadata": {},
   "outputs": [],
   "source": [
    "origin_folder = 'SUSTC_Journals'"
   ]
  },
  {
   "cell_type": "code",
   "execution_count": 15,
   "metadata": {},
   "outputs": [],
   "source": [
    "journals_file = f'{origin_folder}/WOS期刊汇总_DimentionsSearch.csv'\n",
    "ori_journals = pd.read_csv(journals_file, usecols=['search title', 'search id'])\n",
    "ori_journals = ori_journals.dropna()"
   ]
  },
  {
   "cell_type": "code",
   "execution_count": 16,
   "metadata": {},
   "outputs": [
    {
     "data": {
      "text/plain": "3890"
     },
     "execution_count": 16,
     "metadata": {},
     "output_type": "execute_result"
    }
   ],
   "source": [
    "len(ori_journals)"
   ]
  },
  {
   "cell_type": "code",
   "execution_count": 17,
   "metadata": {},
   "outputs": [],
   "source": [
    "start_index = 0\n",
    "end_index = 38\n",
    "sep_len = 100"
   ]
  },
  {
   "cell_type": "code",
   "execution_count": 18,
   "metadata": {},
   "outputs": [
    {
     "data": {
      "text/html": "<div>\n<style scoped>\n    .dataframe tbody tr th:only-of-type {\n        vertical-align: middle;\n    }\n\n    .dataframe tbody tr th {\n        vertical-align: top;\n    }\n\n    .dataframe thead th {\n        text-align: right;\n    }\n</style>\n<table border=\"1\" class=\"dataframe\">\n  <thead>\n    <tr style=\"text-align: right;\">\n      <th></th>\n      <th>search title</th>\n      <th>search id</th>\n    </tr>\n  </thead>\n  <tbody>\n    <tr>\n      <td>0</td>\n      <td>Abacus</td>\n      <td>jour.1327791</td>\n    </tr>\n    <tr>\n      <td>2</td>\n      <td>Academic Psychiatry</td>\n      <td>jour.1086415</td>\n    </tr>\n    <tr>\n      <td>3</td>\n      <td>Academy of Management Annals</td>\n      <td>jour.1042145</td>\n    </tr>\n    <tr>\n      <td>4</td>\n      <td>Academy of Management Journal</td>\n      <td>jour.1086344</td>\n    </tr>\n    <tr>\n      <td>5</td>\n      <td>Academy of Management Learning and Education</td>\n      <td>jour.1046551</td>\n    </tr>\n    <tr>\n      <td>...</td>\n      <td>...</td>\n      <td>...</td>\n    </tr>\n    <tr>\n      <td>5367</td>\n      <td>Journal of Product Innovation Management</td>\n      <td>jour.1053471</td>\n    </tr>\n    <tr>\n      <td>5368</td>\n      <td>Management Science</td>\n      <td>jour.1123547</td>\n    </tr>\n    <tr>\n      <td>5369</td>\n      <td>Ocean &amp; Coastal Management</td>\n      <td>jour.1042461</td>\n    </tr>\n    <tr>\n      <td>5370</td>\n      <td>Omega</td>\n      <td>jour.1120987</td>\n    </tr>\n    <tr>\n      <td>5371</td>\n      <td>Waste Management &amp; Research</td>\n      <td>jour.1124900</td>\n    </tr>\n  </tbody>\n</table>\n<p>3890 rows × 2 columns</p>\n</div>",
      "text/plain": "                                      search title     search id\n0                                           Abacus  jour.1327791\n2                              Academic Psychiatry  jour.1086415\n3                     Academy of Management Annals  jour.1042145\n4                    Academy of Management Journal  jour.1086344\n5     Academy of Management Learning and Education  jour.1046551\n...                                            ...           ...\n5367      Journal of Product Innovation Management  jour.1053471\n5368                            Management Science  jour.1123547\n5369                    Ocean & Coastal Management  jour.1042461\n5370                                         Omega  jour.1120987\n5371                   Waste Management & Research  jour.1124900\n\n[3890 rows x 2 columns]"
     },
     "execution_count": 18,
     "metadata": {},
     "output_type": "execute_result"
    }
   ],
   "source": [
    "ori_journals"
   ]
  },
  {
   "cell_type": "markdown",
   "metadata": {},
   "outputs": [],
   "source": [
    "## Request Functions\n",
    "\n",
    "This part contains functions we need to fetch the web data and should also handle the exceptions while fetching here."
   ]
  },
  {
   "cell_type": "code",
   "execution_count": 7,
   "metadata": {},
   "outputs": [],
   "source": [
    "import requests\n",
    "import json\n",
    "\n",
    "from requests import ConnectionError, ReadTimeout\n",
    "\n",
    "def grab_from_url_content(url):\n",
    "    headers = {'Accept': '* / *',\n",
    "               'Accept-Language': 'zh-TW, zh; q=0.9, en-US; q=0.8, en; q=0.7, zh-CN; q=0.6',\n",
    "               'User-Agent': 'Mozilla/5.0 (Macintosh; Intel Mac OS X 10_14_1) AppleWebKit/537.36 (KHTML, like Gecko) Chrome/72.0.3610.2 Safari/537.36'\n",
    "               }\n",
    "    rescontent = ''\n",
    "    try:\n",
    "        res = requests.get(url, headers=headers, timeout=10)\n",
    "        rescontent = res.text\n",
    "    except ConnectionError as ce:\n",
    "        print('ConnectionError: ' + str(ce))\n",
    "        return grab_from_url_content(url)\n",
    "    except ReadTimeout as rte:\n",
    "        print('ReadTimeout: ' + str(rte))\n",
    "        return grab_from_url_content(url)\n",
    "\n",
    "    return rescontent\n",
    "\n"
   ]
  },
  {
   "cell_type": "markdown",
   "metadata": {},
   "outputs": [],
   "source": [
    "## Parser\n",
    "\n",
    "We will get the html content from the url which is not listed as we want it be, so we need parser to parse them into listed data, in json form."
   ]
  },
  {
   "cell_type": "code",
   "metadata": {},
   "outputs": [],
   "source": [
    "from html.parser import HTMLParser\n",
    "\n",
    "class DimensionsHTMLParser(HTMLParser):\n",
    "    articles = []\n",
    "    in_article = False\n",
    "    is_next_trigger = False\n",
    "    next_trigger_url = ''\n",
    "\n",
    "    def handle_starttag(self, tag, attrs):\n",
    "        if tag == 'article':\n",
    "            self.in_article = True\n",
    "        \n",
    "        if self.in_article:\n",
    "            for attr in attrs:\n",
    "                if attr[0] == 'data-doc':\n",
    "                    self.articles.append(json.loads(attr[1]))\n",
    "                    break\n",
    "\n",
    "        if tag == 'a':\n",
    "            for attr in attrs:\n",
    "                if (attr[0] == 'class') and (attr[1] == 'nextPage-trigger'):\n",
    "                    self.is_next_trigger = True\n",
    "                if self.is_next_trigger and (attr[0] == 'href'):\n",
    "                    self.next_trigger_url = f'https://app.dimensions.ai{attr[1]}&{search_params}'\n",
    "                    break\n",
    "        return\n",
    "                    \n",
    "    def handle_endtag(self, tag):\n",
    "        if tag == 'article':\n",
    "            self.in_article = False\n",
    "        self.is_next_trigger = False\n",
    "        return\n",
    "\n",
    "    def handle_data(self, data):\n",
    "        pass\n",
    "\n",
    "    def handle_comment(self, data):\n",
    "        pass\n",
    "\n",
    "    def handle_entityref(self, name):\n",
    "        pass\n",
    "\n",
    "    def handle_charref(self, name):\n",
    "        pass\n",
    "\n",
    "    def handle_decl(self, data):\n",
    "        pass\n",
    "    \n",
    "parser = DimensionsHTMLParser()"
   ]
  },
  {
   "cell_type": "markdown",
   "metadata": {},
   "outputs": [],
   "source": [
    "## Grab Data\n",
    "\n",
    "The data fetching starts from here."
   ]
  },
  {
   "cell_type": "code",
   "metadata": {},
   "outputs": [],
   "source": [
    "%%time\n",
    "\n",
    "if end_index > int(len(ori_journals) / sep_len):\n",
    "    end_index = int(len(ori_journals) / sep_len)\n",
    "for l in range(start_index, end_index):\n",
    "    parser.articles = []\n",
    "\n",
    "    journals_index = str(1 + l * sep_len) + '-' + str((l + 1) * sep_len)\n",
    "    start = int(journals_index.split('-')[0])\n",
    "    end = int(journals_index.split('-')[1])\n",
    "    if end < len(ori_journals):\n",
    "        journals = ori_journals[start - 1:end]\n",
    "    else:\n",
    "        journals = ori_journals[start - 1:]\n",
    "    print(journals_index)\n",
    "\n",
    "    for index, row in journals.iterrows():\n",
    "        journal_search = row['search id']\n",
    "        # This is very important for data fetching, generally you get url in the form as 'https://app.dimensions.ai/discover/publication?and_facet_for=2209&and_facet_for=2202&or_facet_source_title=jour.1082997', and search_params is just the substring after '?'.\n",
    "        # Here is where we need to change for each search.\n",
    "        search_params = f'or_facet_year=2014&or_facet_year=2015&or_facet_year=2016&or_facet_year=2017&or_facet_year=2018&or_facet_source_title={journal_search}'\n",
    "        grab_url = f'https://app.dimensions.ai/discover/publication.contents.html?{search_params}'\n",
    "        print(grab_url)\n",
    "\n",
    "        parser.feed(grab_from_url_content(grab_url))\n",
    "        next_trigger_anchor = ''\n",
    "        i = 0\n",
    "        while parser.next_trigger_url != next_trigger_anchor:\n",
    "            if i % 10 == 0:\n",
    "                print(str(i))\n",
    "            i+=1\n",
    "            next_trigger_anchor = parser.next_trigger_url\n",
    "            parser.feed(grab_from_url_content(parser.next_trigger_url))\n",
    "    \n",
    "    print(len(parser.articles))\n",
    "    with open(f\"{origin_folder}/articles_wos_{journals_index}.json\", \"w\") as dump_f:\n",
    "        dump_f.write(json.dumps(parser.articles))"
   ]
  },
  {
   "cell_type": "code",
   "execution_count": 19,
   "metadata": {},
   "outputs": [],
   "source": [
    "origin_folder = origin_folder + '/articles_wos'"
   ]
  },
  {
   "cell_type": "code",
   "execution_count": 24,
   "metadata": {},
   "outputs": [
    {
     "name": "stdout",
     "output_type": "stream",
     "text": "Wall time: 2h 28min 19s\n"
    }
   ],
   "source": [
    "%%time\n",
    "# for l in range(2, int(len(ori_journals) / sep_len)):\n",
    "for journals_index in ['1-200', '3801-3900']:\n",
    "    # journals_index = str(1 + l * sep_len) + '-' + str((l + 1) * sep_len)\n",
    "    with open(f'{origin_folder}/articles_wos_{journals_index}.json') as f:\n",
    "        articles = json.load(f)\n",
    "\n",
    "    columns_extract = ['SO', 'SO_id', 'doi', 'dimensions_id', 'title', 'abstract', 'authors', 'references', 'pub_date', 'affiliations_json', 'dimensions_cited']\n",
    "    df_articles = pd.DataFrame(columns=columns_extract)\n",
    "\n",
    "    for article in articles:\n",
    "        if 'doi' not in article:\n",
    "            continue\n",
    "        if article['doi'] in df_articles['doi']:\n",
    "            continue\n",
    "        df_article = pd.DataFrame(columns=columns_extract)\n",
    "        df_article['SO'] = [article['source_title']]\n",
    "        df_article['SO_id'] = [article['source_title_id']]\n",
    "        df_article['doi'] = [article['doi']]\n",
    "        df_article['dimensions_id'] = [article['id']]\n",
    "        df_article['title'] = [article['title']]\n",
    "        df_article['abstract'] = [article['abstract']]\n",
    "        if 'author_list' in article:\n",
    "            df_article['authors'] = [article['author_list']]\n",
    "        if 'cited_dimensions_ids' in article:\n",
    "            df_article['references'] = [len(article['cited_dimensions_ids'])]\n",
    "        if 'pub_date' in article:\n",
    "            df_article['pub_date'] = [article['pub_date']]\n",
    "        if 'affiliations_json' in article:\n",
    "            df_article['affiliations_json'] = [article['affiliations_json']]\n",
    "        df_article['dimensions_cited'] = [article['times_cited']]\n",
    "        df_articles = df_articles.append(df_article, ignore_index=True)\n",
    "\n",
    "    df_articles.to_csv(f'{origin_folder}/articles_wos_{journals_index}.csv', index=False)"
   ]
  },
  {
   "cell_type": "code",
   "execution_count": 8,
   "metadata": {},
   "outputs": [],
   "source": [
    "origin_folder = origin_folder + '/articles_abs'"
   ]
  },
  {
   "cell_type": "code",
   "execution_count": 11,
   "metadata": {},
   "outputs": [
    {
     "name": "stdout",
     "output_type": "stream",
     "text": "Wall time: 3h 7min 11s\n"
    }
   ],
   "source": [
    "%%time\n",
    "for l in range(start_index, int(len(ori_journals) / sep_len)):\n",
    "    journals_index = str(1 + l * sep_len) + '-' + str((l + 1) * sep_len)\n",
    "    if journals_index == '801-900':\n",
    "        journals_index = '801-1100'\n",
    "    with open(f'{origin_folder}/articles_{journals_index}.json') as f:\n",
    "        articles = json.load(f)\n",
    "\n",
    "    columns_extract = ['SO', 'SO_id', 'doi', 'dimensions_id', 'title', 'abstract', 'authors', 'references', 'pub_date', 'affiliations_json', 'dimensions_cited']\n",
    "    df_articles = pd.DataFrame(columns=columns_extract)\n",
    "\n",
    "    for article in articles:\n",
    "        if 'doi' not in article:\n",
    "            continue\n",
    "        if article['doi'] in df_articles['doi']:\n",
    "            continue\n",
    "        df_article = pd.DataFrame(columns=columns_extract)\n",
    "        df_article['SO'] = [article['source_title']]\n",
    "        df_article['SO_id'] = [article['source_title_id']]\n",
    "        df_article['doi'] = [article['doi']]\n",
    "        df_article['dimensions_id'] = [article['id']]\n",
    "        df_article['title'] = [article['title']]\n",
    "        df_article['abstract'] = [article['abstract']]\n",
    "        if 'author_list' in article:\n",
    "            df_article['authors'] = [article['author_list']]\n",
    "        if 'cited_dimensions_ids' in article:\n",
    "            df_article['references'] = [len(article['cited_dimensions_ids'])]\n",
    "        if 'pub_date' in article:\n",
    "            df_article['pub_date'] = [article['pub_date']]\n",
    "        if 'affiliations_json' in article:\n",
    "            df_article['affiliations_json'] = [article['affiliations_json']]\n",
    "        df_article['dimensions_cited'] = [article['times_cited']]\n",
    "        df_articles = df_articles.append(df_article, ignore_index=True)\n",
    "\n",
    "    df_articles.to_csv(f'{origin_folder}/articles_{journals_index}.csv', index=False)"
   ]
  },
  {
   "cell_type": "code",
   "execution_count": 12,
   "metadata": {},
   "outputs": [
    {
     "data": {
      "text/plain": "{'title': 'Editorial data',\n 'source_title_id': 'jour.1138469',\n 'journal_title': 'Journal of Accounting and Economics',\n 'for_v2': ['3292', '2214', '3326', '2215'],\n 'language': 'it',\n 'open_access': False,\n 'publisher_source': 'Elsevier',\n 'publisher_place': '230 Park Avenue Suite 800 Shantae McGee New York NY 10169-0935 United States',\n 'publisher': 'Elsevier',\n 'pub_class': 'Article',\n 'abstract': '',\n 'acknowledgements': '',\n 'aff_country_count': 0,\n 'aff_org_count': 0,\n 'created_in_dimensions': '2018-11-29T03:46:13Z',\n 'doi': '10.1016/s0165-4101(18)30119-8',\n 'html_escaped_abstract': '',\n 'html_escaped_title': 'Editorial data',\n 'id': 'pub.1110223808',\n 'issue': '2-3',\n 'pages': 'iii',\n 'pub_date': '2018-11',\n 'pub_year': 2018,\n 'volume': '66',\n 'sn_downloads_customer_1': 0,\n 'times_cited': 0,\n 'sn_denials_customer_1': 0,\n 'sn_denials': 0,\n 'sn_downloads': 0,\n 'altmetric_id': 0,\n 'score': 2.0,\n 'affiliations_details': [],\n 'authors_full': [],\n 'source_title': 'Journal of Accounting and Economics',\n 'dimensions_badge': {'value': 'pub.1110223808', 'id_type': 'id'},\n 'altmetric_badge': {'value': '10.1016/s0165-4101(18)30119-8',\n  'id_type': 'doi'},\n 'openurl': None,\n 'orcid': None,\n 'pub_class_id': 'article',\n 'navigation': {'path': '/details/publication/pub.1110223808'}}"
     },
     "execution_count": 12,
     "metadata": {},
     "output_type": "execute_result"
    }
   ],
   "source": [
    "article"
   ]
  },
  {
   "cell_type": "markdown",
   "execution_count": null,
   "metadata": {},
   "outputs": [],
   "source": [
    "# Affiliations Arrange"
   ]
  },
  {
   "cell_type": "code",
   "execution_count": 2,
   "metadata": {},
   "outputs": [],
   "source": [
    "df_articles = pd.read_csv('SUSTC_Journals/articles_all/article_dimensions.csv', usecols=['doi', 'dimensions_id', 'affiliations_json'], nrows=600000)"
   ]
  },
  {
   "cell_type": "code",
   "execution_count": 3,
   "metadata": {},
   "outputs": [
    {
     "data": {
      "text/html": "<div>\n<style scoped>\n    .dataframe tbody tr th:only-of-type {\n        vertical-align: middle;\n    }\n\n    .dataframe tbody tr th {\n        vertical-align: top;\n    }\n\n    .dataframe thead th {\n        text-align: right;\n    }\n</style>\n<table border=\"1\" class=\"dataframe\">\n  <thead>\n    <tr style=\"text-align: right;\">\n      <th></th>\n      <th>affiliations_json</th>\n      <th>dimensions_id</th>\n      <th>doi</th>\n    </tr>\n  </thead>\n  <tbody>\n    <tr>\n      <td>0</td>\n      <td>NaN</td>\n      <td>pub.1110223808</td>\n      <td>10.1016/s0165-4101(18)30119-8</td>\n    </tr>\n    <tr>\n      <td>1</td>\n      <td>[{\"first_name\": \"Novia X.\", \"last_name\": \"Chen...</td>\n      <td>pub.1106857635</td>\n      <td>10.1016/j.jacceco.2018.08.013</td>\n    </tr>\n    <tr>\n      <td>2</td>\n      <td>[{\"first_name\": \"Thomas W.\", \"last_name\": \"Bat...</td>\n      <td>pub.1106857634</td>\n      <td>10.1016/j.jacceco.2018.08.002</td>\n    </tr>\n    <tr>\n      <td>3</td>\n      <td>[{\"first_name\": \"Christopher S.\", \"last_name\":...</td>\n      <td>pub.1106286706</td>\n      <td>10.1016/j.jacceco.2018.08.012</td>\n    </tr>\n    <tr>\n      <td>4</td>\n      <td>[{\"first_name\": \"Jesse\", \"last_name\": \"Chan\", ...</td>\n      <td>pub.1106173025</td>\n      <td>10.1016/j.jacceco.2018.08.010</td>\n    </tr>\n    <tr>\n      <td>...</td>\n      <td>...</td>\n      <td>...</td>\n      <td>...</td>\n    </tr>\n    <tr>\n      <td>599995</td>\n      <td>[{\"first_name\": \"Darrell L.\", \"last_name\": \"Hu...</td>\n      <td>pub.1029688769</td>\n      <td>10.1007/s10943-014-9850-2</td>\n    </tr>\n    <tr>\n      <td>599996</td>\n      <td>[{\"first_name\": \"Patryk\", \"last_name\": \"Stecz\"...</td>\n      <td>pub.1029197656</td>\n      <td>10.1007/s10943-014-9842-2</td>\n    </tr>\n    <tr>\n      <td>599997</td>\n      <td>[{\"first_name\": \"Lisa M.\", \"last_name\": \"Tussi...</td>\n      <td>pub.1023282823</td>\n      <td>10.1007/s10943-014-9823-5</td>\n    </tr>\n    <tr>\n      <td>599998</td>\n      <td>[{\"first_name\": \"K.\", \"last_name\": \"Laios\", \"c...</td>\n      <td>pub.1021848519</td>\n      <td>10.1007/s10943-013-9811-1</td>\n    </tr>\n    <tr>\n      <td>599999</td>\n      <td>[{\"first_name\": \"Janet\", \"last_name\": \"Green\",...</td>\n      <td>pub.1020597257</td>\n      <td>10.1007/s10943-014-9971-7</td>\n    </tr>\n  </tbody>\n</table>\n<p>600000 rows × 3 columns</p>\n</div>",
      "text/plain": "                                        affiliations_json   dimensions_id  \\\n0                                                     NaN  pub.1110223808   \n1       [{\"first_name\": \"Novia X.\", \"last_name\": \"Chen...  pub.1106857635   \n2       [{\"first_name\": \"Thomas W.\", \"last_name\": \"Bat...  pub.1106857634   \n3       [{\"first_name\": \"Christopher S.\", \"last_name\":...  pub.1106286706   \n4       [{\"first_name\": \"Jesse\", \"last_name\": \"Chan\", ...  pub.1106173025   \n...                                                   ...             ...   \n599995  [{\"first_name\": \"Darrell L.\", \"last_name\": \"Hu...  pub.1029688769   \n599996  [{\"first_name\": \"Patryk\", \"last_name\": \"Stecz\"...  pub.1029197656   \n599997  [{\"first_name\": \"Lisa M.\", \"last_name\": \"Tussi...  pub.1023282823   \n599998  [{\"first_name\": \"K.\", \"last_name\": \"Laios\", \"c...  pub.1021848519   \n599999  [{\"first_name\": \"Janet\", \"last_name\": \"Green\",...  pub.1020597257   \n\n                                  doi  \n0       10.1016/s0165-4101(18)30119-8  \n1       10.1016/j.jacceco.2018.08.013  \n2       10.1016/j.jacceco.2018.08.002  \n3       10.1016/j.jacceco.2018.08.012  \n4       10.1016/j.jacceco.2018.08.010  \n...                               ...  \n599995      10.1007/s10943-014-9850-2  \n599996      10.1007/s10943-014-9842-2  \n599997      10.1007/s10943-014-9823-5  \n599998      10.1007/s10943-013-9811-1  \n599999      10.1007/s10943-014-9971-7  \n\n[600000 rows x 3 columns]"
     },
     "execution_count": 3,
     "metadata": {},
     "output_type": "execute_result"
    }
   ],
   "source": [
    "df_articles"
   ]
  },
  {
   "cell_type": "code",
   "execution_count": 24,
   "metadata": {},
   "outputs": [
    {
     "name": "stdout",
     "output_type": "stream",
     "text": "0\nE:\\ProgramData\\Anaconda3\\lib\\site-packages\\pandas\\core\\frame.py:7123: FutureWarning: Sorting because non-concatenation axis is not aligned. A future version\nof pandas will change to not sort by default.\n\nTo accept the future behavior, pass 'sort=False'.\n\nTo retain the current behavior and silence the warning, pass 'sort=True'.\n\n  sort=sort,\n"
    },
    {
     "ename": "KeyboardInterrupt",
     "evalue": "",
     "output_type": "error",
     "traceback": [
      "\u001b[1;31m---------------------------------------------------------------------------\u001b[0m",
      "\u001b[1;31mKeyboardInterrupt\u001b[0m                         Traceback (most recent call last)",
      "\u001b[1;32m<timed exec>\u001b[0m in \u001b[0;36m<module>\u001b[1;34m\u001b[0m\n",
      "\u001b[1;32mE:\\ProgramData\\Anaconda3\\lib\\site-packages\\pandas\\core\\frame.py\u001b[0m in \u001b[0;36mappend\u001b[1;34m(self, other, ignore_index, verify_integrity, sort)\u001b[0m\n\u001b[0;32m   7121\u001b[0m             \u001b[0mignore_index\u001b[0m\u001b[1;33m=\u001b[0m\u001b[0mignore_index\u001b[0m\u001b[1;33m,\u001b[0m\u001b[1;33m\u001b[0m\u001b[1;33m\u001b[0m\u001b[0m\n\u001b[0;32m   7122\u001b[0m             \u001b[0mverify_integrity\u001b[0m\u001b[1;33m=\u001b[0m\u001b[0mverify_integrity\u001b[0m\u001b[1;33m,\u001b[0m\u001b[1;33m\u001b[0m\u001b[1;33m\u001b[0m\u001b[0m\n\u001b[1;32m-> 7123\u001b[1;33m             \u001b[0msort\u001b[0m\u001b[1;33m=\u001b[0m\u001b[0msort\u001b[0m\u001b[1;33m,\u001b[0m\u001b[1;33m\u001b[0m\u001b[1;33m\u001b[0m\u001b[0m\n\u001b[0m\u001b[0;32m   7124\u001b[0m         )\n\u001b[0;32m   7125\u001b[0m \u001b[1;33m\u001b[0m\u001b[0m\n",
      "\u001b[1;32mE:\\ProgramData\\Anaconda3\\lib\\site-packages\\pandas\\core\\reshape\\concat.py\u001b[0m in \u001b[0;36mconcat\u001b[1;34m(objs, axis, join, join_axes, ignore_index, keys, levels, names, verify_integrity, sort, copy)\u001b[0m\n\u001b[0;32m    253\u001b[0m         \u001b[0mverify_integrity\u001b[0m\u001b[1;33m=\u001b[0m\u001b[0mverify_integrity\u001b[0m\u001b[1;33m,\u001b[0m\u001b[1;33m\u001b[0m\u001b[1;33m\u001b[0m\u001b[0m\n\u001b[0;32m    254\u001b[0m         \u001b[0mcopy\u001b[0m\u001b[1;33m=\u001b[0m\u001b[0mcopy\u001b[0m\u001b[1;33m,\u001b[0m\u001b[1;33m\u001b[0m\u001b[1;33m\u001b[0m\u001b[0m\n\u001b[1;32m--> 255\u001b[1;33m         \u001b[0msort\u001b[0m\u001b[1;33m=\u001b[0m\u001b[0msort\u001b[0m\u001b[1;33m,\u001b[0m\u001b[1;33m\u001b[0m\u001b[1;33m\u001b[0m\u001b[0m\n\u001b[0m\u001b[0;32m    256\u001b[0m     )\n\u001b[0;32m    257\u001b[0m \u001b[1;33m\u001b[0m\u001b[0m\n",
      "\u001b[1;32mE:\\ProgramData\\Anaconda3\\lib\\site-packages\\pandas\\core\\reshape\\concat.py\u001b[0m in \u001b[0;36m__init__\u001b[1;34m(self, objs, axis, join, join_axes, keys, levels, names, ignore_index, verify_integrity, copy, sort)\u001b[0m\n\u001b[0;32m    333\u001b[0m \u001b[1;33m\u001b[0m\u001b[0m\n\u001b[0;32m    334\u001b[0m             \u001b[1;31m# consolidate\u001b[0m\u001b[1;33m\u001b[0m\u001b[1;33m\u001b[0m\u001b[1;33m\u001b[0m\u001b[0m\n\u001b[1;32m--> 335\u001b[1;33m             \u001b[0mobj\u001b[0m\u001b[1;33m.\u001b[0m\u001b[0m_consolidate\u001b[0m\u001b[1;33m(\u001b[0m\u001b[0minplace\u001b[0m\u001b[1;33m=\u001b[0m\u001b[1;32mTrue\u001b[0m\u001b[1;33m)\u001b[0m\u001b[1;33m\u001b[0m\u001b[1;33m\u001b[0m\u001b[0m\n\u001b[0m\u001b[0;32m    336\u001b[0m             \u001b[0mndims\u001b[0m\u001b[1;33m.\u001b[0m\u001b[0madd\u001b[0m\u001b[1;33m(\u001b[0m\u001b[0mobj\u001b[0m\u001b[1;33m.\u001b[0m\u001b[0mndim\u001b[0m\u001b[1;33m)\u001b[0m\u001b[1;33m\u001b[0m\u001b[1;33m\u001b[0m\u001b[0m\n\u001b[0;32m    337\u001b[0m \u001b[1;33m\u001b[0m\u001b[0m\n",
      "\u001b[1;32mE:\\ProgramData\\Anaconda3\\lib\\site-packages\\pandas\\core\\generic.py\u001b[0m in \u001b[0;36m_consolidate\u001b[1;34m(self, inplace)\u001b[0m\n\u001b[0;32m   5268\u001b[0m         \u001b[0minplace\u001b[0m \u001b[1;33m=\u001b[0m \u001b[0mvalidate_bool_kwarg\u001b[0m\u001b[1;33m(\u001b[0m\u001b[0minplace\u001b[0m\u001b[1;33m,\u001b[0m \u001b[1;34m\"inplace\"\u001b[0m\u001b[1;33m)\u001b[0m\u001b[1;33m\u001b[0m\u001b[1;33m\u001b[0m\u001b[0m\n\u001b[0;32m   5269\u001b[0m         \u001b[1;32mif\u001b[0m \u001b[0minplace\u001b[0m\u001b[1;33m:\u001b[0m\u001b[1;33m\u001b[0m\u001b[1;33m\u001b[0m\u001b[0m\n\u001b[1;32m-> 5270\u001b[1;33m             \u001b[0mself\u001b[0m\u001b[1;33m.\u001b[0m\u001b[0m_consolidate_inplace\u001b[0m\u001b[1;33m(\u001b[0m\u001b[1;33m)\u001b[0m\u001b[1;33m\u001b[0m\u001b[1;33m\u001b[0m\u001b[0m\n\u001b[0m\u001b[0;32m   5271\u001b[0m         \u001b[1;32melse\u001b[0m\u001b[1;33m:\u001b[0m\u001b[1;33m\u001b[0m\u001b[1;33m\u001b[0m\u001b[0m\n\u001b[0;32m   5272\u001b[0m             \u001b[0mf\u001b[0m \u001b[1;33m=\u001b[0m \u001b[1;32mlambda\u001b[0m\u001b[1;33m:\u001b[0m \u001b[0mself\u001b[0m\u001b[1;33m.\u001b[0m\u001b[0m_data\u001b[0m\u001b[1;33m.\u001b[0m\u001b[0mconsolidate\u001b[0m\u001b[1;33m(\u001b[0m\u001b[1;33m)\u001b[0m\u001b[1;33m\u001b[0m\u001b[1;33m\u001b[0m\u001b[0m\n",
      "\u001b[1;32mE:\\ProgramData\\Anaconda3\\lib\\site-packages\\pandas\\core\\generic.py\u001b[0m in \u001b[0;36m_consolidate_inplace\u001b[1;34m(self)\u001b[0m\n\u001b[0;32m   5250\u001b[0m             \u001b[0mself\u001b[0m\u001b[1;33m.\u001b[0m\u001b[0m_data\u001b[0m \u001b[1;33m=\u001b[0m \u001b[0mself\u001b[0m\u001b[1;33m.\u001b[0m\u001b[0m_data\u001b[0m\u001b[1;33m.\u001b[0m\u001b[0mconsolidate\u001b[0m\u001b[1;33m(\u001b[0m\u001b[1;33m)\u001b[0m\u001b[1;33m\u001b[0m\u001b[1;33m\u001b[0m\u001b[0m\n\u001b[0;32m   5251\u001b[0m \u001b[1;33m\u001b[0m\u001b[0m\n\u001b[1;32m-> 5252\u001b[1;33m         \u001b[0mself\u001b[0m\u001b[1;33m.\u001b[0m\u001b[0m_protect_consolidate\u001b[0m\u001b[1;33m(\u001b[0m\u001b[0mf\u001b[0m\u001b[1;33m)\u001b[0m\u001b[1;33m\u001b[0m\u001b[1;33m\u001b[0m\u001b[0m\n\u001b[0m\u001b[0;32m   5253\u001b[0m \u001b[1;33m\u001b[0m\u001b[0m\n\u001b[0;32m   5254\u001b[0m     \u001b[1;32mdef\u001b[0m \u001b[0m_consolidate\u001b[0m\u001b[1;33m(\u001b[0m\u001b[0mself\u001b[0m\u001b[1;33m,\u001b[0m \u001b[0minplace\u001b[0m\u001b[1;33m=\u001b[0m\u001b[1;32mFalse\u001b[0m\u001b[1;33m)\u001b[0m\u001b[1;33m:\u001b[0m\u001b[1;33m\u001b[0m\u001b[1;33m\u001b[0m\u001b[0m\n",
      "\u001b[1;32mE:\\ProgramData\\Anaconda3\\lib\\site-packages\\pandas\\core\\generic.py\u001b[0m in \u001b[0;36m_protect_consolidate\u001b[1;34m(self, f)\u001b[0m\n\u001b[0;32m   5239\u001b[0m         \"\"\"\n\u001b[0;32m   5240\u001b[0m         \u001b[0mblocks_before\u001b[0m \u001b[1;33m=\u001b[0m \u001b[0mlen\u001b[0m\u001b[1;33m(\u001b[0m\u001b[0mself\u001b[0m\u001b[1;33m.\u001b[0m\u001b[0m_data\u001b[0m\u001b[1;33m.\u001b[0m\u001b[0mblocks\u001b[0m\u001b[1;33m)\u001b[0m\u001b[1;33m\u001b[0m\u001b[1;33m\u001b[0m\u001b[0m\n\u001b[1;32m-> 5241\u001b[1;33m         \u001b[0mresult\u001b[0m \u001b[1;33m=\u001b[0m \u001b[0mf\u001b[0m\u001b[1;33m(\u001b[0m\u001b[1;33m)\u001b[0m\u001b[1;33m\u001b[0m\u001b[1;33m\u001b[0m\u001b[0m\n\u001b[0m\u001b[0;32m   5242\u001b[0m         \u001b[1;32mif\u001b[0m \u001b[0mlen\u001b[0m\u001b[1;33m(\u001b[0m\u001b[0mself\u001b[0m\u001b[1;33m.\u001b[0m\u001b[0m_data\u001b[0m\u001b[1;33m.\u001b[0m\u001b[0mblocks\u001b[0m\u001b[1;33m)\u001b[0m \u001b[1;33m!=\u001b[0m \u001b[0mblocks_before\u001b[0m\u001b[1;33m:\u001b[0m\u001b[1;33m\u001b[0m\u001b[1;33m\u001b[0m\u001b[0m\n\u001b[0;32m   5243\u001b[0m             \u001b[0mself\u001b[0m\u001b[1;33m.\u001b[0m\u001b[0m_clear_item_cache\u001b[0m\u001b[1;33m(\u001b[0m\u001b[1;33m)\u001b[0m\u001b[1;33m\u001b[0m\u001b[1;33m\u001b[0m\u001b[0m\n",
      "\u001b[1;32mE:\\ProgramData\\Anaconda3\\lib\\site-packages\\pandas\\core\\generic.py\u001b[0m in \u001b[0;36mf\u001b[1;34m()\u001b[0m\n\u001b[0;32m   5248\u001b[0m \u001b[1;33m\u001b[0m\u001b[0m\n\u001b[0;32m   5249\u001b[0m         \u001b[1;32mdef\u001b[0m \u001b[0mf\u001b[0m\u001b[1;33m(\u001b[0m\u001b[1;33m)\u001b[0m\u001b[1;33m:\u001b[0m\u001b[1;33m\u001b[0m\u001b[1;33m\u001b[0m\u001b[0m\n\u001b[1;32m-> 5250\u001b[1;33m             \u001b[0mself\u001b[0m\u001b[1;33m.\u001b[0m\u001b[0m_data\u001b[0m \u001b[1;33m=\u001b[0m \u001b[0mself\u001b[0m\u001b[1;33m.\u001b[0m\u001b[0m_data\u001b[0m\u001b[1;33m.\u001b[0m\u001b[0mconsolidate\u001b[0m\u001b[1;33m(\u001b[0m\u001b[1;33m)\u001b[0m\u001b[1;33m\u001b[0m\u001b[1;33m\u001b[0m\u001b[0m\n\u001b[0m\u001b[0;32m   5251\u001b[0m \u001b[1;33m\u001b[0m\u001b[0m\n\u001b[0;32m   5252\u001b[0m         \u001b[0mself\u001b[0m\u001b[1;33m.\u001b[0m\u001b[0m_protect_consolidate\u001b[0m\u001b[1;33m(\u001b[0m\u001b[0mf\u001b[0m\u001b[1;33m)\u001b[0m\u001b[1;33m\u001b[0m\u001b[1;33m\u001b[0m\u001b[0m\n",
      "\u001b[1;32mE:\\ProgramData\\Anaconda3\\lib\\site-packages\\pandas\\core\\internals\\managers.py\u001b[0m in \u001b[0;36mconsolidate\u001b[1;34m(self)\u001b[0m\n\u001b[0;32m    930\u001b[0m         \u001b[0mbm\u001b[0m \u001b[1;33m=\u001b[0m \u001b[0mself\u001b[0m\u001b[1;33m.\u001b[0m\u001b[0m__class__\u001b[0m\u001b[1;33m(\u001b[0m\u001b[0mself\u001b[0m\u001b[1;33m.\u001b[0m\u001b[0mblocks\u001b[0m\u001b[1;33m,\u001b[0m \u001b[0mself\u001b[0m\u001b[1;33m.\u001b[0m\u001b[0maxes\u001b[0m\u001b[1;33m)\u001b[0m\u001b[1;33m\u001b[0m\u001b[1;33m\u001b[0m\u001b[0m\n\u001b[0;32m    931\u001b[0m         \u001b[0mbm\u001b[0m\u001b[1;33m.\u001b[0m\u001b[0m_is_consolidated\u001b[0m \u001b[1;33m=\u001b[0m \u001b[1;32mFalse\u001b[0m\u001b[1;33m\u001b[0m\u001b[1;33m\u001b[0m\u001b[0m\n\u001b[1;32m--> 932\u001b[1;33m         \u001b[0mbm\u001b[0m\u001b[1;33m.\u001b[0m\u001b[0m_consolidate_inplace\u001b[0m\u001b[1;33m(\u001b[0m\u001b[1;33m)\u001b[0m\u001b[1;33m\u001b[0m\u001b[1;33m\u001b[0m\u001b[0m\n\u001b[0m\u001b[0;32m    933\u001b[0m         \u001b[1;32mreturn\u001b[0m \u001b[0mbm\u001b[0m\u001b[1;33m\u001b[0m\u001b[1;33m\u001b[0m\u001b[0m\n\u001b[0;32m    934\u001b[0m \u001b[1;33m\u001b[0m\u001b[0m\n",
      "\u001b[1;32mE:\\ProgramData\\Anaconda3\\lib\\site-packages\\pandas\\core\\internals\\managers.py\u001b[0m in \u001b[0;36m_consolidate_inplace\u001b[1;34m(self)\u001b[0m\n\u001b[0;32m    935\u001b[0m     \u001b[1;32mdef\u001b[0m \u001b[0m_consolidate_inplace\u001b[0m\u001b[1;33m(\u001b[0m\u001b[0mself\u001b[0m\u001b[1;33m)\u001b[0m\u001b[1;33m:\u001b[0m\u001b[1;33m\u001b[0m\u001b[1;33m\u001b[0m\u001b[0m\n\u001b[0;32m    936\u001b[0m         \u001b[1;32mif\u001b[0m \u001b[1;32mnot\u001b[0m \u001b[0mself\u001b[0m\u001b[1;33m.\u001b[0m\u001b[0mis_consolidated\u001b[0m\u001b[1;33m(\u001b[0m\u001b[1;33m)\u001b[0m\u001b[1;33m:\u001b[0m\u001b[1;33m\u001b[0m\u001b[1;33m\u001b[0m\u001b[0m\n\u001b[1;32m--> 937\u001b[1;33m             \u001b[0mself\u001b[0m\u001b[1;33m.\u001b[0m\u001b[0mblocks\u001b[0m \u001b[1;33m=\u001b[0m \u001b[0mtuple\u001b[0m\u001b[1;33m(\u001b[0m\u001b[0m_consolidate\u001b[0m\u001b[1;33m(\u001b[0m\u001b[0mself\u001b[0m\u001b[1;33m.\u001b[0m\u001b[0mblocks\u001b[0m\u001b[1;33m)\u001b[0m\u001b[1;33m)\u001b[0m\u001b[1;33m\u001b[0m\u001b[1;33m\u001b[0m\u001b[0m\n\u001b[0m\u001b[0;32m    938\u001b[0m             \u001b[0mself\u001b[0m\u001b[1;33m.\u001b[0m\u001b[0m_is_consolidated\u001b[0m \u001b[1;33m=\u001b[0m \u001b[1;32mTrue\u001b[0m\u001b[1;33m\u001b[0m\u001b[1;33m\u001b[0m\u001b[0m\n\u001b[0;32m    939\u001b[0m             \u001b[0mself\u001b[0m\u001b[1;33m.\u001b[0m\u001b[0m_known_consolidated\u001b[0m \u001b[1;33m=\u001b[0m \u001b[1;32mTrue\u001b[0m\u001b[1;33m\u001b[0m\u001b[1;33m\u001b[0m\u001b[0m\n",
      "\u001b[1;32mE:\\ProgramData\\Anaconda3\\lib\\site-packages\\pandas\\core\\internals\\managers.py\u001b[0m in \u001b[0;36m_consolidate\u001b[1;34m(blocks)\u001b[0m\n\u001b[0;32m   1911\u001b[0m     \u001b[1;32mfor\u001b[0m \u001b[1;33m(\u001b[0m\u001b[0m_can_consolidate\u001b[0m\u001b[1;33m,\u001b[0m \u001b[0mdtype\u001b[0m\u001b[1;33m)\u001b[0m\u001b[1;33m,\u001b[0m \u001b[0mgroup_blocks\u001b[0m \u001b[1;32min\u001b[0m \u001b[0mgrouper\u001b[0m\u001b[1;33m:\u001b[0m\u001b[1;33m\u001b[0m\u001b[1;33m\u001b[0m\u001b[0m\n\u001b[0;32m   1912\u001b[0m         merged_blocks = _merge_blocks(\n\u001b[1;32m-> 1913\u001b[1;33m             \u001b[0mlist\u001b[0m\u001b[1;33m(\u001b[0m\u001b[0mgroup_blocks\u001b[0m\u001b[1;33m)\u001b[0m\u001b[1;33m,\u001b[0m \u001b[0mdtype\u001b[0m\u001b[1;33m=\u001b[0m\u001b[0mdtype\u001b[0m\u001b[1;33m,\u001b[0m \u001b[0m_can_consolidate\u001b[0m\u001b[1;33m=\u001b[0m\u001b[0m_can_consolidate\u001b[0m\u001b[1;33m\u001b[0m\u001b[1;33m\u001b[0m\u001b[0m\n\u001b[0m\u001b[0;32m   1914\u001b[0m         )\n\u001b[0;32m   1915\u001b[0m         \u001b[0mnew_blocks\u001b[0m \u001b[1;33m=\u001b[0m \u001b[0m_extend_blocks\u001b[0m\u001b[1;33m(\u001b[0m\u001b[0mmerged_blocks\u001b[0m\u001b[1;33m,\u001b[0m \u001b[0mnew_blocks\u001b[0m\u001b[1;33m)\u001b[0m\u001b[1;33m\u001b[0m\u001b[1;33m\u001b[0m\u001b[0m\n",
      "\u001b[1;32mE:\\ProgramData\\Anaconda3\\lib\\site-packages\\pandas\\core\\internals\\blocks.py\u001b[0m in \u001b[0;36m_merge_blocks\u001b[1;34m(blocks, dtype, _can_consolidate)\u001b[0m\n\u001b[0;32m   3318\u001b[0m         \u001b[1;31m# combination of those slices is a slice, too.\u001b[0m\u001b[1;33m\u001b[0m\u001b[1;33m\u001b[0m\u001b[1;33m\u001b[0m\u001b[0m\n\u001b[0;32m   3319\u001b[0m         \u001b[0mnew_mgr_locs\u001b[0m \u001b[1;33m=\u001b[0m \u001b[0mnp\u001b[0m\u001b[1;33m.\u001b[0m\u001b[0mconcatenate\u001b[0m\u001b[1;33m(\u001b[0m\u001b[1;33m[\u001b[0m\u001b[0mb\u001b[0m\u001b[1;33m.\u001b[0m\u001b[0mmgr_locs\u001b[0m\u001b[1;33m.\u001b[0m\u001b[0mas_array\u001b[0m \u001b[1;32mfor\u001b[0m \u001b[0mb\u001b[0m \u001b[1;32min\u001b[0m \u001b[0mblocks\u001b[0m\u001b[1;33m]\u001b[0m\u001b[1;33m)\u001b[0m\u001b[1;33m\u001b[0m\u001b[1;33m\u001b[0m\u001b[0m\n\u001b[1;32m-> 3320\u001b[1;33m         \u001b[0mnew_values\u001b[0m \u001b[1;33m=\u001b[0m \u001b[0mnp\u001b[0m\u001b[1;33m.\u001b[0m\u001b[0mvstack\u001b[0m\u001b[1;33m(\u001b[0m\u001b[1;33m[\u001b[0m\u001b[0mb\u001b[0m\u001b[1;33m.\u001b[0m\u001b[0mvalues\u001b[0m \u001b[1;32mfor\u001b[0m \u001b[0mb\u001b[0m \u001b[1;32min\u001b[0m \u001b[0mblocks\u001b[0m\u001b[1;33m]\u001b[0m\u001b[1;33m)\u001b[0m\u001b[1;33m\u001b[0m\u001b[1;33m\u001b[0m\u001b[0m\n\u001b[0m\u001b[0;32m   3321\u001b[0m \u001b[1;33m\u001b[0m\u001b[0m\n\u001b[0;32m   3322\u001b[0m         \u001b[0margsort\u001b[0m \u001b[1;33m=\u001b[0m \u001b[0mnp\u001b[0m\u001b[1;33m.\u001b[0m\u001b[0margsort\u001b[0m\u001b[1;33m(\u001b[0m\u001b[0mnew_mgr_locs\u001b[0m\u001b[1;33m)\u001b[0m\u001b[1;33m\u001b[0m\u001b[1;33m\u001b[0m\u001b[0m\n",
      "\u001b[1;32mE:\\ProgramData\\Anaconda3\\lib\\site-packages\\numpy\\core\\shape_base.py\u001b[0m in \u001b[0;36mvstack\u001b[1;34m(tup)\u001b[0m\n\u001b[0;32m    281\u001b[0m     \"\"\"\n\u001b[0;32m    282\u001b[0m     \u001b[0m_warn_for_nonsequence\u001b[0m\u001b[1;33m(\u001b[0m\u001b[0mtup\u001b[0m\u001b[1;33m)\u001b[0m\u001b[1;33m\u001b[0m\u001b[1;33m\u001b[0m\u001b[0m\n\u001b[1;32m--> 283\u001b[1;33m     \u001b[1;32mreturn\u001b[0m \u001b[0m_nx\u001b[0m\u001b[1;33m.\u001b[0m\u001b[0mconcatenate\u001b[0m\u001b[1;33m(\u001b[0m\u001b[1;33m[\u001b[0m\u001b[0matleast_2d\u001b[0m\u001b[1;33m(\u001b[0m\u001b[0m_m\u001b[0m\u001b[1;33m)\u001b[0m \u001b[1;32mfor\u001b[0m \u001b[0m_m\u001b[0m \u001b[1;32min\u001b[0m \u001b[0mtup\u001b[0m\u001b[1;33m]\u001b[0m\u001b[1;33m,\u001b[0m \u001b[1;36m0\u001b[0m\u001b[1;33m)\u001b[0m\u001b[1;33m\u001b[0m\u001b[1;33m\u001b[0m\u001b[0m\n\u001b[0m\u001b[0;32m    284\u001b[0m \u001b[1;33m\u001b[0m\u001b[0m\n\u001b[0;32m    285\u001b[0m \u001b[1;33m\u001b[0m\u001b[0m\n",
      "\u001b[1;31mKeyboardInterrupt\u001b[0m: "
     ]
    }
   ],
   "source": [
    "%%time\n",
    "\n",
    "df_researchers = pd.DataFrame()\n",
    "df_affiliations = pd.DataFrame()\n",
    "\n",
    "for index, item in df_articles.iterrows():\n",
    "    if index % 5000 == 0:\n",
    "        print(index)\n",
    "\n",
    "    doi = item['doi']\n",
    "    json_str = item['affiliations_json']\n",
    "    if pd.isna(json_str):\n",
    "        continue\n",
    "    for sub in json.loads(json_str):\n",
    "        df_researcherx = pd.DataFrame()\n",
    "        df_affiliationx = pd.DataFrame()\n",
    "\n",
    "        if 'first_name' in sub:\n",
    "            df_researcherx['first_name'] = [sub['first_name']]\n",
    "        if 'last_name' in sub:\n",
    "            df_researcherx['last_name'] = [sub['last_name']]\n",
    "        if 'orcid' in sub:\n",
    "            df_researcherx['orcid'] = [sub['orcid']]\n",
    "        if 'current_organization_id' in sub:\n",
    "            df_researcherx['current_organization_id'] = [sub['current_organization_id']]\n",
    "        if 'researcher_id' in sub:\n",
    "            df_researcherx['researcher_id'] = [sub['researcher_id']]\n",
    "        if 'affiliations' in sub:\n",
    "            df_researcherx['affiliations_num'] = [len(sub['affiliations'])]\n",
    "        if 'raw_affiliation' in sub:\n",
    "            df_researcherx['raw_affiliation'] = [json.dumps(sub['raw_affiliation'])]\n",
    "\n",
    "        df_researchers = df_researchers.append(df_researcherx, ignore_index=True)\n",
    "\n",
    "        for subsub in sub['affiliations']:\n",
    "            if 'id' in subsub:\n",
    "                df_affiliationx['affiliation_id'] = [subsub['id']]\n",
    "            if 'name' in subsub:\n",
    "                df_affiliationx['name'] = [subsub['name']]\n",
    "            if 'city' in subsub:\n",
    "                df_affiliationx['city'] = [subsub['city']]\n",
    "            if 'city_id' in subsub:\n",
    "                df_affiliationx['city_id'] = [subsub['city_id']]\n",
    "            if 'country' in subsub:\n",
    "                df_affiliationx['country'] = [subsub['country']]\n",
    "            if 'country_code' in subsub:\n",
    "                df_affiliationx['country_code'] = [subsub['country_code']]\n",
    "            if 'state' in subsub:\n",
    "                df_affiliationx['state'] = [subsub['state']]\n",
    "            if 'state_code' in subsub:\n",
    "                df_affiliationx['state_code'] = [subsub['state_code']]\n",
    "\n",
    "            df_affiliations = df_affiliations.append(df_affiliationx, ignore_index=True)\n",
    "\n",
    "df_researchers.to_csv('SUSTC_Journals/articles_all/article_researchers_1.csv', index=False)\n",
    "df_affiliations.to_csv('SUSTC_Journals/articles_all/article_affiliations_1.csv', index=False)\n"
   ]
  },
  {
   "cell_type": "code",
   "execution_count": 18,
   "metadata": {},
   "outputs": [],
   "source": [
    "\n",
    "\n",
    "\n"
   ]
  },
  {
   "cell_type": "code",
   "execution_count": null,
   "metadata": {},
   "outputs": [],
   "source": []
  }
 ],
 "metadata": {
  "file_extension": ".py",
  "kernelspec": {
   "display_name": "Python 3.7.4 64-bit ('base': conda)",
   "language": "python",
   "name": "python37464bitbasecondaa13ecd830a5e4b2c806b89eea66c1f7e"
  },
  "language_info": {
   "codemirror_mode": {
    "name": "ipython",
    "version": 3
   },
   "file_extension": ".py",
   "mimetype": "text/x-python",
   "name": "python",
   "nbconvert_exporter": "python",
   "pygments_lexer": "ipython3",
   "version": "3.7.4-final"
  },
  "mimetype": "text/x-python",
  "name": "python",
  "npconvert_exporter": "python",
  "pygments_lexer": "ipython3",
  "version": 3
 },
 "nbformat": 4,
 "nbformat_minor": 2
}