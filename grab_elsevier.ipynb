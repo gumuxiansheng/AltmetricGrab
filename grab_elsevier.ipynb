{
 "nbformat": 4,
 "nbformat_minor": 2,
 "metadata": {
  "language_info": {
   "name": "python",
   "codemirror_mode": {
    "name": "ipython",
    "version": 3
   }
  },
  "orig_nbformat": 2,
  "file_extension": ".py",
  "mimetype": "text/x-python",
  "name": "python",
  "npconvert_exporter": "python",
  "pygments_lexer": "ipython3",
  "version": 3
 },
 "cells": [
  {
   "cell_type": "code",
   "execution_count": null,
   "metadata": {},
   "outputs": [],
   "source": [
    "import os\n",
    "\n",
    "import pandas as pd\n",
    "\n",
    "from file_normalization import check_file_url\n",
    "from grab_util import grab_from_url_json"
   ]
  },
  {
   "cell_type": "code",
   "execution_count": null,
   "metadata": {},
   "outputs": [],
   "source": [
    "apiKey = '7f59af901d2d86f78a1fd60c1bf9426a'"
   ]
  },
  {
   "cell_type": "code",
   "execution_count": null,
   "metadata": {},
   "outputs": [],
   "source": [
    "def grab_scopus_eid(file_url, dst_url, doi_column):\n",
    "\n",
    "    df = pd.read_csv(file_url)\n",
    "    df_s = pd.DataFrame()\n",
    "\n",
    "    for doi in df[doi_column]:\n",
    "        dfx = pd.DataFrame()\n",
    "        eid = ''\n",
    "        if isinstance(doi, unicode):\n",
    "            url = \"https://api.elsevier.com/content/search/scopus?query=doi(%s)&apiKey=%s\" % (doi, apiKey)\n",
    "            res = grab_from_url_json(url, headers={'Accept': 'application/json'})\n",
    "            if res is not None:\n",
    "                if 'search-results' in res and 'entry' in res['search-results'] and len(res['search-results']['entry']) > 0:\n",
    "                    entry = res['search-results']['entry'][0]\n",
    "                    if 'eid' in entry:\n",
    "                        eid = entry['eid']\n",
    "\n",
    "        dfx['doi'] = [doi]\n",
    "        dfx['eid'] = [eid]\n",
    "\n",
    "    df_s.append(dfx, ignore_index=True)\n",
    "    df.to_csv(dst_url, index=False)\n",
    "    return"
   ]
  },
  {
   "cell_type": "code",
   "execution_count": null,
   "metadata": {},
   "outputs": [],
   "source": [
    "grab_scopus_eid('SUSTC_Journals/articles_all/all_altmetric_id.csv', 'SUSTC_Journals/articles_all/all_scopus_eid.csv')"
   ]
  }
 ]
}