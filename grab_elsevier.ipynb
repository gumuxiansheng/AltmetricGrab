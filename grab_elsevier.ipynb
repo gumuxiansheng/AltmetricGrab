{
 "nbformat": 4,
 "nbformat_minor": 2,
 "metadata": {
  "language_info": {
   "name": "python",
   "codemirror_mode": {
    "name": "ipython",
    "version": 3
   },
   "version": "3.7.4"
  },
  "orig_nbformat": 2,
  "file_extension": ".py",
  "mimetype": "text/x-python",
  "name": "python",
  "npconvert_exporter": "python",
  "pygments_lexer": "ipython3",
  "version": 3
 },
 "cells": [
  {
   "cell_type": "code",
   "execution_count": 1,
   "metadata": {},
   "outputs": [],
   "source": [
    "import os\n",
    "\n",
    "import pandas as pd\n",
    "from grab_util import grab_from_url_json\n",
    "import threading"
   ]
  },
  {
   "cell_type": "code",
   "execution_count": 2,
   "metadata": {},
   "outputs": [],
   "source": [
    "apiKey = '7f59af901d2d86f78a1fd60c1bf9426a'"
   ]
  },
  {
   "cell_type": "code",
   "execution_count": 3,
   "metadata": {},
   "outputs": [
    {
     "data": {
      "text/plain": "1230630"
     },
     "execution_count": 3,
     "metadata": {},
     "output_type": "execute_result"
    }
   ],
   "source": [
    "df = pd.read_csv('SUSTC_Journals/articles_all/all.csv')\n",
    "len(df)"
   ]
  },
  {
   "cell_type": "code",
   "execution_count": 5,
   "metadata": {},
   "outputs": [],
   "source": [
    "def grab_scopus_eid(doi_column, start_i, end_i):\n",
    "    df_s = pd.DataFrame()\n",
    "\n",
    "    for index, doi in enumerate(df[start_i:end_i][doi_column]):\n",
    "        if index % 500  == 0:\n",
    "            print(index)\n",
    "        dfx = pd.DataFrame()\n",
    "        eid = ''\n",
    "        if doi != None:\n",
    "            url = \"https://api.elsevier.com/content/search/scopus?query=doi(%s)&apiKey=%s\" % (doi, apiKey)\n",
    "            res = grab_from_url_json(url, headers={'Accept': 'application/json'})\n",
    "            if res is not None:\n",
    "                if 'search-results' in res and 'entry' in res['search-results'] and len(res['search-results']['entry']) > 0:\n",
    "                    entry = res['search-results']['entry'][0]\n",
    "                    if 'eid' in entry:\n",
    "                        eid = entry['eid']\n",
    "\n",
    "        dfx['doi'] = [doi]\n",
    "        dfx['eid'] = [eid]\n",
    "\n",
    "        df_s = df_s.append(dfx, ignore_index=True)\n",
    "\n",
    "        if index == 500:\n",
    "            df_s.to_csv(f'SUSTC_Journals/articles_all/all_scopus_eid_{start_i + 1}-{end_i}_test.csv', index=False)\n",
    "    df_s.to_csv(f'SUSTC_Journals/articles_all/all_scopus_eid_{start_i + 1}-{end_i}.csv', index=False)\n",
    "    return"
   ]
  },
  {
   "cell_type": "code",
   "execution_count": 6,
   "metadata": {},
   "outputs": [
    {
     "name": "stdout",
     "output_type": "stream",
     "text": "(read timeout=10)\nReadTimeout: HTTPSConnectionPool(host='api.elsevier.com', port=443): Read timed out. (read timeout=10)\nReadTimeout: HTTPSConnectionPool(host='api.elsevier.com', port=443): Read timed out. (read timeout=10)\nReadTimeout: HTTPSConnectionPool(host='api.elsevier.com', port=443): Read timed out. (read timeout=10)\nReadTimeout: HTTPSConnectionPool(host='api.elsevier.com', port=443): Read timed out. (read timeout=10)\nReadTimeout: HTTPSConnectionPool(host='api.elsevier.com', port=443): Read timed out. (read timeout=10)\nReadTimeout: HTTPSConnectionPool(host='api.elsevier.com', port=443): Read timed out. (read timeout=10)\nReadTimeout: HTTPSConnectionPool(host='api.elsevier.com', port=443): Read timed out. (read timeout=10)\nReadTimeout: HTTPSConnectionPool(host='api.elsevier.com', port=443): Read timed out. (read timeout=10)\nReadTimeout: HTTPSConnectionPool(host='api.elsevier.com', port=443): Read timed out. (read timeout=10)\nReadTimeout: HTTPSConnectionPool(host='api.elsevier.com', port=443): Read timed out. (read timeout=10)\nReadTimeout: HTTPSConnectionPool(host='api.elsevier.com', port=443): Read timed out. (read timeout=10)\nReadTimeout: HTTPSConnectionPool(host='api.elsevier.com', port=443): Read timed out. (read timeout=10)\nReadTimeout: HTTPSConnectionPool(host='api.elsevier.com', port=443): Read timed out. (read timeout=10)\nReadTimeout: HTTPSConnectionPool(host='api.elsevier.com', port=443): Read timed out. (read timeout=10)\nReadTimeout: HTTPSConnectionPool(host='api.elsevier.com', port=443): Read timed out. (read timeout=10)\nReadTimeout: HTTPSConnectionPool(host='api.elsevier.com', port=443): Read timed out. (read timeout=10)\nReadTimeout: HTTPSConnectionPool(host='api.elsevier.com', port=443): Read timed out. (read timeout=10)\nReadTimeout: HTTPSConnectionPool(host='api.elsevier.com', port=443): Read timed out. (read timeout=10)\nReadTimeout: HTTPSConnectionPool(host='api.elsevier.com', port=443): Read timed out. (read timeout=10)\nReadTimeout: HTTPSConnectionPool(host='api.elsevier.com', port=443): Read timed out. (read timeout=10)\nReadTimeout: HTTPSConnectionPool(host='api.elsevier.com', port=443): Read timed out. (read timeout=10)\n4000\n4000\n4000\n4000\n4000\n4000\n4000\n4000\n4000\n4000\n4000\n4000\n4000\n4000\n4000\n4000\n4000\n4000\n4000\n4000\n4000\n4000\n4000\n4000\n4000\n4000\n4000\n4000\n4000\n4000\n4000\n4000\n4000\n4000\n4000\n4000\n4000\n4000\n4000\n4000\n4000\n4000\n4000\n4000\n4000\n4000\n4000\n4000\n4000\n4000\n4000\n4000\n4000\n4000\n4000\n4000\n4000\n4000\n4000\n4000\n4000\n4000\n4000\n4000\n4000\n4000\n4000\n4000\n4000\n4000\n4000\n4000\n4000\n4000\n4000\n40004000\n\n4000\n4000\n4000\n4000\n4000\n4000\n4000\n4000\n4000\n4000\n4000\n4000\n4000\n4000\n4000\n4000\n4000\n4000\n4000\n4000\n4000\n4000\n4000\n4000\n4000\n4000\n4000\n4000\n4000\n4000\n4000\n4000\n4000\n4000\n4000\n4000\n4000\n4000\n4000\n4000\n4000\n4000\n4000\n4000\n4000\n4000\n4500\n4500\n4500\n4500\n4500\n4500\n4500\n4500\n4500\n4500\n4500\n4500\n4500\n4500\n4500\n4500\n4500\n4500\n4500\n4500\n4500\n4500\n4500\n4500\n4500\n4500\n4500\n4500\n4500\n4500\n4500\n4500\n4500\n4500\n4500\n4500\n4500\n4500\n4500\n4500\n4500\n4500\n4500\n4500\n4500\n4500\n4500\n4500\n4500\n4500\n4500\n4500\n4500\n4500\n4500\n4500\n4500\n4500\n4500\n4500\n4500\n4500\n4500\n4500\n4500\n4500\n4500\n4500\n4500\n4500\n4500\n4500\n4500\n4500\n4500\n4500\n4500\n4500\n4500\n4500\n4500\n4500\n4500\n4500\n4500\n4500\n4500\n4500\n4500\n4500\n4500\n4500\n4500\n4500\n4500\n4500\n4500\n4500\n4500\n4500\n4500\n4500\n4500\n4500\n4500\n4500\n4500\n4500\n4500\n4500\n4500\n4500\n4500\n4500\n4500\n4500\n4500\n4500\n4500\n4500\n45004500\n\n4500\n5000\n5000\n5000\n5000\n5000\n5000\n5000\n5000\n5000\n5000\n5000\n5000\n5000\n5000\n5000\n5000\n5000\n5000\n5000\n5000\n5000\n5000\n5000\n5000\n5000\n5000\n5000\n5000\n5000\n5000\n5000\n5000\n5000\n5000\n5000\n5000\n5000\n5000\n5000\n5000\n5000\n5000\n5000\n5000\n5000\n5000\n5000\n5000\n5000\n5000\n5000\n5000\n5000\n5000\n5000\n5000\n5000\n5000\n5000\n5000\n5000\n5000\n5000\n5000\n5000\n5000\n5000\n5000\n5000\n5000\n5000\n5000\n5000\n5000\n5000\n5000\n5000\n5000\n5000\n5000\n5000\n5000\n5000\n5000\n5000\n5000\n5000\n5000\n5000\n5000\n5000\n5000\n5000\n5000\n5000\n5000\n5000\n5000\n5000\n5000\n5000\n5000\n5000\n5000\n5000\n5000\n5000\n5000\n5000\n5000\n5000\n5000\n5000\n5000\n5000\n5000\n5000\n5000\n5000\n5000\n5000\n5000\n5000\n5500\n5500\n5500\n5500\n5500\n5500\n5500\n5500\n5500\n5500\n5500\n5500\n5500\n5500\n5500\n5500\n5500\n5500\n5500\n5500\n5500\n5500\n5500\n5500\n5500\n5500\n5500\n5500\n5500\n5500\n5500\n5500\n5500\n5500\n5500\n5500\n5500\n5500\n5500\n5500\n5500\n5500\n5500\n5500\n5500\n5500\n5500\n5500\n5500\n5500\n5500\n5500\n5500\n5500\n5500\n5500\n5500\n5500\n5500\n5500\n5500\n5500\n5500\n5500\n5500\n5500\n5500\n5500\n5500\n5500\n5500\n5500\n5500\n5500\n5500\n5500\n5500\n5500\n5500\n5500\n5500\n5500\n5500\n5500\n5500\n5500\n5500\n5500\n5500\n5500\n5500\n5500\n5500\n5500\n5500\n5500\n5500\n5500\n5500\n5500\n5500\n5500\n5500\n5500\n5500\n5500\n5500\n5500\n5500\n5500\n5500\n5500\n5500\n5500\n5500\n5500\n5500\n5500\n5500\n5500\n5500\n5500\n5500\nReadTimeout: HTTPSConnectionPool(host='api.elsevier.com', port=443): Read timed out. (read timeout=10)\nReadTimeout: HTTPSConnectionPool(host='api.elsevier.com', port=443): Read timed out. (read timeout=10)\nReadTimeout: HTTPSConnectionPool(host='api.elsevier.com', port=443): Read timed out. (read timeout=10)\nReadTimeout: HTTPSConnectionPool(host='api.elsevier.com', port=443): Read timed out. (read timeout=10)\nReadTimeout: HTTPSConnectionPool(host='api.elsevier.com', port=443): Read timed out. (read timeout=10)\nReadTimeout: HTTPSConnectionPool(host='api.elsevier.com', port=443): Read timed out. (read timeout=10)\nReadTimeout: HTTPSConnectionPool(host='api.elsevier.com', port=443): Read timed out. (read timeout=10)\nReadTimeout: HTTPSConnectionPool(host='api.elsevier.com', port=443): Read timed out. (read timeout=10)\nReadTimeout: HTTPSConnectionPool(host='api.elsevier.com', port=443): Read timed out. (read timeout=10)\nReadTimeout: HTTPSConnectionPool(host='api.elsevier.com', port=443): Read timed out. (read timeout=10)\nReadTimeout: HTTPSConnectionPool(host='api.elsevier.com', port=443): Read timed out. (read timeout=10)\nReadTimeout: HTTPSConnectionPool(host='api.elsevier.com', port=443): Read timed out. (read timeout=10)\nReadTimeout: HTTPSConnectionPool(host='api.elsevier.com', port=443): Read timed out. (read timeout=10)\nReadTimeout: HTTPSConnectionPool(host='api.elsevier.com', port=443): Read timed out. (read timeout=10)\nReadTimeout: HTTPSConnectionPool(host='api.elsevier.com', port=443): Read timed out. (read timeout=10)\nReadTimeout: HTTPSConnectionPool(host='api.elsevier.com', port=443): Read timed out. (read timeout=10)\nReadTimeout: HTTPSConnectionPool(host='api.elsevier.com', port=443): Read timed out. (read timeout=10)\nReadTimeout: HTTPSConnectionPool(host='api.elsevier.com', port=443): Read timed out. (read timeout=10)\nReadTimeout: HTTPSConnectionPool(host='api.elsevier.com', port=443): Read timed out. (read timeout=10)\nReadTimeout: HTTPSConnectionPool(host='api.elsevier.com', port=443): Read timed out. (read timeout=10)\nReadTimeout: HTTPSConnectionPool(host='api.elsevier.com', port=443): Read timed out. (read timeout=10)\nReadTimeout: HTTPSConnectionPool(host='api.elsevier.com', port=443): Read timed out. (read timeout=10)\nReadTimeout: HTTPSConnectionPool(host='api.elsevier.com', port=443): Read timed out. (read timeout=10)\nReadTimeout: HTTPSConnectionPool(host='api.elsevier.com', port=443): Read timed out. (read timeout=10)\nReadTimeout: HTTPSConnectionPool(host='api.elsevier.com', port=443): Read timed out. (read timeout=10)\nReadTimeout: HTTPSConnectionPool(host='api.elsevier.com', port=443): Read timed out. (read timeout=10)\nReadTimeout: HTTPSConnectionPool(host='api.elsevier.com', port=443): Read timed out. (read timeout=10)\nReadTimeout: HTTPSConnectionPool(host='api.elsevier.com', port=443): Read timed out. (read timeout=10)\nReadTimeout: HTTPSConnectionPool(host='api.elsevier.com', port=443): Read timed out. (read timeout=10)\nReadTimeout: HTTPSConnectionPool(host='api.elsevier.com', port=443): Read timed out. (read timeout=10)\nReadTimeout: HTTPSConnectionPool(host='api.elsevier.com', port=443): Read timed out. (read timeout=10)\nReadTimeout: HTTPSConnectionPool(host='api.elsevier.com', port=443): Read timed out. (read timeout=10)\nReadTimeout: HTTPSConnectionPool(host='api.elsevier.com', port=443): Read timed out. (read timeout=10)\nReadTimeout: HTTPSConnectionPool(host='api.elsevier.com', port=443): Read timed out. (read timeout=10)\nReadTimeout: HTTPSConnectionPool(host='api.elsevier.com', port=443): Read timed out. (read timeout=10)\nReadTimeout: HTTPSConnectionPool(host='api.elsevier.com', port=443): Read timed out. (read timeout=10)\nReadTimeout: HTTPSConnectionPool(host='api.elsevier.com', port=443): Read timed out. (read timeout=10)\nReadTimeout: HTTPSConnectionPool(host='api.elsevier.com', port=443): Read timed out. (read timeout=10)\nReadTimeout: HTTPSConnectionPool(host='api.elsevier.com', port=443): Read timed out. (read timeout=10)\n6000\n6000\n6000\n6000\n6000\n6000\n6000\n6000\n6000\n6000\n6000\n6000\n6000\n6000\n6000\n6000\n6000\n6000\n6000\n6000\n6000\n6000\n6000\n6000\n6000\n6000\n6000\n6000\n6000\n6000\n6000\n6000\n6000\n6000\n6000\n6000\n60006000\n\n6000\n6000\n6000\n6000\n6000\n6000\n6000\n6000\n6000\n6000\n6000\n6000\n6000\n6000\n6000\n6000\n6000\n6000\n6000\n6000\n6000\n6000\n6000\n6000\n6000\n6000\n6000\n6000\n6000\n6000\n6000\n6000\n6000\n6000\n6000\n6000\n6000\n60006000\n\n6000\n6000\n6000\n6000\n6000\n6000\n6000\n6000\n6000\n6000\n6000\n6000\n6000\n6000\n6000\n6000\n6000\n6000\n6000\n6000\n6000\n6000\n6000\n6000\n6000\n6000\n6000\n6000\n6000\n6000\n6000\n6000\n6000\n6000\n6000\n6000\n6000\n6000\n6000\n6000\n6000\n6000\n6000\n6000\n6000\n6000\n6500\n6500\n6500\n6500\n6500\n6500\n6500\n6500\n6500\n6500\n6500\n6500\n6500\n6500\n6500\n6500\n6500\n6500\n6500\n6500\n6500\n6500\n6500\n6500\n6500\n6500\n6500\n6500\n6500\n6500\n6500\n6500\n6500\n6500\n6500\n6500\n6500\n6500\n6500\n6500\n6500\n6500\n6500\n6500\n6500\n6500\n6500\n6500\n6500\n6500\n6500\n6500\n6500\n6500\n6500\n6500\n6500\n6500\n6500\n6500\n6500\n6500\n6500\n6500\n6500\n6500\n6500\n6500\n6500\n6500\n6500\n6500\n6500\n6500\n6500\n6500\n6500\n6500\n6500\n6500\n6500\n6500\n6500\n6500\n6500\n6500\n6500\n6500\n6500\n6500\n6500\n6500\n6500\n6500\n6500\n6500\n6500\n6500\n6500\n6500\n6500\n6500\n6500\n6500\n6500\n6500\n6500\n6500\n6500\n6500\n6500\n6500\n6500\n6500\n6500\n6500\n6500\n6500\n6500\n6500\n6500\n6500\n6500\nReadTimeout: HTTPSConnectionPool(host='api.elsevier.com', port=443): Read timed out. (read timeout=10)\n7000\n7000\n7000\n7000\n7000\n7000\n7000\n7000\n7000\n7000\n7000\n7000\n7000\n7000\n7000\n7000\n7000\n7000\n7000\n7000\n7000\n7000\n7000\n7000\n7000\n7000\n7000\n7000\n7000\n7000\n7000\n7000\n7000\n7000\n7000\n7000\n7000\n7000\n7000\n7000\n7000\n7000\n7000\n7000\n7000\n7000\n7000\n7000\n7000\n7000\n7000\n7000\n7000\n7000\n7000\n7000\n7000\n7000\n7000\n7000\n7000\n7000\n7000\n7000\n7000\n7000\n7000\n7000\n7000\n7000\n7000\n7000\n7000\n7000\n7000\n7000\n7000\n7000\n7000\n7000\n7000\n7000\n7000\n7000\n7000\n7000\n7000\n7000\n7000\n7000\n7000\n7000\n7000\n7000\n7000\n7000\n7000\n7000\n7000\n7000\n7000\n7000\n7000\n7000\n7000\n7000\n7000\n7000\n7000\n7000\n7000\n7000\n7000\n7000\n7000\n7000\n7000\n7000\n7000\n7000\n7000\n7000\n7000\n7500\n7500\n7500\n7500\n7500\n7500\n7500\n7500\n7500\n7500\n7500\n7500\n7500\n7500\n7500\n7500\n7500\n7500\n7500\n7500\n7500\n7500\n7500\n7500\n7500\n7500\n7500\n7500\n7500\n7500\n7500\n7500\n7500\n7500\n7500\n7500\n7500\n7500\n7500\n7500\n7500\n7500\n7500\n7500\n7500\n7500\n7500\n7500\n7500\n7500\n7500\n7500\n7500\n7500\n7500\n7500\n7500\n7500\n7500\n7500\n7500\n7500\n7500\n7500\n7500\n7500\n7500\n7500\n7500\n7500\n7500\n7500\n7500\n7500\n7500\n7500\n7500\n7500\n7500\n7500\n7500\n7500\n7500\n7500\n7500\n7500\n7500\n7500\n7500\n7500\n7500\n7500\n7500\n7500\n7500\n7500\n7500\n7500\n7500\n7500\n7500\n7500\n7500\n7500\n7500\n7500\n7500\n7500\n7500\n7500\n7500\n7500\n7500\n7500\n7500\n7500\n7500\n7500\n7500\n7500\n7500\n7500\n7500\nReadTimeout: HTTPSConnectionPool(host='api.elsevier.com', port=443): Read timed out. (read timeout=10)\nReadTimeout: HTTPSConnectionPool(host='api.elsevier.com', port=443): Read timed out. (read timeout=10)\nReadTimeout: HTTPSConnectionPool(host='api.elsevier.com', port=443): Read timed out. (read timeout=10)\nReadTimeout: HTTPSConnectionPool(host='api.elsevier.com', port=443): Read timed out. (read timeout=10)\nReadTimeout: HTTPSConnectionPool(host='api.elsevier.com', port=443): Read timed out. (read timeout=10)\nReadTimeout: HTTPSConnectionPool(host='api.elsevier.com', port=443): Read timed out. (read timeout=10)\nReadTimeout: HTTPSConnectionPool(host='api.elsevier.com', port=443): Read timed out. (read timeout=10)\nReadTimeout: HTTPSConnectionPool(host='api.elsevier.com', port=443): Read timed out. (read timeout=10)\nReadTimeout: HTTPSConnectionPool(host='api.elsevier.com', port=443): Read timed out. (read timeout=10)\nReadTimeout: HTTPSConnectionPool(host='api.elsevier.com', port=443): Read timed out. (read timeout=10)\nReadTimeout: HTTPSConnectionPool(host='api.elsevier.com', port=443): Read timed out. (read timeout=10)\nReadTimeout: HTTPSConnectionPool(host='api.elsevier.com', port=443): Read timed out. (read timeout=10)\nReadTimeout: HTTPSConnectionPool(host='api.elsevier.com', port=443): Read timed out. (read timeout=10)\nReadTimeout: HTTPSConnectionPool(host='api.elsevier.com', port=443): Read timed out. (read timeout=10)\nReadTimeout: HTTPSConnectionPool(host='api.elsevier.com', port=443): Read timed out. (read timeout=10)\nReadTimeout: HTTPSConnectionPool(host='api.elsevier.com', port=443): Read timed out. (read timeout=10)\nReadTimeout: HTTPSConnectionPool(host='api.elsevier.com', port=443): Read timed out. (read timeout=10)\nReadTimeout: HTTPSConnectionPool(host='api.elsevier.com', port=443): Read timed out. (read timeout=10)\nReadTimeout: HTTPSConnectionPool(host='api.elsevier.com', port=443): Read timed out. (read timeout=10)\n8000\n8000\n8000\n8000\n8000\n8000\n8000\n8000\n8000\n8000\n8000\n8000\n8000\n8000\n8000\n8000\n8000\n8000\n8000\n8000\n8000\n8000\n8000\n8000\n8000\n8000\n8000\n8000\n8000\n8000\n8000\n8000\n8000\n8000\n8000\n8000\n8000\n8000\n8000\n8000\n8000\n8000\n8000\n8000\n8000\n8000\n8000\n8000\n8000\n8000\n8000\n8000\n8000\n8000\n8000\n8000\n8000\n8000\n8000\n8000\n8000\n8000\n8000\n8000\n8000\n8000\n8000\n8000\n8000\n8000\n8000\n8000\n8000\n8000\n8000\n8000\n8000\n8000\n8000\n8000\n8000\n8000\n8000\n8000\n8000\n8000\n8000\n8000\n8000\n8000\n8000\n8000\n8000\n8000\n8000\n8000\n8000\n8000\n8000\n8000\n8000\n8000\n8000\n8000\n8000\n8000\n8000\n8000\n8000\n8000\n8000\n8000\n8000\n8000\n8000\n8000\n8000\n8000\n8000\n8000\n8000\n8000\n8000\nReadTimeout: HTTPSConnectionPool(host='api.elsevier.com', port=443): Read timed out. (read timeout=10)\nReadTimeout: HTTPSConnectionPool(host='api.elsevier.com', port=443): Read timed out. (read timeout=10)\nReadTimeout: HTTPSConnectionPool(host='api.elsevier.com', port=443): Read timed out. (read timeout=10)\nReadTimeout: HTTPSConnectionPool(host='api.elsevier.com', port=443): Read timed out. (read timeout=10)\nReadTimeout: HTTPSConnectionPool(host='api.elsevier.com', port=443): Read timed out. (read timeout=10)\nReadTimeout: HTTPSConnectionPool(host='api.elsevier.com', port=443): Read timed out. (read timeout=10)\nReadTimeout: HTTPSConnectionPool(host='api.elsevier.com', port=443): Read timed out. (read timeout=10)\nReadTimeout: HTTPSConnectionPool(host='api.elsevier.com', port=443): Read timed out. (read timeout=10)\nReadTimeout: HTTPSConnectionPool(host='api.elsevier.com', port=443): Read timed out. (read timeout=10)\nReadTimeout: HTTPSConnectionPool(host='api.elsevier.com', port=443): Read timed out. (read timeout=10)\nReadTimeout: HTTPSConnectionPool(host='api.elsevier.com', port=443): Read timed out. (read timeout=10)ReadTimeout: HTTPSConnectionPool(host='api.elsevier.com', port=443): Read timed out. (read timeout=10)\nReadTimeout: HTTPSConnectionPool(host='api.elsevier.com', port=443): Read timed out. (read timeout=10)\n\nReadTimeout: HTTPSConnectionPool(host='api.elsevier.com', port=443): Read timed out. (read timeout=10)\nReadTimeout: HTTPSConnectionPool(host='api.elsevier.com', port=443): Read timed out. (read timeout=10)\n8500\n8500\n8500\n8500\n8500\n8500\n8500\n8500\n8500\n8500\n8500\n8500\n8500\n8500\n85008500\n\n8500\n8500\n8500\n8500\n8500\n8500\n8500\n8500\n8500\n8500\n85008500\n\n8500\n8500\n8500\n8500\n8500\n8500\n8500\n8500\n8500\n8500\n8500\n8500\n8500\n8500\n8500\n8500\n8500\n8500\n8500\n8500\n8500\n8500\n8500\n8500\n8500\n8500\n8500\n8500\n8500\n8500\n8500\n8500\n8500\n8500\n8500\n8500\n8500\n8500\n8500\n8500\n8500\n8500\n8500\n8500\n8500\n8500\n8500\n8500\n8500\n8500\n8500\n8500\n8500\n8500\n8500\n8500\n8500\n85008500\n\n8500\n8500\n8500\n8500\n8500\n8500\n8500\n8500\n8500\n8500\n8500\n8500\n8500\n8500\n8500\n8500\n8500\n8500\n8500\n8500\n8500\n8500\n8500\n8500\n8500\n8500\n8500\n8500\n8500\n8500\n8500\n8500\n8500\n8500\n8500\n8500\nReadTimeout: HTTPSConnectionPool(host='api.elsevier.com', port=443): Read timed out. (read timeout=10)\nReadTimeout: HTTPSConnectionPool(host='api.elsevier.com', port=443): Read timed out. (read timeout=10)\nReadTimeout: HTTPSConnectionPool(host='api.elsevier.com', port=443): Read timed out. (read timeout=10)\nReadTimeout: HTTPSConnectionPool(host='api.elsevier.com', port=443): Read timed out. (read timeout=10)\n9000\n9000\n9000\n9000\n9000\n9000\n9000\n9000\n9000\n9000\n9000\n9000\n9000\n9000\n9000\n9000\n9000\n9000\n9000\n9000\n9000\n9000\n9000\n9000\n9000\n9000\n9000\n9000\n9000\n9000\n9000\n9000\n9000\n9000\n9000\n9000\n9000\n9000\n9000\n9000\n9000\n9000\n9000\n9000\n9000\n9000\n9000\n9000\n9000\n9000\n9000\n9000\n9000\n9000\n9000\n9000\n9000\n9000\n9000\n9000\n9000\n9000\n9000\n9000\n9000\n9000\n9000\nReadTimeout: HTTPSConnectionPool(host='api.elsevier.com', port=443): Read timed out. (read timeout=10)\n9000\n9000\n9000\n9000\n9000\n9000\n9000\n9000\n9000\n9000\n9000\n9000\n9000\n9000\n9000\n9000\n9000\n9000\n9000\n9000\n9000\n9000\n9000\n9000\n9000\n9000\n9000\n9000\n9000\n9000\n9000\n9000\n9000\n9000\n9000\n9000\n9000\n9000\n9000\n9000\n9000\n9000\n9000\n9000\n9000\n9000\n9000\n9000\n9000\n9000\n9000\n9000\n9000\n9000\n9000\n9000\n9500\n9500\n9500\n9500\n9500\n9500\n9500\n9500\n9500\n9500\n9500\n9500\n9500\n9500\n9500\n9500\n9500\n9500\n9500\n9500\n9500\n9500\n9500\n9500\n9500\n9500\n9500\n9500\n9500\n9500\n9500\n9500\n9500\n9500\n9500\nReadTimeout: HTTPSConnectionPool(host='api.elsevier.com', port=443): Read timed out. (read timeout=10)\nReadTimeout: HTTPSConnectionPool(host='api.elsevier.com', port=443): Read timed out. (read timeout=10)\nReadTimeout: HTTPSConnectionPool(host='api.elsevier.com', port=443): Read timed out. (read timeout=10)\nReadTimeout: HTTPSConnectionPool(host='api.elsevier.com', port=443): Read timed out. (read timeout=10)\nReadTimeout: HTTPSConnectionPool(host='api.elsevier.com', port=443): Read timed out. (read timeout=10)\nReadTimeout: HTTPSConnectionPool(host='api.elsevier.com', port=443): Read timed out. (read timeout=10)\nReadTimeout: HTTPSConnectionPool(host='api.elsevier.com', port=443): Read timed out. (read timeout=10)\nReadTimeout: HTTPSConnectionPool(host='api.elsevier.com', port=443): Read timed out. (read timeout=10)\nReadTimeout: HTTPSConnectionPool(host='api.elsevier.com', port=443): Read timed out. (read timeout=10)\nReadTimeout: HTTPSConnectionPool(host='api.elsevier.com', port=443): Read timed out. (read timeout=10)\nReadTimeout: HTTPSConnectionPool(host='api.elsevier.com', port=443): Read timed out. (read timeout=10)\nReadTimeout: HTTPSConnectionPool(host='api.elsevier.com', port=443): Read timed out. (read timeout=10)\nReadTimeout: HTTPSConnectionPool(host='api.elsevier.com', port=443): Read timed out. (read timeout=10)\nReadTimeout: HTTPSConnectionPool(host='api.elsevier.com', port=443): Read timed out. (read timeout=10)\nReadTimeout: HTTPSConnectionPool(host='api.elsevier.com', port=443): Read timed out. (read timeout=10)\nReadTimeout: HTTPSConnectionPool(host='api.elsevier.com', port=443): Read timed out. (read timeout=10)\nReadTimeout: HTTPSConnectionPool(host='api.elsevier.com', port=443): Read timed out. (read timeout=10)\nReadTimeout: HTTPSConnectionPool(host='api.elsevier.com', port=443): Read timed out. (read timeout=10)ReadTimeout: HTTPSConnectionPool(host='api.elsevier.com', port=443): Read timed out. (read timeout=10)\n\n9500\nReadTimeout: HTTPSConnectionPool(host='api.elsevier.com', port=443): Read timed out. (read timeout=10)\nReadTimeout: HTTPSConnectionPool(host='api.elsevier.com', port=443): Read timed out. (read timeout=10)\n9500\n9500\n9500\n9500\n9500\n9500\n9500\n9500\n9500\n9500\n9500\n950095009500\n\n\n9500\n9500\n9500\n9500\n9500\n9500\n9500\n9500\n9500\n9500\n9500\n9500\n9500\n9500\n9500\n9500\n9500\n9500\n9500\n9500\n9500\n9500\n9500\n9500\n9500\n9500\n9500\n9500\n9500\n9500\n9500\n9500\n9500\n9500\n9500\n9500\n9500\n9500\n9500\n9500\n9500\n9500\n9500\n9500\n9500\n9500\n9500\n9500\n9500\n9500\n9500\n9500\n9500\n9500\n9500\n9500\n9500\n9500\n9500\n9500\n9500\n9500\n9500\n9500\n9500\n9500\n9500\n9500\n9500\n9500\n9500\n9500\n9500\nReadTimeout: HTTPSConnectionPool(host='api.elsevier.com', port=443): Read timed out. (read timeout=10)\n10000\n10500\nWall time: 5h 43min 57s\n"
    }
   ],
   "source": [
    "%%time\n",
    "step = 10000\n",
    "t_num = int(len(df) / step)\n",
    "\n",
    "threads = []\n",
    "for i in range(0, t_num):\n",
    "    start_i = i*step\n",
    "    end_i = start_i + step\n",
    "\n",
    "    if end_i + step > len(df):\n",
    "        end_i = len(df)\n",
    "    \n",
    "    threadx = threading.Thread(target=grab_scopus_eid, name=f'Thread{start_i}-{end_i}', args=('DI', start_i, end_i, ))\n",
    "    threadx.start()\n",
    "    threads.append(threadx)\n",
    "\n",
    "for t in threads:\n",
    "    t.join()"
   ]
  },
  {
   "cell_type": "code",
   "execution_count": 4,
   "metadata": {},
   "outputs": [],
   "source": [
    "import os\n",
    "file_list = os.listdir('SUSTC_Journals/articles_all/')"
   ]
  },
  {
   "source": [
    "\n",
    "def grab_mendeley_views(eid_column, start_i, end_i, end_year=30000, end_month=12):\n",
    "    if f'all_mendeley_{start_i + 1}-{end_i}.csv' in file_list:\n",
    "        return\n",
    "\n",
    "    df = pd.read_csv(f'SUSTC_Journals/articles_all/all_scopus_eid_{start_i + 1}-{end_i}.csv')\n",
    "    df_s = pd.DataFrame()\n",
    "\n",
    "    if 'views' not in df_s.columns:\n",
    "        for index, eid in enumerate(df[eid_column]):\n",
    "            if index % 500  == 0:\n",
    "                print(index)\n",
    "            if str(eid) == 'nan':\n",
    "                continue\n",
    "            dfx = pd.DataFrame()\n",
    "            views = 0\n",
    "            citations = 0\n",
    "            if str(eid) != 'nan':\n",
    "                url = 'https://www.mendeley.com/stats/articles/timeline/' + eid\n",
    "                res = grab_from_url_json(url, headers={'accept': 'text/html,application/xhtml+xml,application/xml;q=0.9,image/webp,image/apng,*/*;q=0.8,application/signed-exchange;v=b3',\n",
    "                                                        'accept-encoding': 'gzip, deflate, br',\n",
    "                                                        'accept-language': 'zh-TW,zh;q=0.9,en-US;q=0.8,en;q=0.7,zh-CN;q=0.6',\n",
    "                                                        'cache-control': 'max-age=0',\n",
    "                                                        'cookie': '__cfduid=d00fe5ce2b8615a4fac8e00b06eda10891578447833; web_session=28322787-15b6-487f-8e9a-9730839d884b; msso=4%3A7bd2633e-be90-4e69-9bf5-35a9fbeb268c;aa_usr=%7B%22accessType%22%3A%22ae%3AREG%3AU_P%3AGUEST%3A%22%2C%22accountId%22%3A%22ae%3A293744%22%2C%22accountName%22%3A%22ae%3AMendeley%20Guests%22%2C%22userId%22%3A%22ae%3A34829421%22%7D; node_session=eyJpZCI6IjVhOTliMDRmLTkwMmUtNDRiMi05MGYwLWFiMGQxMjQ5YjU0MSIsInN0YXRlIjoiMmM5MWM4MjM0ZGJhNmM1NWIxZjk0OWViMDdkZmI2ZmYiLCJyZWZlcnJlclVybCI6Imh0dHA6Ly93d3cubWVuZGVsZXkuY29tL3N0YXRzL2FydGljbGVzL3RpbWVsaW5lLzItczIuMC04NDk2NDM5MDk2MyIsImlzU29mdFNpZ25JbiI6ZmFsc2UsInByb21wdCI6ImxvZ2luIiwiYW5hbHl0aWNzSW5mbyI6bnVsbCwiaW5kdklkZW50aXR5IjoiUkVHIiwiaW5jbHVkZVByb21wdGVkU3RhdHVzIjpudWxsfQ==; node_session.sig=JOBGe82eUWsZlO2-zWSfOLK180s',\n",
    "                                                        'sec-fetch-mode': 'navigate',\n",
    "                                                        'sec-fetch-site': 'cross-site',\n",
    "                                                        'upgrade-insecure-requests': '1',\n",
    "                                                        'user-agent': 'Mozilla/5.0 (Macintosh; Intel Mac OS X 10_14_5) AppleWebKit/537.36 (KHTML, like Gecko) Chrome/77.0.3865.10 Safari/537.36'})\n",
    "                \n",
    "                if res != None:\n",
    "                    for item in res:\n",
    "                        if item['year'] > end_year or (item['year'] == end_year and item['month'] > end_month):\n",
    "                            continue\n",
    "                        views += item['views']\n",
    "                        citations += item['citations']\n",
    "\n",
    "            dfx['eid'] = [eid]\n",
    "            dfx['views'] = [views]\n",
    "            dfx['citations'] = [citations]\n",
    "\n",
    "            df_s = df_s.append(dfx, ignore_index=True)\n",
    "\n",
    "            if index == 200:\n",
    "                df_s.to_csv(f'SUSTC_Journals/articles_all/all_mendeley_{start_i + 1}-{end_i}_test.csv', index=False)\n",
    "\n",
    "    df_s.to_csv(f'SUSTC_Journals/articles_all/all_mendeley_{start_i + 1}-{end_i}.csv', index=False)\n",
    "    return"
   ],
   "cell_type": "code",
   "outputs": [],
   "metadata": {},
   "execution_count": 5
  },
  {
   "source": [
    "%%time\n",
    "step = 10000\n",
    "t_num = int(len(df) / step)\n",
    "\n",
    "threads = []\n",
    "for i in range(0, t_num):\n",
    "    start_i = i*step\n",
    "    end_i = start_i + step\n",
    "\n",
    "    if end_i + step > len(df):\n",
    "        end_i = len(df)\n",
    "    \n",
    "    threadx = threading.Thread(target=grab_mendeley_views, name=f'Thread{start_i}-{end_i}', args=('eid', start_i, end_i, ))\n",
    "    threadx.start()\n",
    "    threads.append(threadx)\n",
    "\n",
    "for t in threads:\n",
    "    t.join()"
   ],
   "cell_type": "code",
   "outputs": [
    {
     "output_type": "stream",
     "name": "stdout",
     "text": "00\n\n0\n00\n\n0\n00\n0\n0\n\n00\n\n0\n0\n0\n0\n00\n0\n\n0\n0\n0\n0\n0\n00\n0\n\n0\n0\n0\n00\n\n0\n0\n0\nReadTimeout: HTTPSConnectionPool(host='www.mendeley.com', port=443): Read timed out. (read timeout=10)\n500\n500\n500\n500\n500\n500\n500\nReadTimeout: HTTPSConnectionPool(host='www.mendeley.com', port=443): Read timed out. (read timeout=10)\n500\n500\n500\n500\n500\n500\n500\n500\n500\n500\n500\n500\n500\n500\n500\n500\n500\n500\n500\n500\n500\n500\n500\n500\nReadTimeout: HTTPSConnectionPool(host='www.mendeley.com', port=443): Read timed out. (read timeout=10)\n500\n500\n500\n1000\n500\nReadTimeout: HTTPSConnectionPool(host='www.mendeley.com', port=443): Read timed out. (read timeout=10)\n1000\n1000\n1000\n1000\n1000\n1000\n1000\n1000\n1000\n1000\n1000\n1000\n1000\n1500\n1000\n1000\n1000\n1000\n1000\n1000\nReadTimeout: HTTPSConnectionPool(host='www.mendeley.com', port=443): Read timed out. (read timeout=10)\n1000\n1500\n1000\n1000\n1500\n1000\n1000\n1000\n1000\n1000\n1000\n1000\n1000\n1000\n1000\n1500\n1500\n1500\n1500\n1500\n1500\n1500\n1000\n1000\n2000\n1500\n1500\n1500\n1500\n2000\n1500\n2000\n1500\n1500\n2000\n1500\n1500\nReadTimeout: HTTPSConnectionPool(host='www.mendeley.com', port=443): Read timed out. (read timeout=10)\nReadTimeout: HTTPSConnectionPool(host='www.mendeley.com', port=443): Read timed out. (read timeout=10)\nConnectionError: HTTPSConnectionPool(host='www.mendeley.com', port=443): Max retries exceeded with url: /stats/articles/timeline/2-s2.0-85047060992 (Caused by SSLError(SSLError(\"bad handshake: SysCallError(10054, 'WSAECONNRESET')\")))\nConnectionError: HTTPSConnectionPool(host='www.mendeley.com', port=443): Max retries exceeded with url: /stats/articles/timeline/2-s2.0-84938336987 (Caused by SSLError(SSLError(\"bad handshake: SysCallError(10054, 'WSAECONNRESET')\")))\nConnectionError: HTTPSConnectionPool(host='www.mendeley.com', port=443): Max retries exceeded with url: /stats/articles/timeline/2-s2.0-85001132481 (Caused by SSLError(SSLError(\"bad handshake: SysCallError(10054, 'WSAECONNRESET')\")))\nConnectionError: HTTPSConnectionPool(host='www.mendeley.com', port=443): Max retries exceeded with url: /stats/articles/timeline/2-s2.0-84955282444 (Caused by SSLError(SSLError(\"bad handshake: SysCallError(10054, 'WSAECONNRESET')\")))\nConnectionError: HTTPSConnectionPool(host='www.mendeley.com', port=443): Max retries exceeded with url: /stats/articles/timeline/2-s2.0-84943424847 (Caused by SSLError(SSLError(\"bad handshake: SysCallError(10054, 'WSAECONNRESET')\")))\n2000\nReadTimeout: HTTPSConnectionPool(host='www.mendeley.com', port=443): Read timed out. (read timeout=10)\n2000\n1500\n1500\n1500\n1500\n2000\n1500\n1500\n2000\n2500\n1500\n2500\n1500\n1500\n2000\n2500\n1500\n2000\n1500\n2000\n1500\n2000\n1500\n2000\n2000\n2000\n1500\n2500\n2000\n2000\n1500\n1500\n2500\n2500\n2000\n2000\n3000\n2000\n2000\n2000\n3000\n2500\n2000\n2500\n3000\n2000\n2500\n2000\n2000\n2000\n3000\n2000\n2500\n2000\n2500\n2000\n2000\n2500\n2500\n3000\n2500\n3500\n2500\n3000\n4000\n2000\nReadTimeout: HTTPSConnectionPool(host='www.mendeley.com', port=443): Read timed out. (read timeout=10)\n2000\n2500\n2000\n4500\nReadTimeout: HTTPSConnectionPool(host='www.mendeley.com', port=443): Read timed out. (read timeout=10)\n5000\n2500\n3000\n3000\n2500\n3500\n3500\n3500\n3500\n2500\n3000\n3500\n4000\n4500\n5000\n2500\n3000\nReadTimeout: HTTPSConnectionPool(host='www.mendeley.com', port=443): Read timed out. (read timeout=10)\n2500\n3500\n3000\n2500\n2500\n2000\n3000\n2500\n2500\n2500\n3000\n2500\n2500\n5500\n2500\n2500\n4000\n2500\n5500\n6000\n6500\n7000\n3000\n3000\n4000\n2500\n4000\n4000\n3500\n3500\n4000\n3500\n3000\n2500\n2500\n4000\n3500\n4500\n3000\n3000\n3000\n7500\n8000\n8500\nReadTimeout: HTTPSConnectionPool(host='www.mendeley.com', port=443): Read timed out. (read timeout=10)\n3000\n3000\n3000\n3500\n4500\n3500\n5000\n5500\n9000\n3000\n3500\n4000\n4500\n5000\n3000\n3500\n5500\n6000\n6000\n60003000\n\n3000\n3000\n4000\n3000\n2500\n6500\n7000\n7500\n4500\n4500\n4500\n3000\n3000\n5000\n3500\n4000\n8000\n8500\n9000\n9500\n4500\n4000\n5000\n9500\n3000\n4500\n3500\n6500\n4000\n3000\n4000\n3500\n5500\n4000\n3500\n3500\n3500\n3500\n4000\n4000\n3500\n3500\n3500\n3000\n4500\n5000\n5000\n3500\n5500\n3500\n3500\n3500\n6000\n4500\n4000\n3000\n3500\n4000\n5000\n4500\n4000\n5500\n3000\n6500\n4000\n4000\n3500\n5000\n5500\n5000\nReadTimeout: HTTPSConnectionPool(host='www.mendeley.com', port=443): Read timed out. (read timeout=10)\n4000\n4000\n7000\n4500\n3500\n4500\n4000\n3500\n5000\n6000\n4500\n4000\nReadTimeout: HTTPSConnectionPool(host='www.mendeley.com', port=443): Read timed out. (read timeout=10)\n4000\n4000\n4500\n4000\n4000\n6500\n6000\nReadTimeout: HTTPSConnectionPool(host='www.mendeley.com', port=443): Read timed out. (read timeout=10)\n6500\n5500\n6000\n7000\n4500\n5000\n4500\nConnectionError: HTTPSConnectionPool(host='www.mendeley.com', port=443): Max retries exceeded with url: /stats/articles/timeline/2-s2.0-85028569563 (Caused by SSLError(SSLError(\"bad handshake: SysCallError(-1, 'Unexpected EOF')\")))\n4500\n4000\n3500\n5500\n3500\n5000\n7500\n5000\n6500\n4500\n4500\n4000\n4500\n7000\n4000\n4500\n4500\nReadTimeout: HTTPSConnectionPool(host='www.mendeley.com', port=443): Read timed out. (read timeout=10)\n5500\n4500\n7500\n5500\n4500\n5500\n5000\n5000\n5000\n45005500\n\n8000\n5000\n6000\n5500\n4500\n4500\n4500\n6500\n6000\nReadTimeout: HTTPSConnectionPool(host='www.mendeley.com', port=443): Read timed out. (read timeout=10)\n5500\n5000\n4000\n5000\n5500\n7500\n5000\n8000\n4000\n6000\n5000\n7000\n6000\n4500\n6000\n7000\n6000\n6000\n5000\n5000\n5500\n4500\n5000\n5000\n7000\n5500\n5000\n6500\n5000\n5500\n8500\n6000\n6500\n7500\n6000\n5000\n5500\n9000\n8000\n5500\n5000\n7500\n6500\n8500\n5500\n6500\n6000\n7500\n4500\n6500\n4500\n5500\n5000\n6500\n9500\n5500\n8000\n6000\n5500\n6000\n6500\n5000\n6500\n5500\n7000\n5500\n6500\n7000\n7000\n6000\n8000\n5500\n5500\n6000\n7000\nReadTimeout: HTTPSConnectionPool(host='www.mendeley.com', port=443): Read timed out. (read timeout=10)\n7500\n5500\n9000\n6000\nReadTimeout: HTTPSConnectionPool(host='www.mendeley.com', port=443): Read timed out. (read timeout=10)\n7500\n5500\n8000\n8500\n7000\n6500\n6000\n8000\n8500\nReadTimeout: HTTPSConnectionPool(host='www.mendeley.com', port=443): Read timed out. (read timeout=10)\nReadTimeout: HTTPSConnectionPool(host='www.mendeley.com', port=443): Read timed out. (read timeout=10)\n6000\n7500\n5000\n7000\n7000\n7500\n5500\n6500\n6000\n6500\n6500\n6000\n6000\n6000\n6000\n7000\n8500\n8500\n7000\n5000\n8000\n6000\n7500\n6500\n9500\n9000\n9000\n8500\n9000\n7500\n9000\n7500\n6000\n5500\n7000\n6500\n6500\n6500\n8000\n7500\n8000\n8000\n7500\n7000\n7000\n7000\n9500\n9000\n5500\n6000\n6500\n6500\n6500\n8000\n7000\n8000\n6500\n8500\n6500\n8500\n6500\n9500\n9500\n7500\n6000\n8000\n7000\n9500\n7500\n8000\n6500\n7500\n8500\n7500\n7500\n7000\n7000\n8500\n6000\n9500\n6500\n8500\n7500\n9000\n7000\n9000\n8500\n7000\n8000\n7000\n8000\n8500\n7000\n8000\n6500\n7500\n8000\n8500\n8000\n8000\n7000\n7000\n9000\n7500\n7000\n9000\n7500\n9000\n8500\nReadTimeout: HTTPSConnectionPool(host='www.mendeley.com', port=443): Read timed out. (read timeout=10)\n7500\n6500\n9500\n8000\n9000\n9000\n9500\n7500\n7500\n8500\n7000\n8500\n9000\n9500\n8000\n9500\n8500\n8000\n8500\n8500\n7500\n9000\n7500\n9500\n7500\nReadTimeout: HTTPSConnectionPool(host='www.mendeley.com', port=443): Read timed out. (read timeout=10)\n9000\n7000\n8000\n9500\n8500\n9000\n8000\n9000\n8000\n7500\n9500\n8000\n9000\n9000\n8000\nReadTimeout: HTTPSConnectionPool(host='www.mendeley.com', port=443): Read timed out. (read timeout=10)\n7000\n9500\n8500\n9500\n8000\n9500\n8500\n9500\n8500\n9500\n9000\n8000\n7500\n9000\n7500\n8500\n9000\n8500\n9500\n8500\n9500\nReadTimeout: HTTPSConnectionPool(host='www.mendeley.com', port=443): Read timed out. (read timeout=10)\n9500\n9000\n8500\n8500\n9000\n8000\n8500\n8000\n9500\n9500\n9000\n9000\n9000\n9500\n9000\n9000\n9500\n8500\n8500\n9500\n9500\n9500\nReadTimeout: HTTPSConnectionPool(host='www.mendeley.com', port=443): Read timed out. (read timeout=10)\n9500\n9500\n9000\n9000\n9500\n9500\nWall time: 43min 18s\n"
    }
   ],
   "metadata": {},
   "execution_count": 6
  },
  {
   "cell_type": "code",
   "execution_count": null,
   "metadata": {},
   "outputs": [],
   "source": []
  }
 ]
}