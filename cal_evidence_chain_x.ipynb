{
 "cells": [
  {
   "cell_type": "code",
   "execution_count": 3,
   "metadata": {},
   "outputs": [],
   "source": [
    "from grab_util import *\n",
    "import json\n",
    "import pandas as pd\n",
    "import numpy as np\n",
    "import math\n"
   ]
  },
  {
   "cell_type": "code",
   "execution_count": 5,
   "metadata": {},
   "outputs": [],
   "source": [
    "origin_folder = 'data/outputs/OR'"
   ]
  },
  {
   "cell_type": "code",
   "execution_count": null,
   "metadata": {},
   "outputs": [],
   "source": [
    "df_all = pd.read_csv(f'{origin_folder}/all_altmetric_detail.csv')\n",
    "all_info = pd.read_csv(f'{origin_folder}/all.csv', usecols=['DI', 'SO', 'TC'])"
   ]
  },
  {
   "cell_type": "code",
   "execution_count": null,
   "metadata": {},
   "outputs": [],
   "source": [
    "df_all = df_all.merge(all_info, on='DI', how='left')\n",
    "df_all['TC'] = df_all['TC'].fillna(0)\n",
    "df_all.drop_duplicates(inplace=True)"
   ]
  },
  {
   "cell_type": "code",
   "execution_count": null,
   "metadata": {},
   "outputs": [],
   "source": [
    "df_all['comments'] = df_all['facebook pages'] + df_all['news outlets'] + df_all['tweets_count'] + df_all['weibo'] + df_all['wikipedia'] + df_all['blogs']\n",
    "df_all['N'] = 1"
   ]
  },
  {
   "cell_type": "code",
   "execution_count": null,
   "metadata": {},
   "outputs": [],
   "source": [
    "df_all['l1'] = df_all['mendeley']**0.2 + df_all['comments']**0.6 + df_all['TC']**0.2\n",
    "df_all['l2'] = df_all['mendeley']**0.6 + df_all['comments']**0.2 + df_all['TC']**0.2\n",
    "df_all['l3'] = df_all['mendeley']**0.2 + df_all['comments']**0.4 + df_all['TC']**0.4\n",
    "df_all['l4'] = df_all['mendeley']**0.4 + df_all['comments']**0.2 + df_all['TC']**0.4\n",
    "df_all['l5'] = df_all['mendeley']**0.1 + df_all['comments']**0.3 + df_all['TC']**0.6\n",
    "df_all['l6'] = df_all['mendeley']**0.3 + df_all['comments']**0.1 + df_all['TC']**0.6\n",
    "df_all['l7'] = df_all['mendeley']**0.05 + df_all['comments']**0.15 + df_all['TC']**0.8\n",
    "df_all['l8'] = df_all['mendeley']**0.15 + df_all['comments']**0.05 + df_all['TC']**0.8"
   ]
  },
  {
   "cell_type": "code",
   "execution_count": null,
   "metadata": {},
   "outputs": [],
   "source": [
    "df_all = df_all.groupby(by=['SO']).sum()\n",
    "\n",
    "for i in range(1, 9):\n",
    "    df_all[f'l{i}'] = df_all[f'l{i}'] / df_all['N']\n",
    "\n",
    "df_all['l1_2'] = df_all['mendeley']**0.2 + df_all['comments']**0.6 + df_all['TC']**0.2\n",
    "df_all['l2_2'] = df_all['mendeley']**0.6 + df_all['comments']**0.2 + df_all['TC']**0.2\n",
    "df_all['l3_2'] = df_all['mendeley']**0.2 + df_all['comments']**0.4 + df_all['TC']**0.4\n",
    "df_all['l4_2'] = df_all['mendeley']**0.4 + df_all['comments']**0.2 + df_all['TC']**0.4\n",
    "df_all['l5_2'] = df_all['mendeley']**0.1 + df_all['comments']**0.3 + df_all['TC']**0.6\n",
    "df_all['l6_2'] = df_all['mendeley']**0.3 + df_all['comments']**0.1 + df_all['TC']**0.6\n",
    "df_all['l7_2'] = df_all['mendeley']**0.05 + df_all['comments']**0.15 + df_all['TC']**0.8\n",
    "df_all['l8_2'] = df_all['mendeley']**0.15 + df_all['comments']**0.05 + df_all['TC']**0.8"
   ]
  },
  {
   "cell_type": "code",
   "execution_count": null,
   "metadata": {},
   "outputs": [],
   "source": [
    "df_all.to_csv(f'{origin_folder}/all_证据链计算.csv', index=False)"
   ]
  }
 ],
 "metadata": {
  "language_info": {
   "name": "python",
   "codemirror_mode": {
    "name": "ipython",
    "version": 3
   },
   "version": "3.7.3"
  },
  "orig_nbformat": 2.0,
  "file_extension": ".py",
  "mimetype": "text/x-python",
  "name": "python",
  "npconvert_exporter": "python",
  "pygments_lexer": "ipython3",
  "version": 3.0
 },
 "nbformat": 4,
 "nbformat_minor": 2
}
