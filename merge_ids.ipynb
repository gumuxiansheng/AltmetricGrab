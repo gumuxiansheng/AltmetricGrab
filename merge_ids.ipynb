{
 "nbformat": 4,
 "nbformat_minor": 2,
 "metadata": {
  "language_info": {
   "name": "python",
   "codemirror_mode": {
    "name": "ipython",
    "version": 3
   },
   "version": "3.7.4-final"
  },
  "orig_nbformat": 2,
  "file_extension": ".py",
  "mimetype": "text/x-python",
  "name": "python",
  "npconvert_exporter": "python",
  "pygments_lexer": "ipython3",
  "version": 3,
  "kernelspec": {
   "name": "python37464bitbasecondaa13ecd830a5e4b2c806b89eea66c1f7e",
   "display_name": "Python 3.7.4 64-bit ('base': conda)"
  }
 },
 "cells": [
  {
   "cell_type": "code",
   "execution_count": 1,
   "metadata": {},
   "outputs": [],
   "source": [
    "import pandas as pd"
   ]
  },
  {
   "cell_type": "code",
   "execution_count": 2,
   "metadata": {},
   "outputs": [],
   "source": [
    "df_id_dimensions = pd.read_csv('SUSTC_Journals/articles_all/article_ids.csv')\n",
    "df_id_altmetrics = pd.read_csv('SUSTC_Journals/articles_all/article_altmetric_id.csv')\n",
    "df_id_scopus = pd.read_csv('SUSTC_Journals/articles_all/article_scopus_eid.csv')"
   ]
  },
  {
   "cell_type": "code",
   "execution_count": 3,
   "metadata": {},
   "outputs": [
    {
     "data": {
      "text/html": "<div>\n<style scoped>\n    .dataframe tbody tr th:only-of-type {\n        vertical-align: middle;\n    }\n\n    .dataframe tbody tr th {\n        vertical-align: top;\n    }\n\n    .dataframe thead th {\n        text-align: right;\n    }\n</style>\n<table border=\"1\" class=\"dataframe\">\n  <thead>\n    <tr style=\"text-align: right;\">\n      <th></th>\n      <th>SO</th>\n      <th>SO_id</th>\n      <th>DI</th>\n      <th>dimensions_id</th>\n    </tr>\n  </thead>\n  <tbody>\n    <tr>\n      <td>0</td>\n      <td>Journal of Accounting and Economics</td>\n      <td>jour.1138469</td>\n      <td>10.1016/s0165-4101(18)30119-8</td>\n      <td>pub.1110223808</td>\n    </tr>\n    <tr>\n      <td>1</td>\n      <td>Journal of Accounting and Economics</td>\n      <td>jour.1138469</td>\n      <td>10.1016/j.jacceco.2018.08.013</td>\n      <td>pub.1106857635</td>\n    </tr>\n    <tr>\n      <td>2</td>\n      <td>Journal of Accounting and Economics</td>\n      <td>jour.1138469</td>\n      <td>10.1016/j.jacceco.2018.08.002</td>\n      <td>pub.1106857634</td>\n    </tr>\n    <tr>\n      <td>3</td>\n      <td>Journal of Accounting and Economics</td>\n      <td>jour.1138469</td>\n      <td>10.1016/j.jacceco.2018.08.012</td>\n      <td>pub.1106286706</td>\n    </tr>\n    <tr>\n      <td>4</td>\n      <td>Journal of Accounting and Economics</td>\n      <td>jour.1138469</td>\n      <td>10.1016/j.jacceco.2018.08.010</td>\n      <td>pub.1106173025</td>\n    </tr>\n    <tr>\n      <td>...</td>\n      <td>...</td>\n      <td>...</td>\n      <td>...</td>\n      <td>...</td>\n    </tr>\n    <tr>\n      <td>1230625</td>\n      <td>Human Rights Quarterly</td>\n      <td>jour.1026658</td>\n      <td>10.1353/hrq.2014.0048</td>\n      <td>pub.1006571108</td>\n    </tr>\n    <tr>\n      <td>1230626</td>\n      <td>Human Rights Quarterly</td>\n      <td>jour.1026658</td>\n      <td>10.1353/hrq.2014.0044</td>\n      <td>pub.1005959898</td>\n    </tr>\n    <tr>\n      <td>1230627</td>\n      <td>Human Rights Quarterly</td>\n      <td>jour.1026658</td>\n      <td>10.1353/hrq.2014.0025</td>\n      <td>pub.1003816057</td>\n    </tr>\n    <tr>\n      <td>1230628</td>\n      <td>Human Rights Quarterly</td>\n      <td>jour.1026658</td>\n      <td>10.1353/hrq.2014.0034</td>\n      <td>pub.1003560943</td>\n    </tr>\n    <tr>\n      <td>1230629</td>\n      <td>Human Rights Quarterly</td>\n      <td>jour.1026658</td>\n      <td>10.1353/hrq.2014.0053</td>\n      <td>pub.1002941926</td>\n    </tr>\n  </tbody>\n</table>\n<p>1230630 rows × 4 columns</p>\n</div>",
      "text/plain": "                                          SO         SO_id  \\\n0        Journal of Accounting and Economics  jour.1138469   \n1        Journal of Accounting and Economics  jour.1138469   \n2        Journal of Accounting and Economics  jour.1138469   \n3        Journal of Accounting and Economics  jour.1138469   \n4        Journal of Accounting and Economics  jour.1138469   \n...                                      ...           ...   \n1230625               Human Rights Quarterly  jour.1026658   \n1230626               Human Rights Quarterly  jour.1026658   \n1230627               Human Rights Quarterly  jour.1026658   \n1230628               Human Rights Quarterly  jour.1026658   \n1230629               Human Rights Quarterly  jour.1026658   \n\n                                    DI   dimensions_id  \n0        10.1016/s0165-4101(18)30119-8  pub.1110223808  \n1        10.1016/j.jacceco.2018.08.013  pub.1106857635  \n2        10.1016/j.jacceco.2018.08.002  pub.1106857634  \n3        10.1016/j.jacceco.2018.08.012  pub.1106286706  \n4        10.1016/j.jacceco.2018.08.010  pub.1106173025  \n...                                ...             ...  \n1230625          10.1353/hrq.2014.0048  pub.1006571108  \n1230626          10.1353/hrq.2014.0044  pub.1005959898  \n1230627          10.1353/hrq.2014.0025  pub.1003816057  \n1230628          10.1353/hrq.2014.0034  pub.1003560943  \n1230629          10.1353/hrq.2014.0053  pub.1002941926  \n\n[1230630 rows x 4 columns]"
     },
     "execution_count": 3,
     "metadata": {},
     "output_type": "execute_result"
    }
   ],
   "source": [
    "df_id_dimensions"
   ]
  },
  {
   "cell_type": "code",
   "execution_count": 4,
   "metadata": {},
   "outputs": [
    {
     "data": {
      "text/html": "<div>\n<style scoped>\n    .dataframe tbody tr th:only-of-type {\n        vertical-align: middle;\n    }\n\n    .dataframe tbody tr th {\n        vertical-align: top;\n    }\n\n    .dataframe thead th {\n        text-align: right;\n    }\n</style>\n<table border=\"1\" class=\"dataframe\">\n  <thead>\n    <tr style=\"text-align: right;\">\n      <th></th>\n      <th>DI</th>\n      <th>altmetric_id</th>\n    </tr>\n  </thead>\n  <tbody>\n    <tr>\n      <td>0</td>\n      <td>10.1016/j.econlet.2016.10.029</td>\n      <td>NaN</td>\n    </tr>\n    <tr>\n      <td>1</td>\n      <td>10.1177/0952695114566080</td>\n      <td>3265554.0</td>\n    </tr>\n    <tr>\n      <td>2</td>\n      <td>10.1108/ijwhm-10-2014-0045</td>\n      <td>NaN</td>\n    </tr>\n    <tr>\n      <td>3</td>\n      <td>10.1080/02699931.2016.1217828</td>\n      <td>10649084.0</td>\n    </tr>\n    <tr>\n      <td>4</td>\n      <td>10.1080/00913367.2013.857621</td>\n      <td>6417363.0</td>\n    </tr>\n    <tr>\n      <td>...</td>\n      <td>...</td>\n      <td>...</td>\n    </tr>\n    <tr>\n      <td>1230624</td>\n      <td>10.1353/hrq.2014.0048</td>\n      <td>NaN</td>\n    </tr>\n    <tr>\n      <td>1230625</td>\n      <td>10.1353/hrq.2014.0044</td>\n      <td>NaN</td>\n    </tr>\n    <tr>\n      <td>1230626</td>\n      <td>10.1353/hrq.2014.0025</td>\n      <td>NaN</td>\n    </tr>\n    <tr>\n      <td>1230627</td>\n      <td>10.1353/hrq.2014.0034</td>\n      <td>NaN</td>\n    </tr>\n    <tr>\n      <td>1230628</td>\n      <td>10.1353/hrq.2014.0053</td>\n      <td>NaN</td>\n    </tr>\n  </tbody>\n</table>\n<p>1230629 rows × 2 columns</p>\n</div>",
      "text/plain": "                                    DI  altmetric_id\n0        10.1016/j.econlet.2016.10.029           NaN\n1             10.1177/0952695114566080     3265554.0\n2           10.1108/ijwhm-10-2014-0045           NaN\n3        10.1080/02699931.2016.1217828    10649084.0\n4         10.1080/00913367.2013.857621     6417363.0\n...                                ...           ...\n1230624          10.1353/hrq.2014.0048           NaN\n1230625          10.1353/hrq.2014.0044           NaN\n1230626          10.1353/hrq.2014.0025           NaN\n1230627          10.1353/hrq.2014.0034           NaN\n1230628          10.1353/hrq.2014.0053           NaN\n\n[1230629 rows x 2 columns]"
     },
     "execution_count": 4,
     "metadata": {},
     "output_type": "execute_result"
    }
   ],
   "source": [
    "df_id_altmetrics"
   ]
  },
  {
   "cell_type": "code",
   "execution_count": 5,
   "metadata": {},
   "outputs": [
    {
     "data": {
      "text/html": "<div>\n<style scoped>\n    .dataframe tbody tr th:only-of-type {\n        vertical-align: middle;\n    }\n\n    .dataframe tbody tr th {\n        vertical-align: top;\n    }\n\n    .dataframe thead th {\n        text-align: right;\n    }\n</style>\n<table border=\"1\" class=\"dataframe\">\n  <thead>\n    <tr style=\"text-align: right;\">\n      <th></th>\n      <th>doi</th>\n      <th>eid</th>\n    </tr>\n  </thead>\n  <tbody>\n    <tr>\n      <td>0</td>\n      <td>10.1016/s0165-4101(18)30119-8</td>\n      <td>NaN</td>\n    </tr>\n    <tr>\n      <td>1</td>\n      <td>10.1016/j.jacceco.2018.08.013</td>\n      <td>NaN</td>\n    </tr>\n    <tr>\n      <td>2</td>\n      <td>10.1016/j.jacceco.2018.08.002</td>\n      <td>NaN</td>\n    </tr>\n    <tr>\n      <td>3</td>\n      <td>10.1016/j.jacceco.2018.08.012</td>\n      <td>2-s2.0-85052300213</td>\n    </tr>\n    <tr>\n      <td>4</td>\n      <td>10.1016/j.jacceco.2018.08.010</td>\n      <td>NaN</td>\n    </tr>\n    <tr>\n      <td>...</td>\n      <td>...</td>\n      <td>...</td>\n    </tr>\n    <tr>\n      <td>1229964</td>\n      <td>10.1016/j.jmapro.2018.06.001</td>\n      <td>2-s2.0-85047948456</td>\n    </tr>\n    <tr>\n      <td>1229965</td>\n      <td>10.1016/j.jmapro.2018.05.036</td>\n      <td>NaN</td>\n    </tr>\n    <tr>\n      <td>1229966</td>\n      <td>10.1016/j.jmapro.2018.05.035</td>\n      <td>NaN</td>\n    </tr>\n    <tr>\n      <td>1229967</td>\n      <td>10.1016/j.jmapro.2018.05.030</td>\n      <td>NaN</td>\n    </tr>\n    <tr>\n      <td>1229968</td>\n      <td>10.1016/j.jmapro.2018.05.023</td>\n      <td>NaN</td>\n    </tr>\n  </tbody>\n</table>\n<p>1229969 rows × 2 columns</p>\n</div>",
      "text/plain": "                                   doi                 eid\n0        10.1016/s0165-4101(18)30119-8                 NaN\n1        10.1016/j.jacceco.2018.08.013                 NaN\n2        10.1016/j.jacceco.2018.08.002                 NaN\n3        10.1016/j.jacceco.2018.08.012  2-s2.0-85052300213\n4        10.1016/j.jacceco.2018.08.010                 NaN\n...                                ...                 ...\n1229964   10.1016/j.jmapro.2018.06.001  2-s2.0-85047948456\n1229965   10.1016/j.jmapro.2018.05.036                 NaN\n1229966   10.1016/j.jmapro.2018.05.035                 NaN\n1229967   10.1016/j.jmapro.2018.05.030                 NaN\n1229968   10.1016/j.jmapro.2018.05.023                 NaN\n\n[1229969 rows x 2 columns]"
     },
     "execution_count": 5,
     "metadata": {},
     "output_type": "execute_result"
    }
   ],
   "source": [
    "df_id_scopus"
   ]
  },
  {
   "cell_type": "code",
   "execution_count": 7,
   "metadata": {},
   "outputs": [],
   "source": [
    "df = df_id_dimensions.merge(df_id_altmetrics, on='DI')"
   ]
  },
  {
   "cell_type": "code",
   "execution_count": 8,
   "metadata": {},
   "outputs": [],
   "source": [
    "df = df.merge(df_id_scopus, left_on='DI', right_on='doi')"
   ]
  },
  {
   "cell_type": "code",
   "execution_count": 9,
   "metadata": {},
   "outputs": [
    {
     "data": {
      "text/html": "<div>\n<style scoped>\n    .dataframe tbody tr th:only-of-type {\n        vertical-align: middle;\n    }\n\n    .dataframe tbody tr th {\n        vertical-align: top;\n    }\n\n    .dataframe thead th {\n        text-align: right;\n    }\n</style>\n<table border=\"1\" class=\"dataframe\">\n  <thead>\n    <tr style=\"text-align: right;\">\n      <th></th>\n      <th>SO</th>\n      <th>SO_id</th>\n      <th>DI</th>\n      <th>dimensions_id</th>\n      <th>altmetric_id</th>\n      <th>doi</th>\n      <th>eid</th>\n    </tr>\n  </thead>\n  <tbody>\n    <tr>\n      <td>0</td>\n      <td>Journal of Accounting and Economics</td>\n      <td>jour.1138469</td>\n      <td>10.1016/s0165-4101(18)30119-8</td>\n      <td>pub.1110223808</td>\n      <td>NaN</td>\n      <td>10.1016/s0165-4101(18)30119-8</td>\n      <td>NaN</td>\n    </tr>\n    <tr>\n      <td>1</td>\n      <td>Journal of Accounting and Economics</td>\n      <td>jour.1138469</td>\n      <td>10.1016/j.jacceco.2018.08.013</td>\n      <td>pub.1106857635</td>\n      <td>NaN</td>\n      <td>10.1016/j.jacceco.2018.08.013</td>\n      <td>NaN</td>\n    </tr>\n    <tr>\n      <td>2</td>\n      <td>Journal of Accounting and Economics</td>\n      <td>jour.1138469</td>\n      <td>10.1016/j.jacceco.2018.08.002</td>\n      <td>pub.1106857634</td>\n      <td>NaN</td>\n      <td>10.1016/j.jacceco.2018.08.002</td>\n      <td>NaN</td>\n    </tr>\n    <tr>\n      <td>3</td>\n      <td>Journal of Accounting and Economics</td>\n      <td>jour.1138469</td>\n      <td>10.1016/j.jacceco.2018.08.012</td>\n      <td>pub.1106286706</td>\n      <td>47126590.0</td>\n      <td>10.1016/j.jacceco.2018.08.012</td>\n      <td>2-s2.0-85052300213</td>\n    </tr>\n    <tr>\n      <td>4</td>\n      <td>Journal of Accounting and Economics</td>\n      <td>jour.1138469</td>\n      <td>10.1016/j.jacceco.2018.08.010</td>\n      <td>pub.1106173025</td>\n      <td>49466489.0</td>\n      <td>10.1016/j.jacceco.2018.08.010</td>\n      <td>NaN</td>\n    </tr>\n    <tr>\n      <td>...</td>\n      <td>...</td>\n      <td>...</td>\n      <td>...</td>\n      <td>...</td>\n      <td>...</td>\n      <td>...</td>\n      <td>...</td>\n    </tr>\n    <tr>\n      <td>1233123</td>\n      <td>Human Rights Quarterly</td>\n      <td>jour.1026658</td>\n      <td>10.1353/hrq.2014.0048</td>\n      <td>pub.1006571108</td>\n      <td>NaN</td>\n      <td>10.1353/hrq.2014.0048</td>\n      <td>2-s2.0-84908453804</td>\n    </tr>\n    <tr>\n      <td>1233124</td>\n      <td>Human Rights Quarterly</td>\n      <td>jour.1026658</td>\n      <td>10.1353/hrq.2014.0044</td>\n      <td>pub.1005959898</td>\n      <td>NaN</td>\n      <td>10.1353/hrq.2014.0044</td>\n      <td>2-s2.0-84905651252</td>\n    </tr>\n    <tr>\n      <td>1233125</td>\n      <td>Human Rights Quarterly</td>\n      <td>jour.1026658</td>\n      <td>10.1353/hrq.2014.0025</td>\n      <td>pub.1003816057</td>\n      <td>NaN</td>\n      <td>10.1353/hrq.2014.0025</td>\n      <td>2-s2.0-84901001474</td>\n    </tr>\n    <tr>\n      <td>1233126</td>\n      <td>Human Rights Quarterly</td>\n      <td>jour.1026658</td>\n      <td>10.1353/hrq.2014.0034</td>\n      <td>pub.1003560943</td>\n      <td>NaN</td>\n      <td>10.1353/hrq.2014.0034</td>\n      <td>2-s2.0-84905645676</td>\n    </tr>\n    <tr>\n      <td>1233127</td>\n      <td>Human Rights Quarterly</td>\n      <td>jour.1026658</td>\n      <td>10.1353/hrq.2014.0053</td>\n      <td>pub.1002941926</td>\n      <td>NaN</td>\n      <td>10.1353/hrq.2014.0053</td>\n      <td>2-s2.0-84908396807</td>\n    </tr>\n  </tbody>\n</table>\n<p>1233128 rows × 7 columns</p>\n</div>",
      "text/plain": "                                          SO         SO_id  \\\n0        Journal of Accounting and Economics  jour.1138469   \n1        Journal of Accounting and Economics  jour.1138469   \n2        Journal of Accounting and Economics  jour.1138469   \n3        Journal of Accounting and Economics  jour.1138469   \n4        Journal of Accounting and Economics  jour.1138469   \n...                                      ...           ...   \n1233123               Human Rights Quarterly  jour.1026658   \n1233124               Human Rights Quarterly  jour.1026658   \n1233125               Human Rights Quarterly  jour.1026658   \n1233126               Human Rights Quarterly  jour.1026658   \n1233127               Human Rights Quarterly  jour.1026658   \n\n                                    DI   dimensions_id  altmetric_id  \\\n0        10.1016/s0165-4101(18)30119-8  pub.1110223808           NaN   \n1        10.1016/j.jacceco.2018.08.013  pub.1106857635           NaN   \n2        10.1016/j.jacceco.2018.08.002  pub.1106857634           NaN   \n3        10.1016/j.jacceco.2018.08.012  pub.1106286706    47126590.0   \n4        10.1016/j.jacceco.2018.08.010  pub.1106173025    49466489.0   \n...                                ...             ...           ...   \n1233123          10.1353/hrq.2014.0048  pub.1006571108           NaN   \n1233124          10.1353/hrq.2014.0044  pub.1005959898           NaN   \n1233125          10.1353/hrq.2014.0025  pub.1003816057           NaN   \n1233126          10.1353/hrq.2014.0034  pub.1003560943           NaN   \n1233127          10.1353/hrq.2014.0053  pub.1002941926           NaN   \n\n                                   doi                 eid  \n0        10.1016/s0165-4101(18)30119-8                 NaN  \n1        10.1016/j.jacceco.2018.08.013                 NaN  \n2        10.1016/j.jacceco.2018.08.002                 NaN  \n3        10.1016/j.jacceco.2018.08.012  2-s2.0-85052300213  \n4        10.1016/j.jacceco.2018.08.010                 NaN  \n...                                ...                 ...  \n1233123          10.1353/hrq.2014.0048  2-s2.0-84908453804  \n1233124          10.1353/hrq.2014.0044  2-s2.0-84905651252  \n1233125          10.1353/hrq.2014.0025  2-s2.0-84901001474  \n1233126          10.1353/hrq.2014.0034  2-s2.0-84905645676  \n1233127          10.1353/hrq.2014.0053  2-s2.0-84908396807  \n\n[1233128 rows x 7 columns]"
     },
     "execution_count": 9,
     "metadata": {},
     "output_type": "execute_result"
    }
   ],
   "source": [
    "df"
   ]
  },
  {
   "cell_type": "code",
   "execution_count": 11,
   "metadata": {},
   "outputs": [],
   "source": [
    "df = df.drop_duplicates()"
   ]
  },
  {
   "source": [
    "df = df.drop(columns=['DI'])"
   ],
   "cell_type": "code",
   "outputs": [],
   "metadata": {},
   "execution_count": 14
  },
  {
   "source": [
    "df.to_csv('SUSTC_Journals/articles_all/article_ids.csv', index=False)"
   ],
   "cell_type": "code",
   "outputs": [],
   "metadata": {},
   "execution_count": 17
  },
  {
   "cell_type": "code",
   "execution_count": null,
   "metadata": {},
   "outputs": [],
   "source": []
  }
 ]
}