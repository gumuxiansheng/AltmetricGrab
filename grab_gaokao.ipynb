{
 "nbformat": 4,
 "nbformat_minor": 2,
 "metadata": {
  "language_info": {
   "name": "python",
   "codemirror_mode": {
    "name": "ipython",
    "version": 3
   },
   "version": "3.7.4"
  },
  "orig_nbformat": 2,
  "file_extension": ".py",
  "mimetype": "text/x-python",
  "name": "python",
  "npconvert_exporter": "python",
  "pygments_lexer": "ipython3",
  "version": 3
 },
 "cells": [
  {
   "cell_type": "code",
   "execution_count": 1,
   "metadata": {},
   "outputs": [],
   "source": [
    "import pandas as pd\n",
    "import numpy as np\n",
    "import urllib\n",
    "import requests\n",
    "import json\n",
    "import re\n",
    "from bs4 import BeautifulSoup\n",
    "import threading\n",
    "\n",
    "from requests import ConnectionError, ReadTimeout\n",
    "\n",
    "class Request(object):\n",
    "    def __init__(self, request_session):\n",
    "        self.request_session = request_session\n",
    "    \n",
    "    def get(self, url, headers={'Accept': '* / *',\n",
    "               'Accept-Language': 'zh-TW, zh; q=0.9, en-US; q=0.8, en; q=0.7, zh-CN; q=0.6',\n",
    "               'User-Agent': 'Mozilla/5.0 (Macintosh; Intel Mac OS X 10_14_1) AppleWebKit/537.36 (KHTML, like Gecko) Chrome/72.0.3610.2 Safari/537.36'\n",
    "               }, timeout=10, allow_redirects=False):\n",
    "        try:\n",
    "            print(url)\n",
    "            headers['Host'] = urllib.request.splithost(urllib.request.splittype(url)[1])[0]\n",
    "            res = self.request_session.get(url, headers=headers, timeout=timeout, allow_redirects=allow_redirects)\n",
    "        except ConnectionError as ce:\n",
    "            print('ConnectionError: ' + str(ce))\n",
    "            return self.get(url=url, headers=headers, timeout=timeout, allow_redirects=allow_redirects)\n",
    "        except ReadTimeout as rte:\n",
    "            print('ReadTimeout: ' + str(rte))\n",
    "            return self.get(url=url, headers=headers, timeout=timeout, allow_redirects=allow_redirects)\n",
    "\n",
    "        return res\n",
    "    \n",
    "    def post(self, url, data, headers={'Accept': '* / *',\n",
    "               'Accept-Language': 'zh-TW, zh; q=0.9, en-US; q=0.8, en; q=0.7, zh-CN; q=0.6',\n",
    "               'User-Agent': 'Mozilla/5.0 (Macintosh; Intel Mac OS X 10_14_1) AppleWebKit/537.36 (KHTML, like Gecko) Chrome/72.0.3610.2 Safari/537.36'\n",
    "               }, timeout=10, allow_redirects=False):\n",
    "        try:\n",
    "            headers['host'] = urllib.request.splithost(urllib.request.splittype(url)[1])[0]\n",
    "            res = self.request_session.post(url, data=data, headers=headers, timeout=timeout, allow_redirects=allow_redirects)\n",
    "        except ConnectionError as ce:\n",
    "            print('ConnectionError: ' + str(ce))\n",
    "            return self.post(url=url, data=data, headers=headers, timeout=timeout, allow_redirects=allow_redirects)\n",
    "        except ReadTimeout as rte:\n",
    "            print('ReadTimeout: ' + str(rte))\n",
    "            return self.post(url=url, data=data, headers=headers, timeout=timeout, allow_redirects=allow_redirects)\n",
    "\n",
    "        return res\n",
    "\n",
    "    def get_cookie_dict(self):\n",
    "        return requests.utils.dict_from_cookiejar(self.request_session.cookies)\n",
    "\n",
    "    def clear_cookie(self):\n",
    "        self.request_session.cookies.clear()"
   ]
  },
  {
   "cell_type": "code",
   "metadata": {},
   "outputs": [],
   "source": [
    "df_colleges = pd.DataFrame()"
   ]
  },
  {
   "cell_type": "code",
   "metadata": {},
   "outputs": [],
   "source": [
    "page_size = 20\n",
    "for page in range(0, 60):\n",
    "    url = f'https://gaokao.chsi.com.cn/zyk/pub/myd/specAppraisalTop.action?xlcc=bk&start={page*page_size}'\n",
    "    req = Request(requests.Session())\n",
    "\n",
    "    res = req.get(url, timeout=20)\n",
    "\n",
    "    soup = BeautifulSoup(res.text, 'html.parser')\n",
    "    query_result = soup.find(id = 'queryResult')\n",
    "    query_result = query_result.findChildren('tr')\n",
    "\n",
    "    for item in query_result:\n",
    "        a = item.find('a', title='点击查看院校信息')\n",
    "        if a == None:\n",
    "            continue\n",
    "        df_college = pd.DataFrame()\n",
    "        df_college['Name'] = [a.string.strip()]\n",
    "        df_college['DetailUrl'] = [a['href']]\n",
    "\n",
    "        a = item.find('a', attrs={'class':'check_detail'})\n",
    "        df_college['SpecialtyDetailUrl'] = [a['href']]\n",
    "\n",
    "        df_colleges = df_colleges.append(df_college, ignore_index=True)"
   ]
  },
  {
   "cell_type": "code",
   "metadata": {},
   "outputs": [],
   "source": [
    "df_colleges"
   ]
  },
  {
   "cell_type": "code",
   "metadata": {},
   "outputs": [],
   "source": [
    "df_colleges.to_csv('SUSTC_Journals/本科院校名录.csv', index=False)"
   ]
  },
  {
   "cell_type": "code",
   "metadata": {},
   "outputs": [],
   "source": [
    "req = Request(requests.Session())"
   ]
  },
  {
   "cell_type": "code",
   "metadata": {},
   "outputs": [],
   "source": [
    "df_specialties = pd.DataFrame()"
   ]
  },
  {
   "cell_type": "code",
   "metadata": {},
   "outputs": [],
   "source": [
    "%%time\n",
    "for i in range(0, len(df_colleges)):\n",
    "    if df_colleges.iloc[i]['Name'] in list(df_specialties['CollegeName']):\n",
    "        continue\n",
    "    url = 'https://gaokao.chsi.com.cn' + df_colleges.iloc[i]['SpecialtyDetailUrl']\n",
    "    res = req.get(url, timeout=40)\n",
    "\n",
    "    soup = BeautifulSoup(res.text, 'html.parser')\n",
    "    query_result = soup.find(id = 'queryResult')\n",
    "    query_result = query_result.findChildren('tr', align='left')\n",
    "\n",
    "    # satisfy_cats = ['综合', '办学', '教学', '就业']\n",
    "    satisfy_cats = ['Zonghe', 'Banxue', 'Jiaoxue', 'Jiuye']\n",
    "\n",
    "    for item in query_result:\n",
    "        td = item.find('td', attrs={'class':'first_td'})\n",
    "        if td == None:\n",
    "            continue\n",
    "        df_specialty = pd.DataFrame()\n",
    "        df_specialty['CollegeName'] = [df_colleges.iloc[i]['Name']]\n",
    "        df_specialty['Specialty'] = [td.string.strip()]\n",
    "\n",
    "        query_subs = item.findAll('table', attrs={'class':'zymydMoreTable'})\n",
    "\n",
    "        for index, sub in enumerate(query_subs):\n",
    "            satisfy_cat = satisfy_cats[index]\n",
    "            avg_rank = sub.find('span', attrs={'class':'avg_rank'})\n",
    "            if (avg_rank != None) and (avg_rank.string != None):\n",
    "                df_specialty[f'{satisfy_cat}_avg_rank'] = [avg_rank.string.strip()]\n",
    "\n",
    "            vote_num_detail = sub.find('span', attrs={'class':'vote_num_detail'})\n",
    "            if (vote_num_detail != None) and (vote_num_detail.string != None): \n",
    "                df_specialty[f'{satisfy_cat}_vote_num'] = [vote_num_detail.string.strip()]\n",
    "\n",
    "            sub_ratings = sub.findAll('div', attrs={'class':'progress_bar'})\n",
    "            for sub_index, sub_rating in enumerate(sub_ratings):\n",
    "                df_specialty[f'{satisfy_cat}_{5-sub_index}_star_percent'] = [sub_ratings[sub_index]['style'].split(':')[1].strip()[:-1]]\n",
    "\n",
    "        df_specialties = df_specialties.append(df_specialty, ignore_index=True)"
   ]
  },
  {
   "cell_type": "code",
   "metadata": {},
   "outputs": [],
   "source": [
    "df_specialties"
   ]
  },
  {
   "cell_type": "code",
   "metadata": {},
   "outputs": [],
   "source": [
    "df_specialties.to_csv('SUSTC_Journals/本科院校专业满意度.csv', index=False)"
   ]
  },
  {
   "cell_type": "code",
   "metadata": {},
   "outputs": [],
   "source": [
    "df_specialties['Specialty'].unique()"
   ]
  },
  {
   "cell_type": "markdown",
   "metadata": {},
   "outputs": [],
   "source": [
    "# 高考网专业分数线"
   ]
  },
  {
   "cell_type": "code",
   "execution_count": 2,
   "metadata": {},
   "outputs": [],
   "source": [
    "req = Request(requests.Session())\n",
    "col_names = ['Specialty Name', 'College Name', 'Average Grade', 'Max Grade', 'Region', 'Category', 'Year', 'Level']\n"
   ]
  },
  {
   "cell_type": "code",
   "execution_count": 3,
   "metadata": {},
   "outputs": [],
   "source": [
    "def grab_grades(year):\n",
    "    df_grade = pd.DataFrame()\n",
    "    total_page = 25000\n",
    "    for page in range(1, 15000):\n",
    "        if page > total_page:\n",
    "            break\n",
    "        url = f'http://college.gaokao.com/spepoint/y{year}/p{page}'\n",
    "        res = req.get(url, timeout=20)\n",
    "        req.clear_cookie()\n",
    "        soup = BeautifulSoup(res.text, 'html.parser')\n",
    "\n",
    "        if total_page > 24000:\n",
    "            query_result = soup.find(id='qx')\n",
    "            if query_result != None\n",
    "                total_page = int(query_result.find(id='pagenum').previousSibling.string.split('/')[1].split('页')[0])\n",
    "                \n",
    "        query_result = soup.findChildren('tr', attrs={'class':re.compile('sz*')})\n",
    "\n",
    "        for item in query_result:\n",
    "            df_gradex = pd.DataFrame()\n",
    "            subs = item.find_all('td')\n",
    "            for index in range(0, 7):\n",
    "                df_gradex[col_names[index]] = [subs[index].string]\n",
    "            df_grade = df_grade.append(df_gradex, ignore_index=True)\n",
    "\n",
    "        if (page % 200 == 0) or (page == total_page):\n",
    "            df_grade.to_csv(f'SUSTC_Journals/本科院校专业录取分数线{year}_{page}.csv', index=False)\n",
    "            df_grade = pd.DataFrame()"
   ]
  },
  {
   "cell_type": "code",
   "execution_count": 4,
   "metadata": {},
   "outputs": [
    {
     "name": "stdout",
     "output_type": "stream",
     "text": "//college.gaokao.com/spepoint/y2008/p50\nhttp://college.gaokao.com/spepoint/y2010/p54\nhttp://college.gaokao.com/spepoint/y2014/p52\nhttp://college.gaokao.com/spepoint/y2016/p54\nhttp://college.gaokao.com/spepoint/y2008/p51\nhttp://college.gaokao.com/spepoint/y2015/p53\nhttp://college.gaokao.com/spepoint/y2012/p54\nhttp://college.gaokao.com/spepoint/y2009/p55\nhttp://college.gaokao.com/spepoint/y2007/p57\nhttp://college.gaokao.com/spepoint/y2013/p59\nhttp://college.gaokao.com/spepoint/y2008/p52\nhttp://college.gaokao.com/spepoint/y2011/p49\nhttp://college.gaokao.com/spepoint/y2017/p54\nhttp://college.gaokao.com/spepoint/y2014/p53\nhttp://college.gaokao.com/spepoint/y2011/p50http://college.gaokao.com/spepoint/y2013/p60\n\nhttp://college.gaokao.com/spepoint/y2008/p53\nhttp://college.gaokao.com/spepoint/y2010/p55\nhttp://college.gaokao.com/spepoint/y2015/p54\nhttp://college.gaokao.com/spepoint/y2016/p55\nhttp://college.gaokao.com/spepoint/y2011/p51\nhttp://college.gaokao.com/spepoint/y2013/p61\nhttp://college.gaokao.com/spepoint/y2007/p58\nhttp://college.gaokao.com/spepoint/y2014/p54\nhttp://college.gaokao.com/spepoint/y2012/p55\nhttp://college.gaokao.com/spepoint/y2011/p52http://college.gaokao.com/spepoint/y2009/p56\n\nhttp://college.gaokao.com/spepoint/y2017/p55\nhttp://college.gaokao.com/spepoint/y2013/p62\nhttp://college.gaokao.com/spepoint/y2008/p54\nhttp://college.gaokao.com/spepoint/y2011/p53\nhttp://college.gaokao.com/spepoint/y2007/p59\nhttp://college.gaokao.com/spepoint/y2015/p55\nhttp://college.gaokao.com/spepoint/y2013/p63\nhttp://college.gaokao.com/spepoint/y2010/p56\nhttp://college.gaokao.com/spepoint/y2016/p56\nhttp://college.gaokao.com/spepoint/y2014/p55\nhttp://college.gaokao.com/spepoint/y2016/p57\nException in thread Thread2014:\nTraceback (most recent call last):\n  File \"E:\\ProgramData\\Anaconda3\\lib\\threading.py\", line 926, in _bootstrap_inner\n    self.run()\n  File \"E:\\ProgramData\\Anaconda3\\lib\\threading.py\", line 870, in run\n    self._target(*self._args, **self._kwargs)\n  File \"<ipython-input-3-a957524e00ad>\", line 14, in grab_grades\n    total_page = int(query_result.find(id='pagenum').previousSibling.string.split('/')[1].split('页')[0])\nAttributeError: 'NoneType' object has no attribute 'find'\n\nhttp://college.gaokao.com/spepoint/y2012/p56\nhttp://college.gaokao.com/spepoint/y2007/p60\nhttp://college.gaokao.com/spepoint/y2009/p57\nhttp://college.gaokao.com/spepoint/y2008/p55\nhttp://college.gaokao.com/spepoint/y2011/p54\nhttp://college.gaokao.com/spepoint/y2007/p61\nhttp://college.gaokao.com/spepoint/y2017/p56\nhttp://college.gaokao.com/spepoint/y2013/p64\nhttp://college.gaokao.com/spepoint/y2007/p62\nhttp://college.gaokao.com/spepoint/y2015/p56\nhttp://college.gaokao.com/spepoint/y2016/p58\nhttp://college.gaokao.com/spepoint/y2010/p57\nhttp://college.gaokao.com/spepoint/y2007/p63\nhttp://college.gaokao.com/spepoint/y2009/p58\nhttp://college.gaokao.com/spepoint/y2012/p57\nhttp://college.gaokao.com/spepoint/y2011/p55\nhttp://college.gaokao.com/spepoint/y2013/p65\nhttp://college.gaokao.com/spepoint/y2008/p56\nhttp://college.gaokao.com/spepoint/y2017/p57\nhttp://college.gaokao.com/spepoint/y2016/p59\nhttp://college.gaokao.com/spepoint/y2007/p64\nhttp://college.gaokao.com/spepoint/y2015/p57\nhttp://college.gaokao.com/spepoint/y2009/p59\nhttp://college.gaokao.com/spepoint/y2010/p58\nhttp://college.gaokao.com/spepoint/y2012/p58\nhttp://college.gaokao.com/spepoint/y2016/p60\nhttp://college.gaokao.com/spepoint/y2013/p66\nhttp://college.gaokao.com/spepoint/y2009/p60\nhttp://college.gaokao.com/spepoint/y2016/p61\nhttp://college.gaokao.com/spepoint/y2017/p58\nhttp://college.gaokao.com/spepoint/y2011/p56\nhttp://college.gaokao.com/spepoint/y2009/p61\nhttp://college.gaokao.com/spepoint/y2007/p65\nhttp://college.gaokao.com/spepoint/y2016/p62\nhttp://college.gaokao.com/spepoint/y2008/p57\nhttp://college.gaokao.com/spepoint/y2015/p58\nhttp://college.gaokao.com/spepoint/y2012/p59\nhttp://college.gaokao.com/spepoint/y2009/p62\nhttp://college.gaokao.com/spepoint/y2010/p59\nhttp://college.gaokao.com/spepoint/y2017/p59\nhttp://college.gaokao.com/spepoint/y2016/p63\nhttp://college.gaokao.com/spepoint/y2012/p60\nhttp://college.gaokao.com/spepoint/y2009/p63\nhttp://college.gaokao.com/spepoint/y2015/p59\nhttp://college.gaokao.com/spepoint/y2010/p60\nhttp://college.gaokao.com/spepoint/y2013/p67\nhttp://college.gaokao.com/spepoint/y2012/p61\nhttp://college.gaokao.com/spepoint/y2017/p60\nhttp://college.gaokao.com/spepoint/y2007/p66\nhttp://college.gaokao.com/spepoint/y2010/p61\nhttp://college.gaokao.com/spepoint/y2008/p58\nhttp://college.gaokao.com/spepoint/y2011/p57\nhttp://college.gaokao.com/spepoint/y2012/p62\nhttp://college.gaokao.com/spepoint/y2017/p61\nhttp://college.gaokao.com/spepoint/y2015/p60\nhttp://college.gaokao.com/spepoint/y2010/p62\nhttp://college.gaokao.com/spepoint/y2016/p64\nhttp://college.gaokao.com/spepoint/y2009/p64\nhttp://college.gaokao.com/spepoint/y2017/p62\nhttp://college.gaokao.com/spepoint/y2015/p61\nhttp://college.gaokao.com/spepoint/y2012/p63\nhttp://college.gaokao.com/spepoint/y2010/p63http://college.gaokao.com/spepoint/y2013/p68\n\nhttp://college.gaokao.com/spepoint/y2008/p59\nhttp://college.gaokao.com/spepoint/y2015/p62\nhttp://college.gaokao.com/spepoint/y2017/p63\nhttp://college.gaokao.com/spepoint/y2011/p58\nhttp://college.gaokao.com/spepoint/y2007/p67\nhttp://college.gaokao.com/spepoint/y2016/p65\nhttp://college.gaokao.com/spepoint/y2008/p60\nhttp://college.gaokao.com/spepoint/y2015/p63\nhttp://college.gaokao.com/spepoint/y2012/p64\nhttp://college.gaokao.com/spepoint/y2009/p65\nhttp://college.gaokao.com/spepoint/y2013/p69\nhttp://college.gaokao.com/spepoint/y2010/p64\nhttp://college.gaokao.com/spepoint/y2008/p61\nhttp://college.gaokao.com/spepoint/y2017/p64\nhttp://college.gaokao.com/spepoint/y2011/p59\nhttp://college.gaokao.com/spepoint/y2008/p62\nhttp://college.gaokao.com/spepoint/y2015/p64\nhttp://college.gaokao.com/spepoint/y2013/p70\nhttp://college.gaokao.com/spepoint/y2007/p68\nhttp://college.gaokao.com/spepoint/y2011/p60\nhttp://college.gaokao.com/spepoint/y2013/p71\nhttp://college.gaokao.com/spepoint/y2012/p65\nhttp://college.gaokao.com/spepoint/y2016/p66http://college.gaokao.com/spepoint/y2008/p63\n\nhttp://college.gaokao.com/spepoint/y2013/p72http://college.gaokao.com/spepoint/y2010/p65\n\nhttp://college.gaokao.com/spepoint/y2009/p66http://college.gaokao.com/spepoint/y2011/p61\n\nhttp://college.gaokao.com/spepoint/y2017/p65\nhttp://college.gaokao.com/spepoint/y2011/p62\nhttp://college.gaokao.com/spepoint/y2015/p65\nhttp://college.gaokao.com/spepoint/y2007/p69\nhttp://college.gaokao.com/spepoint/y2013/p73\nhttp://college.gaokao.com/spepoint/y2008/p64\nhttp://college.gaokao.com/spepoint/y2012/p66\nhttp://college.gaokao.com/spepoint/y2011/p63\nhttp://college.gaokao.com/spepoint/y2007/p70\nhttp://college.gaokao.com/spepoint/y2016/p67\nhttp://college.gaokao.com/spepoint/y2013/p74\nhttp://college.gaokao.com/spepoint/y2007/p71\nhttp://college.gaokao.com/spepoint/y2017/p66\nhttp://college.gaokao.com/spepoint/y2009/p67\nhttp://college.gaokao.com/spepoint/y2010/p66\nhttp://college.gaokao.com/spepoint/y2008/p65\nhttp://college.gaokao.com/spepoint/y2007/p72http://college.gaokao.com/spepoint/y2015/p66\n\nhttp://college.gaokao.com/spepoint/y2011/p64\nhttp://college.gaokao.com/spepoint/y2016/p68\nhttp://college.gaokao.com/spepoint/y2012/p67http://college.gaokao.com/spepoint/y2013/p75\n\nhttp://college.gaokao.com/spepoint/y2007/p73\nhttp://college.gaokao.com/spepoint/y2009/p68\nhttp://college.gaokao.com/spepoint/y2017/p67\nhttp://college.gaokao.com/spepoint/y2015/p67\nhttp://college.gaokao.com/spepoint/y2011/p65\nhttp://college.gaokao.com/spepoint/y2010/p67\nhttp://college.gaokao.com/spepoint/y2008/p66\nhttp://college.gaokao.com/spepoint/y2016/p69\nhttp://college.gaokao.com/spepoint/y2007/p74\nhttp://college.gaokao.com/spepoint/y2007/p75\nhttp://college.gaokao.com/spepoint/y2007/p76\nhttp://college.gaokao.com/spepoint/y2007/p77\nhttp://college.gaokao.com/spepoint/y2007/p78\nhttp://college.gaokao.com/spepoint/y2007/p79\nhttp://college.gaokao.com/spepoint/y2007/p80\nhttp://college.gaokao.com/spepoint/y2007/p81\nhttp://college.gaokao.com/spepoint/y2009/p69\nhttp://college.gaokao.com/spepoint/y2012/p68\nhttp://college.gaokao.com/spepoint/y2013/p76\nhttp://college.gaokao.com/spepoint/y2016/p70\nhttp://college.gaokao.com/spepoint/y2007/p82\nhttp://college.gaokao.com/spepoint/y2009/p70\nhttp://college.gaokao.com/spepoint/y2017/p68\nhttp://college.gaokao.com/spepoint/y2016/p71\nhttp://college.gaokao.com/spepoint/y2009/p71\nhttp://college.gaokao.com/spepoint/y2010/p68http://college.gaokao.com/spepoint/y2015/p68\n\nhttp://college.gaokao.com/spepoint/y2016/p72\nhttp://college.gaokao.com/spepoint/y2007/p83\nhttp://college.gaokao.com/spepoint/y2011/p66\nhttp://college.gaokao.com/spepoint/y2012/p69\nhttp://college.gaokao.com/spepoint/y2008/p67\nhttp://college.gaokao.com/spepoint/y2009/p72\nhttp://college.gaokao.com/spepoint/y2017/p69\nhttp://college.gaokao.com/spepoint/y2016/p73\nhttp://college.gaokao.com/spepoint/y2010/p69\nhttp://college.gaokao.com/spepoint/y2015/p69\nhttp://college.gaokao.com/spepoint/y2013/p77\nhttp://college.gaokao.com/spepoint/y2009/p73\nhttp://college.gaokao.com/spepoint/y2012/p70\nhttp://college.gaokao.com/spepoint/y2007/p84\nhttp://college.gaokao.com/spepoint/y2017/p70\nhttp://college.gaokao.com/spepoint/y2012/p71\nhttp://college.gaokao.com/spepoint/y2008/p68\nhttp://college.gaokao.com/spepoint/y2010/p70\nhttp://college.gaokao.com/spepoint/y2017/p71\nhttp://college.gaokao.com/spepoint/y2015/p70\nhttp://college.gaokao.com/spepoint/y2011/p67\nhttp://college.gaokao.com/spepoint/y2016/p74\nhttp://college.gaokao.com/spepoint/y2012/p72\nhttp://college.gaokao.com/spepoint/y2010/p71\nhttp://college.gaokao.com/spepoint/y2015/p71\nhttp://college.gaokao.com/spepoint/y2017/p72\nhttp://college.gaokao.com/spepoint/y2009/p74\nhttp://college.gaokao.com/spepoint/y2010/p72\nhttp://college.gaokao.com/spepoint/y2015/p72\nhttp://college.gaokao.com/spepoint/y2007/p85\nhttp://college.gaokao.com/spepoint/y2013/p78\nhttp://college.gaokao.com/spepoint/y2008/p69\nhttp://college.gaokao.com/spepoint/y2012/p73\nhttp://college.gaokao.com/spepoint/y2017/p73\nhttp://college.gaokao.com/spepoint/y2016/p75\nhttp://college.gaokao.com/spepoint/y2011/p68\nhttp://college.gaokao.com/spepoint/y2010/p73\nhttp://college.gaokao.com/spepoint/y2015/p73\nhttp://college.gaokao.com/spepoint/y2008/p70\nhttp://college.gaokao.com/spepoint/y2009/p75\nhttp://college.gaokao.com/spepoint/y2012/p74http://college.gaokao.com/spepoint/y2013/p79\n\nhttp://college.gaokao.com/spepoint/y2008/p71\nhttp://college.gaokao.com/spepoint/y2017/p74\nhttp://college.gaokao.com/spepoint/y2007/p86\nhttp://college.gaokao.com/spepoint/y2011/p69\nhttp://college.gaokao.com/spepoint/y2008/p72\nhttp://college.gaokao.com/spepoint/y2010/p74\nhttp://college.gaokao.com/spepoint/y2015/p74\nhttp://college.gaokao.com/spepoint/y2013/p80\nhttp://college.gaokao.com/spepoint/y2013/p81\nhttp://college.gaokao.com/spepoint/y2011/p70\nhttp://college.gaokao.com/spepoint/y2016/p76\nhttp://college.gaokao.com/spepoint/y2008/p73\nhttp://college.gaokao.com/spepoint/y2012/p75\nhttp://college.gaokao.com/spepoint/y2009/p76\nhttp://college.gaokao.com/spepoint/y2017/p75\nhttp://college.gaokao.com/spepoint/y2011/p71\nhttp://college.gaokao.com/spepoint/y2013/p82\nhttp://college.gaokao.com/spepoint/y2015/p75\nhttp://college.gaokao.com/spepoint/y2010/p75\nhttp://college.gaokao.com/spepoint/y2007/p87\nhttp://college.gaokao.com/spepoint/y2011/p72\nhttp://college.gaokao.com/spepoint/y2008/p74\nhttp://college.gaokao.com/spepoint/y2013/p83\nhttp://college.gaokao.com/spepoint/y2011/p73\nhttp://college.gaokao.com/spepoint/y2016/p77\nhttp://college.gaokao.com/spepoint/y2012/p76\nhttp://college.gaokao.com/spepoint/y2009/p77\nhttp://college.gaokao.com/spepoint/y2017/p76\nhttp://college.gaokao.com/spepoint/y2007/p88\nhttp://college.gaokao.com/spepoint/y2015/p76http://college.gaokao.com/spepoint/y2010/p76\n\nhttp://college.gaokao.com/spepoint/y2013/p84\nhttp://college.gaokao.com/spepoint/y2008/p75\nhttp://college.gaokao.com/spepoint/y2011/p74\nhttp://college.gaokao.com/spepoint/y2016/p78\nhttp://college.gaokao.com/spepoint/y2009/p78\nhttp://college.gaokao.com/spepoint/y2007/p89\nhttp://college.gaokao.com/spepoint/y2013/p85\nhttp://college.gaokao.com/spepoint/y2012/p77\nhttp://college.gaokao.com/spepoint/y2017/p77\nhttp://college.gaokao.com/spepoint/y2007/p90\nhttp://college.gaokao.com/spepoint/y2015/p77\nhttp://college.gaokao.com/spepoint/y2008/p76\nhttp://college.gaokao.com/spepoint/y2010/p77\nhttp://college.gaokao.com/spepoint/y2011/p75\nhttp://college.gaokao.com/spepoint/y2007/p91\nhttp://college.gaokao.com/spepoint/y2009/p79\nhttp://college.gaokao.com/spepoint/y2016/p79\nhttp://college.gaokao.com/spepoint/y2007/p92\nhttp://college.gaokao.com/spepoint/y2009/p80\nhttp://college.gaokao.com/spepoint/y2012/p78\nhttp://college.gaokao.com/spepoint/y2017/p78\nhttp://college.gaokao.com/spepoint/y2016/p80\nhttp://college.gaokao.com/spepoint/y2013/p86\nhttp://college.gaokao.com/spepoint/y2007/p93\nhttp://college.gaokao.com/spepoint/y2015/p78\nhttp://college.gaokao.com/spepoint/y2016/p81http://college.gaokao.com/spepoint/y2009/p81\n\nhttp://college.gaokao.com/spepoint/y2010/p78\nhttp://college.gaokao.com/spepoint/y2008/p77\nhttp://college.gaokao.com/spepoint/y2011/p76\nhttp://college.gaokao.com/spepoint/y2009/p82http://college.gaokao.com/spepoint/y2016/p82\n\nhttp://college.gaokao.com/spepoint/y2017/p79\nhttp://college.gaokao.com/spepoint/y2012/p79\nhttp://college.gaokao.com/spepoint/y2007/p94\nhttp://college.gaokao.com/spepoint/y2015/p79\nhttp://college.gaokao.com/spepoint/y2009/p83\nhttp://college.gaokao.com/spepoint/y2009/p84\nhttp://college.gaokao.com/spepoint/y2009/p85\nhttp://college.gaokao.com/spepoint/y2009/p86\nhttp://college.gaokao.com/spepoint/y2016/p83\nhttp://college.gaokao.com/spepoint/y2010/p79\nhttp://college.gaokao.com/spepoint/y2017/p80\nhttp://college.gaokao.com/spepoint/y2012/p80\nhttp://college.gaokao.com/spepoint/y2013/p87http://college.gaokao.com/spepoint/y2008/p78\n\nhttp://college.gaokao.com/spepoint/y2015/p80\nhttp://college.gaokao.com/spepoint/y2012/p81\nhttp://college.gaokao.com/spepoint/y2017/p81\nhttp://college.gaokao.com/spepoint/y2010/p80\nhttp://college.gaokao.com/spepoint/y2015/p81http://college.gaokao.com/spepoint/y2012/p82\n\nhttp://college.gaokao.com/spepoint/y2016/p84\nhttp://college.gaokao.com/spepoint/y2007/p95http://college.gaokao.com/spepoint/y2017/p82\nhttp://college.gaokao.com/spepoint/y2011/p77\n\nhttp://college.gaokao.com/spepoint/y2010/p81\nhttp://college.gaokao.com/spepoint/y2015/p82\nhttp://college.gaokao.com/spepoint/y2008/p79\nhttp://college.gaokao.com/spepoint/y2013/p88\nhttp://college.gaokao.com/spepoint/y2017/p83\nhttp://college.gaokao.com/spepoint/y2010/p82\nhttp://college.gaokao.com/spepoint/y2009/p87\nhttp://college.gaokao.com/spepoint/y2012/p83\nhttp://college.gaokao.com/spepoint/y2008/p80http://college.gaokao.com/spepoint/y2015/p83\n\nhttp://college.gaokao.com/spepoint/y2010/p83\nhttp://college.gaokao.com/spepoint/y2011/p78\nhttp://college.gaokao.com/spepoint/y2016/p85\nhttp://college.gaokao.com/spepoint/y2008/p81\nhttp://college.gaokao.com/spepoint/y2013/p89\nhttp://college.gaokao.com/spepoint/y2017/p84http://college.gaokao.com/spepoint/y2007/p96\n\nhttp://college.gaokao.com/spepoint/y2012/p84\nhttp://college.gaokao.com/spepoint/y2008/p82\nhttp://college.gaokao.com/spepoint/y2009/p88\nhttp://college.gaokao.com/spepoint/y2015/p84\nhttp://college.gaokao.com/spepoint/y2010/p84\nhttp://college.gaokao.com/spepoint/y2013/p90\nhttp://college.gaokao.com/spepoint/y2011/p79\nhttp://college.gaokao.com/spepoint/y2008/p83\nhttp://college.gaokao.com/spepoint/y2013/p91\nhttp://college.gaokao.com/spepoint/y2009/p89\nhttp://college.gaokao.com/spepoint/y2016/p86\nhttp://college.gaokao.com/spepoint/y2013/p92\nhttp://college.gaokao.com/spepoint/y2011/p80\nhttp://college.gaokao.com/spepoint/y2017/p85\nhttp://college.gaokao.com/spepoint/y2012/p85\nhttp://college.gaokao.com/spepoint/y2015/p85\nhttp://college.gaokao.com/spepoint/y2011/p81\nhttp://college.gaokao.com/spepoint/y2007/p97\nhttp://college.gaokao.com/spepoint/y2008/p84\nhttp://college.gaokao.com/spepoint/y2010/p85\nhttp://college.gaokao.com/spepoint/y2009/p90\nhttp://college.gaokao.com/spepoint/y2013/p93\nhttp://college.gaokao.com/spepoint/y2011/p82\nhttp://college.gaokao.com/spepoint/y2009/p91\nhttp://college.gaokao.com/spepoint/y2009/p92\nhttp://college.gaokao.com/spepoint/y2016/p87\nhttp://college.gaokao.com/spepoint/y2017/p86\nhttp://college.gaokao.com/spepoint/y2011/p83\nhttp://college.gaokao.com/spepoint/y2007/p98\nhttp://college.gaokao.com/spepoint/y2013/p94http://college.gaokao.com/spepoint/y2008/p85\n\nhttp://college.gaokao.com/spepoint/y2012/p86\nhttp://college.gaokao.com/spepoint/y2015/p86\nhttp://college.gaokao.com/spepoint/y2009/p93\nhttp://college.gaokao.com/spepoint/y2010/p86\nhttp://college.gaokao.com/spepoint/y2011/p84\nhttp://college.gaokao.com/spepoint/y2007/p99\nhttp://college.gaokao.com/spepoint/y2016/p88\nhttp://college.gaokao.com/spepoint/y2009/p94\nhttp://college.gaokao.com/spepoint/y2017/p87http://college.gaokao.com/spepoint/y2013/p95\n\nhttp://college.gaokao.com/spepoint/y2007/p100\nhttp://college.gaokao.com/spepoint/y2012/p87\nhttp://college.gaokao.com/spepoint/y2008/p86\nhttp://college.gaokao.com/spepoint/y2015/p87\nhttp://college.gaokao.com/spepoint/y2007/p101\nhttp://college.gaokao.com/spepoint/y2016/p89\nhttp://college.gaokao.com/spepoint/y2011/p85\nhttp://college.gaokao.com/spepoint/y2010/p87\nhttp://college.gaokao.com/spepoint/y2007/p102\nhttp://college.gaokao.com/spepoint/y2009/p95\nhttp://college.gaokao.com/spepoint/y2017/p88\nhttp://college.gaokao.com/spepoint/y2016/p90\nhttp://college.gaokao.com/spepoint/y2013/p96\nhttp://college.gaokao.com/spepoint/y2012/p88\nhttp://college.gaokao.com/spepoint/y2007/p103\nhttp://college.gaokao.com/spepoint/y2015/p88\nhttp://college.gaokao.com/spepoint/y2016/p91\nhttp://college.gaokao.com/spepoint/y2008/p87\nhttp://college.gaokao.com/spepoint/y2016/p92\nhttp://college.gaokao.com/spepoint/y2010/p88\nhttp://college.gaokao.com/spepoint/y2017/p89\nhttp://college.gaokao.com/spepoint/y2011/p86\nhttp://college.gaokao.com/spepoint/y2012/p89\nhttp://college.gaokao.com/spepoint/y2015/p89\nhttp://college.gaokao.com/spepoint/y2007/p104\nhttp://college.gaokao.com/spepoint/y2009/p96\nhttp://college.gaokao.com/spepoint/y2017/p90\nhttp://college.gaokao.com/spepoint/y2016/p93\nhttp://college.gaokao.com/spepoint/y2013/p97\nhttp://college.gaokao.com/spepoint/y2010/p89\nhttp://college.gaokao.com/spepoint/y2017/p91\nhttp://college.gaokao.com/spepoint/y2012/p90\nhttp://college.gaokao.com/spepoint/y2015/p90\nhttp://college.gaokao.com/spepoint/y2008/p88\nhttp://college.gaokao.com/spepoint/y2017/p92\nhttp://college.gaokao.com/spepoint/y2012/p91\nhttp://college.gaokao.com/spepoint/y2010/p90\nhttp://college.gaokao.com/spepoint/y2016/p94\nhttp://college.gaokao.com/spepoint/y2015/p91\nhttp://college.gaokao.com/spepoint/y2012/p92\nhttp://college.gaokao.com/spepoint/y2012/p93\nhttp://college.gaokao.com/spepoint/y2007/p105\nhttp://college.gaokao.com/spepoint/y2012/p94\nhttp://college.gaokao.com/spepoint/y2007/p106\nhttp://college.gaokao.com/spepoint/y2012/p95\nhttp://college.gaokao.com/spepoint/y2011/p87\nhttp://college.gaokao.com/spepoint/y2007/p107\nhttp://college.gaokao.com/spepoint/y2007/p108\nhttp://college.gaokao.com/spepoint/y2012/p96\nhttp://college.gaokao.com/spepoint/y2011/p88\nhttp://college.gaokao.com/spepoint/y2007/p109\nhttp://college.gaokao.com/spepoint/y2015/p92http://college.gaokao.com/spepoint/y2010/p91\n\nhttp://college.gaokao.com/spepoint/y2017/p93\nhttp://college.gaokao.com/spepoint/y2013/p98\nhttp://college.gaokao.com/spepoint/y2008/p89\nhttp://college.gaokao.com/spepoint/y2010/p92\nhttp://college.gaokao.com/spepoint/y2009/p97\nhttp://college.gaokao.com/spepoint/y2007/p110\nhttp://college.gaokao.com/spepoint/y2015/p93\nhttp://college.gaokao.com/spepoint/y2008/p90\nhttp://college.gaokao.com/spepoint/y2017/p94\nhttp://college.gaokao.com/spepoint/y2016/p95\nhttp://college.gaokao.com/spepoint/y2010/p93\nhttp://college.gaokao.com/spepoint/y2011/p89\nhttp://college.gaokao.com/spepoint/y2007/p111\nhttp://college.gaokao.com/spepoint/y2013/p99http://college.gaokao.com/spepoint/y2008/p91\n\n"
    }
   ],
   "source": [
    "%%time\n",
    "threads = []\n",
    "for year in range(2007, 2018):\n",
    "    threadx = threading.Thread(target=grab_grades, name=f'Thread{year}', args=(year,))\n",
    "    threadx.start()\n",
    "    threads.append(threadx)\n",
    "\n",
    "for t in threads:\n",
    "    t.join()"
   ]
  },
  {
   "cell_type": "code",
   "metadata": {},
   "outputs": [],
   "source": [
    "# year = 2017\n",
    "# page = 1\n",
    "# total_page = 20000\n",
    "\n",
    "# url = f'http://college.gaokao.com/spepoint/y{year}/p{page}'\n",
    "# res = req.get(url)\n",
    "# soup = BeautifulSoup(res.text, 'html.parser')\n",
    "\n",
    "# if total_page > 15000:\n",
    "#     query_result = soup.find(id='qx')\n",
    "#     total_page = int(query_result.find(id='pagenum').previousSibling.string.split('/')[1].split('页')[0])\n",
    "        \n",
    "# query_result = soup.findChildren('tr', attrs={'class':re.compile('sz*')})\n",
    "\n",
    "# for item in query_result:\n",
    "#     df_gradex = pd.DataFrame()\n",
    "#     subs = item.find_all('td')\n",
    "#     for index in range(0, 7):\n",
    "#         df_gradex[col_names[index]] = [subs[index].string]\n",
    "#     df_grade = df_grade.append(df_gradex, ignore_index=True)\n"
   ]
  },
  {
   "cell_type": "code",
   "metadata": {},
   "outputs": [],
   "source": [
    "df_grade.to_csv('SUSTC_Journals/本科院校专业录取分数线.csv', index=False)"
   ]
  },
  {
   "cell_type": "code",
   "metadata": {},
   "outputs": [],
   "source": [
    "df_grade"
   ]
  },
  {
   "cell_type": "code",
   "metadata": {},
   "outputs": [],
   "source": []
  }
 ]
}