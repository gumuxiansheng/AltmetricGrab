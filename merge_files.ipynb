{
 "nbformat": 4,
 "nbformat_minor": 2,
 "metadata": {
  "language_info": {
   "name": "python",
   "codemirror_mode": {
    "name": "ipython",
    "version": 3
   },
   "version": "3.7.4"
  },
  "orig_nbformat": 2,
  "file_extension": ".py",
  "mimetype": "text/x-python",
  "name": "python",
  "npconvert_exporter": "python",
  "pygments_lexer": "ipython3",
  "version": 3
 },
 "cells": [
  {
   "cell_type": "code",
   "execution_count": 1,
   "metadata": {},
   "outputs": [],
   "source": [
    "import pandas as pd\n",
    "import os"
   ]
  },
  {
   "cell_type": "code",
   "execution_count": 2,
   "metadata": {},
   "outputs": [],
   "source": [
    "def read_file(file_, usecols=None):\n",
    "    if str(file_).endswith('xlsx'):\n",
    "        return pd.read_excel(file_, usecols=usecols)\n",
    "    else:\n",
    "        return pd.read_csv(file_, usecols=usecols)\n",
    "\n",
    "\n",
    "def write_file(file_, dataframe):\n",
    "    if str(file_).endswith('xlsx'):\n",
    "        return dataframe.to_excel(file_, index=False)\n",
    "    else:\n",
    "        return dataframe.to_csv(file_, index=False)"
   ]
  },
  {
   "cell_type": "code",
   "execution_count": 6,
   "metadata": {},
   "outputs": [],
   "source": [
    "def append_all(folder):\n",
    "    file_list = os.listdir(folder)\n",
    "    df_save = pd.DataFrame()\n",
    "    # file_list.sort()\n",
    "    for file_ in file_list:\n",
    "        print(file_)\n",
    "        if not (str(file_).endswith('xlsx') or str(file_).endswith('csv')):\n",
    "            continue\n",
    "        file_url = (folder if str(folder).endswith(os.path.sep) else (folder + os.path.sep)) + file_\n",
    "        df = read_file(file_url)\n",
    "        df_save = df_save.append(df)\n",
    "\n",
    "    df_save = df_save.drop_duplicates()\n",
    "    df_save.to_csv((folder if str(folder).endswith(os.path.sep) else (folder + os.path.sep)) + 'all.csv',\n",
    "                     index=False)\n",
    "\n",
    "    return\n"
   ]
  },
  {
   "cell_type": "code",
   "execution_count": 4,
   "metadata": {},
   "outputs": [
    {
     "name": "stdout",
     "output_type": "stream",
     "text": "articles_1-100.csv\narticles_1-100.json\narticles_101-200.csv\narticles_101-200.json\narticles_201-300.csv\narticles_201-300.json\narticles_301-400.csv\narticles_301-400.json\narticles_401-500.csv\narticles_401-500.json\narticles_500-600.csv\narticles_600-700.csv\narticles_600-700.json\narticles_700-800.csv\narticles_700-800.json\narticles_800-1100.csv\n"
    }
   ],
   "source": [
    "append_all('SUSTC_Journals/articles_abs')"
   ]
  },
  {
   "cell_type": "code",
   "execution_count": 7,
   "metadata": {},
   "outputs": [
    {
     "name": "stdout",
     "output_type": "stream",
     "text": "articles_wos_1-200.csv\narticles_wos_1001-1100.csv\narticles_wos_1101-1200.csv\narticles_wos_1201-1300.csv\narticles_wos_1301-1400.csv\narticles_wos_1401-1500.csv\narticles_wos_1501-1600.csv\narticles_wos_1601-1700.csv\narticles_wos_1701-1800.csv\narticles_wos_1801-1900.csv\narticles_wos_1901-2000.csv\narticles_wos_2001-2100.csv\narticles_wos_201-300.csv\narticles_wos_201-300.json\narticles_wos_2101-2200.csv\narticles_wos_2201-2300.csv\narticles_wos_2301-2400.csv\narticles_wos_2401-2500.csv\narticles_wos_2501-2600.csv\narticles_wos_2601-2700.csv\narticles_wos_2701-2800.csv\narticles_wos_2801-2900.csv\narticles_wos_2901-3000.csv\narticles_wos_3001-3100.csv\narticles_wos_301-400.csv\narticles_wos_3101-3200.csv\narticles_wos_3201-3300.csv\narticles_wos_3301-3400.csv\narticles_wos_3401-3500.csv\narticles_wos_3501-3600.csv\narticles_wos_3601-3700.csv\narticles_wos_3701-3800.csv\narticles_wos_3801-3900.csv\narticles_wos_401-500.csv\narticles_wos_501-600.csv\narticles_wos_601-700.csv\narticles_wos_701-800.csv\narticles_wos_801-900.csv\narticles_wos_901-1000.csv\n"
    }
   ],
   "source": [
    "append_all('SUSTC_Journals/articles_wos')"
   ]
  },
  {
   "cell_type": "code",
   "execution_count": 9,
   "metadata": {},
   "outputs": [],
   "source": [
    "df_abs = pd.read_csv('SUSTC_Journals/articles_abs/all.csv')\n",
    "df_wos = pd.read_csv('SUSTC_Journals/articles_wos/all.csv')"
   ]
  },
  {
   "cell_type": "code",
   "execution_count": 12,
   "metadata": {},
   "outputs": [
    {
     "name": "stdout",
     "output_type": "stream",
     "text": "332177 1162482\n"
    }
   ],
   "source": [
    "print(len(df_abs), len(df_wos))"
   ]
  },
  {
   "cell_type": "code",
   "execution_count": 13,
   "metadata": {},
   "outputs": [
    {
     "data": {
      "text/plain": "1494659"
     },
     "execution_count": 13,
     "metadata": {},
     "output_type": "execute_result"
    }
   ],
   "source": [
    "df_all = df_abs.append(df_wos)\n",
    "len(df_all)"
   ]
  },
  {
   "cell_type": "code",
   "execution_count": 14,
   "metadata": {},
   "outputs": [
    {
     "data": {
      "text/plain": "1230630"
     },
     "execution_count": 14,
     "metadata": {},
     "output_type": "execute_result"
    }
   ],
   "source": [
    "df_all = df_all.drop_duplicates()\n",
    "len(df_all)"
   ]
  },
  {
   "cell_type": "code",
   "execution_count": 17,
   "metadata": {},
   "outputs": [],
   "source": [
    "df_all.to_csv('SUSTC_Journals/articles_all/all.csv', index=False)"
   ]
  },
  {
   "cell_type": "code",
   "execution_count": 19,
   "metadata": {},
   "outputs": [
    {
     "data": {
      "text/html": "<div>\n<style scoped>\n    .dataframe tbody tr th:only-of-type {\n        vertical-align: middle;\n    }\n\n    .dataframe tbody tr th {\n        vertical-align: top;\n    }\n\n    .dataframe thead th {\n        text-align: right;\n    }\n</style>\n<table border=\"1\" class=\"dataframe\">\n  <thead>\n    <tr style=\"text-align: right;\">\n      <th></th>\n      <th>SO</th>\n      <th>SO_id</th>\n      <th>DI</th>\n      <th>dimensions_id</th>\n    </tr>\n  </thead>\n  <tbody>\n    <tr>\n      <td>0</td>\n      <td>Journal of Accounting and Economics</td>\n      <td>jour.1138469</td>\n      <td>10.1016/s0165-4101(18)30119-8</td>\n      <td>pub.1110223808</td>\n    </tr>\n    <tr>\n      <td>1</td>\n      <td>Journal of Accounting and Economics</td>\n      <td>jour.1138469</td>\n      <td>10.1016/j.jacceco.2018.08.013</td>\n      <td>pub.1106857635</td>\n    </tr>\n    <tr>\n      <td>2</td>\n      <td>Journal of Accounting and Economics</td>\n      <td>jour.1138469</td>\n      <td>10.1016/j.jacceco.2018.08.002</td>\n      <td>pub.1106857634</td>\n    </tr>\n    <tr>\n      <td>3</td>\n      <td>Journal of Accounting and Economics</td>\n      <td>jour.1138469</td>\n      <td>10.1016/j.jacceco.2018.08.012</td>\n      <td>pub.1106286706</td>\n    </tr>\n    <tr>\n      <td>4</td>\n      <td>Journal of Accounting and Economics</td>\n      <td>jour.1138469</td>\n      <td>10.1016/j.jacceco.2018.08.010</td>\n      <td>pub.1106173025</td>\n    </tr>\n    <tr>\n      <td>...</td>\n      <td>...</td>\n      <td>...</td>\n      <td>...</td>\n      <td>...</td>\n    </tr>\n    <tr>\n      <td>1230625</td>\n      <td>Human Rights Quarterly</td>\n      <td>jour.1026658</td>\n      <td>10.1353/hrq.2014.0048</td>\n      <td>pub.1006571108</td>\n    </tr>\n    <tr>\n      <td>1230626</td>\n      <td>Human Rights Quarterly</td>\n      <td>jour.1026658</td>\n      <td>10.1353/hrq.2014.0044</td>\n      <td>pub.1005959898</td>\n    </tr>\n    <tr>\n      <td>1230627</td>\n      <td>Human Rights Quarterly</td>\n      <td>jour.1026658</td>\n      <td>10.1353/hrq.2014.0025</td>\n      <td>pub.1003816057</td>\n    </tr>\n    <tr>\n      <td>1230628</td>\n      <td>Human Rights Quarterly</td>\n      <td>jour.1026658</td>\n      <td>10.1353/hrq.2014.0034</td>\n      <td>pub.1003560943</td>\n    </tr>\n    <tr>\n      <td>1230629</td>\n      <td>Human Rights Quarterly</td>\n      <td>jour.1026658</td>\n      <td>10.1353/hrq.2014.0053</td>\n      <td>pub.1002941926</td>\n    </tr>\n  </tbody>\n</table>\n<p>1230630 rows × 4 columns</p>\n</div>",
      "text/plain": "                                          SO         SO_id  \\\n0        Journal of Accounting and Economics  jour.1138469   \n1        Journal of Accounting and Economics  jour.1138469   \n2        Journal of Accounting and Economics  jour.1138469   \n3        Journal of Accounting and Economics  jour.1138469   \n4        Journal of Accounting and Economics  jour.1138469   \n...                                      ...           ...   \n1230625               Human Rights Quarterly  jour.1026658   \n1230626               Human Rights Quarterly  jour.1026658   \n1230627               Human Rights Quarterly  jour.1026658   \n1230628               Human Rights Quarterly  jour.1026658   \n1230629               Human Rights Quarterly  jour.1026658   \n\n                                    DI   dimensions_id  \n0        10.1016/s0165-4101(18)30119-8  pub.1110223808  \n1        10.1016/j.jacceco.2018.08.013  pub.1106857635  \n2        10.1016/j.jacceco.2018.08.002  pub.1106857634  \n3        10.1016/j.jacceco.2018.08.012  pub.1106286706  \n4        10.1016/j.jacceco.2018.08.010  pub.1106173025  \n...                                ...             ...  \n1230625          10.1353/hrq.2014.0048  pub.1006571108  \n1230626          10.1353/hrq.2014.0044  pub.1005959898  \n1230627          10.1353/hrq.2014.0025  pub.1003816057  \n1230628          10.1353/hrq.2014.0034  pub.1003560943  \n1230629          10.1353/hrq.2014.0053  pub.1002941926  \n\n[1230630 rows x 4 columns]"
     },
     "execution_count": 19,
     "metadata": {},
     "output_type": "execute_result"
    }
   ],
   "source": [
    "df_all = pd.read_csv('SUSTC_Journals/articles_all/all.csv')\n",
    "df_all"
   ]
  },
  {
   "cell_type": "code",
   "execution_count": null,
   "metadata": {},
   "outputs": [],
   "source": []
  }
 ]
}