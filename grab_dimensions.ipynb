{
 "nbformat": 4,
 "nbformat_minor": 2,
 "metadata": {
  "language_info": {
   "name": "python",
   "codemirror_mode": {
    "name": "ipython",
    "version": 3
   },
   "version": "3.7.3"
  },
  "orig_nbformat": 2,
  "file_extension": ".py",
  "mimetype": "text/x-python",
  "name": "python",
  "npconvert_exporter": "python",
  "pygments_lexer": "ipython3",
  "version": 3
 },
 "cells": [
  {
   "cell_type": "markdown",
   "metadata": {},
   "outputs": [],
   "source": [
    "# Grab Dimensions Data\n",
    "\n",
    "https://app.dimensions.ai/discover/publication\n",
    "\n",
    "This notebook handles the downloads of Dimensions data.\n"
   ]
  },
  {
   "cell_type": "markdown",
   "metadata": {},
   "outputs": [],
   "source": [
    "## Search Params\n",
    "\n",
    "search_params logs what you want to search from Dimensions."
   ]
  },
  {
   "cell_type": "code",
   "execution_count": 1,
   "metadata": {},
   "outputs": [],
   "source": [
    "# This is very important for data fetching, generally you get url in the form as 'https://app.dimensions.ai/discover/publication?and_facet_for=2209&and_facet_for=2202&or_facet_source_title=jour.1082997', and search_params is just the substring after '?'.\n",
    "# Here is where we need to change for each search.\n",
    "search_params = 'or_facet_year=2014&or_facet_year=2015&or_facet_year=2016&or_facet_source_title=jour.1018957'"
   ]
  },
  {
   "cell_type": "code",
   "execution_count": 2,
   "metadata": {},
   "outputs": [],
   "source": [
    "origin_folder = 'Journals'"
   ]
  },
  {
   "cell_type": "markdown",
   "metadata": {},
   "outputs": [],
   "source": [
    "## Request Functions\n",
    "\n",
    "This part contains functions we need to fetch the web data and should also handle the exceptions while fetching here."
   ]
  },
  {
   "cell_type": "code",
   "execution_count": 8,
   "metadata": {},
   "outputs": [],
   "source": [
    "import requests\n",
    "import json\n",
    "\n",
    "from requests import ConnectionError, ReadTimeout\n",
    "\n",
    "def grab_from_url_content(url):\n",
    "    headers = {'Accept': '* / *',\n",
    "               'Accept-Language': 'zh-TW, zh; q=0.9, en-US; q=0.8, en; q=0.7, zh-CN; q=0.6',\n",
    "               'User-Agent': 'Mozilla/5.0 (Macintosh; Intel Mac OS X 10_14_1) AppleWebKit/537.36 (KHTML, like Gecko) Chrome/72.0.3610.2 Safari/537.36'\n",
    "               }\n",
    "    rescontent = ''\n",
    "    try:\n",
    "        res = requests.get(url, headers=headers, timeout=10)\n",
    "        rescontent = res.text\n",
    "    except ConnectionError as ce:\n",
    "        print('ConnectionError: ' + str(ce))\n",
    "        return grab_from_url_content(url)\n",
    "    except ReadTimeout as rte:\n",
    "        print('ReadTimeout: ' + str(rte))\n",
    "        return grab_from_url_content(url)\n",
    "\n",
    "    return rescontent\n",
    "\n"
   ]
  },
  {
   "cell_type": "markdown",
   "metadata": {},
   "outputs": [],
   "source": [
    "## Parser\n",
    "\n",
    "We will get the html content from the url which is not listed as we want it be, so we need parser to parse them into listed data, in json form."
   ]
  },
  {
   "cell_type": "code",
   "execution_count": 3,
   "metadata": {},
   "outputs": [],
   "source": [
    "from html.parser import HTMLParser\n",
    "\n",
    "class DimensionsHTMLParser(HTMLParser):\n",
    "    articles = []\n",
    "    in_article = False\n",
    "    is_next_trigger = False\n",
    "    next_trigger_url = ''\n",
    "\n",
    "    def handle_starttag(self, tag, attrs):\n",
    "        if tag == 'article':\n",
    "            self.in_article = True\n",
    "        \n",
    "        if self.in_article:\n",
    "            for attr in attrs:\n",
    "                if attr[0] == 'data-doc':\n",
    "                    self.articles.append(json.loads(attr[1]))\n",
    "                    break\n",
    "\n",
    "        if tag == 'a':\n",
    "            for attr in attrs:\n",
    "                if (attr[0] == 'class') and (attr[1] == 'nextPage-trigger'):\n",
    "                    self.is_next_trigger = True\n",
    "                if self.is_next_trigger and (attr[0] == 'href'):\n",
    "                    self.next_trigger_url = f'https://app.dimensions.ai{attr[1]}&{search_params}'\n",
    "                    break\n",
    "        return\n",
    "                    \n",
    "    def handle_endtag(self, tag):\n",
    "        if tag == 'article':\n",
    "            self.in_article = False\n",
    "        self.is_next_trigger = False\n",
    "        return\n",
    "\n",
    "    def handle_data(self, data):\n",
    "        pass\n",
    "\n",
    "    def handle_comment(self, data):\n",
    "        pass\n",
    "\n",
    "    def handle_entityref(self, name):\n",
    "        pass\n",
    "\n",
    "    def handle_charref(self, name):\n",
    "        pass\n",
    "\n",
    "    def handle_decl(self, data):\n",
    "        pass\n",
    "\n",
    "parser = DimensionsHTMLParser()"
   ]
  },
  {
   "cell_type": "markdown",
   "metadata": {},
   "outputs": [],
   "source": [
    "## Grab Data\n",
    "\n",
    "The data fetching starts from here."
   ]
  },
  {
   "cell_type": "code",
   "execution_count": 4,
   "metadata": {},
   "outputs": [],
   "source": [
    "grab_url = f'https://app.dimensions.ai/discover/publication?{search_params}'"
   ]
  },
  {
   "cell_type": "code",
   "execution_count": 5,
   "metadata": {},
   "outputs": [
    {
     "name": "stdout",
     "output_type": "stream",
     "text": "0\n100\nReadTimeout: HTTPSConnectionPool(host='app.dimensions.ai', port=443): Read timed out. (read timeout=10)\n200\n300\nReadTimeout: HTTPSConnectionPool(host='app.dimensions.ai', port=443): Read timed out. (read timeout=10)\nReadTimeout: HTTPSConnectionPool(host='app.dimensions.ai', port=443): Read timed out. (read timeout=10)\n400\n500\nReadTimeout: HTTPSConnectionPool(host='app.dimensions.ai', port=443): Read timed out. (read timeout=10)\n600\nReadTimeout: HTTPSConnectionPool(host='app.dimensions.ai', port=443): Read timed out. (read timeout=10)\nCPU times: user 29 s, sys: 1.73 s, total: 30.7 s\nWall time: 19min 22s\n"
    }
   ],
   "source": [
    "%%time\n",
    "parser.feed(grab_from_url_content(grab_url))\n",
    "next_trigger_anchor = ''\n",
    "i = 0\n",
    "while parser.next_trigger_url != next_trigger_anchor:\n",
    "    if i % 100 == 0:\n",
    "        print(str(i))\n",
    "    i+=1\n",
    "    next_trigger_anchor = parser.next_trigger_url\n",
    "    parser.feed(grab_from_url_content(parser.next_trigger_url))"
   ]
  },
  {
   "cell_type": "code",
   "execution_count": 6,
   "metadata": {},
   "outputs": [
    {
     "name": "stdout",
     "output_type": "stream",
     "text": "12226\nCPU times: user 400 µs, sys: 656 µs, total: 1.06 ms\nWall time: 876 µs\n"
    }
   ],
   "source": [
    "%%time\n",
    "print(len(parser.articles))"
   ]
  },
  {
   "cell_type": "code",
   "execution_count": 7,
   "metadata": {},
   "outputs": [],
   "source": [
    "with open(f\"{origin_folder}/article_nature.json\", \"w\") as dump_f:\n",
    "        dump_f.write(json.dumps(parser.articles))"
   ]
  },
  {
   "cell_type": "code",
   "execution_count": 15,
   "metadata": {},
   "outputs": [
    {
     "name": "stdout",
     "output_type": "stream",
     "text": "{'title': 'Boosting business.', 'affiliations_json': '[{\"first_name\": \"Kendall\", \"last_name\": \"Powell\", \"corresponding\": \"\", \"orcid\": \"\", \"current_organization_id\": \"\", \"researcher_id\": \"\", \"affiliations\": [], \"raw_affiliation\": []}]', 'author_list': 'Kendall Powell', 'source_title_id': 'jour.1018957', 'journal_title': 'Nature', 'sn_journal_open_access_option': 'Subscription Only', 'language': 'en', 'open_access': False, 'pub_class': 'Article', 'abstract': '', 'acknowledgements': '', 'aff_country_count': 0, 'aff_org_count': 0, 'created_in_dimensions': '2017-08-31T12:50:56Z', 'html_escaped_abstract': '', 'html_escaped_title': 'Boosting business.', 'id': 'pub.1079016901', 'issue': '7529', 'pages': '133-5', 'pmid': '25513444', 'pub_date': '2014-12-04', 'pub_year': 2014, 'volume': '516', 'sn_downloads_customer_1': 0, 'times_cited': 0, 'sn_denials_customer_1': 0, 'sn_denials': 0, 'sn_downloads': 0, 'altmetric_id': 0, 'score': 1.0, 'affiliations_details': [{'first_name': 'Kendall', 'last_name': 'Powell', 'corresponding': '', 'orcid': '', 'current_organization_id': '', 'researcher_id': '', 'affiliations': [], 'raw_affiliation': []}], 'authors_full': ['Kendall Powell'], 'source_title': 'Nature', 'dimensions_badge': {'value': 'pub.1079016901', 'id_type': 'id'}, 'altmetric_badge': {'value': '25513444', 'id_type': 'pmid'}, 'openurl': None, 'orcid': None, 'pub_class_id': 'article', 'navigation': {'path': '/details/publication/pub.1079016901'}}\n{'title': 'Diversity: Structural approach.', 'affiliations_json': '[{\"first_name\": \"Leigh Krietsch\", \"last_name\": \"Boerner\", \"corresponding\": \"\", \"orcid\": \"\", \"current_organization_id\": \"\", \"researcher_id\": \"ur.0625040112.02\", \"affiliations\": [], \"raw_affiliation\": []}]', 'author_list': 'Leigh Krietsch Boerner', 'researcher_dim_id': ['ur.0625040112.02'], 'researcher_dim_count': 1, 'source_title_id': 'jour.1018957', 'journal_title': 'Nature', 'sn_journal_open_access_option': 'Subscription Only', 'language': 'en', 'open_access': False, 'pub_class': 'Article', 'abstract': '', 'acknowledgements': '', 'aff_country_count': 0, 'aff_org_count': 0, 'created_in_dimensions': '2017-08-31T12:50:56Z', 'html_escaped_abstract': '', 'html_escaped_title': 'Diversity: Structural approach.', 'id': 'pub.1079016871', 'issue': '7528', 'pages': '597-8', 'pmid': '25513195', 'pub_date': '2014-11-27', 'pub_year': 2014, 'volume': '515', 'sn_downloads_customer_1': 0, 'times_cited': 0, 'sn_denials_customer_1': 0, 'sn_denials': 0, 'sn_downloads': 0, 'altmetric_id': 0, 'score': 1.0, 'affiliations_details': [{'first_name': 'Leigh Krietsch', 'last_name': 'Boerner', 'corresponding': '', 'orcid': '', 'current_organization_id': '', 'researcher_id': 'ur.0625040112.02', 'affiliations': [], 'raw_affiliation': []}], 'authors_full': ['Leigh Krietsch Boerner'], 'source_title': 'Nature', 'dimensions_badge': {'value': 'pub.1079016871', 'id_type': 'id'}, 'altmetric_badge': {'value': '25513195', 'id_type': 'pmid'}, 'openurl': None, 'orcid': None, 'pub_class_id': 'article', 'navigation': {'path': '/details/publication/pub.1079016871'}}\n{'title': 'Turning point: Kate McAllister.', 'affiliations_json': '[{\"first_name\": \"Kate\", \"last_name\": \"McAllister\", \"corresponding\": \"\", \"orcid\": \"\", \"current_organization_id\": \"\", \"researcher_id\": \"ur.01132362126.91\", \"affiliations\": [], \"raw_affiliation\": []}, {\"first_name\": \"Virginia\", \"last_name\": \"Gewin\", \"corresponding\": \"\", \"orcid\": \"\", \"current_organization_id\": \"\", \"researcher_id\": \"ur.01200475326.63\", \"affiliations\": [], \"raw_affiliation\": []}]', 'author_list': 'Kate McAllister, Virginia Gewin', 'researcher_dim_id': ['ur.01132362126.91', 'ur.01200475326.63'], 'researcher_dim_count': 2, 'source_title_id': 'jour.1018957', 'journal_title': 'Nature', 'sn_journal_open_access_option': 'Subscription Only', 'language': 'en', 'open_access': False, 'pub_class': 'Article', 'abstract': '', 'acknowledgements': '', 'aff_country_count': 0, 'aff_org_count': 0, 'created_in_dimensions': '2017-08-31T12:50:56Z', 'html_escaped_abstract': '', 'html_escaped_title': 'Turning point: Kate McAllister.', 'id': 'pub.1079016781', 'issue': '7527', 'pages': '455', 'pmid': '25512980', 'pub_date': '2014-11-20', 'pub_year': 2014, 'volume': '515', 'sn_downloads_customer_1': 0, 'times_cited': 0, 'sn_denials_customer_1': 0, 'sn_denials': 0, 'sn_downloads': 0, 'altmetric_id': 0, 'score': 1.0, 'affiliations_details': [{'first_name': 'Kate', 'last_name': 'McAllister', 'corresponding': '', 'orcid': '', 'current_organization_id': '', 'researcher_id': 'ur.01132362126.91', 'affiliations': [], 'raw_affiliation': []}, {'first_name': 'Virginia', 'last_name': 'Gewin', 'corresponding': '', 'orcid': '', 'current_organization_id': '', 'researcher_id': 'ur.01200475326.63', 'affiliations': [], 'raw_affiliation': []}], 'authors_full': ['Kate McAllister', 'Virginia Gewin'], 'source_title': 'Nature', 'dimensions_badge': {'value': 'pub.1079016781', 'id_type': 'id'}, 'altmetric_badge': {'value': '25512980', 'id_type': 'pmid'}, 'openurl': None, 'orcid': None, 'pub_class_id': 'article', 'navigation': {'path': '/details/publication/pub.1079016781'}}\n{'title': 'Mentoring awards: focus on people.', 'affiliations_json': '[{\"first_name\": \"Philip\", \"last_name\": \"Campbell\", \"corresponding\": \"\", \"orcid\": \"\", \"current_organization_id\": \"\", \"researcher_id\": \"\", \"affiliations\": [], \"raw_affiliation\": []}]', 'author_list': 'Philip Campbell', 'source_title_id': 'jour.1018957', 'journal_title': 'Nature', 'sn_journal_open_access_option': 'Subscription Only', 'language': 'en', 'open_access': False, 'pub_class': 'Article', 'abstract': '', 'acknowledgements': '', 'aff_country_count': 0, 'aff_org_count': 0, 'created_in_dimensions': '2017-08-31T12:50:56Z', 'html_escaped_abstract': '', 'html_escaped_title': 'Mentoring awards: focus on people.', 'id': 'pub.1079016779', 'issue': '7527', 'mesh_terms': ['Awards and Prizes', 'Humans', 'Mentoring', 'Mentors'], 'pages': '453-4', 'pmid': '25512979', 'pub_date': '2014-11-20', 'pub_year': 2014, 'volume': '515', 'sn_downloads_customer_1': 0, 'times_cited': 0, 'sn_denials_customer_1': 0, 'sn_denials': 0, 'sn_downloads': 0, 'altmetric_id': 0, 'score': 1.0, 'affiliations_details': [{'first_name': 'Philip', 'last_name': 'Campbell', 'corresponding': '', 'orcid': '', 'current_organization_id': '', 'researcher_id': '', 'affiliations': [], 'raw_affiliation': []}], 'authors_full': ['Philip Campbell'], 'source_title': 'Nature', 'dimensions_badge': {'value': 'pub.1079016779', 'id_type': 'id'}, 'altmetric_badge': {'value': '25512979', 'id_type': 'pmid'}, 'openurl': None, 'orcid': None, 'pub_class_id': 'article', 'navigation': {'path': '/details/publication/pub.1079016779'}}\n{'title': 'Turning point: Kristin Laidre. Interviewed by Virginia Gewin.', 'affiliations_json': '[{\"first_name\": \"Kristin\", \"last_name\": \"Laidre\", \"corresponding\": \"\", \"orcid\": \"\", \"current_organization_id\": \"grid.34477.33\", \"researcher_id\": \"ur.0663657537.00\", \"affiliations\": [], \"raw_affiliation\": []}]', 'author_list': 'Kristin Laidre', 'researcher_dim_id': ['ur.0663657537.00'], 'researcher_dim_count': 1, 'source_title_id': 'jour.1018957', 'journal_title': 'Nature', 'sn_journal_open_access_option': 'Subscription Only', 'language': 'en', 'open_access': False, 'pub_class': 'Article', 'abstract': '', 'acknowledgements': '', 'aff_country_count': 0, 'aff_org_count': 0, 'aff_current_org_ids': ['grid.34477.33'], 'created_in_dimensions': '2017-08-31T12:50:56Z', 'html_escaped_abstract': '', 'html_escaped_title': 'Turning point: Kristin Laidre. Interviewed by Virginia Gewin.', 'id': 'pub.1078846945', 'issue': '7484', 'mesh_terms': ['Animals', 'Arctic Regions', 'Career Choice', 'Dancing', 'Ecology', 'Education, Graduate', 'History, 21st Century', 'Marine Biology', 'Research Personnel', 'Whales'], 'pages': '577', 'pmid': '24459711', 'pub_date': '2014-01-23', 'pub_year': 2014, 'volume': '505', 'sn_downloads_customer_1': 0, 'times_cited': 0, 'sn_denials_customer_1': 0, 'sn_denials': 0, 'sn_downloads': 0, 'altmetric_id': 0, 'score': 1.0, 'affiliations_details': [{'first_name': 'Kristin', 'last_name': 'Laidre', 'corresponding': '', 'orcid': '', 'current_organization_id': 'grid.34477.33', 'researcher_id': 'ur.0663657537.00', 'affiliations': [], 'raw_affiliation': []}], 'authors_full': ['Kristin Laidre'], 'source_title': 'Nature', 'dimensions_badge': {'value': 'pub.1078846945', 'id_type': 'id'}, 'altmetric_badge': {'value': '24459711', 'id_type': 'pmid'}, 'openurl': None, 'orcid': None, 'pub_class_id': 'article', 'navigation': {'path': '/details/publication/pub.1078846945'}}\n"
    }
   ],
   "source": [
    "# import pandas as pd\n",
    "\n",
    "# with open(f'{origin_folder}/article_nature.json') as f:\n",
    "#     articles = json.load(f)\n",
    "\n",
    "# df_articles = pd.DataFrame(columns=['SO', 'SO_id', 'DI', 'dimensions_id'])\n",
    "\n",
    "for article in articles:\n",
    "    if 'doi' not in article:\n",
    "        print(article)\n",
    "        continue\n",
    "    if article['doi'] in df_articles['DI']:\n",
    "        continue\n",
    "    df_article = pd.DataFrame(columns=['SO', 'SO_id', 'DI', 'dimensions_id'])\n",
    "    df_article['SO'] = [article['source_title']]\n",
    "    df_article['SO_id'] = [article['source_title_id']]\n",
    "    df_article['DI'] = [article['doi']]\n",
    "    df_article['dimensions_id'] = [article['id']]\n",
    "    df_articles = df_articles.append(df_article, ignore_index=True)\n",
    "\n",
    "df_articles.to_csv(f'{origin_folder}/article_nature.csv', index=False)"
   ]
  },
  {
   "cell_type": "code",
   "execution_count": null,
   "metadata": {},
   "outputs": [],
   "source": []
  }
 ]
}