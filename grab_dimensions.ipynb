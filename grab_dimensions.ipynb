{
 "nbformat": 4,
 "nbformat_minor": 2,
 "metadata": {
  "language_info": {
   "name": "python",
   "codemirror_mode": {
    "name": "ipython",
    "version": 3
   },
   "version": "3.7.3"
  },
  "orig_nbformat": 2,
  "file_extension": ".py",
  "mimetype": "text/x-python",
  "name": "python",
  "npconvert_exporter": "python",
  "pygments_lexer": "ipython3",
  "version": 3
 },
 "cells": [
  {
   "cell_type": "markdown",
   "metadata": {},
   "outputs": [],
   "source": [
    "# Grab Dimensions Data\n",
    "\n",
    "https://app.dimensions.ai/discover/publication\n",
    "\n",
    "This notebook handles the downloads of Dimensions data.\n"
   ]
  },
  {
   "cell_type": "code",
   "execution_count": 1,
   "metadata": {},
   "outputs": [],
   "source": [
    "import pandas as pd\n",
    "import numpy as np"
   ]
  },
  {
   "cell_type": "markdown",
   "metadata": {},
   "outputs": [],
   "source": [
    "## Load Journals"
   ]
  },
  {
   "cell_type": "code",
   "execution_count": 2,
   "metadata": {},
   "outputs": [],
   "source": [
    "origin_folder = 'Journals_Articles'"
   ]
  },
  {
   "cell_type": "code",
   "execution_count": 3,
   "metadata": {},
   "outputs": [],
   "source": [
    "journals_file = f'{origin_folder}/ABS期刊汇总_DimentionsSearch.csv'\n",
    "journals = pd.read_csv(journals_file, usecols=['search title', 'search id'])\n",
    "journals = journals.dropna()"
   ]
  },
  {
   "cell_type": "code",
   "execution_count": 4,
   "metadata": {},
   "outputs": [
    {
     "data": {
      "text/plain": "1074"
     },
     "execution_count": 4,
     "metadata": {},
     "output_type": "execute_result"
    }
   ],
   "source": [
    "len(journals)"
   ]
  },
  {
   "cell_type": "code",
   "execution_count": 5,
   "metadata": {},
   "outputs": [],
   "source": [
    "journals_index = '1-20'"
   ]
  },
  {
   "cell_type": "code",
   "execution_count": 6,
   "metadata": {},
   "outputs": [],
   "source": [
    "start = int(journals_index.split('-')[0])\n",
    "end = int(journals_index.split('-')[1])\n",
    "journals = journals[start - 1:end]"
   ]
  },
  {
   "cell_type": "code",
   "execution_count": 7,
   "metadata": {},
   "outputs": [
    {
     "data": {
      "text/html": "<div>\n<style scoped>\n    .dataframe tbody tr th:only-of-type {\n        vertical-align: middle;\n    }\n\n    .dataframe tbody tr th {\n        vertical-align: top;\n    }\n\n    .dataframe thead th {\n        text-align: right;\n    }\n</style>\n<table border=\"1\" class=\"dataframe\">\n  <thead>\n    <tr style=\"text-align: right;\">\n      <th></th>\n      <th>search title</th>\n      <th>search id</th>\n    </tr>\n  </thead>\n  <tbody>\n    <tr>\n      <th>2</th>\n      <td>Journal of Accounting and Economics</td>\n      <td>jour.1138469</td>\n    </tr>\n    <tr>\n      <th>3</th>\n      <td>Journal of Accounting Research</td>\n      <td>jour.1137699</td>\n    </tr>\n    <tr>\n      <th>4</th>\n      <td>Contemporary Accounting Research</td>\n      <td>jour.1138183</td>\n    </tr>\n    <tr>\n      <th>5</th>\n      <td>Review of Accounting Studies</td>\n      <td>jour.1136096</td>\n    </tr>\n    <tr>\n      <th>6</th>\n      <td>Abacus</td>\n      <td>jour.1327791</td>\n    </tr>\n    <tr>\n      <th>7</th>\n      <td>Accounting and Business Research</td>\n      <td>jour.1137863</td>\n    </tr>\n    <tr>\n      <th>8</th>\n      <td>Accounting Forum</td>\n      <td>jour.1143209</td>\n    </tr>\n    <tr>\n      <th>9</th>\n      <td>Accounting Horizons</td>\n      <td>jour.1139701</td>\n    </tr>\n    <tr>\n      <th>12</th>\n      <td>Behavioral Research in Accounting</td>\n      <td>jour.1143411</td>\n    </tr>\n    <tr>\n      <th>15</th>\n      <td>Critical Perspectives on Accounting</td>\n      <td>jour.1137906</td>\n    </tr>\n    <tr>\n      <th>16</th>\n      <td>European Accounting Review</td>\n      <td>jour.1138581</td>\n    </tr>\n    <tr>\n      <th>17</th>\n      <td>Financial Accountability and Management</td>\n      <td>jour.1139403</td>\n    </tr>\n    <tr>\n      <th>20</th>\n      <td>Journal of Accounting and Public Policy</td>\n      <td>jour.1138733</td>\n    </tr>\n    <tr>\n      <th>21</th>\n      <td>Journal of Accounting Literature</td>\n      <td>jour.1154206</td>\n    </tr>\n    <tr>\n      <th>25</th>\n      <td>Journal of the American Taxation Association</td>\n      <td>jour.1141318</td>\n    </tr>\n    <tr>\n      <th>26</th>\n      <td>Management Accounting Research</td>\n      <td>jour.1139447</td>\n    </tr>\n    <tr>\n      <th>27</th>\n      <td>Accounting and Finance</td>\n      <td>jour.1138657</td>\n    </tr>\n    <tr>\n      <th>28</th>\n      <td>Accounting and the Public Interest</td>\n      <td>jour.1146976</td>\n    </tr>\n    <tr>\n      <th>29</th>\n      <td>Accounting in Europe</td>\n      <td>jour.1145575</td>\n    </tr>\n    <tr>\n      <th>30</th>\n      <td>Accounting Research Journal</td>\n      <td>jour.1145276</td>\n    </tr>\n  </tbody>\n</table>\n</div>",
      "text/plain": "                                    search title     search id\n2            Journal of Accounting and Economics  jour.1138469\n3                 Journal of Accounting Research  jour.1137699\n4               Contemporary Accounting Research  jour.1138183\n5                   Review of Accounting Studies  jour.1136096\n6                                         Abacus  jour.1327791\n7               Accounting and Business Research  jour.1137863\n8                               Accounting Forum  jour.1143209\n9                            Accounting Horizons  jour.1139701\n12             Behavioral Research in Accounting  jour.1143411\n15           Critical Perspectives on Accounting  jour.1137906\n16                    European Accounting Review  jour.1138581\n17       Financial Accountability and Management  jour.1139403\n20       Journal of Accounting and Public Policy  jour.1138733\n21              Journal of Accounting Literature  jour.1154206\n25  Journal of the American Taxation Association  jour.1141318\n26                Management Accounting Research  jour.1139447\n27                        Accounting and Finance  jour.1138657\n28            Accounting and the Public Interest  jour.1146976\n29                          Accounting in Europe  jour.1145575\n30                   Accounting Research Journal  jour.1145276"
     },
     "execution_count": 7,
     "metadata": {},
     "output_type": "execute_result"
    }
   ],
   "source": [
    "journals"
   ]
  },
  {
   "cell_type": "markdown",
   "metadata": {},
   "outputs": [],
   "source": [
    "## Request Functions\n",
    "\n",
    "This part contains functions we need to fetch the web data and should also handle the exceptions while fetching here."
   ]
  },
  {
   "cell_type": "code",
   "execution_count": 8,
   "metadata": {},
   "outputs": [],
   "source": [
    "import requests\n",
    "import json\n",
    "\n",
    "from requests import ConnectionError, ReadTimeout\n",
    "\n",
    "def grab_from_url_content(url):\n",
    "    headers = {'Accept': '* / *',\n",
    "               'Accept-Language': 'zh-TW, zh; q=0.9, en-US; q=0.8, en; q=0.7, zh-CN; q=0.6',\n",
    "               'User-Agent': 'Mozilla/5.0 (Macintosh; Intel Mac OS X 10_14_1) AppleWebKit/537.36 (KHTML, like Gecko) Chrome/72.0.3610.2 Safari/537.36'\n",
    "               }\n",
    "    rescontent = ''\n",
    "    try:\n",
    "        res = requests.get(url, headers=headers, timeout=10)\n",
    "        rescontent = res.text\n",
    "    except ConnectionError as ce:\n",
    "        print('ConnectionError: ' + str(ce))\n",
    "        return grab_from_url_content(url)\n",
    "    except ReadTimeout as rte:\n",
    "        print('ReadTimeout: ' + str(rte))\n",
    "        return grab_from_url_content(url)\n",
    "\n",
    "    return rescontent\n",
    "\n"
   ]
  },
  {
   "cell_type": "markdown",
   "metadata": {},
   "outputs": [],
   "source": [
    "## Parser\n",
    "\n",
    "We will get the html content from the url which is not listed as we want it be, so we need parser to parse them into listed data, in json form."
   ]
  },
  {
   "cell_type": "code",
   "execution_count": 9,
   "metadata": {},
   "outputs": [],
   "source": [
    "from html.parser import HTMLParser\n",
    "\n",
    "class DimensionsHTMLParser(HTMLParser):\n",
    "    articles = []\n",
    "    in_article = False\n",
    "    is_next_trigger = False\n",
    "    next_trigger_url = ''\n",
    "\n",
    "    def handle_starttag(self, tag, attrs):\n",
    "        if tag == 'article':\n",
    "            self.in_article = True\n",
    "        \n",
    "        if self.in_article:\n",
    "            for attr in attrs:\n",
    "                if attr[0] == 'data-doc':\n",
    "                    self.articles.append(json.loads(attr[1]))\n",
    "                    break\n",
    "\n",
    "        if tag == 'a':\n",
    "            for attr in attrs:\n",
    "                if (attr[0] == 'class') and (attr[1] == 'nextPage-trigger'):\n",
    "                    self.is_next_trigger = True\n",
    "                if self.is_next_trigger and (attr[0] == 'href'):\n",
    "                    self.next_trigger_url = f'https://app.dimensions.ai{attr[1]}&{search_params}'\n",
    "                    break\n",
    "        return\n",
    "                    \n",
    "    def handle_endtag(self, tag):\n",
    "        if tag == 'article':\n",
    "            self.in_article = False\n",
    "        self.is_next_trigger = False\n",
    "        return\n",
    "\n",
    "    def handle_data(self, data):\n",
    "        pass\n",
    "\n",
    "    def handle_comment(self, data):\n",
    "        pass\n",
    "\n",
    "    def handle_entityref(self, name):\n",
    "        pass\n",
    "\n",
    "    def handle_charref(self, name):\n",
    "        pass\n",
    "\n",
    "    def handle_decl(self, data):\n",
    "        pass\n",
    "\n",
    "parser = DimensionsHTMLParser()"
   ]
  },
  {
   "cell_type": "markdown",
   "metadata": {},
   "outputs": [],
   "source": [
    "## Grab Data\n",
    "\n",
    "The data fetching starts from here."
   ]
  },
  {
   "cell_type": "code",
   "execution_count": 10,
   "metadata": {},
   "outputs": [
    {
     "name": "stdout",
     "output_type": "stream",
     "text": "https://app.dimensions.ai/discover/publication.contents.html?or_facet_year=2014&or_facet_year=2015&or_facet_year=2016&or_facet_year=2017&or_facet_source_title=jour.1138469\n0\nhttps://app.dimensions.ai/discover/publication.contents.html?or_facet_year=2014&or_facet_year=2015&or_facet_year=2016&or_facet_year=2017&or_facet_source_title=jour.1137699\n0\nhttps://app.dimensions.ai/discover/publication.contents.html?or_facet_year=2014&or_facet_year=2015&or_facet_year=2016&or_facet_year=2017&or_facet_source_title=jour.1138183\n0\nhttps://app.dimensions.ai/discover/publication.contents.html?or_facet_year=2014&or_facet_year=2015&or_facet_year=2016&or_facet_year=2017&or_facet_source_title=jour.1136096\n0\nhttps://app.dimensions.ai/discover/publication.contents.html?or_facet_year=2014&or_facet_year=2015&or_facet_year=2016&or_facet_year=2017&or_facet_source_title=jour.1327791\n0\nhttps://app.dimensions.ai/discover/publication.contents.html?or_facet_year=2014&or_facet_year=2015&or_facet_year=2016&or_facet_year=2017&or_facet_source_title=jour.1137863\n0\nhttps://app.dimensions.ai/discover/publication.contents.html?or_facet_year=2014&or_facet_year=2015&or_facet_year=2016&or_facet_year=2017&or_facet_source_title=jour.1143209\n0\nhttps://app.dimensions.ai/discover/publication.contents.html?or_facet_year=2014&or_facet_year=2015&or_facet_year=2016&or_facet_year=2017&or_facet_source_title=jour.1139701\n0\nhttps://app.dimensions.ai/discover/publication.contents.html?or_facet_year=2014&or_facet_year=2015&or_facet_year=2016&or_facet_year=2017&or_facet_source_title=jour.1143411\n0\nhttps://app.dimensions.ai/discover/publication.contents.html?or_facet_year=2014&or_facet_year=2015&or_facet_year=2016&or_facet_year=2017&or_facet_source_title=jour.1137906\n0\nhttps://app.dimensions.ai/discover/publication.contents.html?or_facet_year=2014&or_facet_year=2015&or_facet_year=2016&or_facet_year=2017&or_facet_source_title=jour.1138581\n0\nhttps://app.dimensions.ai/discover/publication.contents.html?or_facet_year=2014&or_facet_year=2015&or_facet_year=2016&or_facet_year=2017&or_facet_source_title=jour.1139403\n0\nhttps://app.dimensions.ai/discover/publication.contents.html?or_facet_year=2014&or_facet_year=2015&or_facet_year=2016&or_facet_year=2017&or_facet_source_title=jour.1138733\n0\nhttps://app.dimensions.ai/discover/publication.contents.html?or_facet_year=2014&or_facet_year=2015&or_facet_year=2016&or_facet_year=2017&or_facet_source_title=jour.1154206\n0\nhttps://app.dimensions.ai/discover/publication.contents.html?or_facet_year=2014&or_facet_year=2015&or_facet_year=2016&or_facet_year=2017&or_facet_source_title=jour.1141318\n0\nhttps://app.dimensions.ai/discover/publication.contents.html?or_facet_year=2014&or_facet_year=2015&or_facet_year=2016&or_facet_year=2017&or_facet_source_title=jour.1139447\n0\nhttps://app.dimensions.ai/discover/publication.contents.html?or_facet_year=2014&or_facet_year=2015&or_facet_year=2016&or_facet_year=2017&or_facet_source_title=jour.1138657\n0\nhttps://app.dimensions.ai/discover/publication.contents.html?or_facet_year=2014&or_facet_year=2015&or_facet_year=2016&or_facet_year=2017&or_facet_source_title=jour.1146976\n0\nhttps://app.dimensions.ai/discover/publication.contents.html?or_facet_year=2014&or_facet_year=2015&or_facet_year=2016&or_facet_year=2017&or_facet_source_title=jour.1145575\n0\nhttps://app.dimensions.ai/discover/publication.contents.html?or_facet_year=2014&or_facet_year=2015&or_facet_year=2016&or_facet_year=2017&or_facet_source_title=jour.1145276\n0\nReadTimeout: HTTPSConnectionPool(host='app.dimensions.ai', port=443): Read timed out. (read timeout=10)\nCPU times: user 6.13 s, sys: 356 ms, total: 6.48 s\nWall time: 5min 15s\n"
    }
   ],
   "source": [
    "%%time\n",
    "for index, row in journals.iterrows():\n",
    "    if index % 100 == 0:\n",
    "        print(index)\n",
    "    journal_search = row['search id']\n",
    "    # This is very important for data fetching, generally you get url in the form as 'https://app.dimensions.ai/discover/publication?and_facet_for=2209&and_facet_for=2202&or_facet_source_title=jour.1082997', and search_params is just the substring after '?'.\n",
    "    # Here is where we need to change for each search.\n",
    "    search_params = f'or_facet_year=2014&or_facet_year=2015&or_facet_year=2016&or_facet_year=2017&or_facet_source_title={journal_search}'\n",
    "    grab_url = f'https://app.dimensions.ai/discover/publication.contents.html?{search_params}'\n",
    "    print(grab_url)\n",
    "\n",
    "    parser.feed(grab_from_url_content(grab_url))\n",
    "    next_trigger_anchor = ''\n",
    "    i = 0\n",
    "    while parser.next_trigger_url != next_trigger_anchor:\n",
    "        if i % 100 == 0:\n",
    "            print(str(i))\n",
    "        i+=1\n",
    "        next_trigger_anchor = parser.next_trigger_url\n",
    "        parser.feed(grab_from_url_content(parser.next_trigger_url))"
   ]
  },
  {
   "cell_type": "code",
   "execution_count": 11,
   "metadata": {},
   "outputs": [
    {
     "name": "stdout",
     "output_type": "stream",
     "text": "2616\n"
    }
   ],
   "source": [
    "print(len(parser.articles))"
   ]
  },
  {
   "cell_type": "code",
   "execution_count": 12,
   "metadata": {},
   "outputs": [],
   "source": [
    "with open(f\"{origin_folder}/articles_{journals_index}.json\", \"w\") as dump_f:\n",
    "        dump_f.write(json.dumps(parser.articles))"
   ]
  },
  {
   "cell_type": "code",
   "execution_count": 13,
   "metadata": {},
   "outputs": [],
   "source": [
    "with open(f'{origin_folder}/articles_{journals_index}.json') as f:\n",
    "    articles = json.load(f)\n",
    "\n",
    "df_articles = pd.DataFrame(columns=['SO', 'SO_id', 'DI', 'dimensions_id'])\n",
    "\n",
    "for article in articles:\n",
    "    if 'doi' not in article:\n",
    "        continue\n",
    "    if article['doi'] in df_articles['DI']:\n",
    "        continue\n",
    "    df_article = pd.DataFrame(columns=['SO', 'SO_id', 'DI', 'dimensions_id'])\n",
    "    df_article['SO'] = [article['source_title']]\n",
    "    df_article['SO_id'] = [article['source_title_id']]\n",
    "    df_article['DI'] = [article['doi']]\n",
    "    df_article['dimensions_id'] = [article['id']]\n",
    "    df_articles = df_articles.append(df_article, ignore_index=True)\n",
    "\n",
    "df_articles.to_csv(f'{origin_folder}/articles_{journals_index}.csv', index=False)"
   ]
  },
  {
   "cell_type": "code",
   "metadata": {},
   "outputs": [],
   "source": []
  }
 ]
}