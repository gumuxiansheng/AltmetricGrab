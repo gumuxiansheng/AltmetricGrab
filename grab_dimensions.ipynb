{
 "cells": [
  {
   "cell_type": "markdown",
   "metadata": {},
   "source": [
    "# Grab Dimensions Data\n",
    "\n",
    "https://app.dimensions.ai/discover/publication\n",
    "\n",
    "This notebook handles the downloads of Dimensions data.\n"
   ]
  },
  {
   "cell_type": "code",
   "execution_count": 14,
   "metadata": {},
   "outputs": [],
   "source": [
    "import pandas as pd\n",
    "import numpy as np"
   ]
  },
  {
   "cell_type": "markdown",
   "metadata": {},
   "source": [
    "## Load Journals"
   ]
  },
  {
   "cell_type": "code",
   "execution_count": 15,
   "metadata": {},
   "outputs": [],
   "source": [
    "origin_folder = 'SUSTC_Journals'"
   ]
  },
  {
   "cell_type": "code",
   "execution_count": 16,
   "metadata": {},
   "outputs": [],
   "source": [
    "journals_file = f'{origin_folder}/ABS期刊汇总_DimentionsSearch.csv'\n",
    "journals = pd.read_csv(journals_file, usecols=['search title', 'search id'])\n",
    "journals = journals.dropna()"
   ]
  },
  {
   "cell_type": "code",
   "execution_count": 17,
   "metadata": {},
   "outputs": [
    {
     "data": {
      "text/plain": [
       "1074"
      ]
     },
     "execution_count": 17,
     "metadata": {},
     "output_type": "execute_result"
    }
   ],
   "source": [
    "len(journals)"
   ]
  },
  {
   "cell_type": "code",
   "execution_count": 18,
   "metadata": {},
   "outputs": [],
   "source": [
    "journals_index = '500-600'"
   ]
  },
  {
   "cell_type": "code",
   "execution_count": 19,
   "metadata": {},
   "outputs": [],
   "source": [
    "start = int(journals_index.split('-')[0])\n",
    "end = int(journals_index.split('-')[1])\n",
    "journals = journals[start - 1:end]"
   ]
  },
  {
   "cell_type": "code",
   "execution_count": 20,
   "metadata": {},
   "outputs": [
    {
     "data": {
      "text/html": [
       "<div>\n",
       "<style scoped>\n",
       "    .dataframe tbody tr th:only-of-type {\n",
       "        vertical-align: middle;\n",
       "    }\n",
       "\n",
       "    .dataframe tbody tr th {\n",
       "        vertical-align: top;\n",
       "    }\n",
       "\n",
       "    .dataframe thead th {\n",
       "        text-align: right;\n",
       "    }\n",
       "</style>\n",
       "<table border=\"1\" class=\"dataframe\">\n",
       "  <thead>\n",
       "    <tr style=\"text-align: right;\">\n",
       "      <th></th>\n",
       "      <th>search title</th>\n",
       "      <th>search id</th>\n",
       "    </tr>\n",
       "  </thead>\n",
       "  <tbody>\n",
       "    <tr>\n",
       "      <td>753</td>\n",
       "      <td>Multinational Business Review</td>\n",
       "      <td>jour.1143126</td>\n",
       "    </tr>\n",
       "    <tr>\n",
       "      <td>754</td>\n",
       "      <td>Review of African Political Economy</td>\n",
       "      <td>jour.1027711</td>\n",
       "    </tr>\n",
       "    <tr>\n",
       "      <td>755</td>\n",
       "      <td>Third World Quarterly</td>\n",
       "      <td>jour.1027395</td>\n",
       "    </tr>\n",
       "    <tr>\n",
       "      <td>756</td>\n",
       "      <td>Thunderbird International Business Review</td>\n",
       "      <td>jour.1137645</td>\n",
       "    </tr>\n",
       "    <tr>\n",
       "      <td>757</td>\n",
       "      <td>Transnational Corporations</td>\n",
       "      <td>jour.1148798</td>\n",
       "    </tr>\n",
       "    <tr>\n",
       "      <td>...</td>\n",
       "      <td>...</td>\n",
       "      <td>...</td>\n",
       "    </tr>\n",
       "    <tr>\n",
       "      <td>898</td>\n",
       "      <td>European Journal of Innovation Management</td>\n",
       "      <td>jour.1141378</td>\n",
       "    </tr>\n",
       "    <tr>\n",
       "      <td>899</td>\n",
       "      <td>International Journal of Business Innovation a...</td>\n",
       "      <td>jour.1142273</td>\n",
       "    </tr>\n",
       "    <tr>\n",
       "      <td>901</td>\n",
       "      <td>International Journal of Foresight and Innovat...</td>\n",
       "      <td>jour.1144936</td>\n",
       "    </tr>\n",
       "    <tr>\n",
       "      <td>902</td>\n",
       "      <td>International Journal of Innovation and Techno...</td>\n",
       "      <td>jour.1140882</td>\n",
       "    </tr>\n",
       "    <tr>\n",
       "      <td>904</td>\n",
       "      <td>International Journal of Technology Intelligen...</td>\n",
       "      <td>jour.1143766</td>\n",
       "    </tr>\n",
       "  </tbody>\n",
       "</table>\n",
       "<p>101 rows × 2 columns</p>\n",
       "</div>"
      ],
      "text/plain": [
       "                                          search title     search id\n",
       "753                      Multinational Business Review  jour.1143126\n",
       "754                Review of African Political Economy  jour.1027711\n",
       "755                              Third World Quarterly  jour.1027395\n",
       "756          Thunderbird International Business Review  jour.1137645\n",
       "757                         Transnational Corporations  jour.1148798\n",
       "..                                                 ...           ...\n",
       "898          European Journal of Innovation Management  jour.1141378\n",
       "899  International Journal of Business Innovation a...  jour.1142273\n",
       "901  International Journal of Foresight and Innovat...  jour.1144936\n",
       "902  International Journal of Innovation and Techno...  jour.1140882\n",
       "904  International Journal of Technology Intelligen...  jour.1143766\n",
       "\n",
       "[101 rows x 2 columns]"
      ]
     },
     "execution_count": 20,
     "metadata": {},
     "output_type": "execute_result"
    }
   ],
   "source": [
    "journals"
   ]
  },
  {
   "cell_type": "markdown",
   "metadata": {},
   "source": [
    "## Request Functions\n",
    "\n",
    "This part contains functions we need to fetch the web data and should also handle the exceptions while fetching here."
   ]
  },
  {
   "cell_type": "code",
   "execution_count": 21,
   "metadata": {},
   "outputs": [],
   "source": [
    "import requests\n",
    "import json\n",
    "\n",
    "from requests import ConnectionError, ReadTimeout\n",
    "\n",
    "def grab_from_url_content(url):\n",
    "    headers = {'Accept': '* / *',\n",
    "               'Accept-Language': 'zh-TW, zh; q=0.9, en-US; q=0.8, en; q=0.7, zh-CN; q=0.6',\n",
    "               'User-Agent': 'Mozilla/5.0 (Macintosh; Intel Mac OS X 10_14_1) AppleWebKit/537.36 (KHTML, like Gecko) Chrome/72.0.3610.2 Safari/537.36'\n",
    "               }\n",
    "    rescontent = ''\n",
    "    try:\n",
    "        res = requests.get(url, headers=headers, timeout=10)\n",
    "        rescontent = res.text\n",
    "    except ConnectionError as ce:\n",
    "        print('ConnectionError: ' + str(ce))\n",
    "        return grab_from_url_content(url)\n",
    "    except ReadTimeout as rte:\n",
    "        print('ReadTimeout: ' + str(rte))\n",
    "        return grab_from_url_content(url)\n",
    "\n",
    "    return rescontent\n",
    "\n"
   ]
  },
  {
   "cell_type": "markdown",
   "metadata": {},
   "source": [
    "## Parser\n",
    "\n",
    "We will get the html content from the url which is not listed as we want it be, so we need parser to parse them into listed data, in json form."
   ]
  },
  {
   "cell_type": "code",
   "execution_count": 22,
   "metadata": {},
   "outputs": [],
   "source": [
    "from html.parser import HTMLParser\n",
    "\n",
    "class DimensionsHTMLParser(HTMLParser):\n",
    "    articles = []\n",
    "    in_article = False\n",
    "    is_next_trigger = False\n",
    "    next_trigger_url = ''\n",
    "\n",
    "    def handle_starttag(self, tag, attrs):\n",
    "        if tag == 'article':\n",
    "            self.in_article = True\n",
    "        \n",
    "        if self.in_article:\n",
    "            for attr in attrs:\n",
    "                if attr[0] == 'data-doc':\n",
    "                    self.articles.append(json.loads(attr[1]))\n",
    "                    break\n",
    "\n",
    "        if tag == 'a':\n",
    "            for attr in attrs:\n",
    "                if (attr[0] == 'class') and (attr[1] == 'nextPage-trigger'):\n",
    "                    self.is_next_trigger = True\n",
    "                if self.is_next_trigger and (attr[0] == 'href'):\n",
    "                    self.next_trigger_url = f'https://app.dimensions.ai{attr[1]}&{search_params}'\n",
    "                    break\n",
    "        return\n",
    "                    \n",
    "    def handle_endtag(self, tag):\n",
    "        if tag == 'article':\n",
    "            self.in_article = False\n",
    "        self.is_next_trigger = False\n",
    "        return\n",
    "\n",
    "    def handle_data(self, data):\n",
    "        pass\n",
    "\n",
    "    def handle_comment(self, data):\n",
    "        pass\n",
    "\n",
    "    def handle_entityref(self, name):\n",
    "        pass\n",
    "\n",
    "    def handle_charref(self, name):\n",
    "        pass\n",
    "\n",
    "    def handle_decl(self, data):\n",
    "        pass\n",
    "\n",
    "parser = DimensionsHTMLParser()"
   ]
  },
  {
   "cell_type": "markdown",
   "metadata": {},
   "source": [
    "## Grab Data\n",
    "\n",
    "The data fetching starts from here."
   ]
  },
  {
   "cell_type": "code",
   "execution_count": null,
   "metadata": {},
   "outputs": [
    {
     "name": "stdout",
     "output_type": "stream",
     "text": [
      "https://app.dimensions.ai/discover/publication.contents.html?or_facet_year=2014&or_facet_year=2015&or_facet_year=2016&or_facet_year=2017&or_facet_year=2018&or_facet_source_title=jour.1143126\n",
      "0\n",
      "https://app.dimensions.ai/discover/publication.contents.html?or_facet_year=2014&or_facet_year=2015&or_facet_year=2016&or_facet_year=2017&or_facet_year=2018&or_facet_source_title=jour.1027711\n",
      "0\n",
      "10\n",
      "https://app.dimensions.ai/discover/publication.contents.html?or_facet_year=2014&or_facet_year=2015&or_facet_year=2016&or_facet_year=2017&or_facet_year=2018&or_facet_source_title=jour.1027395\n",
      "0\n",
      "10\n",
      "20\n",
      "ReadTimeout: HTTPSConnectionPool(host='app.dimensions.ai', port=443): Read timed out. (read timeout=10)\n",
      "30\n",
      "https://app.dimensions.ai/discover/publication.contents.html?or_facet_year=2014&or_facet_year=2015&or_facet_year=2016&or_facet_year=2017&or_facet_year=2018&or_facet_source_title=jour.1137645\n",
      "0\n",
      "10\n",
      "https://app.dimensions.ai/discover/publication.contents.html?or_facet_year=2014&or_facet_year=2015&or_facet_year=2016&or_facet_year=2017&or_facet_year=2018&or_facet_source_title=jour.1148798\n",
      "0\n",
      "https://app.dimensions.ai/discover/publication.contents.html?or_facet_year=2014&or_facet_year=2015&or_facet_year=2016&or_facet_year=2017&or_facet_year=2018&or_facet_source_title=jour.1143269\n",
      "0\n",
      "https://app.dimensions.ai/discover/publication.contents.html?or_facet_year=2014&or_facet_year=2015&or_facet_year=2016&or_facet_year=2017&or_facet_year=2018&or_facet_source_title=jour.1144593\n",
      "0\n",
      "https://app.dimensions.ai/discover/publication.contents.html?or_facet_year=2014&or_facet_year=2015&or_facet_year=2016&or_facet_year=2017&or_facet_year=2018&or_facet_source_title=jour.1141546\n",
      "0\n",
      "10\n",
      "https://app.dimensions.ai/discover/publication.contents.html?or_facet_year=2014&or_facet_year=2015&or_facet_year=2016&or_facet_year=2017&or_facet_year=2018&or_facet_source_title=jour.1141546\n",
      "0\n",
      "10\n",
      "https://app.dimensions.ai/discover/publication.contents.html?or_facet_year=2014&or_facet_year=2015&or_facet_year=2016&or_facet_year=2017&or_facet_year=2018&or_facet_source_title=jour.1145503\n",
      "0\n",
      "https://app.dimensions.ai/discover/publication.contents.html?or_facet_year=2014&or_facet_year=2015&or_facet_year=2016&or_facet_year=2017&or_facet_year=2018&or_facet_source_title=jour.1142423\n",
      "0\n",
      "https://app.dimensions.ai/discover/publication.contents.html?or_facet_year=2014&or_facet_year=2015&or_facet_year=2016&or_facet_year=2017&or_facet_year=2018&or_facet_source_title=jour.1141904\n",
      "0\n",
      "10\n",
      "https://app.dimensions.ai/discover/publication.contents.html?or_facet_year=2014&or_facet_year=2015&or_facet_year=2016&or_facet_year=2017&or_facet_year=2018&or_facet_source_title=jour.1142381\n",
      "0\n",
      "https://app.dimensions.ai/discover/publication.contents.html?or_facet_year=2014&or_facet_year=2015&or_facet_year=2016&or_facet_year=2017&or_facet_year=2018&or_facet_source_title=jour.1145692\n",
      "0\n",
      "https://app.dimensions.ai/discover/publication.contents.html?or_facet_year=2014&or_facet_year=2015&or_facet_year=2016&or_facet_year=2017&or_facet_year=2018&or_facet_source_title=jour.1143156\n",
      "0\n",
      "https://app.dimensions.ai/discover/publication.contents.html?or_facet_year=2014&or_facet_year=2015&or_facet_year=2016&or_facet_year=2017&or_facet_year=2018&or_facet_source_title=jour.1226807\n",
      "0\n",
      "https://app.dimensions.ai/discover/publication.contents.html?or_facet_year=2014&or_facet_year=2015&or_facet_year=2016&or_facet_year=2017&or_facet_year=2018&or_facet_source_title=jour.1141567\n",
      "0\n",
      "https://app.dimensions.ai/discover/publication.contents.html?or_facet_year=2014&or_facet_year=2015&or_facet_year=2016&or_facet_year=2017&or_facet_year=2018&or_facet_source_title=jour.1143922\n",
      "0\n",
      "https://app.dimensions.ai/discover/publication.contents.html?or_facet_year=2014&or_facet_year=2015&or_facet_year=2016&or_facet_year=2017&or_facet_year=2018&or_facet_source_title=jour.1142829\n",
      "0\n",
      "https://app.dimensions.ai/discover/publication.contents.html?or_facet_year=2014&or_facet_year=2015&or_facet_year=2016&or_facet_year=2017&or_facet_year=2018&or_facet_source_title=jour.1156066\n",
      "0\n",
      "https://app.dimensions.ai/discover/publication.contents.html?or_facet_year=2014&or_facet_year=2015&or_facet_year=2016&or_facet_year=2017&or_facet_year=2018&or_facet_source_title=jour.1226062\n",
      "0\n",
      "https://app.dimensions.ai/discover/publication.contents.html?or_facet_year=2014&or_facet_year=2015&or_facet_year=2016&or_facet_year=2017&or_facet_year=2018&or_facet_source_title=jour.1136283\n",
      "0\n",
      "https://app.dimensions.ai/discover/publication.contents.html?or_facet_year=2014&or_facet_year=2015&or_facet_year=2016&or_facet_year=2017&or_facet_year=2018&or_facet_source_title=jour.1139732\n",
      "0\n",
      "https://app.dimensions.ai/discover/publication.contents.html?or_facet_year=2014&or_facet_year=2015&or_facet_year=2016&or_facet_year=2017&or_facet_year=2018&or_facet_source_title=jour.1139101\n",
      "0\n",
      "10\n",
      "https://app.dimensions.ai/discover/publication.contents.html?or_facet_year=2014&or_facet_year=2015&or_facet_year=2016&or_facet_year=2017&or_facet_year=2018&or_facet_source_title=jour.1126059\n",
      "0\n",
      "10\n",
      "https://app.dimensions.ai/discover/publication.contents.html?or_facet_year=2014&or_facet_year=2015&or_facet_year=2016&or_facet_year=2017&or_facet_year=2018&or_facet_source_title=jour.1126882\n",
      "0\n",
      "10\n",
      "https://app.dimensions.ai/discover/publication.contents.html?or_facet_year=2014&or_facet_year=2015&or_facet_year=2016&or_facet_year=2017&or_facet_year=2018&or_facet_source_title=jour.1095810\n",
      "0\n",
      "10\n",
      "20\n",
      "30\n",
      "40\n",
      "50\n",
      "60\n",
      "ReadTimeout: HTTPSConnectionPool(host='app.dimensions.ai', port=443): Read timed out. (read timeout=10)\n",
      "70\n",
      "80\n",
      "90\n",
      "100\n",
      "110\n",
      "120\n",
      "130\n",
      "140\n",
      "150\n",
      "160\n",
      "https://app.dimensions.ai/discover/publication.contents.html?or_facet_year=2014&or_facet_year=2015&or_facet_year=2016&or_facet_year=2017&or_facet_year=2018&or_facet_source_title=jour.1044570\n",
      "0\n",
      "10\n",
      "20\n",
      "30\n",
      "https://app.dimensions.ai/discover/publication.contents.html?or_facet_year=2014&or_facet_year=2015&or_facet_year=2016&or_facet_year=2017&or_facet_year=2018&or_facet_source_title=jour.1048382\n",
      "0\n",
      "https://app.dimensions.ai/discover/publication.contents.html?or_facet_year=2014&or_facet_year=2015&or_facet_year=2016&or_facet_year=2017&or_facet_year=2018&or_facet_source_title=jour.1128045\n",
      "0\n",
      "10\n",
      "20\n",
      "30\n",
      "40\n",
      "50\n",
      "60\n",
      "70\n",
      "80\n",
      "90\n",
      "100\n",
      "110\n"
     ]
    }
   ],
   "source": [
    "%%time\n",
    "for index, row in journals.iterrows():\n",
    "    if index % 100 == 0:\n",
    "        print('index:', index)\n",
    "    journal_search = row['search id']\n",
    "    # This is very important for data fetching, generally you get url in the form as 'https://app.dimensions.ai/discover/publication?and_facet_for=2209&and_facet_for=2202&or_facet_source_title=jour.1082997', and search_params is just the substring after '?'.\n",
    "    # Here is where we need to change for each search.\n",
    "    search_params = f'or_facet_year=2014&or_facet_year=2015&or_facet_year=2016&or_facet_year=2017&or_facet_year=2018&or_facet_source_title={journal_search}'\n",
    "    grab_url = f'https://app.dimensions.ai/discover/publication.contents.html?{search_params}'\n",
    "    print(grab_url)\n",
    "\n",
    "    parser.feed(grab_from_url_content(grab_url))\n",
    "    next_trigger_anchor = ''\n",
    "    i = 0\n",
    "    while parser.next_trigger_url != next_trigger_anchor:\n",
    "        if i % 10 == 0:\n",
    "            print(str(i))\n",
    "        i+=1\n",
    "        next_trigger_anchor = parser.next_trigger_url\n",
    "        parser.feed(grab_from_url_content(parser.next_trigger_url))"
   ]
  },
  {
   "cell_type": "code",
   "execution_count": null,
   "metadata": {},
   "outputs": [],
   "source": [
    "print(len(parser.articles))"
   ]
  },
  {
   "cell_type": "code",
   "execution_count": null,
   "metadata": {},
   "outputs": [],
   "source": [
    "with open(f\"{origin_folder}/articles_{journals_index}.json\", \"w\") as dump_f:\n",
    "        dump_f.write(json.dumps(parser.articles))"
   ]
  },
  {
   "cell_type": "code",
   "execution_count": null,
   "metadata": {},
   "outputs": [],
   "source": [
    "with open(f'{origin_folder}/articles_{journals_index}.json') as f:\n",
    "    articles = json.load(f)\n",
    "\n",
    "df_articles = pd.DataFrame(columns=['SO', 'SO_id', 'DI', 'dimensions_id'])\n",
    "\n",
    "for article in articles:\n",
    "    if 'doi' not in article:\n",
    "        continue\n",
    "    if article['doi'] in df_articles['DI']:\n",
    "        continue\n",
    "    df_article = pd.DataFrame(columns=['SO', 'SO_id', 'DI', 'dimensions_id'])\n",
    "    df_article['SO'] = [article['source_title']]\n",
    "    df_article['SO_id'] = [article['source_title_id']]\n",
    "    df_article['DI'] = [article['doi']]\n",
    "    df_article['dimensions_id'] = [article['id']]\n",
    "    df_articles = df_articles.append(df_article, ignore_index=True)\n",
    "\n",
    "df_articles.to_csv(f'{origin_folder}/articles_{journals_index}.csv', index=False)"
   ]
  },
  {
   "cell_type": "code",
   "execution_count": null,
   "metadata": {},
   "outputs": [],
   "source": []
  }
 ],
 "metadata": {
  "file_extension": ".py",
  "kernelspec": {
   "display_name": "Python 3",
   "language": "python",
   "name": "python3"
  },
  "language_info": {
   "codemirror_mode": {
    "name": "ipython",
    "version": 3
   },
   "file_extension": ".py",
   "mimetype": "text/x-python",
   "name": "python",
   "nbconvert_exporter": "python",
   "pygments_lexer": "ipython3",
   "version": "3.7.4"
  },
  "mimetype": "text/x-python",
  "name": "python",
  "npconvert_exporter": "python",
  "pygments_lexer": "ipython3",
  "version": 3
 },
 "nbformat": 4,
 "nbformat_minor": 2
}
