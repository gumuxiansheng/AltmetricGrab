{
 "nbformat": 4,
 "nbformat_minor": 2,
 "metadata": {
  "language_info": {
   "name": "python",
   "codemirror_mode": {
    "name": "ipython",
    "version": 3
   }
  },
  "orig_nbformat": 2,
  "file_extension": ".py",
  "mimetype": "text/x-python",
  "name": "python",
  "npconvert_exporter": "python",
  "pygments_lexer": "ipython3",
  "version": 3
 },
 "cells": [
  {
   "cell_type": "markdown",
   "execution_count": null,
   "metadata": {},
   "outputs": [],
   "source": [
    "# Grab PlumX Data"
   ]
  },
  {
   "cell_type": "markdown",
   "execution_count": null,
   "metadata": {},
   "outputs": [],
   "source": [
    "## Request Functions\n",
    "This part contains functions we need to fetch the web data and should also handle the exceptions while fetching here."
   ]
  },
  {
   "cell_type": "code",
   "execution_count": 2,
   "metadata": {},
   "outputs": [],
   "source": [
    "from grab_util import *\n",
    "import json\n",
    "import pandas as pd\n",
    "import numpy as np\n",
    "import math\n"
   ]
  },
  {
   "cell_type": "code",
   "execution_count": 3,
   "metadata": {},
   "outputs": [],
   "source": [
    "origin_folder = 'data/outputs/OR'"
   ]
  },
  {
   "cell_type": "markdown",
   "execution_count": null,
   "metadata": {},
   "outputs": [],
   "source": [
    "## Grab PlumX from API"
   ]
  },
  {
   "cell_type": "code",
   "execution_count": 3,
   "metadata": {},
   "outputs": [],
   "source": [
    "all_articles_df = pd.read_excel(f'{origin_folder}/all.xlsx', usecols=['SO', 'DI'])"
   ]
  },
  {
   "cell_type": "code",
   "execution_count": 9,
   "metadata": {},
   "outputs": [
    {
     "name": "stdout",
     "output_type": "stream",
     "text": "2600\n2700\n2800\n2900\n3000\n3100\n3200\n3300\nReadTimeout: HTTPSConnectionPool(host='plu.mx', port=443): Read timed out. (read timeout=10)\n3500\n3600\n3700\n3800\n3900\n4000\n4100\n4200\n4300\n4400\nReadTimeout: HTTPSConnectionPool(host='plu.mx', port=443): Read timed out. (read timeout=10)\n4500\n4600\n4700\nReadTimeout: HTTPSConnectionPool(host='plu.mx', port=443): Read timed out. (read timeout=10)\nReadTimeout: HTTPSConnectionPool(host='plu.mx', port=443): Read timed out. (read timeout=10)\nReadTimeout: HTTPSConnectionPool(host='plu.mx', port=443): Read timed out. (read timeout=10)\n4800\nReadTimeout: HTTPSConnectionPool(host='plu.mx', port=443): Read timed out. (read timeout=10)\nReadTimeout: HTTPSConnectionPool(host='plu.mx', port=443): Read timed out. (read timeout=10)\n4900\n5000\n5100\n5200\n5300\nReadTimeout: HTTPSConnectionPool(host='plu.mx', port=443): Read timed out. (read timeout=10)\nReadTimeout: HTTPSConnectionPool(host='plu.mx', port=443): Read timed out. (read timeout=10)\n5400\n5500\n5600\n5700\nReadTimeout: HTTPSConnectionPool(host='plu.mx', port=443): Read timed out. (read timeout=10)\n5800\n5900\n6000\nReadTimeout: HTTPSConnectionPool(host='plu.mx', port=443): Read timed out. (read timeout=10)\nReadTimeout: HTTPSConnectionPool(host='plu.mx', port=443): Read timed out. (read timeout=10)\n6100\nReadTimeout: HTTPSConnectionPool(host='plu.mx', port=443): Read timed out. (read timeout=10)\n6200\nReadTimeout: HTTPSConnectionPool(host='plu.mx', port=443): Read timed out. (read timeout=10)\n6300\n6400\n6500\nReadTimeout: HTTPSConnectionPool(host='plu.mx', port=443): Read timed out. (read timeout=10)\n6600\nReadTimeout: HTTPSConnectionPool(host='plu.mx', port=443): Read timed out. (read timeout=10)\n6700\n"
    },
    {
     "data": {
      "text/plain": "COUNT',\n      'links': [{'href': 'http://plum-api/displayApi/1/artifacts/doi/10.1016/j.eswa.2014.11.063?auth=C6715iu7PSsy-gvnFTZZgLOs&/metricsEvidence/twitter',\n        'rel': 'metricsEvidence/twitter'}]}],\n    'total': 2,\n    'name': 'socialMedia'}},\n  'document_type': 'ARTIFACT',\n  'bibliographic_data': {'publisher': 'Elsevier BV',\n   'artifact_title': 'Extending knowledge-driven activity models through data-driven learning techniques',\n   'start_page': '3115',\n   'description': 'Knowledge-driven activity recognition is an emerging and promising research area which has already shown very interesting features and advantages. However, there are also some drawbacks, such as the usage of generic and static activity models. This paper presents an approach to using data-driven techniques to evolve knowledge-driven activity models with a user’s behavioral data. The approach includes a novel clustering process where initial incomplete models developed through knowledge engineering are used to detect action clusters which represent activities and aggregate new actions. Based on those action clusters, a learning process is then designed to learn and model varying ways of performing activities in order to acquire complete and specialized activity models. The approach has been tested with real users’ inputs, noisy sensors and demanding activity sequences. Initial results have shown that complete and specialized activity models are properly learned with success rates of 100% at the expense of learning some false positive models.',\n   'tags': ['Engineering', 'Computer Science'],\n   'issn': '09574174',\n   'publication_title': 'Expert Systems with Applications',\n   'publication_year': '2015',\n   'volume': '42',\n   'page_range': '3115-3128',\n   'authors': ['Gorka Azkune',\n    'Aitor Almeida',\n    'Diego López-de-Ipiña',\n    'Liming Chen'],\n   'publication_date': '2015-04-15T00:00:00.000Z+0000',\n   'issue': '6',\n   'end_page': '3128'},\n  'id': '-tXQjpZUXD9CiZVnKwkx_aj4Gb8sILjlwc73o3jTmik'},\n '10.1016/j.eswa.2014.11.052': {'identifier': {'url_id': ['http://www.sciencedirect.com/science/article/pii/S0957417414007519',\n    'http://dx.doi.org/10.1016/j.eswa.2014.11.052',\n    'http://www.scopus.com/inward/record.url?partnerID=HzOxMe3b&scp=84919797889&origin=inward',\n    'https://linkinghub.elsevier.com/retrieve/pii/S0957417414007519',\n    'https://api.elsevier.com/content/article/PII:S0957417414007519?httpAccept=text/xml',\n    'https://api.elsevier.com/content/article/PII:S0957417414007519?httpAccept=text/plain',\n    'http://linkinghub.elsevier.com/retrieve/pii/S0957417414007519',\n    'http://www.sciencedirect.com/science/article/pii/S0957417414007519?via%3Dihub',\n    'http://api.elsevier.com/content/article/PII:S0957417414007519?httpAccept=text/xml',\n    'http://api.elsevier.com/content/article/PII:S0957417414007519?httpAccept=text/plain'],\n   'doi': [{'link': 'http://doi.org/10.1016/j.eswa.2014.11.052',\n     'value': '10.1016/j.eswa.2014.11.052'}]},\n  'most_recent_metrics_evidence': {},\n  'plum_print_counts': {'usage': {'total': 209, 'name': 'usage'},\n   'capture': {'total': 56, 'name': 'capture'},\n   'citation': {'total': 21, 'name': 'citation'}},\n  'request_id': '10.1016/j.eswa.2014.11.052',\n  'artifact_type': 'ARTICLE',\n  'sort_count': {'usage': {'count_types': [{'sources': [{'total': 191,\n        'name': 'EBSCO'}],\n      'total': 191,\n      'name': 'ABSTRACT_VIEWS'},\n     {'sources': [{'total': 18, 'name': 'EBSCO'}],\n      'total': 18,\n      'name': 'LINK_OUTS'}],\n    'total': 209,\n    'name': 'usage'},\n   'capture': {'count_types': [{'sources': [{'total': 54,\n        'name': 'Mendeley',\n        'uri': 'https://www.mendeley.com/research-papers/using-genetic-programming-simulation-learn-dynamically-adapt-number-cards-reactive-pull-systems'},\n       {'total': 1,\n        'name': 'Mendeley',\n        'uri': 'https://www.mendeley.com/research-papers/expert-systems-applications-using-genetic-programming-simulation-learn-dynamically-adapt-number-card'}],\n      'total': 55,\n      'name': 'READER_COUNT'},\n     {'sources': [{'total': 1, 'name': 'EBSCO'}],\n      'total': 1,\n      'name': 'EXPORTS_SAVES'}],\n    'total': 56,\n    'name': 'capture'},\n   'citation': {'count_types': [{'sources': [{'total': 21,\n        'name': 'Scopus',\n        'uri': 'https://www.scopus.com/inward/citedby.uri?partnerID=HzOxMe3b&scp=84919797889&origin=inward'},\n       {'total': 5, 'name': 'CrossRef'}],\n      'total': 21,\n      'name': 'CITED_BY_COUNT'}],\n    'total': 21,\n    'name': 'citation'}},\n  'document_type': 'ARTIFACT',\n  'bibliographic_data': {'publisher': 'Elsevier BV',\n   'artifact_title': 'Using genetic programming and simulation to learn how to dynamically adapt the number of cards in reactive pull systems',\n   'start_page': '3129',\n   'description': 'Pull control systems are now widely used in many types of production systems. For those based on cards, determining their number is an important issue. When the system is submitted to changes in supply and demand, several researchers have demonstrated the benefits of changing this number dynamically. Defining when and how to do so is known as a difficult problem, especially when such modifications in customer demands are unpredictable and the system behavior is stochastic. This paper proposes a Simulation-based Genetic Programming approach to learn how to decide, i.e., to generate a decision logic that specifies under which circumstances it is worth modifying the number of cards. It aims at eliciting the underlying knowledge through a decision tree that uses the current system state as input and returns the suggested modifications of the number of cards as output. Contrarily to the few learning approaches presented in the literature, no training set is used, which represents a major advantage when real-time decisions have to be learnt. An adaptive ConWIP system, taken from the literature, is used to illustrate the relevance of our approach. The comparison made shows that it can yield better results, and generate the knowledge in an autonomous way. This knowledge is expressed under the form of a decision tree that can be understood and exploited by the decision maker, or by an automated on-line decision support system providing a self-adaptation component to the manufacturing system.',\n   'tags': ['Engineering', 'Computer Science'],\n   'issn': '09574174',\n   'publication_title': 'Expert Systems with Applications',\n   'publication_year': '2015',\n   'volume': '42',\n   'page_range': '3129-3141',\n   'authors': ['Lorena Silva Belisário', 'Henri Pierreval'],\n   'publication_date': '2015-04-15T00:00:00.000Z+0000',\n   'issue': '6',\n   'end_page': '3141'},\n  'id': '0bKboaPCc85CTjKGHH-cgLVIkYyy5vAHzjZnEbRHbtU'},\n '10.1016/j.eswa.2014.12.002': {'identifier': {'url_id': ['http://www.sciencedirect.com/science/article/pii/S0957417414007672',\n    'http://dx.doi.org/10.1016/j.eswa.2014.12.002',\n    'http://www.scopus.com/inward/record.url?partnerID=HzOxMe3b&scp=84919798330&origin=inward',\n    'https://linkinghub.elsevier.com/retrieve/pii/S0957417414007672',\n    'https://api.elsevier.com/content/article/PII:S0957417414007672?httpAccept=text/xml',\n    'https://api.elsevier.com/content/article/PII:S0957417414007672?httpAccept=text/plain',\n    'http://linkinghub.elsevier.com/retrieve/pii/S0957417414007672',\n    'http://api.elsevier.com/content/article/PII:S0957417414007672?httpAccept=text/plain',\n    'http://api.elsevier.com/content/article/PII:S0957417414007672?httpAccept=text/xml'],\n   'doi': [{'link': 'http://doi.org/10.1016/j.eswa.2014.12.002',\n     'value': '10.1016/j.eswa.2014.12.002'}]},\n  'most_recent_metrics_evidence': {},\n  'plum_print_counts': {'usage': {'total': 42, 'name': 'usage'},\n   'capture': {'total': 64, 'name': 'capture'},\n   'citation': {'total': 12, 'name': 'citation'},\n   'social_media': {'total': 9, 'name': 'socialMedia'}},\n  'request_id': '10.1016/j.eswa.2014.12.002',\n  'artifact_type': 'ARTICLE',\n  'sort_count': {'usage': {'count_types': [{'sources': [{'total': 36,\n        'name': 'EBSCO'}],\n      'total': 36,\n      'name': 'ABSTRACT_VIEWS'},\n     {'sources': [{'total': 6, 'name': 'EBSCO'}],\n      'total': 6,\n      'name': 'LINK_OUTS'}],\n    'total': 42,\n    'name': 'usage'},\n   'capture': {'count_types': [{'sources': [{'total': 61,\n        'name': 'Mendeley',\n        'uri': 'https://www.mendeley.com/research-papers/nearest-neighbor-classification-categorical-data-attributes-weighting'},\n       {'total': 3,\n        'name': 'Mendeley',\n        'uri': 'https://www.mendeley.com/research-papers/expert-systems-applications-nearest-neighbor-classification-categorical-data-attributes-weighting'}],\n      'total': 64,\n      'name': 'READER_COUNT'}],\n    'total': 64,\n    'name': 'capture'},\n   'citation': {'count_types': [{'sources': [{'total': 12,\n        'name': 'Scopus',\n        'uri': 'https://www.scopus.com/inward/citedby.uri?partnerID=HzOxMe3b&scp=84919798330&origin=inward'},\n       {'total': 5, 'name': 'CrossRef'}],\n      'total': 12,\n      'name': 'CITED_BY_COUNT'}],\n    'total': 12,\n    'name': 'citation'},\n   'social_media': {'count_types': [{'sources': [{'total': 9,\n        'name': 'Facebook'}],\n      'total': 9,\n      'name': 'FACEBOOK_COUNT'}],\n    'total': 9,\n    'name': 'socialMedia'}},\n  'document_type': 'ARTIFACT',\n  'bibliographic_data': {'publisher': 'Elsevier BV',\n   'artifact_title': 'Nearest neighbor classification of categorical data by attributes weighting',\n   'start_page': '3142',\n   'description': 'Subspace classification of categorical data is an essential process for many real-world applications such as computer-aided medical diagnosis and collaborative recommendation. The nearest neighbor classifiers have sparked wide interest from these applications because of their simplicity and flexibility. However, they become ineffective when applied to categorical data, due to the lack of a well-defined distance measure used to compute dissimilarities between categorical samples in the projected subspaces. In this paper, we tackle the problem by defining a series of weighted distance functions for categorical attributes, and applying them to derive new nearest neighbor classifiers. Four attribute-weighting measures are proposed, with two defined on global feature-ranking approaches while the other two on local approaches. The experimental results conducted on real categorical data sets demonstrate that all four classifiers outperform consistently the traditional methods, and show the suitability of the proposal for the real applications in terms of automated feature selection.',\n   'tags': ['Engineering', 'Computer Science'],\n   'issn': '09574174',\n   'publication_title': 'Expert Systems with Applications',\n   'publication_year': '2015',\n   'volume': '42',\n   'page_range': '3142-3149',\n   'authors': ['Lifei Chen', 'Gongde Guo'],\n   'publication_date': '2015-04-15T00:00:00.000Z+0000',\n   'issue': '6',\n   'end_page': '3149'},\n  'id': '7KPXpUtPDWfkQzs4BsrgCpvQ8RtzLllC0B6FcdPfBS0'},\n '10.1016/j.eswa.2014.12.007': {'identifier': {'url_id': ['http://www.sciencedirect.com/science/article/pii/S0957417414007738',\n    'http://dx.doi.org/10.1016/j.eswa.2014.12.007',\n    'http://www.scopus.com/inward/record.url?partnerID=HzOxMe3b&scp=84919904104&origin=inward',\n    'https://linkinghub.elsevier.com/retrieve/pii/S0957417414007738',\n    'https://api.elsevier.com/content/article/PII:S0957417414007738?httpAccept=text/xml',\n    'https://api.elsevier.com/content/article/PII:S0957417414007738?httpAccept=text/plain',\n    'http://linkinghub.elsevier.com/retrieve/pii/S0957417414007738',\n    'http://api.elsevier.com/content/article/PII:S0957417414007738?httpAccept=text/xml',\n    'http://api.elsevier.com/content/article/PII:S0957417414007738?httpAccept=text/plain'],\n   'doi': [{'link': 'http://doi.org/10.1016/j.eswa.2014.12.007',\n     'value': '10.1016/j.eswa.2014.12.007'}]},\n  'most_recent_metrics_evidence': {},\n  'plum_print_counts': {'usage': {'total': 1281, 'name': 'usage'},\n   'capture': {'total': 218, 'name': 'capture'},\n   'citation': {'total': 24, 'name': 'citation'},\n   'social_media': {'total': 14, 'name': 'socialMedia'}},\n  'request_id': '10.1016/j.eswa.2014.12.007',\n  'artifact_type': 'ARTICLE',\n  'sort_count': {'usage': {'count_types': [{'sources': [{'total': 873,\n        'name': 'EBSCO'}],\n      'total': 873,\n      'name': 'ABSTRACT_VIEWS'},\n     {'sources': [{'total': 408, 'name': 'EBSCO'}],\n      'total': 408,\n      'name': 'LINK_OUTS'}],\n    'total': 1281,\n    'name': 'usage'},\n   'capture': {'count_types': [{'sources': [{'total': 137,\n        'name': 'Mendeley',\n        'uri': 'https://www.mendeley.com/research-papers/comparison-performance-various-project-control-methods-using-earned-value-management-systems'}],\n      'total': 137,\n      'name': 'READER_COUNT'},\n     {'sources': [{'total': 81, 'name': 'EBSCO'}],\n      'total': 81,\n      'name': 'EXPORTS_SAVES'}],\n    'total': 218,\n    'name': 'capture'},\n   'citation': {'count_types': [{'sources': [{'total': 24,\n        'name': 'Scopus',\n        'uri': 'https://www.scopus.com/inward/citedby.uri?partnerID=HzOxMe3b&scp=84919904104&origin=inward'},\n       {'total': 9, 'name': 'CrossRef'}],\n      'total': 24,\n      'name': 'CITED_BY_COUNT'}],\n    'total': 24,\n    'name': 'citation'},\n   'social_media': {'count_types': [{'sources': [{'total': 14,\n        'name': 'Facebook'}],\n      'total': 14,\n      'name': 'FACEBOOK_COUNT'}],\n    'total': 14,\n    'name': 'socialMedia'}},\n  'document_type': 'ARTIFACT',\n  'bibliographic_data': {'publisher': 'Elsevier BV',\n   'artifact_title': 'A comparison of the performance of various project control methods using earned value management systems',\n   'start_page': '3159',\n   'description': 'Recent literature on project management has emphasised the effort which is spent by the management team during the project control process. Based on this effort, a functional distinction can be made between a top down and a bottom up project control approach. A top down control approach refers to the use of a project control system that generates project based performance metrics to give a general overview of the project performance. Actions are triggered based on these general performance metrics, which need further investigation to detect problems at the activity level. A bottom up project control system refers to a system in which detailed activity information needs to be available constantly during the project control process, which requires more effort. In this research, we propose two new project control approaches, which combines elements of both top down and bottom up control. To this end, we integrate the earned value management/earned schedule (EVM/ES) method with multiple control points inspired by critical chain/buffer management (CC/BM). We show how the EVM/ES control approach is complementary with the concept of buffers and how they can improve the project control process when cleverly combined. These combined top down approaches overcome some of the drawbacks of traditional EVM/ES mentioned in the literature, while minimally increasing the effort spent by the project manager. A large computational experiment is set up to test the approach against other control procedures within a broad range of simulated dynamic project progress situations.',\n   'tags': ['Engineering', 'Computer Science'],\n   'issn': '09574174',\n   'publication_title': 'Expert Systems with Applications',\n   'publication_year': '2015',\n   'volume': '42',\n   'page_range': '3159-3175',\n   'authors': ['Jeroen Colin', 'Mario Vanhoucke'],\n   'publication_date': '2015-04-15T00:00:00.000Z+0000',\n   'issue': '6',\n   'end_page': '3175'},\n  'id': '-6rzLFk0MKqwBBS64mCpR2yle5aWdU_EtQMwBlXQwS0'},\n '10.1016/j.eswa.2014.11.022': {'identifier': {'url_id': ['http://www.sciencedirect.com/science/article/pii/S0957417414007088',\n    'http://dx.doi.org/10.1016/j.eswa.2014.11.022',\n    'http://www.scopus.com/inward/record.url?partnerID=HzOxMe3b&scp=84919918684&origin=inward',\n    'https://linkinghub.elsevier.com/retrieve/pii/S0957417414007088',\n    'https://api.elsevier.com/content/article/PII:S0957417414007088?httpAccept=text/xml',\n    'https://api.elsevier.com/content/article/PII:S0957417414007088?httpAccept=text/plain',\n    'http://linkinghub.elsevier.com/retrieve/pii/S0957417414007088',\n    'http://api.elsevier.com/content/article/PII:S0957417414007088?httpAccept=text/xml',\n    'http://api.elsevier.com/content/article/PII:S0957417414007088?httpAccept=text/plain'],\n   'doi': [{'link': 'http://doi.org/10.1016/j.eswa.2014.11.022',\n     'value': '10.1016/j.eswa.2014.11.022'}]},\n  'most_recent_metrics_evidence': {'twitter': {'ref_id': {'type': 'url',\n     'link': 'http://www.sciencedirect.com/science/article/pii/S0957417414007088',\n     'value': 'http://www.sciencedirect.com/science/article/pii/S0957417414007088'},\n    'id': '592608594547343360',\n    'title': {'link': 'http://twitter.com/filmbizresearch/statuses/592608594547343360'}}},\n  'plum_print_counts': {'usage': {'total': 1169, 'name': 'usage'},\n   'capture': {'total': 149, 'name': 'capture'},\n   'citation': {'total': 36, 'name': 'citation'},\n   'social_media': {'total': 1, 'name': 'socialMedia'}},\n  'request_id': '10.1016/j.eswa.2014.11.022',\n  'artifact_type': 'ARTICLE',\n  'sort_count': {'usage': {'count_types': [{'sources': [{'total': 997,\n        'name': 'EBSCO'}],\n      'total': 997,\n      'name': 'ABSTRACT_VIEWS'},\n     {'sources': [{'total': 172, 'name': 'EBSCO'}],\n      'total': 172,\n      'name': 'LINK_OUTS'}],\n    'total': 1169,\n    'name': 'usage'},\n   'capture': {'count_types': [{'sources': [{'total': 119,\n        'name': 'Mendeley',\n        'uri': 'https://www.mendeley.com/research-papers/preproduction-forecasting-movie-revenues-dynamic-artificial-neural-network'}],\n      'total': 119,\n      'name': 'READER_COUNT'},\n     {'sources': [{'total': 30, 'name': 'EBSCO'}],\n      'total': 30,\n      'name': 'EXPORTS_SAVES'}],\n    'total': 149,\n    'name': 'capture'},\n   'citation': {'count_types': [{'sources': [{'total': 36,\n        'name': 'Scopus',\n        'uri': 'https://www.scopus.com/inward/citedby.uri?partnerID=HzOxMe3b&scp=84919918684&origin=inward'},\n       {'total': 11, 'name': 'CrossRef'}],\n      'total': 36,\n      'name': 'CITED_BY_COUNT'}],\n    'total': 36,\n    'name': 'citation'},\n   'social_media': {'count_types': [{'sources': [{'total': 1,\n        'name': 'Twitter',\n        'ref_id': 'http://www.sciencedirect.com/science/article/pii/S0957417414007088'}],\n      'total': 1,\n      'name': 'TWEET_COUNT',\n      'links': [{'href': 'http://plum-api/displayApi/1/artifacts/doi/10.1016/j.eswa.2014.11.022?auth=C6715iu7PSsy-gvnFTZZgLOs&/metricsEvidence/twitter',\n        'rel': 'metricsEvidence/twitter'}]}],\n    'total': 1,\n    'name': 'socialMedia'}},\n  'document_type': 'ARTIFACT',\n  'bibliographic_data': {'publisher': 'Elsevier BV',\n   'artifact_title': 'Pre-production forecasting of movie revenues with a dynamic artificial neural network',\n   'start_page': '3176',\n   'description': 'The production of a motion picture is an expensive, risky endeavor. During the five-year period from 2008 through 2012, approximately 90 films were released in the United States with production budgets in excess of $100 million. The majority of these films failed to recoup their production costs via gross domestic box office revenues. Existing decision support systems for pre-production analysis and green-lighting decisions lack sufficient accuracy to meaningfully assist decision makers in the film industry.',\n   'tags': ['Engineering', 'Computer Science'],\n   'issn': '09574174',\n   'publication_title': 'Expert Systems with Applications',\n   'publication_year': '2015',\n   'volume': '42',\n   'page_range': '3176-3193',\n   'authors': ['M. Ghiassi', 'David Lio', 'Brian Moon'],\n   'publication_date': '2015-04-15T00:00:00.000Z+0000',\n   'issue': '6',\n   'end_page': '3193'},\n  'id': '0Tyjl93QSfVI9rXkQubKaL-CEVaSV3Xozc-yCAB3KVM'},\n ...}"
     },
     "execution_count": 9,
     "metadata": {},
     "output_type": "execute_result"
    }
   ],
   "source": [
    "plumx_info = {}\n",
    "for index, doi in enumerate(all_articles_df['DI']):\n",
    "    if plumx_info.__contains__(doi):\n",
    "        continue\n",
    "    if index % 100 == 0:\n",
    "        print(index)\n",
    "    res = grab_from_url_json('https://plu.mx/api/v1/artifact/doi/' + str(doi))\n",
    "    plumx_info[doi] = res\n",
    "\n",
    "plumx_info"
   ]
  },
  {
   "cell_type": "code",
   "execution_count": 10,
   "metadata": {},
   "outputs": [],
   "source": [
    "with open(f'{origin_folder}/article_plumx.json', \"w+\") as dump_f:\n",
    "    dump_f.write(json.dumps(plumx_info))"
   ]
  },
  {
   "cell_type": "markdown",
   "execution_count": null,
   "metadata": {},
   "outputs": [],
   "source": [
    "## Generate Plumx Ids"
   ]
  },
  {
   "cell_type": "code",
   "execution_count": 4,
   "metadata": {},
   "outputs": [
    {
     "data": {
      "text/plain": "6705"
     },
     "execution_count": 4,
     "metadata": {},
     "output_type": "execute_result"
    }
   ],
   "source": [
    "with open(f'{origin_folder}/article_plumx.json', \"r\") as f:\n",
    "    plumx_info = json.load(f)\n"
   ]
  },
  {
   "cell_type": "code",
   "execution_count": 12,
   "metadata": {},
   "outputs": [],
   "source": [
    "df = pd.DataFrame(columns=['DI', 'plumx_id'])\n",
    "for doi, item in plumx_info.items():\n",
    "    if doi == '' or str(doi).lower() == 'nan' or 'id' not in item.keys():\n",
    "        continue\n",
    "    dfx = pd.DataFrame(columns=['DI', 'plumx_id'])\n",
    "    dfx['DI'] = [doi]\n",
    "    dfx['plumx_id'] = [item['id']]\n",
    "    df = df.append(dfx, ignore_index=True)"
   ]
  },
  {
   "cell_type": "code",
   "execution_count": 14,
   "metadata": {},
   "outputs": [],
   "source": [
    "df.to_csv(f'{origin_folder}/article_plumx_id.csv', index=False)"
   ]
  },
  {
   "cell_type": "markdown",
   "execution_count": null,
   "metadata": {},
   "outputs": [],
   "source": [
    "## Grab Plumx Tweets Info"
   ]
  },
  {
   "cell_type": "code",
   "execution_count": 9,
   "metadata": {},
   "outputs": [
    {
     "name": "stdout",
     "output_type": "stream",
     "text": "ReadTimeout: HTTPSConnectionPool(host='plu.mx', port=443): Read timed out. (read timeout=10)\nReadTimeout: HTTPSConnectionPool(host='plu.mx', port=443): Read timed out. (read timeout=10)\nReadTimeout: HTTPSConnectionPool(host='plu.mx', port=443): Read timed out. (read timeout=10)\n2900\nReadTimeout: HTTPSConnectionPool(host='plu.mx', port=443): Read timed out. (read timeout=10)\nReadTimeout: HTTPSConnectionPool(host='plu.mx', port=443): Read timed out. (read timeout=10)\nReadTimeout: HTTPSConnectionPool(host='plu.mx', port=443): Read timed out. (read timeout=10)\nReadTimeout: HTTPSConnectionPool(host='plu.mx', port=443): Read timed out. (read timeout=10)\nReadTimeout: HTTPSConnectionPool(host='plu.mx', port=443): Read timed out. (read timeout=10)\nReadTimeout: HTTPSConnectionPool(host='plu.mx', port=443): Read timed out. (read timeout=10)\nReadTimeout: HTTPSConnectionPool(host='plu.mx', port=443): Read timed out. (read timeout=10)\nReadTimeout: HTTPSConnectionPool(host='plu.mx', port=443): Read timed out. (read timeout=10)\nConnectionErrorHTTPSConnectionPool(host='plu.mx', port=443): Read timed out.\n3000\nReadTimeout: HTTPSConnectionPool(host='plu.mx', port=443): Read timed out. (read timeout=10)\nConnectionErrorHTTPSConnectionPool(host='plu.mx', port=443): Read timed out.\nReadTimeout: HTTPSConnectionPool(host='plu.mx', port=443): Read timed out. (read timeout=10)\nConnectionErrorHTTPSConnectionPool(host='plu.mx', port=443): Read timed out.\nConnectionErrorHTTPSConnectionPool(host='plu.mx', port=443): Read timed out.\nConnectionErrorHTTPSConnectionPool(host='plu.mx', port=443): Read timed out.\nReadTimeout: HTTPSConnectionPool(host='plu.mx', port=443): Read timed out. (read timeout=10)\nReadTimeout: HTTPSConnectionPool(host='plu.mx', port=443): Read timed out. (read timeout=10)\nReadTimeout: HTTPSConnectionPool(host='plu.mx', port=443): Read timed out. (read timeout=10)\nReadTimeout: HTTPSConnectionPool(host='plu.mx', port=443): Read timed out. (read timeout=10)\nConnectionErrorHTTPSConnectionPool(host='plu.mx', port=443): Read timed out.\n3100\nReadTimeout: HTTPSConnectionPool(host='plu.mx', port=443): Read timed out. (read timeout=10)\nReadTimeout: HTTPSConnectionPool(host='plu.mx', port=443): Read timed out. (read timeout=10)\nReadTimeout: HTTPSConnectionPool(host='plu.mx', port=443): Read timed out. (read timeout=10)\nReadTimeout: HTTPSConnectionPool(host='plu.mx', port=443): Read timed out. (read timeout=10)\nReadTimeout: HTTPSConnectionPool(host='plu.mx', port=443): Read timed out. (read timeout=10)\nReadTimeout: HTTPSConnectionPool(host='plu.mx', port=443): Read timed out. (read timeout=10)\nConnectionErrorHTTPSConnectionPool(host='plu.mx', port=443): Read timed out.\nReadTimeout: HTTPSConnectionPool(host='plu.mx', port=443): Read timed out. (read timeout=10)\nReadTimeout: HTTPSConnectionPool(host='plu.mx', port=443): Read timed out. (read timeout=10)\nReadTimeout: HTTPSConnectionPool(host='plu.mx', port=443): Read timed out. (read timeout=10)\nReadTimeout: HTTPSConnectionPool(host='plu.mx', port=443): Read timed out. (read timeout=10)\nReadTimeout: HTTPSConnectionPool(host='plu.mx', port=443): Read timed out. (read timeout=10)\nReadTimeout: HTTPSConnectionPool(host='plu.mx', port=443): Read timed out. (read timeout=10)\nReadTimeout: HTTPSConnectionPool(host='plu.mx', port=443): Read timed out. (read timeout=10)\nReadTimeout: HTTPSConnectionPool(host='plu.mx', port=443): Read timed out. (read timeout=10)\nConnectionErrorHTTPSConnectionPool(host='plu.mx', port=443): Read timed out.\nReadTimeout: HTTPSConnectionPool(host='plu.mx', port=443): Read timed out. (read timeout=10)\nReadTimeout: HTTPSConnectionPool(host='plu.mx', port=443): Read timed out. (read timeout=10)\nConnectionErrorHTTPSConnectionPool(host='plu.mx', port=443): Read timed out.\nReadTimeout: HTTPSConnectionPool(host='plu.mx', port=443): Read timed out. (read timeout=10)\n3200\nReadTimeout: HTTPSConnectionPool(host='plu.mx', port=443): Read timed out. (read timeout=10)\nReadTimeout: HTTPSConnectionPool(host='plu.mx', port=443): Read timed out. (read timeout=10)\nReadTimeout: HTTPSConnectionPool(host='plu.mx', port=443): Read timed out. (read timeout=10)\nReadTimeout: HTTPSConnectionPool(host='plu.mx', port=443): Read timed out. (read timeout=10)\nReadTimeout: HTTPSConnectionPool(host='plu.mx', port=443): Read timed out. (read timeout=10)\nReadTimeout: HTTPSConnectionPool(host='plu.mx', port=443): Read timed out. (read timeout=10)\nReadTimeout: HTTPSConnectionPool(host='plu.mx', port=443): Read timed out. (read timeout=10)\nReadTimeout: HTTPSConnectionPool(host='plu.mx', port=443): Read timed out. (read timeout=10)\nReadTimeout: HTTPSConnectionPool(host='plu.mx', port=443): Read timed out. (read timeout=10)\nReadTimeout: HTTPSConnectionPool(host='plu.mx', port=443): Read timed out. (read timeout=10)\nReadTimeout: HTTPSConnectionPool(host='plu.mx', port=443): Read timed out. (read timeout=10)\nReadTimeout: HTTPSConnectionPool(host='plu.mx', port=443): Read timed out. (read timeout=10)\nReadTimeout: HTTPSConnectionPool(host='plu.mx', port=443): Read timed out. (read timeout=10)\nReadTimeout: HTTPSConnectionPool(host='plu.mx', port=443): Read timed out. (read timeout=10)\nReadTimeout: HTTPSConnectionPool(host='plu.mx', port=443): Read timed out. (read timeout=10)\nReadTimeout: HTTPSConnectionPool(host='plu.mx', port=443): Read timed out. (read timeout=10)\nReadTimeout: HTTPSConnectionPool(host='plu.mx', port=443): Read timed out. (read timeout=10)\nReadTimeout: HTTPSConnectionPool(host='plu.mx', port=443): Read timed out. (read timeout=10)\nReadTimeout: HTTPSConnectionPool(host='plu.mx', port=443): Read timed out. (read timeout=10)\n3300\nReadTimeout: HTTPSConnectionPool(host='plu.mx', port=443): Read timed out. (read timeout=10)\nReadTimeout: HTTPSConnectionPool(host='plu.mx', port=443): Read timed out. (read timeout=10)\nReadTimeout: HTTPSConnectionPool(host='plu.mx', port=443): Read timed out. (read timeout=10)\nReadTimeout: HTTPSConnectionPool(host='plu.mx', port=443): Read timed out. (read timeout=10)\nReadTimeout: HTTPSConnectionPool(host='plu.mx', port=443): Read timed out. (read timeout=10)\nReadTimeout: HTTPSConnectionPool(host='plu.mx', port=443): Read timed out. (read timeout=10)\n3400\nReadTimeout: HTTPSConnectionPool(host='plu.mx', port=443): Read timed out. (read timeout=10)\nReadTimeout: HTTPSConnectionPool(host='plu.mx', port=443): Read timed out. (read timeout=10)\nReadTimeout: HTTPSConnectionPool(host='plu.mx', port=443): Read timed out. (read timeout=10)\nReadTimeout: HTTPSConnectionPool(host='plu.mx', port=443): Read timed out. (read timeout=10)\nReadTimeout: HTTPSConnectionPool(host='plu.mx', port=443): Read timed out. (read timeout=10)\nReadTimeout: HTTPSConnectionPool(host='plu.mx', port=443): Read timed out. (read timeout=10)\nReadTimeout: HTTPSConnectionPool(host='plu.mx', port=443): Read timed out. (read timeout=10)\nReadTimeout: HTTPSConnectionPool(host='plu.mx', port=443): Read timed out. (read timeout=10)\nReadTimeout: HTTPSConnectionPool(host='plu.mx', port=443): Read timed out. (read timeout=10)\nReadTimeout: HTTPSConnectionPool(host='plu.mx', port=443): Read timed out. (read timeout=10)\nReadTimeout: HTTPSConnectionPool(host='plu.mx', port=443): Read timed out. (read timeout=10)\n3500\nReadTimeout: HTTPSConnectionPool(host='plu.mx', port=443): Read timed out. (read timeout=10)\nReadTimeout: HTTPSConnectionPool(host='plu.mx', port=443): Read timed out. (read timeout=10)\nReadTimeout: HTTPSConnectionPool(host='plu.mx', port=443): Read timed out. (read timeout=10)\nReadTimeout: HTTPSConnectionPool(host='plu.mx', port=443): Read timed out. (read timeout=10)\nReadTimeout: HTTPSConnectionPool(host='plu.mx', port=443): Read timed out. (read timeout=10)\nConnectionErrorHTTPSConnectionPool(host='plu.mx', port=443): Read timed out.\nReadTimeout: HTTPSConnectionPool(host='plu.mx', port=443): Read timed out. (read timeout=10)\nConnectionErrorHTTPSConnectionPool(host='plu.mx', port=443): Read timed out.\n3600\nReadTimeout: HTTPSConnectionPool(host='plu.mx', port=443): Read timed out. (read timeout=10)\nReadTimeout: HTTPSConnectionPool(host='plu.mx', port=443): Read timed out. (read timeout=10)\nReadTimeout: HTTPSConnectionPool(host='plu.mx', port=443): Read timed out. (read timeout=10)\nReadTimeout: HTTPSConnectionPool(host='plu.mx', port=443): Read timed out. (read timeout=10)\nReadTimeout: HTTPSConnectionPool(host='plu.mx', port=443): Read timed out. (read timeout=10)\nConnectionErrorHTTPSConnectionPool(host='plu.mx', port=443): Read timed out.\nReadTimeout: HTTPSConnectionPool(host='plu.mx', port=443): Read timed out. (read timeout=10)\nReadTimeout: HTTPSConnectionPool(host='plu.mx', port=443): Read timed out. (read timeout=10)\nReadTimeout: HTTPSConnectionPool(host='plu.mx', port=443): Read timed out. (read timeout=10)\n3700\nReadTimeout: HTTPSConnectionPool(host='plu.mx', port=443): Read timed out. (read timeout=10)\nConnectionErrorHTTPSConnectionPool(host='plu.mx', port=443): Read timed out.\nReadTimeout: HTTPSConnectionPool(host='plu.mx', port=443): Read timed out. (read timeout=10)\nReadTimeout: HTTPSConnectionPool(host='plu.mx', port=443): Read timed out. (read timeout=10)\nReadTimeout: HTTPSConnectionPool(host='plu.mx', port=443): Read timed out. (read timeout=10)\n3800\nReadTimeout: HTTPSConnectionPool(host='plu.mx', port=443): Read timed out. (read timeout=10)\nReadTimeout: HTTPSConnectionPool(host='plu.mx', port=443): Read timed out. (read timeout=10)\nReadTimeout: HTTPSConnectionPool(host='plu.mx', port=443): Read timed out. (read timeout=10)\nReadTimeout: HTTPSConnectionPool(host='plu.mx', port=443): Read timed out. (read timeout=10)\nReadTimeout: HTTPSConnectionPool(host='plu.mx', port=443): Read timed out. (read timeout=10)\nReadTimeout: HTTPSConnectionPool(host='plu.mx', port=443): Read timed out. (read timeout=10)\nReadTimeout: HTTPSConnectionPool(host='plu.mx', port=443): Read timed out. (read timeout=10)\nReadTimeout: HTTPSConnectionPool(host='plu.mx', port=443): Read timed out. (read timeout=10)\nReadTimeout: HTTPSConnectionPool(host='plu.mx', port=443): Read timed out. (read timeout=10)\nReadTimeout: HTTPSConnectionPool(host='plu.mx', port=443): Read timed out. (read timeout=10)\nConnectionErrorHTTPSConnectionPool(host='plu.mx', port=443): Read timed out.\nConnectionErrorHTTPSConnectionPool(host='plu.mx', port=443): Read timed out.\n3900\nReadTimeout: HTTPSConnectionPool(host='plu.mx', port=443): Read timed out. (read timeout=10)\nReadTimeout: HTTPSConnectionPool(host='plu.mx', port=443): Read timed out. (read timeout=10)\nConnectionErrorHTTPSConnectionPool(host='plu.mx', port=443): Read timed out.\nReadTimeout: HTTPSConnectionPool(host='plu.mx', port=443): Read timed out. (read timeout=10)\nReadTimeout: HTTPSConnectionPool(host='plu.mx', port=443): Read timed out. (read timeout=10)\n4000\nReadTimeout: HTTPSConnectionPool(host='plu.mx', port=443): Read timed out. (read timeout=10)\nConnectionErrorHTTPSConnectionPool(host='plu.mx', port=443): Read timed out.\n4100\nReadTimeout: HTTPSConnectionPool(host='plu.mx', port=443): Read timed out. (read timeout=10)\nReadTimeout: HTTPSConnectionPool(host='plu.mx', port=443): Read timed out. (read timeout=10)\nReadTimeout: HTTPSConnectionPool(host='plu.mx', port=443): Read timed out. (read timeout=10)\nReadTimeout: HTTPSConnectionPool(host='plu.mx', port=443): Read timed out. (read timeout=10)\n4200\nReadTimeout: HTTPSConnectionPool(host='plu.mx', port=443): Read timed out. (read timeout=10)\nReadTimeout: HTTPSConnectionPool(host='plu.mx', port=443): Read timed out. (read timeout=10)\nReadTimeout: HTTPSConnectionPool(host='plu.mx', port=443): Read timed out. (read timeout=10)\nReadTimeout: HTTPSConnectionPool(host='plu.mx', port=443): Read timed out. (read timeout=10)\n4300\nReadTimeout: HTTPSConnectionPool(host='plu.mx', port=443): Read timed out. (read timeout=10)\nReadTimeout: HTTPSConnectionPool(host='plu.mx', port=443): Read timed out. (read timeout=10)\nReadTimeout: HTTPSConnectionPool(host='plu.mx', port=443): Read timed out. (read timeout=10)\nReadTimeout: HTTPSConnectionPool(host='plu.mx', port=443): Read timed out. (read timeout=10)\nReadTimeout: HTTPSConnectionPool(host='plu.mx', port=443): Read timed out. (read timeout=10)\n4400\nReadTimeout: HTTPSConnectionPool(host='plu.mx', port=443): Read timed out. (read timeout=10)\nReadTimeout: HTTPSConnectionPool(host='plu.mx', port=443): Read timed out. (read timeout=10)\nReadTimeout: HTTPSConnectionPool(host='plu.mx', port=443): Read timed out. (read timeout=10)\n4500\nReadTimeout: HTTPSConnectionPool(host='plu.mx', port=443): Read timed out. (read timeout=10)\nReadTimeout: HTTPSConnectionPool(host='plu.mx', port=443): Read timed out. (read timeout=10)\n4600\n4700\nReadTimeout: HTTPSConnectionPool(host='plu.mx', port=443): Read timed out. (read timeout=10)\n4800\n4900\n5000\nReadTimeout: HTTPSConnectionPool(host='plu.mx', port=443): Read timed out. (read timeout=10)\nReadTimeout: HTTPSConnectionPool(host='plu.mx', port=443): Read timed out. (read timeout=10)\n5100\nConnectionErrorHTTPSConnectionPool(host='plu.mx', port=443): Read timed out.\nReadTimeout: HTTPSConnectionPool(host='plu.mx', port=443): Read timed out. (read timeout=10)\n5200\n5300\n5400\n5500\n5600\n5700\n5800\n5900\n6000\nConnectionErrorHTTPSConnectionPool(host='plu.mx', port=443): Read timed out.\nReadTimeout: HTTPSConnectionPool(host='plu.mx', port=443): Read timed out. (read timeout=10)\n6100\n6200\n6300\n6400\n6500\n6600\nCPU times: user 1min 16s, sys: 6.48 s, total: 1min 23s\nWall time: 4h 25min 59s\n"
    }
   ],
   "source": [
    "%%time\n",
    "# df = pd.read_csv(f'{origin_folder}/article_plumx_id.csv')\n",
    "# plumx_tweets_info = {}\n",
    "for index, row in df.iterrows():\n",
    "    if plumx_tweets_info.__contains__(row['DI']):\n",
    "        continue\n",
    "    if index % 100 == 0:\n",
    "        print(index)\n",
    "    res = grab_from_url_json(f'https://plu.mx/api/v1/artifact/id/{row[\"plumx_id\"]}/metricsEvidence/twitter?offset=0&size=100000')\n",
    "    plumx_tweets_info[row['DI']] = res\n"
   ]
  },
  {
   "cell_type": "code",
   "execution_count": 10,
   "metadata": {},
   "outputs": [],
   "source": [
    "with open(f'{origin_folder}/article_tweets_plumx.json', \"w+\") as dump_f:\n",
    "    dump_f.write(json.dumps(plumx_tweets_info))"
   ]
  },
  {
   "cell_type": "code",
   "execution_count": null,
   "metadata": {},
   "outputs": [],
   "source": []
  }
 ]
}