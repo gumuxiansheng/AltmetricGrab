{
 "nbformat": 4,
 "nbformat_minor": 2,
 "metadata": {
  "language_info": {
   "name": "python",
   "codemirror_mode": {
    "name": "ipython",
    "version": 3
   }
  },
  "orig_nbformat": 2,
  "file_extension": ".py",
  "mimetype": "text/x-python",
  "name": "python",
  "npconvert_exporter": "python",
  "pygments_lexer": "ipython3",
  "version": 3
 },
 "cells": [
  {
   "cell_type": "markdown",
   "execution_count": null,
   "metadata": {},
   "outputs": [],
   "source": [
    "# Grab Altmetric.com Data"
   ]
  },
  {
   "cell_type": "markdown",
   "execution_count": null,
   "metadata": {},
   "outputs": [],
   "source": [
    "## Request Functions\n",
    "This part contains functions we need to fetch the web data and should also handle the exceptions while fetching here."
   ]
  },
  {
   "cell_type": "code",
   "execution_count": 19,
   "metadata": {},
   "outputs": [],
   "source": [
    "from grab_util import *\n",
    "import json\n",
    "import pandas as pd\n",
    "import numpy as np\n",
    "import math\n"
   ]
  },
  {
   "cell_type": "code",
   "execution_count": 20,
   "metadata": {},
   "outputs": [],
   "source": [
    "origin_folder = 'data/outputs/OR'"
   ]
  },
  {
   "cell_type": "markdown",
   "execution_count": null,
   "metadata": {},
   "outputs": [],
   "source": [
    "## Grab altmetric.com Ids"
   ]
  },
  {
   "cell_type": "code",
   "execution_count": 21,
   "metadata": {},
   "outputs": [],
   "source": [
    "def get_altmetric_id(doi):\n",
    "    detail_id = ''\n",
    "    res = grab_from_url_json('https://api.altmetric.com/v1/doi/' + doi)\n",
    "    if res is not None:\n",
    "        detail_id = res['altmetric_id']\n",
    "    return detail_id"
   ]
  },
  {
   "cell_type": "code",
   "execution_count": 22,
   "metadata": {},
   "outputs": [
    {
     "name": "stdout",
     "output_type": "stream",
     "text": "CPU times: user 3.37 s, sys: 59.8 ms, total: 3.43 s\nWall time: 3.56 s\n"
    }
   ],
   "source": [
    "all_articles_df = pd.read_excel(f'{origin_folder}/all.xlsx', usecols=['SO', 'DI'])\n",
    "df = pd.DataFrame(columns=['DI', 'altmetric_id'])"
   ]
  },
  {
   "cell_type": "code",
   "execution_count": 50,
   "metadata": {},
   "outputs": [
    {
     "name": "stderr",
     "output_type": "stream",
     "text": "/Users/mikezhu/Dev/miniconda2/lib/python3.7/site-packages/pandas/core/frame.py:6692: FutureWarning: Sorting because non-concatenation axis is not aligned. A future version\nof pandas will change to not sort by default.\n\nTo accept the future behavior, pass 'sort=False'.\n\nTo retain the current behavior and silence the warning, pass 'sort=True'.\n\n  sort=sort)\n2500\n3400\nxxxxxxxHTTPSConnectionPool(host='api.altmetric.com', port=443): Max retries exceeded with url: /v1/doi/nan (Caused by NewConnectionError('<urllib3.connection.VerifiedHTTPSConnection object at 0x123600940>: Failed to establish a new connection: [Errno 60] Operation timed out'))\nxxxxxxxHTTPSConnectionPool(host='api.altmetric.com', port=443): Max retries exceeded with url: /v1/doi/nan (Caused by NewConnectionError('<urllib3.connection.VerifiedHTTPSConnection object at 0x1237fd710>: Failed to establish a new connection: [Errno 60] Operation timed out'))\nxxxxxxxHTTPSConnectionPool(host='api.altmetric.com', port=443): Max retries exceeded with url: /v1/doi/10.1287/mnsc.2013.1875 (Caused by NewConnectionError('<urllib3.connection.VerifiedHTTPSConnection object at 0x12380ec88>: Failed to establish a new connection: [Errno 60] Operation timed out'))\nxxxxxxxHTTPSConnectionPool(host='api.altmetric.com', port=443): Max retries exceeded with url: /v1/doi/10.1287/mnsc.2013.1875 (Caused by NewConnectionError('<urllib3.connection.VerifiedHTTPSConnection object at 0x1234efda0>: Failed to establish a new connection: [Errno 60] Operation timed out'))\n3600\nxxxxxxxHTTPSConnectionPool(host='api.altmetric.com', port=443): Max retries exceeded with url: /v1/doi/10.1287/mnsc.2014.2119 (Caused by NewConnectionError('<urllib3.connection.VerifiedHTTPSConnection object at 0x123467eb8>: Failed to establish a new connection: [Errno 60] Operation timed out'))\n3700\n3800\n3900\n4000\n4100\n4200\n4300\n4400\n4500\n4600\n4700\n4800\n4900\n5000\n5100\n5200\n5300\n5400\n5500\n5600\n5700\n5800\n5900\n6000\n6100\n6200\n6300\n6400\n6500\n6600\n6700\nCPU times: user 1min 39s, sys: 5.33 s, total: 1min 44s\nWall time: 4h 47min 44s\n"
    }
   ],
   "source": [
    "%%time\n",
    "for index, doi in enumerate(all_articles_df['DI']):\n",
    "    if doi in df['DI'].values:\n",
    "        continue\n",
    "    if index % 100 == 0:\n",
    "        print(index)\n",
    "    dfx = pd.DataFrame(columns=['DI', 'altmetric_id'])\n",
    "    dfx['DI'] = [doi]\n",
    "    dfx['altmetric_id'] = [get_altmetric_id(str(doi))]\n",
    "    df = df.append(dfx, ignore_index=True)\n",
    "\n",
    "df.to_csv(f'{origin_folder}/all_altmetric_id.csv', index=False)"
   ]
  },
  {
   "cell_type": "markdown",
   "execution_count": null,
   "metadata": {},
   "outputs": [],
   "source": [
    "## Grab altmetric.com Details"
   ]
  },
  {
   "cell_type": "code",
   "execution_count": 58,
   "metadata": {},
   "outputs": [],
   "source": [
    "def grab_detail_altmetric(doi, altmetric_id):\n",
    "    df = pd.DataFrame()\n",
    "    b_list = ['news outlets', 'blogs', 'policy', 'tweeters', 'weibo', 'facebook pages', 'wikipedia', 'redditors', 'f1000', 'video uploader', 'dimensions_citation', 'mendeley', 'citeulike']\n",
    "\n",
    "    df['DI'] = [doi]\n",
    "    df['altmetric_id'] = [altmetric_id]\n",
    "    if altmetric_id != '' and not math.isnan(altmetric_id):\n",
    "        altmetric_id = int(altmetric_id)\n",
    "        news_anchor = 'news</dt><dd><a href=\"/details/' + str(altmetric_id) + '/news\"><strong>'\n",
    "        blogs_anchor = 'blogs</dt><dd><a href=\"/details/' + str(altmetric_id) + '/blogs\"><strong>'\n",
    "        policy_anchor = 'policy</dt><dd><a href=\"/details/' + str(altmetric_id) + '/policy-documents\"><strong>'\n",
    "        twitter_anchor = 'twitter</dt><dd><a href=\"/details/' + str(altmetric_id) + '/twitter\"><strong>'\n",
    "        weibo_anchor = 'weibo</dt><dd><a href=\"/details/' + str(altmetric_id) + '/weibo\"><strong>'\n",
    "        facebook_anchor = 'facebook</dt><dd><a href=\"/details/' + str(altmetric_id) + '/facebook\"><strong>'\n",
    "        wikipedia_anchor = 'wikipedia</dt><dd><a href=\"/details/' + str(altmetric_id) + '/wikipedia\"><strong>'\n",
    "        redditors_anchor = 'reddit</dt><dd><a href=\"/details/' + str(altmetric_id) + '/reddit\"><strong>'\n",
    "        f1000_anchor = 'f1000</dt><dd><a href=\"/details/' + str(altmetric_id) + '/f1000\"><strong>'\n",
    "        video_anchor = 'video</dt><dd><a href=\"/details/' + str(altmetric_id) + '/video\"><strong>'\n",
    "        dimensions_citation_anchor = 'dimensions_citation</dt><dd><a href=\"/details/' + str(altmetric_id) + '/citations\"><strong>'\n",
    "        mendeley_anchor = 'mendeley</dt><dd><a href=\"/details/' + str(altmetric_id) + '#mendeley-demographics\"><strong>'\n",
    "        citeulike_anchor = 'citeulike</dt><dd><strong>'\n",
    "        c_list = [news_anchor, blogs_anchor, policy_anchor, twitter_anchor, weibo_anchor, facebook_anchor, wikipedia_anchor, redditors_anchor, f1000_anchor, video_anchor, dimensions_citation_anchor, mendeley_anchor, citeulike_anchor]\n",
    "\n",
    "        end_anchor = '</strong>'\n",
    "\n",
    "        res = grab_from_url_content('https://www.altmetric.com/details/' + str(altmetric_id))\n",
    "        if res is not None:\n",
    "\n",
    "            for i in range(0, len(c_list)):\n",
    "                start_index = res.find(c_list[i])\n",
    "                if start_index > 0:\n",
    "                    start_index += len(c_list[i])\n",
    "                    number = 0\n",
    "                    end_index = res.find(end_anchor, start_index, start_index + 100)\n",
    "                    number_temp = res[start_index: end_index]\n",
    "\n",
    "                    if number_temp is not '':\n",
    "                        number = number_temp\n",
    "                    df[b_list[i]] = int(number)\n",
    "                else:\n",
    "                    df[b_list[i]] = 0\n",
    "        else:\n",
    "            for i in range(0, len(b_list)):\n",
    "                df[b_list[i]] = 0\n",
    "    else:\n",
    "        for i in range(0, len(b_list)):\n",
    "            df[b_list[i]] = 0\n",
    "\n",
    "    return df"
   ]
  },
  {
   "cell_type": "code",
   "execution_count": 60,
   "metadata": {},
   "outputs": [
    {
     "name": "stdout",
     "output_type": "stream",
     "text": "0\n/Users/mikezhu/Dev/miniconda2/lib/python3.7/site-packages/pandas/core/frame.py:6692: FutureWarning: Sorting because non-concatenation axis is not aligned. A future version\nof pandas will change to not sort by default.\n\nTo accept the future behavior, pass 'sort=False'.\n\nTo retain the current behavior and silence the warning, pass 'sort=True'.\n\n  sort=sort)\n200\n300\n400\n500\n600\n700\n800\n900\n1000\n1100\n1200\n1300\n1400\n1500\n1600\n1700\n1800\n1900\n2000\n2100\n2200\n2300\n2400\n2500\n2600\n2700\n2800\n2900\n3000\n3100\n3200\n3300\n3400\n3500\n3600\n3700\n3800\n3900\n4000\n4100\n4200\n4300\n4400\n4500\n4600\n4700\n4800\n4900\n5000\n5100\n5200\n5300\n5400\n5500\n5600\n5700\n5800\n5900\n6000\n6100\n6200\n6300\n6400\n6500\n6600\n6700\nCPU times: user 1min 29s, sys: 2.61 s, total: 1min 32s\nWall time: 38min 24s\n"
    }
   ],
   "source": [
    "%%time\n",
    "all_articles_df = pd.read_csv(f'{origin_folder}/all_altmetric_id.csv')\n",
    "df = pd.DataFrame(columns=['DI'])\n",
    "for index, row in all_articles_df.iterrows():\n",
    "    if row['DI'] in df['DI'].values:\n",
    "        continue\n",
    "    if index % 100 == 0:\n",
    "        print(index)\n",
    "    dfx = grab_detail_altmetric(row['DI'], row['altmetric_id'])\n",
    "    df = df.append(dfx, ignore_index=True)\n",
    "\n",
    "df.to_csv(f'{origin_folder}/all_altmetric_detail.csv', index=False)"
   ]
  },
  {
   "cell_type": "markdown",
   "execution_count": null,
   "metadata": {},
   "outputs": [],
   "source": [
    "## Grab altmetric.com's Tweets Detail"
   ]
  },
  {
   "cell_type": "markdown",
   "execution_count": null,
   "metadata": {},
   "outputs": [],
   "source": [
    "### Parser\n",
    "We will get the html content from the url which is not listed as we want it be, so we need parser to parse them into listed data, in json form."
   ]
  },
  {
   "cell_type": "code",
   "execution_count": 61,
   "metadata": {},
   "outputs": [],
   "source": [
    "from html.parser import HTMLParser\n",
    "\n",
    "class AltmetricHTMLParser(HTMLParser):\n",
    "    articles = []\n",
    "    in_article = False\n",
    "    is_reply = False\n",
    "    has_article = False\n",
    "\n",
    "    def handle_starttag(self, tag, attrs):\n",
    "        if tag == 'body':\n",
    "            self.has_article = False\n",
    "        if tag == 'article':\n",
    "            self.has_article = True\n",
    "            self.in_article = True\n",
    "        \n",
    "        if self.in_article and (tag == 'a'):\n",
    "            for attr in attrs:\n",
    "                if (attr[0] == 'class') and (attr[1] == 'reply'):\n",
    "                    self.is_reply = True\n",
    "                if self.is_reply and (attr[0] == 'href'):\n",
    "                    self.articles.append(attr[1].split('=')[1])\n",
    "                    break\n",
    "        return\n",
    "                    \n",
    "    def handle_endtag(self, tag):\n",
    "        if tag == 'article':\n",
    "            self.in_article = False\n",
    "        self.is_reply = False\n",
    "        return\n",
    "\n",
    "    def handle_data(self, data):\n",
    "        pass\n",
    "\n",
    "    def handle_comment(self, data):\n",
    "        pass\n",
    "\n",
    "    def handle_entityref(self, name):\n",
    "        pass\n",
    "\n",
    "    def handle_charref(self, name):\n",
    "        pass\n",
    "\n",
    "    def handle_decl(self, data):\n",
    "        pass\n",
    "\n",
    "parser = AltmetricHTMLParser()"
   ]
  },
  {
   "cell_type": "code",
   "execution_count": 62,
   "metadata": {},
   "outputs": [],
   "source": [
    "redirect_str = '<html><body>You are being <a href=\"https://www.altmetric.com/details/4236878\">redirected</a>.</body></html>'"
   ]
  },
  {
   "cell_type": "markdown",
   "execution_count": null,
   "metadata": {},
   "outputs": [],
   "source": [
    "### Grab Data"
   ]
  },
  {
   "cell_type": "code",
   "execution_count": 71,
   "metadata": {},
   "outputs": [
    {
     "data": {
      "text/html": "<div>\n<style scoped>\n    .dataframe tbody tr th:only-of-type {\n        vertical-align: middle;\n    }\n\n    .dataframe tbody tr th {\n        vertical-align: top;\n    }\n\n    .dataframe thead th {\n        text-align: right;\n    }\n</style>\n<table border=\"1\" class=\"dataframe\">\n  <thead>\n    <tr style=\"text-align: right;\">\n      <th></th>\n      <th>DI</th>\n      <th>altmetric_id</th>\n    </tr>\n  </thead>\n  <tbody>\n    <tr>\n      <th>0</th>\n      <td>10.1007/s10479-015-1981-7</td>\n      <td>NaN</td>\n    </tr>\n    <tr>\n      <th>1</th>\n      <td>10.1007/s10479-015-1987-1</td>\n      <td>NaN</td>\n    </tr>\n    <tr>\n      <th>2</th>\n      <td>10.1007/s10479-015-1880-y</td>\n      <td>NaN</td>\n    </tr>\n    <tr>\n      <th>3</th>\n      <td>10.1007/s10479-015-1958-6</td>\n      <td>NaN</td>\n    </tr>\n    <tr>\n      <th>4</th>\n      <td>10.1007/s10479-015-1935-0</td>\n      <td>NaN</td>\n    </tr>\n    <tr>\n      <th>5</th>\n      <td>10.1007/s10479-015-1905-6</td>\n      <td>NaN</td>\n    </tr>\n    <tr>\n      <th>6</th>\n      <td>10.1007/s10479-015-1997-z</td>\n      <td>NaN</td>\n    </tr>\n    <tr>\n      <th>7</th>\n      <td>10.1007/s10479-015-2010-6</td>\n      <td>NaN</td>\n    </tr>\n    <tr>\n      <th>8</th>\n      <td>10.1007/s10479-015-1913-6</td>\n      <td>NaN</td>\n    </tr>\n    <tr>\n      <th>9</th>\n      <td>10.1007/s10479-015-1925-2</td>\n      <td>NaN</td>\n    </tr>\n    <tr>\n      <th>10</th>\n      <td>10.1007/s10479-015-1951-0</td>\n      <td>8700004</td>\n    </tr>\n    <tr>\n      <th>11</th>\n      <td>10.1007/s10479-015-1990-6</td>\n      <td>NaN</td>\n    </tr>\n    <tr>\n      <th>12</th>\n      <td>10.1007/s10479-015-1962-x</td>\n      <td>NaN</td>\n    </tr>\n    <tr>\n      <th>13</th>\n      <td>10.1007/s10479-015-1918-1</td>\n      <td>NaN</td>\n    </tr>\n    <tr>\n      <th>14</th>\n      <td>10.1007/s10479-015-1877-6</td>\n      <td>NaN</td>\n    </tr>\n    <tr>\n      <th>15</th>\n      <td>10.1007/s10479-015-1932-3</td>\n      <td>NaN</td>\n    </tr>\n    <tr>\n      <th>16</th>\n      <td>10.1007/s10479-014-1727-y</td>\n      <td>NaN</td>\n    </tr>\n    <tr>\n      <th>17</th>\n      <td>10.1007/s10479-014-1777-1</td>\n      <td>NaN</td>\n    </tr>\n    <tr>\n      <th>18</th>\n      <td>10.1007/s10479-014-1550-5</td>\n      <td>NaN</td>\n    </tr>\n    <tr>\n      <th>19</th>\n      <td>10.1007/s10479-014-1779-z</td>\n      <td>NaN</td>\n    </tr>\n    <tr>\n      <th>20</th>\n      <td>10.1007/s10479-012-1253-8</td>\n      <td>NaN</td>\n    </tr>\n    <tr>\n      <th>21</th>\n      <td>10.1007/s10479-014-1595-5</td>\n      <td>NaN</td>\n    </tr>\n    <tr>\n      <th>22</th>\n      <td>10.1007/s10479-014-1574-x</td>\n      <td>NaN</td>\n    </tr>\n    <tr>\n      <th>23</th>\n      <td>10.1007/s10479-014-1656-9</td>\n      <td>NaN</td>\n    </tr>\n    <tr>\n      <th>24</th>\n      <td>10.1007/s10479-013-1443-z</td>\n      <td>NaN</td>\n    </tr>\n    <tr>\n      <th>25</th>\n      <td>10.1007/s10479-013-1507-0</td>\n      <td>NaN</td>\n    </tr>\n    <tr>\n      <th>26</th>\n      <td>10.1007/s10479-013-1407-3</td>\n      <td>NaN</td>\n    </tr>\n    <tr>\n      <th>27</th>\n      <td>10.1007/s10479-013-1516-z</td>\n      <td>NaN</td>\n    </tr>\n    <tr>\n      <th>28</th>\n      <td>10.1007/s10479-014-1566-x</td>\n      <td>NaN</td>\n    </tr>\n    <tr>\n      <th>29</th>\n      <td>10.1007/s10479-013-1316-5</td>\n      <td>NaN</td>\n    </tr>\n    <tr>\n      <th>...</th>\n      <td>...</td>\n      <td>...</td>\n    </tr>\n    <tr>\n      <th>6730</th>\n      <td>10.1016/j.disopt.2015.07.002</td>\n      <td>NaN</td>\n    </tr>\n    <tr>\n      <th>6731</th>\n      <td>10.1016/j.disopt.2015.07.004</td>\n      <td>NaN</td>\n    </tr>\n    <tr>\n      <th>6732</th>\n      <td>10.1016/j.disopt.2015.07.003</td>\n      <td>NaN</td>\n    </tr>\n    <tr>\n      <th>6733</th>\n      <td>10.1016/j.disopt.2015.09.001</td>\n      <td>NaN</td>\n    </tr>\n    <tr>\n      <th>6734</th>\n      <td>10.1016/j.disopt.2015.08.001</td>\n      <td>NaN</td>\n    </tr>\n    <tr>\n      <th>6735</th>\n      <td>10.1016/j.disopt.2015.09.007</td>\n      <td>NaN</td>\n    </tr>\n    <tr>\n      <th>6736</th>\n      <td>10.1016/j.disopt.2015.09.002</td>\n      <td>NaN</td>\n    </tr>\n    <tr>\n      <th>6737</th>\n      <td>10.1016/j.disopt.2015.09.005</td>\n      <td>NaN</td>\n    </tr>\n    <tr>\n      <th>6738</th>\n      <td>10.1016/j.disopt.2015.10.001</td>\n      <td>NaN</td>\n    </tr>\n    <tr>\n      <th>6739</th>\n      <td>10.1016/j.disopt.2015.10.002</td>\n      <td>NaN</td>\n    </tr>\n    <tr>\n      <th>6740</th>\n      <td>10.1016/j.disopt.2015.09.006</td>\n      <td>NaN</td>\n    </tr>\n    <tr>\n      <th>6741</th>\n      <td>10.1016/j.disopt.2015.03.001</td>\n      <td>21511158</td>\n    </tr>\n    <tr>\n      <th>6742</th>\n      <td>10.1016/j.disopt.2014.10.001</td>\n      <td>21511160</td>\n    </tr>\n    <tr>\n      <th>6743</th>\n      <td>10.1016/j.disopt.2015.03.003</td>\n      <td>21511159</td>\n    </tr>\n    <tr>\n      <th>6744</th>\n      <td>10.1016/j.disopt.2015.04.001</td>\n      <td>21511162</td>\n    </tr>\n    <tr>\n      <th>6745</th>\n      <td>10.1016/j.disopt.2015.05.001</td>\n      <td>21511155</td>\n    </tr>\n    <tr>\n      <th>6746</th>\n      <td>10.1016/j.disopt.2015.05.002</td>\n      <td>21511156</td>\n    </tr>\n    <tr>\n      <th>6747</th>\n      <td>10.1016/j.disopt.2015.05.003</td>\n      <td>21511157</td>\n    </tr>\n    <tr>\n      <th>6748</th>\n      <td>10.1016/j.disopt.2015.06.001</td>\n      <td>21511161</td>\n    </tr>\n    <tr>\n      <th>6749</th>\n      <td>10.1016/j.disopt.2014.12.001</td>\n      <td>NaN</td>\n    </tr>\n    <tr>\n      <th>6750</th>\n      <td>10.1016/j.disopt.2014.12.003</td>\n      <td>NaN</td>\n    </tr>\n    <tr>\n      <th>6751</th>\n      <td>10.1016/j.disopt.2015.01.001</td>\n      <td>NaN</td>\n    </tr>\n    <tr>\n      <th>6752</th>\n      <td>10.1016/j.disopt.2015.01.002</td>\n      <td>NaN</td>\n    </tr>\n    <tr>\n      <th>6753</th>\n      <td>10.1016/j.disopt.2015.02.001</td>\n      <td>NaN</td>\n    </tr>\n    <tr>\n      <th>6754</th>\n      <td>10.1016/j.disopt.2015.02.003</td>\n      <td>NaN</td>\n    </tr>\n    <tr>\n      <th>6755</th>\n      <td>10.1016/j.disopt.2014.12.002</td>\n      <td>NaN</td>\n    </tr>\n    <tr>\n      <th>6756</th>\n      <td>10.1016/j.disopt.2014.08.002</td>\n      <td>NaN</td>\n    </tr>\n    <tr>\n      <th>6757</th>\n      <td>10.1016/j.disopt.2014.11.002</td>\n      <td>NaN</td>\n    </tr>\n    <tr>\n      <th>6758</th>\n      <td>10.1016/j.disopt.2014.11.003</td>\n      <td>NaN</td>\n    </tr>\n    <tr>\n      <th>6759</th>\n      <td>10.1016/j.disopt.2014.11.001</td>\n      <td>NaN</td>\n    </tr>\n  </tbody>\n</table>\n<p>6760 rows × 2 columns</p>\n</div>",
      "text/plain": "                                DI altmetric_id\n0        10.1007/s10479-015-1981-7          NaN\n1        10.1007/s10479-015-1987-1          NaN\n2        10.1007/s10479-015-1880-y          NaN\n3        10.1007/s10479-015-1958-6          NaN\n4        10.1007/s10479-015-1935-0          NaN\n5        10.1007/s10479-015-1905-6          NaN\n6        10.1007/s10479-015-1997-z          NaN\n7        10.1007/s10479-015-2010-6          NaN\n8        10.1007/s10479-015-1913-6          NaN\n9        10.1007/s10479-015-1925-2          NaN\n10       10.1007/s10479-015-1951-0      8700004\n11       10.1007/s10479-015-1990-6          NaN\n12       10.1007/s10479-015-1962-x          NaN\n13       10.1007/s10479-015-1918-1          NaN\n14       10.1007/s10479-015-1877-6          NaN\n15       10.1007/s10479-015-1932-3          NaN\n16       10.1007/s10479-014-1727-y          NaN\n17       10.1007/s10479-014-1777-1          NaN\n18       10.1007/s10479-014-1550-5          NaN\n19       10.1007/s10479-014-1779-z          NaN\n20       10.1007/s10479-012-1253-8          NaN\n21       10.1007/s10479-014-1595-5          NaN\n22       10.1007/s10479-014-1574-x          NaN\n23       10.1007/s10479-014-1656-9          NaN\n24       10.1007/s10479-013-1443-z          NaN\n25       10.1007/s10479-013-1507-0          NaN\n26       10.1007/s10479-013-1407-3          NaN\n27       10.1007/s10479-013-1516-z          NaN\n28       10.1007/s10479-014-1566-x          NaN\n29       10.1007/s10479-013-1316-5          NaN\n...                            ...          ...\n6730  10.1016/j.disopt.2015.07.002          NaN\n6731  10.1016/j.disopt.2015.07.004          NaN\n6732  10.1016/j.disopt.2015.07.003          NaN\n6733  10.1016/j.disopt.2015.09.001          NaN\n6734  10.1016/j.disopt.2015.08.001          NaN\n6735  10.1016/j.disopt.2015.09.007          NaN\n6736  10.1016/j.disopt.2015.09.002          NaN\n6737  10.1016/j.disopt.2015.09.005          NaN\n6738  10.1016/j.disopt.2015.10.001          NaN\n6739  10.1016/j.disopt.2015.10.002          NaN\n6740  10.1016/j.disopt.2015.09.006          NaN\n6741  10.1016/j.disopt.2015.03.001     21511158\n6742  10.1016/j.disopt.2014.10.001     21511160\n6743  10.1016/j.disopt.2015.03.003     21511159\n6744  10.1016/j.disopt.2015.04.001     21511162\n6745  10.1016/j.disopt.2015.05.001     21511155\n6746  10.1016/j.disopt.2015.05.002     21511156\n6747  10.1016/j.disopt.2015.05.003     21511157\n6748  10.1016/j.disopt.2015.06.001     21511161\n6749  10.1016/j.disopt.2014.12.001          NaN\n6750  10.1016/j.disopt.2014.12.003          NaN\n6751  10.1016/j.disopt.2015.01.001          NaN\n6752  10.1016/j.disopt.2015.01.002          NaN\n6753  10.1016/j.disopt.2015.02.001          NaN\n6754  10.1016/j.disopt.2015.02.003          NaN\n6755  10.1016/j.disopt.2014.12.002          NaN\n6756  10.1016/j.disopt.2014.08.002          NaN\n6757  10.1016/j.disopt.2014.11.002          NaN\n6758  10.1016/j.disopt.2014.11.003          NaN\n6759  10.1016/j.disopt.2014.11.001          NaN\n\n[6760 rows x 2 columns]"
     },
     "execution_count": 71,
     "metadata": {},
     "output_type": "execute_result"
    }
   ],
   "source": [
    "import pandas as pd\n",
    "import numpy as np\n",
    "\n",
    "df = pd.read_csv(f'{origin_folder}/all_altmetric_id.csv', usecols=['DI', 'altmetric_id'], dtype={'altmetric_id':str})\n",
    "df"
   ]
  },
  {
   "cell_type": "code",
   "execution_count": 75,
   "metadata": {},
   "outputs": [],
   "source": [
    "headers = {\n",
    "    'cookie': \"_ga=GA1.2.501259425.1572141776; weibo_license_acknowledgement=false; explorer_user=WWs2eDNOOUVjVHJTcHRjSm9Oc0ZuZEh0eDRkTmlPd0tCWFMzODNyNlIweFBvdjllM3RkcmF0RVdtRWdvRDN4Ny0tQlNpeTBsWU5NK0ZNTnFpK1FpVFUzdz09--8bac413ca9fd623b9918b311729130cfbb4e66e1; _altmetric-explorer_session=eExKU3g1UmJhWXpXbmVtS05YZmxVS3YyaVNDSGdPL2JyaWVYaE9mRTdPT3RlYlRLaTdrRmRWcnZpeFMrMFJLb0FIVDBvNHI3N09MWS9HZDhDRDdIbTZPZElvMWNPNzMvTm5JVkovWThiQVplZVdTRlZheDBWYWdvd2lIMXo2NHJUZkFJd2MxcWpZSmpCaXVXRW9CYlZnZ1l4L1lXMGhIa1k1d0o1bllvS09uWDBQb3JXMWUrazZ2YWVwaUwzei93cDdUZkhwanFtSy9lSkxLUmdRdEIrZz09LS1DckIxZFJZUVBWNmhsTEJXcWtkR2x3PT0%3D--884ad24217914b545556a68678c2d803c65ce9cf; intercom-session-9dnltu6y=alcwSlZxZHMzZlY3Wm8yaFpvWFg1OGxEYVZ4MXRRUDMrbkk1Q01Bdm5XNXJkQXNZcVAyeEZYVHFYS3RUbWJSbi0tclFPUDlZcUVpMFZKQVlxdlMwRllVQT09--46bb4ebcf64063d6a3712dd82a1d2bff57eed87f, _ga=GA1.2.501259425.1572141776; weibo_license_acknowledgement=false; explorer_user=WWs2eDNOOUVjVHJTcHRjSm9Oc0ZuZEh0eDRkTmlPd0tCWFMzODNyNlIweFBvdjllM3RkcmF0RVdtRWdvRDN4Ny0tQlNpeTBsWU5NK0ZNTnFpK1FpVFUzdz09--8bac413ca9fd623b9918b311729130cfbb4e66e1; _altmetric-explorer_session=eExKU3g1UmJhWXpXbmVtS05YZmxVS3YyaVNDSGdPL2JyaWVYaE9mRTdPT3RlYlRLaTdrRmRWcnZpeFMrMFJLb0FIVDBvNHI3N09MWS9HZDhDRDdIbTZPZElvMWNPNzMvTm5JVkovWThiQVplZVdTRlZheDBWYWdvd2lIMXo2NHJUZkFJd2MxcWpZSmpCaXVXRW9CYlZnZ1l4L1lXMGhIa1k1d0o1bllvS09uWDBQb3JXMWUrazZ2YWVwaUwzei93cDdUZkhwanFtSy9lSkxLUmdRdEIrZz09LS1DckIxZFJZUVBWNmhsTEJXcWtkR2x3PT0%3D--884ad24217914b545556a68678c2d803c65ce9cf; intercom-session-9dnltu6y=alcwSlZxZHMzZlY3Wm8yaFpvWFg1OGxEYVZ4MXRRUDMrbkk1Q01Bdm5XNXJkQXNZcVAyeEZYVHFYS3RUbWJSbi0tclFPUDlZcUVpMFZKQVlxdlMwRllVQT09--46bb4ebcf64063d6a3712dd82a1d2bff57eed87f; Cookie_1=value\",\n",
    "    'User-Agent': \"PostmanRuntime/7.19.0\",\n",
    "    'Accept': \"*/*\",\n",
    "    'Cache-Control': \"no-cache\",\n",
    "    'Postman-Token': \"30d13c93-aa9a-44e1-84e0-8876f98ae1ba,b45c8eb6-7f77-4c48-b961-921c89280079\",\n",
    "    'Host': \"www.altmetric.com\",\n",
    "    'Accept-Encoding': \"gzip, deflate\",\n",
    "    'Connection': \"keep-alive\",\n",
    "    'cache-control': \"no-cache\"\n",
    "    }"
   ]
  },
  {
   "cell_type": "code",
   "execution_count": 76,
   "metadata": {},
   "outputs": [
    {
     "name": "stdout",
     "output_type": "stream",
     "text": "/www.altmetric.com/details/2533951/twitter/page:\npage:  1\npage:  2\n5381 https://www.altmetric.com/details/2882514/twitter/page:\npage:  1\npage:  2\n5383 https://www.altmetric.com/details/2964822/twitter/page:\npage:  1\npage:  2\n5406 https://www.altmetric.com/details/3704930/twitter/page:\npage:  1\npage:  2\n5411 https://www.altmetric.com/details/2757546/twitter/page:\npage:  1\n5417 https://www.altmetric.com/details/1276913/twitter/page:\npage:  1\npage:  2\n5440 https://www.altmetric.com/details/1865485/twitter/page:\npage:  1\npage:  2\n5469 https://www.altmetric.com/details/4847320/twitter/page:\npage:  1\npage:  2\n5479 https://www.altmetric.com/details/14742308/twitter/page:\npage:  1\n5482 https://www.altmetric.com/details/4248723/twitter/page:\npage:  1\npage:  2\n5484 https://www.altmetric.com/details/21369243/twitter/page:\npage:  1\npage:  2\n5488 https://www.altmetric.com/details/35541458/twitter/page:\npage:  1\n5502 https://www.altmetric.com/details/64434130/twitter/page:\npage:  1\npage:  2\n5508 https://www.altmetric.com/details/4311997/twitter/page:\npage:  1\npage:  2\n5509 https://www.altmetric.com/details/3900365/twitter/page:\npage:  1\npage:  2\n5511 https://www.altmetric.com/details/4299778/twitter/page:\npage:  1\npage:  2\n5516 https://www.altmetric.com/details/3986999/twitter/page:\npage:  1\npage:  2\n5521 https://www.altmetric.com/details/4077977/twitter/page:\npage:  1\npage:  2\n5530 https://www.altmetric.com/details/4396736/twitter/page:\npage:  1\n5535 https://www.altmetric.com/details/4965638/twitter/page:\npage:  1\npage:  2\n5592 https://www.altmetric.com/details/3985785/twitter/page:\npage:  1\npage:  2\n5601 https://www.altmetric.com/details/21229743/twitter/page:\npage:  1\npage:  2\n5602 https://www.altmetric.com/details/4705949/twitter/page:\npage:  1\npage:  2\n5608 https://www.altmetric.com/details/4512744/twitter/page:\npage:  1\npage:  2\n5618 https://www.altmetric.com/details/4505974/twitter/page:\npage:  1\npage:  2\n5659 https://www.altmetric.com/details/3106755/twitter/page:\npage:  1\npage:  2\n5660 https://www.altmetric.com/details/1597743/twitter/page:\npage:  1\npage:  2\n5667 https://www.altmetric.com/details/4036231/twitter/page:\npage:  1\npage:  2\n5673 https://www.altmetric.com/details/3103040/twitter/page:\npage:  1\npage:  2\n5696 https://www.altmetric.com/details/11859622/twitter/page:\npage:  1\npage:  2\n5744 https://www.altmetric.com/details/2687622/twitter/page:\npage:  1\npage:  2\n5746 https://www.altmetric.com/details/4940487/twitter/page:\npage:  1\npage:  2\n5748 https://www.altmetric.com/details/3511637/twitter/page:\npage:  1\npage:  2\n5750 https://www.altmetric.com/details/3962118/twitter/page:\npage:  1\npage:  2\n5753 https://www.altmetric.com/details/10839593/twitter/page:\npage:  1\npage:  2\n5755 https://www.altmetric.com/details/2796306/twitter/page:\npage:  1\npage:  2\n5758 https://www.altmetric.com/details/13936488/twitter/page:\npage:  1\n5760 https://www.altmetric.com/details/4289050/twitter/page:\npage:  1\npage:  2\n5763 https://www.altmetric.com/details/5061719/twitter/page:\npage:  1\npage:  2\n5764 https://www.altmetric.com/details/3879237/twitter/page:\npage:  1\npage:  2\n5766 https://www.altmetric.com/details/3437351/twitter/page:\npage:  1\npage:  2\n5769 https://www.altmetric.com/details/4305968/twitter/page:\npage:  1\npage:  2\n5771 https://www.altmetric.com/details/6020206/twitter/page:\npage:  1\npage:  2\n5772 https://www.altmetric.com/details/9135202/twitter/page:\npage:  1\n5773 https://www.altmetric.com/details/2828576/twitter/page:\npage:  1\npage:  2\n5774 https://www.altmetric.com/details/3728058/twitter/page:\npage:  1\npage:  2\n5778 https://www.altmetric.com/details/3774419/twitter/page:\npage:  1\npage:  2\n5780 https://www.altmetric.com/details/6974983/twitter/page:\npage:  1\npage:  2\n5794 https://www.altmetric.com/details/3849239/twitter/page:\npage:  1\npage:  2\n5796 https://www.altmetric.com/details/3447047/twitter/page:\npage:  1\npage:  2\n5797 https://www.altmetric.com/details/2625940/twitter/page:\npage:  1\npage:  2\n5801 https://www.altmetric.com/details/3006348/twitter/page:\npage:  1\npage:  2\n5802 https://www.altmetric.com/details/2818365/twitter/page:\npage:  1\npage:  2\n5803 https://www.altmetric.com/details/30786604/twitter/page:\npage:  1\n5807 https://www.altmetric.com/details/2985141/twitter/page:\npage:  1\npage:  2\n5810 https://www.altmetric.com/details/4904924/twitter/page:\npage:  1\npage:  2\n5811 https://www.altmetric.com/details/4399106/twitter/page:\npage:  1\npage:  2\n5816 https://www.altmetric.com/details/4268204/twitter/page:\npage:  1\npage:  2\n5817 https://www.altmetric.com/details/3926762/twitter/page:\npage:  1\npage:  2\n5823 https://www.altmetric.com/details/4643062/twitter/page:\npage:  1\npage:  2\n5826 https://www.altmetric.com/details/1971274/twitter/page:\npage:  1\n5827 https://www.altmetric.com/details/44541594/twitter/page:\npage:  1\npage:  2\n5832 https://www.altmetric.com/details/4378182/twitter/page:\npage:  1\n5838 https://www.altmetric.com/details/4492591/twitter/page:\npage:  1\npage:  2\n5839 https://www.altmetric.com/details/4492578/twitter/page:\npage:  1\npage:  2\n5840 https://www.altmetric.com/details/4106226/twitter/page:\npage:  1\npage:  2\n5846 https://www.altmetric.com/details/14742381/twitter/page:\npage:  1\n5847 https://www.altmetric.com/details/5804924/twitter/page:\npage:  1\n5856 https://www.altmetric.com/details/4568744/twitter/page:\npage:  1\npage:  2\n5857 https://www.altmetric.com/details/4511763/twitter/page:\npage:  1\npage:  2\n5859 https://www.altmetric.com/details/3702613/twitter/page:\npage:  1\npage:  2\n5860 https://www.altmetric.com/details/3043070/twitter/page:\npage:  1\npage:  2\n5864 https://www.altmetric.com/details/2773532/twitter/page:\npage:  1\npage:  2\n5867 https://www.altmetric.com/details/4361561/twitter/page:\npage:  1\npage:  2\n5871 https://www.altmetric.com/details/3890389/twitter/page:\npage:  1\npage:  2\n5882 https://www.altmetric.com/details/52647465/twitter/page:\npage:  1\n5888 https://www.altmetric.com/details/44211772/twitter/page:\npage:  1\npage:  2\n5893 https://www.altmetric.com/details/3774413/twitter/page:\npage:  1\npage:  2\n5894 https://www.altmetric.com/details/3021206/twitter/page:\npage:  1\npage:  2\n5895 https://www.altmetric.com/details/3042708/twitter/page:\npage:  1\npage:  2\n5899 https://www.altmetric.com/details/6671768/twitter/page:\npage:  1\n5901 https://www.altmetric.com/details/30786615/twitter/page:\npage:  1\n5907 https://www.altmetric.com/details/9135218/twitter/page:\npage:  1\n5908 https://www.altmetric.com/details/4755761/twitter/page:\npage:  1\npage:  2\n5910 https://www.altmetric.com/details/15063049/twitter/page:\npage:  1\n5911 https://www.altmetric.com/details/3820601/twitter/page:\npage:  1\npage:  2\n5917 https://www.altmetric.com/details/4275558/twitter/page:\npage:  1\npage:  2\n5918 https://www.altmetric.com/details/4657709/twitter/page:\npage:  1\npage:  2\n5919 https://www.altmetric.com/details/4246789/twitter/page:\npage:  1\npage:  2\n5924 https://www.altmetric.com/details/3814294/twitter/page:\npage:  1\npage:  2\n5926 https://www.altmetric.com/details/4334028/twitter/page:\npage:  1\npage:  2\n5928 https://www.altmetric.com/details/4513037/twitter/page:\npage:  1\n5934 https://www.altmetric.com/details/69659931/twitter/page:\npage:  1\npage:  2\n5935 https://www.altmetric.com/details/4191426/twitter/page:\npage:  1\npage:  2\n5942 https://www.altmetric.com/details/3719240/twitter/page:\npage:  1\npage:  2\n5945 https://www.altmetric.com/details/2800464/twitter/page:\npage:  1\npage:  2\n5948 https://www.altmetric.com/details/13954205/twitter/page:\npage:  1\n5950 https://www.altmetric.com/details/4450530/twitter/page:\npage:  1\npage:  2\n5952 https://www.altmetric.com/details/4244889/twitter/page:\npage:  1\npage:  2\n5956 https://www.altmetric.com/details/2991376/twitter/page:\npage:  1\npage:  2\n5957 https://www.altmetric.com/details/54821379/twitter/page:\npage:  1\n5958 https://www.altmetric.com/details/2661328/twitter/page:\npage:  1\npage:  2\n5959 https://www.altmetric.com/details/9135203/twitter/page:\npage:  1\n5961 https://www.altmetric.com/details/4222701/twitter/page:\npage:  1\n5963 https://www.altmetric.com/details/4094337/twitter/page:\npage:  1\npage:  2\n5979 https://www.altmetric.com/details/4422529/twitter/page:\npage:  1\npage:  2\n5982 https://www.altmetric.com/details/4356204/twitter/page:\npage:  1\npage:  2\n5995 https://www.altmetric.com/details/4070740/twitter/page:\npage:  1\npage:  2\n5997 https://www.altmetric.com/details/3849641/twitter/page:\npage:  1\npage:  2\n6016 https://www.altmetric.com/details/5035744/twitter/page:\npage:  1\n6071 https://www.altmetric.com/details/4147212/twitter/page:\npage:  1\n6088 https://www.altmetric.com/details/1725381/twitter/page:\npage:  1\npage:  2\n6090 https://www.altmetric.com/details/2221754/twitter/page:\npage:  1\npage:  2\n6117 https://www.altmetric.com/details/4246292/twitter/page:\npage:  1\npage:  2\n6120 https://www.altmetric.com/details/2294410/twitter/page:\npage:  1\npage:  2\n6125 https://www.altmetric.com/details/2441472/twitter/page:\npage:  1\npage:  2\n6130 https://www.altmetric.com/details/47127622/twitter/page:\npage:  1\n6205 https://www.altmetric.com/details/3866320/twitter/page:\npage:  1\npage:  2\n6209 https://www.altmetric.com/details/2960003/twitter/page:\npage:  1\npage:  2\n6210 https://www.altmetric.com/details/3766914/twitter/page:\npage:  1\n6212 https://www.altmetric.com/details/4805412/twitter/page:\npage:  1\npage:  2\n6217 https://www.altmetric.com/details/9904245/twitter/page:\npage:  1\npage:  2\n6219 https://www.altmetric.com/details/2104670/twitter/page:\npage:  1\npage:  2\n6221 https://www.altmetric.com/details/3027519/twitter/page:\npage:  1\npage:  2\n6222 https://www.altmetric.com/details/3939437/twitter/page:\npage:  1\npage:  2\n6226 https://www.altmetric.com/details/3893336/twitter/page:\npage:  1\npage:  2\n6227 https://www.altmetric.com/details/51451850/twitter/page:\npage:  1\n6228 https://www.altmetric.com/details/2086913/twitter/page:\npage:  1\npage:  2\n6229 https://www.altmetric.com/details/4130472/twitter/page:\npage:  1\npage:  2\n6235 https://www.altmetric.com/details/4788347/twitter/page:\npage:  1\npage:  2\n6240 https://www.altmetric.com/details/3881809/twitter/page:\npage:  1\npage:  2\n6241 https://www.altmetric.com/details/3919892/twitter/page:\npage:  1\npage:  2\n6244 https://www.altmetric.com/details/4445423/twitter/page:\npage:  1\npage:  2\n6245 https://www.altmetric.com/details/3999492/twitter/page:\npage:  1\npage:  2\n6247 https://www.altmetric.com/details/3851647/twitter/page:\npage:  1\npage:  2\n6250 https://www.altmetric.com/details/4193388/twitter/page:\npage:  1\npage:  2\n6251 https://www.altmetric.com/details/2916194/twitter/page:\npage:  1\npage:  2\n6253 https://www.altmetric.com/details/4535238/twitter/page:\npage:  1\npage:  2\n6255 https://www.altmetric.com/details/4094771/twitter/page:\npage:  1\npage:  2\n6262 https://www.altmetric.com/details/4417315/twitter/page:\npage:  1\npage:  2\n6263 https://www.altmetric.com/details/1402997/twitter/page:\npage:  1\npage:  2\n6271 https://www.altmetric.com/details/12141913/twitter/page:\npage:  1\npage:  2\n6274 https://www.altmetric.com/details/4817447/twitter/page:\npage:  1\npage:  2\n6276 https://www.altmetric.com/details/3764195/twitter/page:\npage:  1\npage:  2\n6283 https://www.altmetric.com/details/4009364/twitter/page:\npage:  1\npage:  2\n6287 https://www.altmetric.com/details/4602994/twitter/page:\npage:  1\npage:  2\n6289 https://www.altmetric.com/details/19832916/twitter/page:\npage:  1\n6291 https://www.altmetric.com/details/4512484/twitter/page:\npage:  1\npage:  2\n6295 https://www.altmetric.com/details/3943362/twitter/page:\npage:  1\npage:  2\n6296 https://www.altmetric.com/details/3705854/twitter/page:\npage:  1\npage:  2\n6297 https://www.altmetric.com/details/3070108/twitter/page:\npage:  1\npage:  2\n6305 https://www.altmetric.com/details/2916203/twitter/page:\npage:  1\npage:  2\n6310 https://www.altmetric.com/details/4654484/twitter/page:\npage:  1\npage:  2\n6314 https://www.altmetric.com/details/3842595/twitter/page:\npage:  1\npage:  2\n6315 https://www.altmetric.com/details/4612034/twitter/page:\npage:  1\npage:  2\n6316 https://www.altmetric.com/details/3881842/twitter/page:\npage:  1\npage:  2\n6325 https://www.altmetric.com/details/4593579/twitter/page:\npage:  1\npage:  2\n6329 https://www.altmetric.com/details/4816721/twitter/page:\npage:  1\npage:  2\n6332 https://www.altmetric.com/details/3968743/twitter/page:\npage:  1\npage:  2\n6337 https://www.altmetric.com/details/4418412/twitter/page:\npage:  1\npage:  2\n6342 https://www.altmetric.com/details/9909539/twitter/page:\npage:  1\n6343 https://www.altmetric.com/details/3881840/twitter/page:\npage:  1\npage:  2\n6344 https://www.altmetric.com/details/4329170/twitter/page:\npage:  1\npage:  2\n6345 https://www.altmetric.com/details/4036211/twitter/page:\npage:  1\npage:  2\n6351 https://www.altmetric.com/details/4803634/twitter/page:\npage:  1\npage:  2\n6360 https://www.altmetric.com/details/4593589/twitter/page:\npage:  1\npage:  2\n6375 https://www.altmetric.com/details/4593593/twitter/page:\npage:  1\npage:  2\n6376 https://www.altmetric.com/details/10267896/twitter/page:\npage:  1\npage:  2\n6381 https://www.altmetric.com/details/2917727/twitter/page:\npage:  1\npage:  2\n6385 https://www.altmetric.com/details/3926874/twitter/page:\npage:  1\npage:  2\n6389 https://www.altmetric.com/details/3725362/twitter/page:\npage:  1\npage:  2\n6395 https://www.altmetric.com/details/4289063/twitter/page:\npage:  1\npage:  2\n6417 https://www.altmetric.com/details/50164144/twitter/page:\npage:  1\n6418 https://www.altmetric.com/details/3851406/twitter/page:\npage:  1\npage:  2\n6419 https://www.altmetric.com/details/4852551/twitter/page:\npage:  1\n6423 https://www.altmetric.com/details/4639676/twitter/page:\npage:  1\npage:  2\n6425 https://www.altmetric.com/details/45760129/twitter/page:\npage:  1\npage:  2\n6427 https://www.altmetric.com/details/4512437/twitter/page:\npage:  1\n6458 https://www.altmetric.com/details/3065727/twitter/page:\npage:  1\npage:  2\n6481 https://www.altmetric.com/details/4435706/twitter/page:\npage:  1\n6482 https://www.altmetric.com/details/4265410/twitter/page:\npage:  1\npage:  2\n6500 https://www.altmetric.com/details/3019456/twitter/page:\npage:  1\npage:  2\n6532 https://www.altmetric.com/details/4124539/twitter/page:\npage:  1\npage:  2\n6533 https://www.altmetric.com/details/3545782/twitter/page:\npage:  1\npage:  2\n6535 https://www.altmetric.com/details/8903779/twitter/page:\npage:  1\npage:  2\n6536 https://www.altmetric.com/details/3855458/twitter/page:\npage:  1\n6540 https://www.altmetric.com/details/4356780/twitter/page:\npage:  1\npage:  2\n6547 https://www.altmetric.com/details/4437525/twitter/page:\npage:  1\npage:  2\n6552 https://www.altmetric.com/details/2532736/twitter/page:\npage:  1\npage:  2\n6553 https://www.altmetric.com/details/4428082/twitter/page:\npage:  1\npage:  2\n6554 https://www.altmetric.com/details/2194837/twitter/page:\npage:  1\npage:  2\n6556 https://www.altmetric.com/details/2697940/twitter/page:\npage:  1\npage:  2\n6558 https://www.altmetric.com/details/4417554/twitter/page:\npage:  1\npage:  2\n6561 https://www.altmetric.com/details/2457226/twitter/page:\npage:  1\npage:  2\n6564 https://www.altmetric.com/details/2381804/twitter/page:\npage:  1\npage:  2\n6569 https://www.altmetric.com/details/2793172/twitter/page:\npage:  1\npage:  2\n6571 https://www.altmetric.com/details/3086648/twitter/page:\npage:  1\npage:  2\n6575 https://www.altmetric.com/details/2338589/twitter/page:\npage:  1\npage:  2\n6579 https://www.altmetric.com/details/1693713/twitter/page:\npage:  1\npage:  2\n6580 https://www.altmetric.com/details/3040153/twitter/page:\npage:  1\npage:  2\n6582 https://www.altmetric.com/details/2544398/twitter/page:\npage:  1\npage:  2\n6583 https://www.altmetric.com/details/1693069/twitter/page:\npage:  1\npage:  2\n6584 https://www.altmetric.com/details/1693033/twitter/page:\npage:  1\npage:  2\n6586 https://www.altmetric.com/details/2658581/twitter/page:\npage:  1\npage:  2\n6588 https://www.altmetric.com/details/4476235/twitter/page:\npage:  1\npage:  2\n6589 https://www.altmetric.com/details/4659587/twitter/page:\npage:  1\npage:  2\n6590 https://www.altmetric.com/details/4617880/twitter/page:\npage:  1\npage:  2\n6592 https://www.altmetric.com/details/4586206/twitter/page:\npage:  1\npage:  2\n6593 https://www.altmetric.com/details/4508150/twitter/page:\npage:  1\npage:  2\npage:  3\n6594 https://www.altmetric.com/details/4951426/twitter/page:\npage:  1\npage:  2\n6597 https://www.altmetric.com/details/4436429/twitter/page:\npage:  1\npage:  2\n6600 https://www.altmetric.com/details/4425814/twitter/page:\npage:  1\npage:  2\n6602 https://www.altmetric.com/details/4670566/twitter/page:\npage:  1\npage:  2\n6612 https://www.altmetric.com/details/4416354/twitter/page:\npage:  1\npage:  2\n6613 https://www.altmetric.com/details/4359515/twitter/page:\npage:  1\npage:  2\n6614 https://www.altmetric.com/details/4586227/twitter/page:\npage:  1\npage:  2\n6616 https://www.altmetric.com/details/4137344/twitter/page:\npage:  1\npage:  2\n6622 https://www.altmetric.com/details/4169308/twitter/page:\npage:  1\n6627 https://www.altmetric.com/details/4112727/twitter/page:\npage:  1\npage:  2\n6629 https://www.altmetric.com/details/4199573/twitter/page:\npage:  1\npage:  2\n6632 https://www.altmetric.com/details/4232708/twitter/page:\npage:  1\npage:  2\n6634 https://www.altmetric.com/details/3966603/twitter/page:\npage:  1\npage:  2\n6636 https://www.altmetric.com/details/4738009/twitter/page:\npage:  1\npage:  2\n6645 https://www.altmetric.com/details/3983755/twitter/page:\npage:  1\npage:  2\n6649 https://www.altmetric.com/details/3986123/twitter/page:\npage:  1\npage:  2\n6654 https://www.altmetric.com/details/3925246/twitter/page:\npage:  1\npage:  2\n6656 https://www.altmetric.com/details/3879464/twitter/page:\npage:  1\npage:  2\n6658 https://www.altmetric.com/details/4882853/twitter/page:\npage:  1\npage:  2\n6661 https://www.altmetric.com/details/4448928/twitter/page:\npage:  1\npage:  2\n6664 https://www.altmetric.com/details/3800906/twitter/page:\npage:  1\npage:  2\n6667 https://www.altmetric.com/details/3857100/twitter/page:\npage:  1\npage:  2\n6670 https://www.altmetric.com/details/3857107/twitter/page:\npage:  1\npage:  2\n6671 https://www.altmetric.com/details/3755371/twitter/page:\npage:  1\npage:  2\n6672 https://www.altmetric.com/details/4814733/twitter/page:\npage:  1\npage:  2\n6674 https://www.altmetric.com/details/9907332/twitter/page:\npage:  1\npage:  2\n6679 https://www.altmetric.com/details/13552081/twitter/page:\npage:  1\n6681 https://www.altmetric.com/details/3105232/twitter/page:\npage:  1\npage:  2\n6685 https://www.altmetric.com/details/3703861/twitter/page:\npage:  1\npage:  2\n6686 https://www.altmetric.com/details/3105227/twitter/page:\npage:  1\npage:  2\n6688 https://www.altmetric.com/details/2987009/twitter/page:\npage:  1\npage:  2\n6690 https://www.altmetric.com/details/9909001/twitter/page:\npage:  1\n6693 https://www.altmetric.com/details/9910278/twitter/page:\npage:  1\npage:  2\n6695 https://www.altmetric.com/details/4512891/twitter/page:\npage:  1\npage:  2\n6699 https://www.altmetric.com/details/2986464/twitter/page:\npage:  1\npage:  2\n6700 https://www.altmetric.com/details/3820850/twitter/page:\npage:  1\npage:  2\n6701 https://www.altmetric.com/details/2959262/twitter/page:\npage:  1\npage:  2\n6712 https://www.altmetric.com/details/3933118/twitter/page:\npage:  1\n6718 https://www.altmetric.com/details/1629392/twitter/page:\npage:  1\npage:  2\n6741 https://www.altmetric.com/details/21511158/twitter/page:\npage:  1\npage:  2\n6742 https://www.altmetric.com/details/21511160/twitter/page:\npage:  1\npage:  2\n6743 https://www.altmetric.com/details/21511159/twitter/page:\npage:  1\npage:  2\n6744 https://www.altmetric.com/details/21511162/twitter/page:\npage:  1\npage:  2\n6745 https://www.altmetric.com/details/21511155/twitter/page:\npage:  1\npage:  2\n6746 https://www.altmetric.com/details/21511156/twitter/page:\npage:  1\npage:  2\n6747 https://www.altmetric.com/details/21511157/twitter/page:\npage:  1\npage:  2\n6748 https://www.altmetric.com/details/21511161/twitter/page:\npage:  1\npage:  2\nCPU times: user 1min 7s, sys: 5.08 s, total: 1min 12s\nWall time: 1h 18min 59s\n"
    }
   ],
   "source": [
    "%%time\n",
    "articles_dict = {}\n",
    "for index, row in df.iterrows():\n",
    "    if row['altmetric_id'] == '' or str(row['altmetric_id']).lower() == 'nan':\n",
    "        articles_dict[row['DI']] = {'altmetric_id': '', 'twitter_num': 0, 'tweets': []}\n",
    "        continue\n",
    "    # print(row['DI'], row['altmetric_id'])\n",
    "    grab_url = f'https://www.altmetric.com/details/{row[\"altmetric_id\"]}/twitter/page:'\n",
    "    print(str(index), grab_url)\n",
    "    parser.articles = []\n",
    "    for i in range(1, 100000):\n",
    "        parser.feed(grab_from_url_content(grab_url + str(i), headers=headers))\n",
    "        print('page: ', str(i))\n",
    "        if not parser.has_article:\n",
    "            break\n",
    "    articles_dict[row['DI']] = {'altmetric_id': row['altmetric_id'], 'twitter_num': len(parser.articles), 'tweets': parser.articles}"
   ]
  },
  {
   "cell_type": "code",
   "execution_count": 77,
   "metadata": {},
   "outputs": [],
   "source": [
    "with open(f'{origin_folder}/article_tweets_altmetric.json', \"w+\") as dump_f:\n",
    "    dump_f.write(json.dumps(articles_dict))"
   ]
  },
  {
   "cell_type": "code",
   "execution_count": null,
   "metadata": {},
   "outputs": [],
   "source": []
  }
 ]
}