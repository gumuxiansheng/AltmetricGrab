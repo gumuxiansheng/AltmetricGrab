{
 "nbformat": 4,
 "nbformat_minor": 2,
 "metadata": {
  "language_info": {
   "name": "python",
   "codemirror_mode": {
    "name": "ipython",
    "version": 3
   },
   "version": "3.7.3-final"
  },
  "orig_nbformat": 2,
  "file_extension": ".py",
  "mimetype": "text/x-python",
  "name": "python",
  "npconvert_exporter": "python",
  "pygments_lexer": "ipython3",
  "version": 3,
  "kernelspec": {
   "name": "python37364bitbaseconda6cbf2fa32d51420982c74e46366e652d",
   "display_name": "Python 3.7.3 64-bit ('base': conda)"
  }
 },
 "cells": [
  {
   "cell_type": "markdown",
   "metadata": {},
   "outputs": [],
   "source": [
    "# Grab Altmetric.com Data"
   ]
  },
  {
   "cell_type": "markdown",
   "metadata": {},
   "outputs": [],
   "source": [
    "## Request Functions\n",
    "This part contains functions we need to fetch the web data and should also handle the exceptions while fetching here."
   ]
  },
  {
   "cell_type": "code",
   "execution_count": 1,
   "metadata": {},
   "outputs": [],
   "source": [
    "from grab_util import *\n",
    "import json\n",
    "import pandas as pd\n",
    "import numpy as np\n",
    "import math\n",
    ""
   ]
  },
  {
   "cell_type": "code",
   "execution_count": 2,
   "metadata": {},
   "outputs": [],
   "source": [
    "origin_folder = '/Volumes/Seagate Backup Plus Drive/Dev/altmetric/Data_C'"
   ]
  },
  {
   "cell_type": "markdown",
   "metadata": {},
   "outputs": [],
   "source": [
    "## Grab altmetric.com Ids"
   ]
  },
  {
   "cell_type": "code",
   "execution_count": 3,
   "metadata": {},
   "outputs": [],
   "source": [
    "def get_altmetric_id(doi):\n",
    "    detail_id = ''\n",
    "    res = grab_from_url_json('https://api.altmetric.com/v1/doi/' + doi)\n",
    "    if res is not None:\n",
    "        detail_id = res['altmetric_id']\n",
    "    return detail_id"
   ]
  },
  {
   "cell_type": "code",
   "metadata": {},
   "outputs": [],
   "source": [
    "all_articles_df = pd.read_excel(f'{origin_folder}/all.xlsx', usecols=['SO', 'DI'])\n",
    "# all_articles_df = pd.read_csv(f'{origin_folder}/all.csv', usecols=['SO', 'DI'])\n",
    "df = pd.DataFrame(columns=['DI', 'altmetric_id'])"
   ],
   "execution_count": 4
  },
  {
   "cell_type": "code",
   "metadata": {},
   "outputs": [
    {
     "output_type": "stream",
     "name": "stdout",
     "text": "0\nReadTimeout: HTTPSConnectionPool(host='api.altmetric.com', port=443): Read timed out. (read timeout=10)\nReadTimeout: HTTPSConnectionPool(host='api.altmetric.com', port=443): Read timed out. (read timeout=10)\nReadTimeout: HTTPSConnectionPool(host='api.altmetric.com', port=443): Read timed out. (read timeout=10)\n100\nReadTimeout: HTTPSConnectionPool(host='api.altmetric.com', port=443): Read timed out. (read timeout=10)\nReadTimeout: HTTPSConnectionPool(host='api.altmetric.com', port=443): Read timed out. (read timeout=10)\nConnectionError: HTTPSConnectionPool(host='api.altmetric.com', port=443): Max retries exceeded with url: /v1/doi/10.1038/NMAT4803 (Caused by SSLError(SSLError(\"bad handshake: SysCallError(-1, 'Unexpected EOF')\")))\nReadTimeout: HTTPSConnectionPool(host='api.altmetric.com', port=443): Read timed out. (read timeout=10)\n200\nReadTimeout: HTTPSConnectionPool(host='api.altmetric.com', port=443): Read timed out. (read timeout=10)\nReadTimeout: HTTPSConnectionPool(host='api.altmetric.com', port=443): Read timed out. (read timeout=10)\n300\nReadTimeout: HTTPSConnectionPool(host='api.altmetric.com', port=443): Read timed out. (read timeout=10)\n400\nReadTimeout: HTTPSConnectionPool(host='api.altmetric.com', port=443): Read timed out. (read timeout=10)\nConnectionError: HTTPSConnectionPool(host='api.altmetric.com', port=443): Max retries exceeded with url: /v1/doi/10.1016/j.cattod.2016.12.045 (Caused by SSLError(SSLError(\"bad handshake: SysCallError(-1, 'Unexpected EOF')\")))\nConnectionError: HTTPSConnectionPool(host='api.altmetric.com', port=443): Max retries exceeded with url: /v1/doi/10.1016/j.cattod.2017.04.061 (Caused by ConnectTimeoutError(<urllib3.connection.VerifiedHTTPSConnection object at 0x11bfa1630>, 'Connection to api.altmetric.com timed out. (connect timeout=10)'))\nReadTimeout: HTTPSConnectionPool(host='api.altmetric.com', port=443): Read timed out. (read timeout=10)\nReadTimeout: HTTPSConnectionPool(host='api.altmetric.com', port=443): Read timed out. (read timeout=10)\n500\nConnectionError: HTTPSConnectionPool(host='api.altmetric.com', port=443): Max retries exceeded with url: /v1/doi/10.1016/j.cattod.2017.04.067 (Caused by SSLError(SSLError(\"bad handshake: SysCallError(-1, 'Unexpected EOF')\")))\n600\nReadTimeout: HTTPSConnectionPool(host='api.altmetric.com', port=443): Read timed out. (read timeout=10)\nReadTimeout: HTTPSConnectionPool(host='api.altmetric.com', port=443): Read timed out. (read timeout=10)\nReadTimeout: HTTPSConnectionPool(host='api.altmetric.com', port=443): Read timed out. (read timeout=10)\n700\nReadTimeout: HTTPSConnectionPool(host='api.altmetric.com', port=443): Read timed out. (read timeout=10)\n800\nReadTimeout: HTTPSConnectionPool(host='api.altmetric.com', port=443): Read timed out. (read timeout=10)\nReadTimeout: HTTPSConnectionPool(host='api.altmetric.com', port=443): Read timed out. (read timeout=10)\n900\nReadTimeout: HTTPSConnectionPool(host='api.altmetric.com', port=443): Read timed out. (read timeout=10)\nReadTimeout: HTTPSConnectionPool(host='api.altmetric.com', port=443): Read timed out. (read timeout=10)\nReadTimeout: HTTPSConnectionPool(host='api.altmetric.com', port=443): Read timed out. (read timeout=10)\nReadTimeout: HTTPSConnectionPool(host='api.altmetric.com', port=443): Read timed out. (read timeout=10)\nReadTimeout: HTTPSConnectionPool(host='api.altmetric.com', port=443): Read timed out. (read timeout=10)\n1000\nReadTimeout: HTTPSConnectionPool(host='api.altmetric.com', port=443): Read timed out. (read timeout=10)\nConnectionError: HTTPSConnectionPool(host='api.altmetric.com', port=443): Max retries exceeded with url: /v1/doi/10.1021/jacs.7b09760 (Caused by SSLError(SSLError(\"bad handshake: SysCallError(-1, 'Unexpected EOF')\")))\nReadTimeout: HTTPSConnectionPool(host='api.altmetric.com', port=443): Read timed out. (read timeout=10)\n1100\nReadTimeout: HTTPSConnectionPool(host='api.altmetric.com', port=443): Read timed out. (read timeout=10)\nReadTimeout: HTTPSConnectionPool(host='api.altmetric.com', port=443): Read timed out. (read timeout=10)\nReadTimeout: HTTPSConnectionPool(host='api.altmetric.com', port=443): Read timed out. (read timeout=10)\nReadTimeout: HTTPSConnectionPool(host='api.altmetric.com', port=443): Read timed out. (read timeout=10)\nReadTimeout: HTTPSConnectionPool(host='api.altmetric.com', port=443): Read timed out. (read timeout=10)\nReadTimeout: HTTPSConnectionPool(host='api.altmetric.com', port=443): Read timed out. (read timeout=10)\nReadTimeout: HTTPSConnectionPool(host='api.altmetric.com', port=443): Read timed out. (read timeout=10)\n1200\nReadTimeout: HTTPSConnectionPool(host='api.altmetric.com', port=443): Read timed out. (read timeout=10)\n1300\nReadTimeout: HTTPSConnectionPool(host='api.altmetric.com', port=443): Read timed out. (read timeout=10)\nReadTimeout: HTTPSConnectionPool(host='api.altmetric.com', port=443): Read timed out. (read timeout=10)\nReadTimeout: HTTPSConnectionPool(host='api.altmetric.com', port=443): Read timed out. (read timeout=10)\nReadTimeout: HTTPSConnectionPool(host='api.altmetric.com', port=443): Read timed out. (read timeout=10)\n1400\nReadTimeout: HTTPSConnectionPool(host='api.altmetric.com', port=443): Read timed out. (read timeout=10)\nReadTimeout: HTTPSConnectionPool(host='api.altmetric.com', port=443): Read timed out. (read timeout=10)\n1500\n1600\nReadTimeout: HTTPSConnectionPool(host='api.altmetric.com', port=443): Read timed out. (read timeout=10)\nReadTimeout: HTTPSConnectionPool(host='api.altmetric.com', port=443): Read timed out. (read timeout=10)\n1700\nReadTimeout: HTTPSConnectionPool(host='api.altmetric.com', port=443): Read timed out. (read timeout=10)\nConnectionError: HTTPSConnectionPool(host='api.altmetric.com', port=443): Max retries exceeded with url: /v1/doi/10.1021/jacs.7b05002 (Caused by ConnectTimeoutError(<urllib3.connection.VerifiedHTTPSConnection object at 0x11bf122e8>, 'Connection to api.altmetric.com timed out. (connect timeout=10)'))\nReadTimeout: HTTPSConnectionPool(host='api.altmetric.com', port=443): Read timed out. (read timeout=10)\nReadTimeout: HTTPSConnectionPool(host='api.altmetric.com', port=443): Read timed out. (read timeout=10)\nReadTimeout: HTTPSConnectionPool(host='api.altmetric.com', port=443): Read timed out. (read timeout=10)\n1800\nReadTimeout: HTTPSConnectionPool(host='api.altmetric.com', port=443): Read timed out. (read timeout=10)\nReadTimeout: HTTPSConnectionPool(host='api.altmetric.com', port=443): Read timed out. (read timeout=10)\n1900\n2000\n2100\nReadTimeout: HTTPSConnectionPool(host='api.altmetric.com', port=443): Read timed out. (read timeout=10)\nReadTimeout: HTTPSConnectionPool(host='api.altmetric.com', port=443): Read timed out. (read timeout=10)\nReadTimeout: HTTPSConnectionPool(host='api.altmetric.com', port=443): Read timed out. (read timeout=10)\nReadTimeout: HTTPSConnectionPool(host='api.altmetric.com', port=443): Read timed out. (read timeout=10)\n2200\nReadTimeout: HTTPSConnectionPool(host='api.altmetric.com', port=443): Read timed out. (read timeout=10)\n2300\nReadTimeout: HTTPSConnectionPool(host='api.altmetric.com', port=443): Read timed out. (read timeout=10)\nReadTimeout: HTTPSConnectionPool(host='api.altmetric.com', port=443): Read timed out. (read timeout=10)\nReadTimeout: HTTPSConnectionPool(host='api.altmetric.com', port=443): Read timed out. (read timeout=10)\nReadTimeout: HTTPSConnectionPool(host='api.altmetric.com', port=443): Read timed out. (read timeout=10)\n2400\nReadTimeout: HTTPSConnectionPool(host='api.altmetric.com', port=443): Read timed out. (read timeout=10)\nReadTimeout: HTTPSConnectionPool(host='api.altmetric.com', port=443): Read timed out. (read timeout=10)\n2500\nReadTimeout: HTTPSConnectionPool(host='api.altmetric.com', port=443): Read timed out. (read timeout=10)\nReadTimeout: HTTPSConnectionPool(host='api.altmetric.com', port=443): Read timed out. (read timeout=10)\nReadTimeout: HTTPSConnectionPool(host='api.altmetric.com', port=443): Read timed out. (read timeout=10)\nReadTimeout: HTTPSConnectionPool(host='api.altmetric.com', port=443): Read timed out. (read timeout=10)\nReadTimeout: HTTPSConnectionPool(host='api.altmetric.com', port=443): Read timed out. (read timeout=10)\n2600\nReadTimeout: HTTPSConnectionPool(host='api.altmetric.com', port=443): Read timed out. (read timeout=10)\nReadTimeout: HTTPSConnectionPool(host='api.altmetric.com', port=443): Read timed out. (read timeout=10)\nReadTimeout: HTTPSConnectionPool(host='api.altmetric.com', port=443): Read timed out. (read timeout=10)\nReadTimeout: HTTPSConnectionPool(host='api.altmetric.com', port=443): Read timed out. (read timeout=10)\nReadTimeout: HTTPSConnectionPool(host='api.altmetric.com', port=443): Read timed out. (read timeout=10)\nReadTimeout: HTTPSConnectionPool(host='api.altmetric.com', port=443): Read timed out. (read timeout=10)\nReadTimeout: HTTPSConnectionPool(host='api.altmetric.com', port=443): Read timed out. (read timeout=10)\n2700\n2800\nReadTimeout: HTTPSConnectionPool(host='api.altmetric.com', port=443): Read timed out. (read timeout=10)\nReadTimeout: HTTPSConnectionPool(host='api.altmetric.com', port=443): Read timed out. (read timeout=10)\nReadTimeout: HTTPSConnectionPool(host='api.altmetric.com', port=443): Read timed out. (read timeout=10)\n2900\nReadTimeout: HTTPSConnectionPool(host='api.altmetric.com', port=443): Read timed out. (read timeout=10)\nReadTimeout: HTTPSConnectionPool(host='api.altmetric.com', port=443): Read timed out. (read timeout=10)\nReadTimeout: HTTPSConnectionPool(host='api.altmetric.com', port=443): Read timed out. (read timeout=10)\nReadTimeout: HTTPSConnectionPool(host='api.altmetric.com', port=443): Read timed out. (read timeout=10)\n3000\n3100\nReadTimeout: HTTPSConnectionPool(host='api.altmetric.com', port=443): Read timed out. (read timeout=10)\nReadTimeout: HTTPSConnectionPool(host='api.altmetric.com', port=443): Read timed out. (read timeout=10)\nReadTimeout: HTTPSConnectionPool(host='api.altmetric.com', port=443): Read timed out. (read timeout=10)\nReadTimeout: HTTPSConnectionPool(host='api.altmetric.com', port=443): Read timed out. (read timeout=10)\nReadTimeout: HTTPSConnectionPool(host='api.altmetric.com', port=443): Read timed out. (read timeout=10)\n3200\nReadTimeout: HTTPSConnectionPool(host='api.altmetric.com', port=443): Read timed out. (read timeout=10)\nReadTimeout: HTTPSConnectionPool(host='api.altmetric.com', port=443): Read timed out. (read timeout=10)\nReadTimeout: HTTPSConnectionPool(host='api.altmetric.com', port=443): Read timed out. (read timeout=10)\n3300\nReadTimeout: HTTPSConnectionPool(host='api.altmetric.com', port=443): Read timed out. (read timeout=10)\nReadTimeout: HTTPSConnectionPool(host='api.altmetric.com', port=443): Read timed out. (read timeout=10)\nCPU times: user 1min 35s, sys: 5.44 s, total: 1min 40s\nWall time: 2h 25min 45s\n"
    }
   ],
   "source": [
    "%%time\n",
    "for index, doi in enumerate(all_articles_df['DI']):\n",
    "    if doi in df['DI'].values:\n",
    "        continue\n",
    "    if index % 100 == 0:\n",
    "        print(index)\n",
    "    dfx = pd.DataFrame(columns=['DI', 'altmetric_id'])\n",
    "    dfx['DI'] = [doi]\n",
    "    dfx['altmetric_id'] = [get_altmetric_id(str(doi))]\n",
    "    df = df.append(dfx, ignore_index=True)\n",
    "\n",
    "df.to_csv(f'{origin_folder}/all_altmetric_id.csv', index=False)"
   ],
   "execution_count": 5
  },
  {
   "cell_type": "markdown",
   "metadata": {},
   "outputs": [],
   "source": [
    "## Grab altmetric.com Details"
   ]
  },
  {
   "cell_type": "code",
   "metadata": {},
   "outputs": [],
   "source": [
    "def grab_detail_altmetric(doi, altmetric_id):\n",
    "    df = pd.DataFrame()\n",
    "    b_list = ['news outlets', 'blogs', 'policy', 'tweeters', 'weibo', 'facebook pages', 'wikipedia', 'redditors', 'f1000', 'video uploader', 'dimensions_citation', 'mendeley', 'citeulike']\n",
    "\n",
    "    df['DI'] = [doi]\n",
    "    df['altmetric_id'] = [altmetric_id]\n",
    "    if altmetric_id != '' and not math.isnan(altmetric_id):\n",
    "        altmetric_id = int(altmetric_id)\n",
    "        news_anchor = 'news</dt><dd><a href=\"/details/' + str(altmetric_id) + '/news\"><strong>'\n",
    "        blogs_anchor = 'blogs</dt><dd><a href=\"/details/' + str(altmetric_id) + '/blogs\"><strong>'\n",
    "        policy_anchor = 'policy</dt><dd><a href=\"/details/' + str(altmetric_id) + '/policy-documents\"><strong>'\n",
    "        twitter_anchor = 'twitter</dt><dd><a href=\"/details/' + str(altmetric_id) + '/twitter\"><strong>'\n",
    "        weibo_anchor = 'weibo</dt><dd><a href=\"/details/' + str(altmetric_id) + '/weibo\"><strong>'\n",
    "        facebook_anchor = 'facebook</dt><dd><a href=\"/details/' + str(altmetric_id) + '/facebook\"><strong>'\n",
    "        wikipedia_anchor = 'wikipedia</dt><dd><a href=\"/details/' + str(altmetric_id) + '/wikipedia\"><strong>'\n",
    "        redditors_anchor = 'reddit</dt><dd><a href=\"/details/' + str(altmetric_id) + '/reddit\"><strong>'\n",
    "        f1000_anchor = 'f1000</dt><dd><a href=\"/details/' + str(altmetric_id) + '/f1000\"><strong>'\n",
    "        video_anchor = 'video</dt><dd><a href=\"/details/' + str(altmetric_id) + '/video\"><strong>'\n",
    "        dimensions_citation_anchor = 'dimensions_citation</dt><dd><a href=\"/details/' + str(altmetric_id) + '/citations\"><strong>'\n",
    "        mendeley_anchor = 'mendeley</dt><dd><a href=\"/details/' + str(altmetric_id) + '#mendeley-demographics\"><strong>'\n",
    "        citeulike_anchor = 'citeulike</dt><dd><strong>'\n",
    "        c_list = [news_anchor, blogs_anchor, policy_anchor, twitter_anchor, weibo_anchor, facebook_anchor, wikipedia_anchor, redditors_anchor, f1000_anchor, video_anchor, dimensions_citation_anchor, mendeley_anchor, citeulike_anchor]\n",
    "\n",
    "        end_anchor = '</strong>'\n",
    "\n",
    "        res = grab_from_url_content('https://www.altmetric.com/details/' + str(altmetric_id))\n",
    "        if res is not None:\n",
    "\n",
    "            for i in range(0, len(c_list)):\n",
    "                start_index = res.find(c_list[i])\n",
    "                if start_index > 0:\n",
    "                    start_index += len(c_list[i])\n",
    "                    number = 0\n",
    "                    end_index = res.find(end_anchor, start_index, start_index + 100)\n",
    "                    number_temp = res[start_index: end_index]\n",
    "\n",
    "                    if number_temp is not '':\n",
    "                        number = number_temp\n",
    "                    df[b_list[i]] = int(number)\n",
    "                else:\n",
    "                    df[b_list[i]] = 0\n",
    "        else:\n",
    "            for i in range(0, len(b_list)):\n",
    "                df[b_list[i]] = 0\n",
    "    else:\n",
    "        for i in range(0, len(b_list)):\n",
    "            df[b_list[i]] = -1\n",
    "\n",
    "    return df"
   ],
   "execution_count": 6
  },
  {
   "cell_type": "code",
   "metadata": {},
   "outputs": [
    {
     "output_type": "stream",
     "name": "stdout",
     "text": "0\nReadTimeout: HTTPSConnectionPool(host='www.altmetric.com', port=443): Read timed out. (read timeout=10)\nConnectionError: HTTPSConnectionPool(host='www.altmetric.com', port=443): Read timed out.\nReadTimeout: HTTPSConnectionPool(host='www.altmetric.com', port=443): Read timed out. (read timeout=10)\nReadTimeout: HTTPSConnectionPool(host='www.altmetric.com', port=443): Read timed out. (read timeout=10)\nReadTimeout: HTTPSConnectionPool(host='www.altmetric.com', port=443): Read timed out. (read timeout=10)\n100\nConnectionError: HTTPSConnectionPool(host='www.altmetric.com', port=443): Read timed out.\nConnectionError: HTTPSConnectionPool(host='www.altmetric.com', port=443): Read timed out.\nReadTimeout: HTTPSConnectionPool(host='www.altmetric.com', port=443): Read timed out. (read timeout=10)\nReadTimeout: HTTPSConnectionPool(host='www.altmetric.com', port=443): Read timed out. (read timeout=10)\nConnectionError: HTTPSConnectionPool(host='www.altmetric.com', port=443): Max retries exceeded with url: /details/12097265 (Caused by SSLError(SSLError(\"bad handshake: SysCallError(54, 'ECONNRESET')\")))\n200\nConnectionError: HTTPSConnectionPool(host='www.altmetric.com', port=443): Read timed out.\nReadTimeout: HTTPSConnectionPool(host='www.altmetric.com', port=443): Read timed out. (read timeout=10)\nReadTimeout: HTTPSConnectionPool(host='www.altmetric.com', port=443): Read timed out. (read timeout=10)\nReadTimeout: HTTPSConnectionPool(host='www.altmetric.com', port=443): Read timed out. (read timeout=10)\nConnectionError: HTTPSConnectionPool(host='www.altmetric.com', port=443): Read timed out.\nReadTimeout: HTTPSConnectionPool(host='www.altmetric.com', port=443): Read timed out. (read timeout=10)\n300\nConnectionError: HTTPSConnectionPool(host='www.altmetric.com', port=443): Read timed out.\nReadTimeout: HTTPSConnectionPool(host='www.altmetric.com', port=443): Read timed out. (read timeout=10)\nReadTimeout: HTTPSConnectionPool(host='www.altmetric.com', port=443): Read timed out. (read timeout=10)\nConnectionError: HTTPSConnectionPool(host='www.altmetric.com', port=443): Read timed out.\nReadTimeout: HTTPSConnectionPool(host='www.altmetric.com', port=443): Read timed out. (read timeout=10)\nReadTimeout: HTTPSConnectionPool(host='www.altmetric.com', port=443): Read timed out. (read timeout=10)\n400\nReadTimeout: HTTPSConnectionPool(host='www.altmetric.com', port=443): Read timed out. (read timeout=10)\nConnectionError: HTTPSConnectionPool(host='www.altmetric.com', port=443): Read timed out.\nReadTimeout: HTTPSConnectionPool(host='www.altmetric.com', port=443): Read timed out. (read timeout=10)\nConnectionError: HTTPSConnectionPool(host='www.altmetric.com', port=443): Read timed out.\n500\n600\n700\nConnectionError: HTTPSConnectionPool(host='www.altmetric.com', port=443): Read timed out.\n800\n900\nConnectionError: HTTPSConnectionPool(host='www.altmetric.com', port=443): Read timed out.\nReadTimeout: HTTPSConnectionPool(host='www.altmetric.com', port=443): Read timed out. (read timeout=10)\nReadTimeout: HTTPSConnectionPool(host='www.altmetric.com', port=443): Read timed out. (read timeout=10)\n1000\nReadTimeout: HTTPSConnectionPool(host='www.altmetric.com', port=443): Read timed out. (read timeout=10)\nReadTimeout: HTTPSConnectionPool(host='www.altmetric.com', port=443): Read timed out. (read timeout=10)\nReadTimeout: HTTPSConnectionPool(host='www.altmetric.com', port=443): Read timed out. (read timeout=10)\n1100\nReadTimeout: HTTPSConnectionPool(host='www.altmetric.com', port=443): Read timed out. (read timeout=10)\nConnectionError: HTTPSConnectionPool(host='www.altmetric.com', port=443): Read timed out.\n1200\nReadTimeout: HTTPSConnectionPool(host='www.altmetric.com', port=443): Read timed out. (read timeout=10)\nConnectionError: HTTPSConnectionPool(host='www.altmetric.com', port=443): Read timed out.\n1300\nReadTimeout: HTTPSConnectionPool(host='www.altmetric.com', port=443): Read timed out. (read timeout=10)\nReadTimeout: HTTPSConnectionPool(host='www.altmetric.com', port=443): Read timed out. (read timeout=10)\nConnectionError: HTTPSConnectionPool(host='www.altmetric.com', port=443): Read timed out.\nConnectionError: HTTPSConnectionPool(host='www.altmetric.com', port=443): Read timed out.\nReadTimeout: HTTPSConnectionPool(host='www.altmetric.com', port=443): Read timed out. (read timeout=10)\n1400\nReadTimeout: HTTPSConnectionPool(host='www.altmetric.com', port=443): Read timed out. (read timeout=10)\n1500\n1600\nReadTimeout: HTTPSConnectionPool(host='www.altmetric.com', port=443): Read timed out. (read timeout=10)\n1700\nConnectionError: HTTPSConnectionPool(host='www.altmetric.com', port=443): Read timed out.\n1800\nConnectionError: HTTPSConnectionPool(host='www.altmetric.com', port=443): Read timed out.\nReadTimeout: HTTPSConnectionPool(host='www.altmetric.com', port=443): Read timed out. (read timeout=10)\nConnectionError: HTTPSConnectionPool(host='www.altmetric.com', port=443): Read timed out.\n1900\nConnectionError: HTTPSConnectionPool(host='www.altmetric.com', port=443): Read timed out.\nConnectionError: HTTPSConnectionPool(host='www.altmetric.com', port=443): Read timed out.\n2000\nConnectionError: HTTPSConnectionPool(host='www.altmetric.com', port=443): Max retries exceeded with url: /details/24867742 (Caused by SSLError(SSLError(\"bad handshake: SysCallError(-1, 'Unexpected EOF')\")))\n2100\nConnectionError: HTTPSConnectionPool(host='www.altmetric.com', port=443): Read timed out.\n2200\nConnectionError: HTTPSConnectionPool(host='www.altmetric.com', port=443): Read timed out.\n2300\nReadTimeout: HTTPSConnectionPool(host='www.altmetric.com', port=443): Read timed out. (read timeout=10)\nReadTimeout: HTTPSConnectionPool(host='www.altmetric.com', port=443): Read timed out. (read timeout=10)\nReadTimeout: HTTPSConnectionPool(host='www.altmetric.com', port=443): Read timed out. (read timeout=10)\nConnectionError: HTTPSConnectionPool(host='www.altmetric.com', port=443): Read timed out.\n2400\nReadTimeout: HTTPSConnectionPool(host='www.altmetric.com', port=443): Read timed out. (read timeout=10)\nConnectionError: HTTPSConnectionPool(host='www.altmetric.com', port=443): Read timed out.\nReadTimeout: HTTPSConnectionPool(host='www.altmetric.com', port=443): Read timed out. (read timeout=10)\nReadTimeout: HTTPSConnectionPool(host='www.altmetric.com', port=443): Read timed out. (read timeout=10)\nConnectionError: HTTPSConnectionPool(host='www.altmetric.com', port=443): Read timed out.\nReadTimeout: HTTPSConnectionPool(host='www.altmetric.com', port=443): Read timed out. (read timeout=10)\nConnectionError: HTTPSConnectionPool(host='www.altmetric.com', port=443): Max retries exceeded with url: /details/26282915 (Caused by SSLError(SSLError(\"bad handshake: SysCallError(-1, 'Unexpected EOF')\")))\n2500\nReadTimeout: HTTPSConnectionPool(host='www.altmetric.com', port=443): Read timed out. (read timeout=10)\nReadTimeout: HTTPSConnectionPool(host='www.altmetric.com', port=443): Read timed out. (read timeout=10)\nConnectionError: HTTPSConnectionPool(host='www.altmetric.com', port=443): Read timed out.\nConnectionError: HTTPSConnectionPool(host='www.altmetric.com', port=443): Read timed out.\n2600\nConnectionError: HTTPSConnectionPool(host='www.altmetric.com', port=443): Read timed out.\nReadTimeout: HTTPSConnectionPool(host='www.altmetric.com', port=443): Read timed out. (read timeout=10)\nReadTimeout: HTTPSConnectionPool(host='www.altmetric.com', port=443): Read timed out. (read timeout=10)\n2700\nConnectionError: HTTPSConnectionPool(host='www.altmetric.com', port=443): Read timed out.\nReadTimeout: HTTPSConnectionPool(host='www.altmetric.com', port=443): Read timed out. (read timeout=10)\n2800\nReadTimeout: HTTPSConnectionPool(host='www.altmetric.com', port=443): Read timed out. (read timeout=10)\nReadTimeout: HTTPSConnectionPool(host='www.altmetric.com', port=443): Read timed out. (read timeout=10)\nConnectionError: HTTPSConnectionPool(host='www.altmetric.com', port=443): Read timed out.\nReadTimeout: HTTPSConnectionPool(host='www.altmetric.com', port=443): Read timed out. (read timeout=10)\n2900\nConnectionError: HTTPSConnectionPool(host='www.altmetric.com', port=443): Read timed out.\nReadTimeout: HTTPSConnectionPool(host='www.altmetric.com', port=443): Read timed out. (read timeout=10)\n3000\nConnectionError: HTTPSConnectionPool(host='www.altmetric.com', port=443): Read timed out.\n3100\n3200\nConnectionError: HTTPSConnectionPool(host='www.altmetric.com', port=443): Read timed out.\n3300\nReadTimeout: HTTPSConnectionPool(host='www.altmetric.com', port=443): Read timed out. (read timeout=10)\nCPU times: user 1min 30s, sys: 4.68 s, total: 1min 34s\nWall time: 3h 1min 56s\n"
    }
   ],
   "source": [
    "%%time\n",
    "all_articles_df = pd.read_csv(f'{origin_folder}/all_altmetric_id.csv')\n",
    "df = pd.DataFrame(columns=['DI'])\n",
    "for index, row in all_articles_df.iterrows():\n",
    "    if row['DI'] in df['DI'].values:\n",
    "        continue\n",
    "    if index % 100 == 0:\n",
    "        print(index)\n",
    "    dfx = grab_detail_altmetric(row['DI'], row['altmetric_id'])\n",
    "    df = df.append(dfx, ignore_index=True)\n",
    "\n",
    "df.to_csv(f'{origin_folder}/all_altmetric_detail.csv', index=False)"
   ],
   "execution_count": 7
  },
  {
   "cell_type": "markdown",
   "metadata": {},
   "outputs": [],
   "source": [
    "## Grab altmetric.com's Tweets Detail"
   ]
  },
  {
   "cell_type": "markdown",
   "metadata": {},
   "outputs": [],
   "source": [
    "### Parser\n",
    "We will get the html content from the url which is not listed as we want it be, so we need parser to parse them into listed data, in json form."
   ]
  },
  {
   "cell_type": "code",
   "metadata": {},
   "outputs": [],
   "source": [
    "from html.parser import HTMLParser\n",
    "\n",
    "class AltmetricHTMLParser(HTMLParser):\n",
    "    tweets = []\n",
    "    retweets = []\n",
    "    articles = {'tweets': tweets, 'retweets': retweets}\n",
    "    in_article = False\n",
    "    is_reply = False\n",
    "    has_article = False\n",
    "\n",
    "    def handle_starttag(self, tag, attrs):\n",
    "        if tag == 'body':\n",
    "            self.has_article = False\n",
    "        if tag == 'article':\n",
    "            self.has_article = True\n",
    "            self.in_article = True\n",
    "\n",
    "        if self.in_article and (tag == 'a'):\n",
    "            for attr in attrs:\n",
    "                if (attr[0] == 'class') and (attr[1] == 'reply'):\n",
    "                    self.is_reply = True\n",
    "                if self.is_reply and (attr[0] == 'href'):\n",
    "                    self.tweets.append(attr[1].split('=')[1])\n",
    "                    break\n",
    "        return\n",
    "                    \n",
    "    def handle_endtag(self, tag):\n",
    "        if tag == 'article':\n",
    "            self.in_article = False\n",
    "        self.is_reply = False\n",
    "        return\n",
    "\n",
    "    def handle_data(self, data):\n",
    "        pass\n",
    "\n",
    "    def handle_comment(self, data):\n",
    "        pass\n",
    "\n",
    "    def handle_entityref(self, name):\n",
    "        pass\n",
    "\n",
    "    def handle_charref(self, name):\n",
    "        pass\n",
    "\n",
    "    def handle_decl(self, data):\n",
    "        pass\n",
    "\n",
    "parser = AltmetricHTMLParser()"
   ],
   "execution_count": 8
  },
  {
   "cell_type": "code",
   "metadata": {},
   "outputs": [],
   "source": [
    "redirect_str = '<html><body>You are being <a href=\"https://www.altmetric.com/details/4236878\">redirected</a>.</body></html>'"
   ],
   "execution_count": 9
  },
  {
   "cell_type": "markdown",
   "metadata": {},
   "outputs": [],
   "source": [
    "### Grab Data"
   ]
  },
  {
   "cell_type": "code",
   "metadata": {},
   "outputs": [
    {
     "output_type": "execute_result",
     "data": {
      "text/plain": "                          DI altmetric_id\n0           10.1038/NMAT4996     26937936\n1           10.1038/NMAT4966     27194544\n2           10.1038/NMAT5027     28935112\n3           10.1038/NMAT5023     28523635\n4           10.1038/nmat5049     29359449\n5           10.1038/nmat4991     29359447\n6           10.1038/nmat4990     18029129\n7           10.1038/NMAT5025     26935870\n8           10.1038/NMAT5009     27837644\n9           10.1038/NMAT4974     26199352\n10          10.1038/NMAT5020     28133462\n11          10.1038/NMAT4993     26946825\n12          10.1038/NMAT5024     28876145\n13          10.1038/nmat5037          NaN\n14          10.1038/nmat5018     27909840\n15          10.1038/NMAT5007     27918180\n16          10.1038/NMAT4994     26918700\n17          10.1038/NMAT4975     21358768\n18          10.1038/nmat4999     27230120\n19          10.1038/nmat5012     27906208\n20          10.1038/nmat5010     27901663\n21          10.1038/NMAT5017     27917864\n22          10.1038/NMAT4987     26572851\n23          10.1038/NMAT4965     23804351\n24          10.1038/NMAT4967     26115753\n25          10.1038/NMAT4971      9915203\n26          10.1038/NMAT4969     25111022\n27          10.1038/NMAT4976     26183408\n28          10.1038/NMAT4998     19502228\n29          10.1038/NMAT4997     27201587\n...                      ...          ...\n3330  10.1002/anie.201611595     15608357\n3331  10.1002/anie.201611758     15559099\n3332  10.1002/anie.201611850     17266461\n3333  10.1002/anie.201612332     15570326\n3334  10.1002/anie.201612315     15433182\n3335  10.1002/anie.201612535     15698417\n3336  10.1002/anie.201608537     15417818\n3337  10.1002/anie.201607344     15559101\n3338  10.1002/anie.201609395     15614116\n3339  10.1002/anie.201610154     15442211\n3340  10.1002/anie.201610680     15562274\n3341  10.1002/anie.201610722     15609072\n3342  10.1002/anie.201610901     15521668\n3343  10.1002/anie.201610949     15338377\n3344  10.1002/anie.201611076     15562779\n3345  10.1002/anie.201611197     15521866\n3346  10.1002/anie.201611207     15563390\n3347  10.1002/anie.201611260     15568766\n3348  10.1002/anie.201611273     15563203\n3349  10.1002/anie.201611297     15434989\n3350  10.1002/anie.201611475     15520652\n3351  10.1002/anie.201611576     15384554\n3352  10.1002/anie.201611670     15561023\n3353  10.1002/anie.201611770     15520842\n3354  10.1002/anie.201611774     15609081\n3355  10.1002/anie.201612047     15521094\n3356  10.1002/anie.201612151     15433631\n3357  10.1002/anie.201610125     15442879\n3358  10.1002/anie.201612196     15560818\n3359  10.1002/anie.201609590     15609897\n\n[3360 rows x 2 columns]",
      "text/html": "<div>\n<style scoped>\n    .dataframe tbody tr th:only-of-type {\n        vertical-align: middle;\n    }\n\n    .dataframe tbody tr th {\n        vertical-align: top;\n    }\n\n    .dataframe thead th {\n        text-align: right;\n    }\n</style>\n<table border=\"1\" class=\"dataframe\">\n  <thead>\n    <tr style=\"text-align: right;\">\n      <th></th>\n      <th>DI</th>\n      <th>altmetric_id</th>\n    </tr>\n  </thead>\n  <tbody>\n    <tr>\n      <th>0</th>\n      <td>10.1038/NMAT4996</td>\n      <td>26937936</td>\n    </tr>\n    <tr>\n      <th>1</th>\n      <td>10.1038/NMAT4966</td>\n      <td>27194544</td>\n    </tr>\n    <tr>\n      <th>2</th>\n      <td>10.1038/NMAT5027</td>\n      <td>28935112</td>\n    </tr>\n    <tr>\n      <th>3</th>\n      <td>10.1038/NMAT5023</td>\n      <td>28523635</td>\n    </tr>\n    <tr>\n      <th>4</th>\n      <td>10.1038/nmat5049</td>\n      <td>29359449</td>\n    </tr>\n    <tr>\n      <th>5</th>\n      <td>10.1038/nmat4991</td>\n      <td>29359447</td>\n    </tr>\n    <tr>\n      <th>6</th>\n      <td>10.1038/nmat4990</td>\n      <td>18029129</td>\n    </tr>\n    <tr>\n      <th>7</th>\n      <td>10.1038/NMAT5025</td>\n      <td>26935870</td>\n    </tr>\n    <tr>\n      <th>8</th>\n      <td>10.1038/NMAT5009</td>\n      <td>27837644</td>\n    </tr>\n    <tr>\n      <th>9</th>\n      <td>10.1038/NMAT4974</td>\n      <td>26199352</td>\n    </tr>\n    <tr>\n      <th>10</th>\n      <td>10.1038/NMAT5020</td>\n      <td>28133462</td>\n    </tr>\n    <tr>\n      <th>11</th>\n      <td>10.1038/NMAT4993</td>\n      <td>26946825</td>\n    </tr>\n    <tr>\n      <th>12</th>\n      <td>10.1038/NMAT5024</td>\n      <td>28876145</td>\n    </tr>\n    <tr>\n      <th>13</th>\n      <td>10.1038/nmat5037</td>\n      <td>NaN</td>\n    </tr>\n    <tr>\n      <th>14</th>\n      <td>10.1038/nmat5018</td>\n      <td>27909840</td>\n    </tr>\n    <tr>\n      <th>15</th>\n      <td>10.1038/NMAT5007</td>\n      <td>27918180</td>\n    </tr>\n    <tr>\n      <th>16</th>\n      <td>10.1038/NMAT4994</td>\n      <td>26918700</td>\n    </tr>\n    <tr>\n      <th>17</th>\n      <td>10.1038/NMAT4975</td>\n      <td>21358768</td>\n    </tr>\n    <tr>\n      <th>18</th>\n      <td>10.1038/nmat4999</td>\n      <td>27230120</td>\n    </tr>\n    <tr>\n      <th>19</th>\n      <td>10.1038/nmat5012</td>\n      <td>27906208</td>\n    </tr>\n    <tr>\n      <th>20</th>\n      <td>10.1038/nmat5010</td>\n      <td>27901663</td>\n    </tr>\n    <tr>\n      <th>21</th>\n      <td>10.1038/NMAT5017</td>\n      <td>27917864</td>\n    </tr>\n    <tr>\n      <th>22</th>\n      <td>10.1038/NMAT4987</td>\n      <td>26572851</td>\n    </tr>\n    <tr>\n      <th>23</th>\n      <td>10.1038/NMAT4965</td>\n      <td>23804351</td>\n    </tr>\n    <tr>\n      <th>24</th>\n      <td>10.1038/NMAT4967</td>\n      <td>26115753</td>\n    </tr>\n    <tr>\n      <th>25</th>\n      <td>10.1038/NMAT4971</td>\n      <td>9915203</td>\n    </tr>\n    <tr>\n      <th>26</th>\n      <td>10.1038/NMAT4969</td>\n      <td>25111022</td>\n    </tr>\n    <tr>\n      <th>27</th>\n      <td>10.1038/NMAT4976</td>\n      <td>26183408</td>\n    </tr>\n    <tr>\n      <th>28</th>\n      <td>10.1038/NMAT4998</td>\n      <td>19502228</td>\n    </tr>\n    <tr>\n      <th>29</th>\n      <td>10.1038/NMAT4997</td>\n      <td>27201587</td>\n    </tr>\n    <tr>\n      <th>...</th>\n      <td>...</td>\n      <td>...</td>\n    </tr>\n    <tr>\n      <th>3330</th>\n      <td>10.1002/anie.201611595</td>\n      <td>15608357</td>\n    </tr>\n    <tr>\n      <th>3331</th>\n      <td>10.1002/anie.201611758</td>\n      <td>15559099</td>\n    </tr>\n    <tr>\n      <th>3332</th>\n      <td>10.1002/anie.201611850</td>\n      <td>17266461</td>\n    </tr>\n    <tr>\n      <th>3333</th>\n      <td>10.1002/anie.201612332</td>\n      <td>15570326</td>\n    </tr>\n    <tr>\n      <th>3334</th>\n      <td>10.1002/anie.201612315</td>\n      <td>15433182</td>\n    </tr>\n    <tr>\n      <th>3335</th>\n      <td>10.1002/anie.201612535</td>\n      <td>15698417</td>\n    </tr>\n    <tr>\n      <th>3336</th>\n      <td>10.1002/anie.201608537</td>\n      <td>15417818</td>\n    </tr>\n    <tr>\n      <th>3337</th>\n      <td>10.1002/anie.201607344</td>\n      <td>15559101</td>\n    </tr>\n    <tr>\n      <th>3338</th>\n      <td>10.1002/anie.201609395</td>\n      <td>15614116</td>\n    </tr>\n    <tr>\n      <th>3339</th>\n      <td>10.1002/anie.201610154</td>\n      <td>15442211</td>\n    </tr>\n    <tr>\n      <th>3340</th>\n      <td>10.1002/anie.201610680</td>\n      <td>15562274</td>\n    </tr>\n    <tr>\n      <th>3341</th>\n      <td>10.1002/anie.201610722</td>\n      <td>15609072</td>\n    </tr>\n    <tr>\n      <th>3342</th>\n      <td>10.1002/anie.201610901</td>\n      <td>15521668</td>\n    </tr>\n    <tr>\n      <th>3343</th>\n      <td>10.1002/anie.201610949</td>\n      <td>15338377</td>\n    </tr>\n    <tr>\n      <th>3344</th>\n      <td>10.1002/anie.201611076</td>\n      <td>15562779</td>\n    </tr>\n    <tr>\n      <th>3345</th>\n      <td>10.1002/anie.201611197</td>\n      <td>15521866</td>\n    </tr>\n    <tr>\n      <th>3346</th>\n      <td>10.1002/anie.201611207</td>\n      <td>15563390</td>\n    </tr>\n    <tr>\n      <th>3347</th>\n      <td>10.1002/anie.201611260</td>\n      <td>15568766</td>\n    </tr>\n    <tr>\n      <th>3348</th>\n      <td>10.1002/anie.201611273</td>\n      <td>15563203</td>\n    </tr>\n    <tr>\n      <th>3349</th>\n      <td>10.1002/anie.201611297</td>\n      <td>15434989</td>\n    </tr>\n    <tr>\n      <th>3350</th>\n      <td>10.1002/anie.201611475</td>\n      <td>15520652</td>\n    </tr>\n    <tr>\n      <th>3351</th>\n      <td>10.1002/anie.201611576</td>\n      <td>15384554</td>\n    </tr>\n    <tr>\n      <th>3352</th>\n      <td>10.1002/anie.201611670</td>\n      <td>15561023</td>\n    </tr>\n    <tr>\n      <th>3353</th>\n      <td>10.1002/anie.201611770</td>\n      <td>15520842</td>\n    </tr>\n    <tr>\n      <th>3354</th>\n      <td>10.1002/anie.201611774</td>\n      <td>15609081</td>\n    </tr>\n    <tr>\n      <th>3355</th>\n      <td>10.1002/anie.201612047</td>\n      <td>15521094</td>\n    </tr>\n    <tr>\n      <th>3356</th>\n      <td>10.1002/anie.201612151</td>\n      <td>15433631</td>\n    </tr>\n    <tr>\n      <th>3357</th>\n      <td>10.1002/anie.201610125</td>\n      <td>15442879</td>\n    </tr>\n    <tr>\n      <th>3358</th>\n      <td>10.1002/anie.201612196</td>\n      <td>15560818</td>\n    </tr>\n    <tr>\n      <th>3359</th>\n      <td>10.1002/anie.201609590</td>\n      <td>15609897</td>\n    </tr>\n  </tbody>\n</table>\n<p>3360 rows × 2 columns</p>\n</div>"
     },
     "metadata": {},
     "execution_count": 10
    }
   ],
   "source": [
    "import pandas as pd\n",
    "import numpy as np\n",
    "\n",
    "df = pd.read_csv(f'{origin_folder}/all_altmetric_id.csv', usecols=['DI', 'altmetric_id'], dtype={'altmetric_id':str})\n",
    "df"
   ],
   "execution_count": 10
  },
  {
   "cell_type": "code",
   "metadata": {},
   "outputs": [],
   "source": [
    "# %%time\n",
    "# articles_dict = {}\n",
    "# for index, row in df.iterrows():\n",
    "#     if row['altmetric_id'] == '' or str(row['altmetric_id']).lower() == 'nan':\n",
    "#         articles_dict[row['DI']] = {'altmetric_id': '', 'twitter_num': 0, 'tweets': []}\n",
    "#         continue\n",
    "#     # print(row['DI'], row['altmetric_id'])\n",
    "#     grab_url = f'https://www.altmetric.com/details/{row[\"altmetric_id\"]}/twitter/page:'\n",
    "#     print(str(index), grab_url)\n",
    "#     parser.articles = []\n",
    "#     for i in range(1, 100000):\n",
    "#         parser.feed(grab_from_url_content(grab_url + str(i), headers=headers))\n",
    "#         print('page: ', str(i))\n",
    "#         if not parser.has_article:\n",
    "#             break\n",
    "#     articles_dict[row['DI']] = {'altmetric_id': row['altmetric_id'], 'twitter_num': len(parser.articles), 'tweets': parser.articles}"
   ]
  },
  {
   "cell_type": "code",
   "metadata": {},
   "outputs": [],
   "source": [
    "# articles_dict = {}\n",
    "def get_mention(source):\n",
    "    headers = {\n",
    "        'cookie': \"_ga=GA1.2.501259425.1572141776; weibo_license_acknowledgement=false; explorer_user=WWs2eDNOOUVjVHJTcHRjSm9Oc0ZuZEh0eDRkTmlPd0tCWFMzODNyNlIweFBvdjllM3RkcmF0RVdtRWdvRDN4Ny0tQlNpeTBsWU5NK0ZNTnFpK1FpVFUzdz09--8bac413ca9fd623b9918b311729130cfbb4e66e1; _altmetric-explorer_session=eExKU3g1UmJhWXpXbmVtS05YZmxVS3YyaVNDSGdPL2JyaWVYaE9mRTdPT3RlYlRLaTdrRmRWcnZpeFMrMFJLb0FIVDBvNHI3N09MWS9HZDhDRDdIbTZPZElvMWNPNzMvTm5JVkovWThiQVplZVdTRlZheDBWYWdvd2lIMXo2NHJUZkFJd2MxcWpZSmpCaXVXRW9CYlZnZ1l4L1lXMGhIa1k1d0o1bllvS09uWDBQb3JXMWUrazZ2YWVwaUwzei93cDdUZkhwanFtSy9lSkxLUmdRdEIrZz09LS1DckIxZFJZUVBWNmhsTEJXcWtkR2x3PT0%3D--884ad24217914b545556a68678c2d803c65ce9cf; intercom-session-9dnltu6y=alcwSlZxZHMzZlY3Wm8yaFpvWFg1OGxEYVZ4MXRRUDMrbkk1Q01Bdm5XNXJkQXNZcVAyeEZYVHFYS3RUbWJSbi0tclFPUDlZcUVpMFZKQVlxdlMwRllVQT09--46bb4ebcf64063d6a3712dd82a1d2bff57eed87f, _ga=GA1.2.501259425.1572141776; weibo_license_acknowledgement=false; explorer_user=WWs2eDNOOUVjVHJTcHRjSm9Oc0ZuZEh0eDRkTmlPd0tCWFMzODNyNlIweFBvdjllM3RkcmF0RVdtRWdvRDN4Ny0tQlNpeTBsWU5NK0ZNTnFpK1FpVFUzdz09--8bac413ca9fd623b9918b311729130cfbb4e66e1; _altmetric-explorer_session=eExKU3g1UmJhWXpXbmVtS05YZmxVS3YyaVNDSGdPL2JyaWVYaE9mRTdPT3RlYlRLaTdrRmRWcnZpeFMrMFJLb0FIVDBvNHI3N09MWS9HZDhDRDdIbTZPZElvMWNPNzMvTm5JVkovWThiQVplZVdTRlZheDBWYWdvd2lIMXo2NHJUZkFJd2MxcWpZSmpCaXVXRW9CYlZnZ1l4L1lXMGhIa1k1d0o1bllvS09uWDBQb3JXMWUrazZ2YWVwaUwzei93cDdUZkhwanFtSy9lSkxLUmdRdEIrZz09LS1DckIxZFJZUVBWNmhsTEJXcWtkR2x3PT0%3D--884ad24217914b545556a68678c2d803c65ce9cf; intercom-session-9dnltu6y=alcwSlZxZHMzZlY3Wm8yaFpvWFg1OGxEYVZ4MXRRUDMrbkk1Q01Bdm5XNXJkQXNZcVAyeEZYVHFYS3RUbWJSbi0tclFPUDlZcUVpMFZKQVlxdlMwRllVQT09--46bb4ebcf64063d6a3712dd82a1d2bff57eed87f; Cookie_1=value\",\n",
    "        'User-Agent': \"PostmanRuntime/7.19.0\",\n",
    "        'Accept': \"*/*\",\n",
    "        'Cache-Control': \"no-cache\",\n",
    "        'Postman-Token': \"30d13c93-aa9a-44e1-84e0-8876f98ae1ba,b45c8eb6-7f77-4c48-b961-921c89280079\",\n",
    "        'Host': \"www.altmetric.com\",\n",
    "        'Accept-Encoding': \"gzip, deflate\",\n",
    "        'Connection': \"keep-alive\",\n",
    "        'cache-control': \"no-cache\"\n",
    "    }\n",
    "    \n",
    "    for index, row in df.iterrows():\n",
    "        if row['DI'] in articles_dict:\n",
    "            continue\n",
    "        if index % 100 == 0:\n",
    "            print(str(index))\n",
    "        if row['DI'] == '' or str(row['DI']).lower() == 'nan' or row['altmetric_id'] == '' or str(row['altmetric_id']).lower() == 'nan':\n",
    "            articles_dict[row['DI']] = {'altmetric_id': '', f'{source}_num': 0, f'{source}s': []}\n",
    "            continue\n",
    "\n",
    "        articles = []\n",
    "        grab_url = f'https://www.altmetric.com/explorer/json_data/mentions?identifier={row[\"DI\"]}&mention_sources%5B%5D=type%3A{source}&scope=all&page='\n",
    "        for i in range(1, 100000):\n",
    "            articles_json = grab_from_url_json(grab_url + str(i), headers=headers)\n",
    "            articles.extend(articles_json['data'])\n",
    "            # print('page: ', str(i))\n",
    "            if articles_json['lastPage']:\n",
    "                break\n",
    "            \n",
    "        articles_dict[row['DI']] = {'altmetric_id': row['altmetric_id'], f'{source}_num': len(articles), f'{source}s': articles}\n",
    "    return"
   ],
   "execution_count": 11
  },
  {
   "cell_type": "code",
   "metadata": {},
   "outputs": [],
   "source": [
    "articles_dict = {}"
   ],
   "execution_count": 12
  },
  {
   "cell_type": "code",
   "metadata": {},
   "outputs": [
    {
     "output_type": "stream",
     "name": "stdout",
     "text": "0\n100\n200\n300\n400\n500\n600\n700\n800\n900\n1000\n1100\nReadTimeout: HTTPSConnectionPool(host='www.altmetric.com', port=443): Read timed out. (read timeout=10)\n1200\n1300\n1400\n1500\n1600\n1700\n1800\n1900\n2000\n2100\n2200\n2300\n2400\n2500\n2600\n2700\n2800\n2900\n3000\n3100\n3200\n3300\nCPU times: user 1min 10s, sys: 4.12 s, total: 1min 15s\nWall time: 50min 21s\n"
    }
   ],
   "source": [
    "%%time\n",
    "get_mention('tweet')"
   ],
   "execution_count": 13
  },
  {
   "cell_type": "code",
   "metadata": {},
   "outputs": [],
   "source": [
    "with open(f'{origin_folder}/article_tweets_altmetric.json', \"w+\") as dump_f:\n",
    "    dump_f.write(json.dumps(articles_dict))"
   ],
   "execution_count": 14
  },
  {
   "cell_type": "code",
   "metadata": {},
   "outputs": [
    {
     "output_type": "execute_result",
     "data": {
      "text/plain": "3360"
     },
     "metadata": {},
     "execution_count": 15
    }
   ],
   "source": [
    "len(articles_dict)"
   ],
   "execution_count": 15
  },
  {
   "cell_type": "code",
   "metadata": {},
   "outputs": [],
   "source": [
    "with open(f'{origin_folder}/article_tweets_altmetric.json', \"r\") as f:\n",
    "    article_tweets = json.load(f)\n",
    "\n",
    "df_tweets = pd.DataFrame()"
   ],
   "execution_count": 16
  },
  {
   "cell_type": "code",
   "metadata": {},
   "outputs": [
    {
     "output_type": "stream",
     "name": "stdout",
     "text": "CPU times: user 2min 6s, sys: 1.77 s, total: 2min 8s\nWall time: 2min 8s\n"
    }
   ],
   "source": [
    "%%time\n",
    "for doi in article_tweets:\n",
    "    for tweet_chain in article_tweets[doi]['tweets']:\n",
    "        for tweet in tweet_chain[1]:\n",
    "            # print(tweet)\n",
    "            # if tweet['url'] in df_tweets['tweet_url']:\n",
    "            #     continue\n",
    "            df_tweet = pd.DataFrame(columns=['doi', 'altmetric_id', 'tweet_id', 'tweet_url', 'postedAt', 'postType', 'originalPost'])\n",
    "            df_tweet['doi'] = [doi]\n",
    "            df_tweet['altmetric_id'] = [article_tweets[doi]['altmetric_id']]\n",
    "            df_tweet['tweet_id'] = [str(tweet['url']).split('/')[-1]]\n",
    "            df_tweet['tweet_url'] = [tweet['url']]\n",
    "            df_tweet['postedAt'] = [tweet['postedAt']]\n",
    "            df_tweet['postType'] = [tweet['postType']]\n",
    "            df_tweet['originalPost'] = [str(tweet['originalPost'])]\n",
    "\n",
    "            df_tweets = df_tweets.append(df_tweet, ignore_index=True)"
   ],
   "execution_count": 17
  },
  {
   "cell_type": "code",
   "metadata": {},
   "outputs": [],
   "source": [
    "df_tweets.to_csv(f'{origin_folder}/article_tweets_altmetric.csv', index=False)"
   ],
   "execution_count": 18
  },
  {
   "cell_type": "code",
   "metadata": {},
   "outputs": [],
   "source": [
    "df_all = pd.read_csv(f'{origin_folder}/all_altmetric_detail.csv')\n",
    "df_tweets = pd.read_csv(f'{origin_folder}/article_tweets_altmetric.csv')"
   ],
   "execution_count": 19
  },
  {
   "cell_type": "code",
   "metadata": {},
   "outputs": [
    {
     "output_type": "execute_result",
     "data": {
      "text/plain": "                          DI  altmetric_id  blogs  citeulike  \\\n0           10.1038/NMAT4996    26937936.0    0.0        0.0   \n1           10.1038/NMAT4966    27194544.0    0.0        0.0   \n2           10.1038/NMAT5027    28935112.0    4.0        0.0   \n3           10.1038/NMAT5023    28523635.0    0.0        0.0   \n4           10.1038/nmat5049    29359449.0    0.0        0.0   \n5           10.1038/nmat4991    29359447.0    1.0        0.0   \n6           10.1038/nmat4990    18029129.0    0.0        0.0   \n7           10.1038/NMAT5025    26935870.0    2.0        0.0   \n8           10.1038/NMAT5009    27837644.0    2.0        0.0   \n9           10.1038/NMAT4974    26199352.0    0.0        0.0   \n10          10.1038/NMAT5020    28133462.0    6.0        0.0   \n11          10.1038/NMAT4993    26946825.0    0.0        0.0   \n12          10.1038/NMAT5024    28876145.0    0.0        0.0   \n13          10.1038/nmat5037           NaN   -1.0       -1.0   \n14          10.1038/nmat5018    27909840.0    0.0        0.0   \n15          10.1038/NMAT5007    27918180.0    3.0        0.0   \n16          10.1038/NMAT4994    26918700.0    5.0        0.0   \n17          10.1038/NMAT4975    21358768.0    0.0        0.0   \n18          10.1038/nmat4999    27230120.0    0.0        0.0   \n19          10.1038/nmat5012    27906208.0    0.0        0.0   \n20          10.1038/nmat5010    27901663.0    0.0        0.0   \n21          10.1038/NMAT5017    27917864.0    1.0        2.0   \n22          10.1038/NMAT4987    26572851.0    0.0        0.0   \n23          10.1038/NMAT4965    23804351.0    0.0        0.0   \n24          10.1038/NMAT4967    26115753.0    0.0        0.0   \n25          10.1038/NMAT4971     9915203.0    3.0        0.0   \n26          10.1038/NMAT4969    25111022.0    7.0        0.0   \n27          10.1038/NMAT4976    26183408.0    0.0        0.0   \n28          10.1038/NMAT4998    19502228.0    1.0        0.0   \n29          10.1038/NMAT4997    27201587.0    1.0        0.0   \n...                      ...           ...    ...        ...   \n3330  10.1002/anie.201611595    15608357.0    0.0        0.0   \n3331  10.1002/anie.201611758    15559099.0    0.0        0.0   \n3332  10.1002/anie.201611850    17266461.0    0.0        0.0   \n3333  10.1002/anie.201612332    15570326.0    0.0        0.0   \n3334  10.1002/anie.201612315    15433182.0    3.0        0.0   \n3335  10.1002/anie.201612535    15698417.0    0.0        0.0   \n3336  10.1002/anie.201608537    15417818.0    0.0        0.0   \n3337  10.1002/anie.201607344    15559101.0    0.0        0.0   \n3338  10.1002/anie.201609395    15614116.0    0.0        0.0   \n3339  10.1002/anie.201610154    15442211.0    0.0        0.0   \n3340  10.1002/anie.201610680    15562274.0    0.0        0.0   \n3341  10.1002/anie.201610722    15609072.0    0.0        0.0   \n3342  10.1002/anie.201610901    15521668.0    0.0        0.0   \n3343  10.1002/anie.201610949    15338377.0    1.0        1.0   \n3344  10.1002/anie.201611076    15562779.0    0.0        0.0   \n3345  10.1002/anie.201611197    15521866.0    0.0        0.0   \n3346  10.1002/anie.201611207    15563390.0    0.0        0.0   \n3347  10.1002/anie.201611260    15568766.0    0.0        0.0   \n3348  10.1002/anie.201611273    15563203.0    0.0        0.0   \n3349  10.1002/anie.201611297    15434989.0    0.0        0.0   \n3350  10.1002/anie.201611475    15520652.0    0.0        0.0   \n3351  10.1002/anie.201611576    15384554.0    0.0        0.0   \n3352  10.1002/anie.201611670    15561023.0    0.0        0.0   \n3353  10.1002/anie.201611770    15520842.0    0.0        0.0   \n3354  10.1002/anie.201611774    15609081.0    2.0        0.0   \n3355  10.1002/anie.201612047    15521094.0    0.0        0.0   \n3356  10.1002/anie.201612151    15433631.0    0.0        0.0   \n3357  10.1002/anie.201610125    15442879.0    0.0        0.0   \n3358  10.1002/anie.201612196    15560818.0    1.0        1.0   \n3359  10.1002/anie.201609590    15609897.0    0.0        0.0   \n\n      dimensions_citation  f1000  facebook pages  mendeley  news outlets  \\\n0                    42.0    0.0             1.0     252.0           0.0   \n1                    26.0    0.0             1.0      89.0           0.0   \n2                    45.0    0.0             1.0     155.0          20.0   \n3                    35.0    0.0             1.0     120.0           0.0   \n4                    36.0    0.0             0.0     164.0           0.0   \n5                    29.0    0.0             1.0     170.0           0.0   \n6                    71.0    0.0             1.0     171.0           0.0   \n7                   126.0    0.0             1.0     195.0          13.0   \n8                    44.0    0.0             1.0     112.0          15.0   \n9                    53.0    0.0             1.0     156.0           7.0   \n10                   82.0    0.0             5.0     206.0           6.0   \n11                   51.0    0.0             1.0     229.0           0.0   \n12                   33.0    0.0             1.0     105.0           0.0   \n13                   -1.0   -1.0            -1.0      -1.0          -1.0   \n14                    6.0    0.0             1.0     130.0           0.0   \n15                   21.0    0.0             1.0      80.0          10.0   \n16                   65.0    0.0             2.0     120.0          12.0   \n17                   10.0    0.0             1.0      84.0           0.0   \n18                   11.0    0.0             1.0      27.0           0.0   \n19                   26.0    0.0             1.0     256.0           1.0   \n20                   14.0    0.0             1.0     203.0           0.0   \n21                  104.0    0.0             1.0     456.0           0.0   \n22                   96.0    0.0             1.0     214.0           0.0   \n23                   21.0    0.0             1.0      99.0           1.0   \n24                   15.0    0.0             1.0      69.0           0.0   \n25                   63.0    0.0             5.0      93.0          22.0   \n26                   32.0    0.0             4.0     136.0          16.0   \n27                   80.0    0.0             1.0     157.0          16.0   \n28                   74.0    0.0             1.0     272.0           8.0   \n29                  139.0    0.0             4.0     279.0          27.0   \n...                   ...    ...             ...       ...           ...   \n3330                 71.0    0.0             0.0      63.0           0.0   \n3331                 31.0    0.0             0.0      47.0           0.0   \n3332                 58.0    0.0             0.0      40.0           1.0   \n3333                 16.0    0.0             0.0      22.0           0.0   \n3334                104.0    0.0             1.0      41.0          14.0   \n3335                  6.0    0.0             0.0      54.0           0.0   \n3336                 31.0    0.0             0.0      47.0           0.0   \n3337                  9.0    0.0             2.0      20.0           0.0   \n3338                  7.0    0.0             1.0      24.0           0.0   \n3339                  6.0    0.0             0.0      15.0           0.0   \n3340                  8.0    0.0             1.0       9.0           0.0   \n3341                 20.0    0.0             1.0      66.0           0.0   \n3342                 62.0    0.0             1.0      45.0           1.0   \n3343                 14.0    0.0             2.0      20.0           0.0   \n3344                 29.0    0.0             1.0      33.0           1.0   \n3345                  9.0    0.0             1.0      19.0           1.0   \n3346                 14.0    0.0             0.0      38.0           0.0   \n3347                 17.0    0.0             1.0      36.0           0.0   \n3348                 25.0    0.0             0.0      70.0           0.0   \n3349                  3.0    0.0             0.0      25.0           1.0   \n3350                 11.0    0.0             1.0      10.0           0.0   \n3351                  7.0    0.0             0.0       8.0           0.0   \n3352                 27.0    0.0             0.0      29.0           0.0   \n3353                 64.0    0.0             0.0      30.0           1.0   \n3354                 60.0    0.0             1.0      87.0          46.0   \n3355                 35.0    0.0             1.0      56.0           1.0   \n3356                 12.0    0.0             0.0      17.0           0.0   \n3357                 40.0    0.0             0.0      51.0           0.0   \n3358                 28.0    0.0             2.0      58.0           7.0   \n3359                 21.0    0.0             1.0      56.0           0.0   \n\n      policy  redditors  tweeters  video uploader  weibo  wikipedia  \\\n0        0.0        0.0      11.0             0.0    0.0        0.0   \n1        0.0        0.0       8.0             0.0    0.0        0.0   \n2        0.0        0.0      18.0             1.0    0.0        1.0   \n3        0.0        0.0      20.0             0.0    0.0        0.0   \n4        0.0        0.0       6.0             0.0    0.0        0.0   \n5        0.0        0.0      32.0             0.0    0.0        0.0   \n6        0.0        0.0       3.0             0.0    0.0        0.0   \n7        0.0        0.0      22.0             0.0    0.0        0.0   \n8        0.0        0.0      16.0             0.0    0.0        0.0   \n9        0.0        0.0      16.0             0.0    0.0        0.0   \n10       0.0        0.0      28.0             0.0    0.0        0.0   \n11       0.0        0.0      12.0             0.0    0.0        0.0   \n12       0.0        0.0      20.0             0.0    0.0        0.0   \n13      -1.0       -1.0      -1.0            -1.0   -1.0       -1.0   \n14       0.0        0.0      14.0             0.0    0.0        0.0   \n15       0.0        0.0      21.0             0.0    0.0        0.0   \n16       0.0        0.0      41.0             0.0    0.0        2.0   \n17       0.0        0.0       8.0             0.0    0.0        0.0   \n18       0.0        0.0      24.0             0.0    0.0        0.0   \n19       0.0        0.0       7.0             0.0    0.0        0.0   \n20       0.0        0.0       9.0             0.0    0.0        0.0   \n21       0.0        0.0      19.0             0.0    0.0        0.0   \n22       0.0        0.0       8.0             0.0    0.0        0.0   \n23       0.0        0.0      15.0             0.0    0.0        0.0   \n24       0.0        0.0       3.0             0.0    0.0        0.0   \n25       0.0        0.0       7.0             0.0    0.0        0.0   \n26       0.0        0.0      28.0             1.0    0.0        0.0   \n27       0.0        0.0      18.0             0.0    0.0        0.0   \n28       0.0        0.0     139.0             0.0    0.0        0.0   \n29       0.0        0.0      12.0             2.0    0.0        1.0   \n...      ...        ...       ...             ...    ...        ...   \n3330     0.0        0.0       6.0             0.0    0.0        0.0   \n3331     0.0        0.0       5.0             0.0    0.0        1.0   \n3332     0.0        0.0       0.0             0.0    0.0        0.0   \n3333     0.0        0.0       2.0             0.0    0.0        0.0   \n3334     0.0        0.0       4.0             0.0    0.0        0.0   \n3335     0.0        0.0       6.0             0.0    0.0        0.0   \n3336     0.0        0.0       3.0             0.0    0.0        0.0   \n3337     0.0        0.0       4.0             0.0    0.0        0.0   \n3338     0.0        0.0       2.0             0.0    0.0        0.0   \n3339     0.0        0.0       2.0             0.0    0.0        0.0   \n3340     0.0        0.0       8.0             0.0    0.0        0.0   \n3341     0.0        0.0      18.0             0.0    0.0        0.0   \n3342     0.0        0.0       2.0             0.0    0.0        0.0   \n3343     0.0        1.0      45.0             1.0    0.0        1.0   \n3344     0.0        0.0       1.0             0.0    0.0        0.0   \n3345     0.0        0.0       1.0             0.0    0.0        0.0   \n3346     0.0        0.0       1.0             0.0    0.0        0.0   \n3347     0.0        0.0       9.0             0.0    0.0        0.0   \n3348     0.0        0.0       1.0             0.0    0.0        0.0   \n3349     0.0        0.0       5.0             0.0    0.0        0.0   \n3350     0.0        0.0       2.0             0.0    0.0        0.0   \n3351     0.0        0.0       1.0             0.0    0.0        0.0   \n3352     0.0        0.0       7.0             0.0    0.0        0.0   \n3353     0.0        0.0       2.0             0.0    0.0        0.0   \n3354     0.0        0.0       6.0             0.0    0.0        0.0   \n3355     0.0        0.0       5.0             0.0    0.0        0.0   \n3356     0.0        0.0       2.0             0.0    0.0        0.0   \n3357     0.0        0.0       2.0             0.0    0.0        0.0   \n3358     0.0        0.0       3.0             0.0    0.0        0.0   \n3359     0.0        0.0       2.0             0.0    0.0        0.0   \n\n      tweets_count  tweets_origin_count  \n0             11.0                  2.0  \n1              8.0                  3.0  \n2             18.0                 10.0  \n3             20.0                  6.0  \n4              6.0                  3.0  \n5             34.0                  9.0  \n6              3.0                  2.0  \n7             22.0                 10.0  \n8             16.0                  8.0  \n9             20.0                  4.0  \n10            32.0                 19.0  \n11            12.0                  7.0  \n12            22.0                  5.0  \n13             0.0                  0.0  \n14            15.0                  8.0  \n15            22.0                  7.0  \n16            42.0                 12.0  \n17             8.0                  7.0  \n18            26.0                  2.0  \n19             7.0                  5.0  \n20            10.0                  7.0  \n21            20.0                  8.0  \n22             8.0                  6.0  \n23            15.0                  5.0  \n24             3.0                  1.0  \n25             7.0                  6.0  \n26            32.0                  8.0  \n27            21.0                  8.0  \n28           238.0                 43.0  \n29            12.0                  8.0  \n...            ...                  ...  \n3330           6.0                  1.0  \n3331           5.0                  4.0  \n3332           0.0                  0.0  \n3333           2.0                  1.0  \n3334           4.0                  3.0  \n3335           6.0                  2.0  \n3336           3.0                  1.0  \n3337           4.0                  3.0  \n3338           2.0                  2.0  \n3339           2.0                  2.0  \n3340           9.0                  5.0  \n3341          18.0                  4.0  \n3342           2.0                  2.0  \n3343          59.0                 20.0  \n3344           1.0                  1.0  \n3345           1.0                  1.0  \n3346           1.0                  1.0  \n3347           9.0                  3.0  \n3348           1.0                  1.0  \n3349           5.0                  1.0  \n3350           3.0                  2.0  \n3351           1.0                  1.0  \n3352           7.0                  2.0  \n3353           2.0                  2.0  \n3354           7.0                  4.0  \n3355           5.0                  2.0  \n3356           2.0                  1.0  \n3357           2.0                  2.0  \n3358           3.0                  3.0  \n3359           2.0                  1.0  \n\n[3360 rows x 17 columns]",
      "text/html": "<div>\n<style scoped>\n    .dataframe tbody tr th:only-of-type {\n        vertical-align: middle;\n    }\n\n    .dataframe tbody tr th {\n        vertical-align: top;\n    }\n\n    .dataframe thead th {\n        text-align: right;\n    }\n</style>\n<table border=\"1\" class=\"dataframe\">\n  <thead>\n    <tr style=\"text-align: right;\">\n      <th></th>\n      <th>DI</th>\n      <th>altmetric_id</th>\n      <th>blogs</th>\n      <th>citeulike</th>\n      <th>dimensions_citation</th>\n      <th>f1000</th>\n      <th>facebook pages</th>\n      <th>mendeley</th>\n      <th>news outlets</th>\n      <th>policy</th>\n      <th>redditors</th>\n      <th>tweeters</th>\n      <th>video uploader</th>\n      <th>weibo</th>\n      <th>wikipedia</th>\n      <th>tweets_count</th>\n      <th>tweets_origin_count</th>\n    </tr>\n  </thead>\n  <tbody>\n    <tr>\n      <th>0</th>\n      <td>10.1038/NMAT4996</td>\n      <td>26937936.0</td>\n      <td>0.0</td>\n      <td>0.0</td>\n      <td>42.0</td>\n      <td>0.0</td>\n      <td>1.0</td>\n      <td>252.0</td>\n      <td>0.0</td>\n      <td>0.0</td>\n      <td>0.0</td>\n      <td>11.0</td>\n      <td>0.0</td>\n      <td>0.0</td>\n      <td>0.0</td>\n      <td>11.0</td>\n      <td>2.0</td>\n    </tr>\n    <tr>\n      <th>1</th>\n      <td>10.1038/NMAT4966</td>\n      <td>27194544.0</td>\n      <td>0.0</td>\n      <td>0.0</td>\n      <td>26.0</td>\n      <td>0.0</td>\n      <td>1.0</td>\n      <td>89.0</td>\n      <td>0.0</td>\n      <td>0.0</td>\n      <td>0.0</td>\n      <td>8.0</td>\n      <td>0.0</td>\n      <td>0.0</td>\n      <td>0.0</td>\n      <td>8.0</td>\n      <td>3.0</td>\n    </tr>\n    <tr>\n      <th>2</th>\n      <td>10.1038/NMAT5027</td>\n      <td>28935112.0</td>\n      <td>4.0</td>\n      <td>0.0</td>\n      <td>45.0</td>\n      <td>0.0</td>\n      <td>1.0</td>\n      <td>155.0</td>\n      <td>20.0</td>\n      <td>0.0</td>\n      <td>0.0</td>\n      <td>18.0</td>\n      <td>1.0</td>\n      <td>0.0</td>\n      <td>1.0</td>\n      <td>18.0</td>\n      <td>10.0</td>\n    </tr>\n    <tr>\n      <th>3</th>\n      <td>10.1038/NMAT5023</td>\n      <td>28523635.0</td>\n      <td>0.0</td>\n      <td>0.0</td>\n      <td>35.0</td>\n      <td>0.0</td>\n      <td>1.0</td>\n      <td>120.0</td>\n      <td>0.0</td>\n      <td>0.0</td>\n      <td>0.0</td>\n      <td>20.0</td>\n      <td>0.0</td>\n      <td>0.0</td>\n      <td>0.0</td>\n      <td>20.0</td>\n      <td>6.0</td>\n    </tr>\n    <tr>\n      <th>4</th>\n      <td>10.1038/nmat5049</td>\n      <td>29359449.0</td>\n      <td>0.0</td>\n      <td>0.0</td>\n      <td>36.0</td>\n      <td>0.0</td>\n      <td>0.0</td>\n      <td>164.0</td>\n      <td>0.0</td>\n      <td>0.0</td>\n      <td>0.0</td>\n      <td>6.0</td>\n      <td>0.0</td>\n      <td>0.0</td>\n      <td>0.0</td>\n      <td>6.0</td>\n      <td>3.0</td>\n    </tr>\n    <tr>\n      <th>5</th>\n      <td>10.1038/nmat4991</td>\n      <td>29359447.0</td>\n      <td>1.0</td>\n      <td>0.0</td>\n      <td>29.0</td>\n      <td>0.0</td>\n      <td>1.0</td>\n      <td>170.0</td>\n      <td>0.0</td>\n      <td>0.0</td>\n      <td>0.0</td>\n      <td>32.0</td>\n      <td>0.0</td>\n      <td>0.0</td>\n      <td>0.0</td>\n      <td>34.0</td>\n      <td>9.0</td>\n    </tr>\n    <tr>\n      <th>6</th>\n      <td>10.1038/nmat4990</td>\n      <td>18029129.0</td>\n      <td>0.0</td>\n      <td>0.0</td>\n      <td>71.0</td>\n      <td>0.0</td>\n      <td>1.0</td>\n      <td>171.0</td>\n      <td>0.0</td>\n      <td>0.0</td>\n      <td>0.0</td>\n      <td>3.0</td>\n      <td>0.0</td>\n      <td>0.0</td>\n      <td>0.0</td>\n      <td>3.0</td>\n      <td>2.0</td>\n    </tr>\n    <tr>\n      <th>7</th>\n      <td>10.1038/NMAT5025</td>\n      <td>26935870.0</td>\n      <td>2.0</td>\n      <td>0.0</td>\n      <td>126.0</td>\n      <td>0.0</td>\n      <td>1.0</td>\n      <td>195.0</td>\n      <td>13.0</td>\n      <td>0.0</td>\n      <td>0.0</td>\n      <td>22.0</td>\n      <td>0.0</td>\n      <td>0.0</td>\n      <td>0.0</td>\n      <td>22.0</td>\n      <td>10.0</td>\n    </tr>\n    <tr>\n      <th>8</th>\n      <td>10.1038/NMAT5009</td>\n      <td>27837644.0</td>\n      <td>2.0</td>\n      <td>0.0</td>\n      <td>44.0</td>\n      <td>0.0</td>\n      <td>1.0</td>\n      <td>112.0</td>\n      <td>15.0</td>\n      <td>0.0</td>\n      <td>0.0</td>\n      <td>16.0</td>\n      <td>0.0</td>\n      <td>0.0</td>\n      <td>0.0</td>\n      <td>16.0</td>\n      <td>8.0</td>\n    </tr>\n    <tr>\n      <th>9</th>\n      <td>10.1038/NMAT4974</td>\n      <td>26199352.0</td>\n      <td>0.0</td>\n      <td>0.0</td>\n      <td>53.0</td>\n      <td>0.0</td>\n      <td>1.0</td>\n      <td>156.0</td>\n      <td>7.0</td>\n      <td>0.0</td>\n      <td>0.0</td>\n      <td>16.0</td>\n      <td>0.0</td>\n      <td>0.0</td>\n      <td>0.0</td>\n      <td>20.0</td>\n      <td>4.0</td>\n    </tr>\n    <tr>\n      <th>10</th>\n      <td>10.1038/NMAT5020</td>\n      <td>28133462.0</td>\n      <td>6.0</td>\n      <td>0.0</td>\n      <td>82.0</td>\n      <td>0.0</td>\n      <td>5.0</td>\n      <td>206.0</td>\n      <td>6.0</td>\n      <td>0.0</td>\n      <td>0.0</td>\n      <td>28.0</td>\n      <td>0.0</td>\n      <td>0.0</td>\n      <td>0.0</td>\n      <td>32.0</td>\n      <td>19.0</td>\n    </tr>\n    <tr>\n      <th>11</th>\n      <td>10.1038/NMAT4993</td>\n      <td>26946825.0</td>\n      <td>0.0</td>\n      <td>0.0</td>\n      <td>51.0</td>\n      <td>0.0</td>\n      <td>1.0</td>\n      <td>229.0</td>\n      <td>0.0</td>\n      <td>0.0</td>\n      <td>0.0</td>\n      <td>12.0</td>\n      <td>0.0</td>\n      <td>0.0</td>\n      <td>0.0</td>\n      <td>12.0</td>\n      <td>7.0</td>\n    </tr>\n    <tr>\n      <th>12</th>\n      <td>10.1038/NMAT5024</td>\n      <td>28876145.0</td>\n      <td>0.0</td>\n      <td>0.0</td>\n      <td>33.0</td>\n      <td>0.0</td>\n      <td>1.0</td>\n      <td>105.0</td>\n      <td>0.0</td>\n      <td>0.0</td>\n      <td>0.0</td>\n      <td>20.0</td>\n      <td>0.0</td>\n      <td>0.0</td>\n      <td>0.0</td>\n      <td>22.0</td>\n      <td>5.0</td>\n    </tr>\n    <tr>\n      <th>13</th>\n      <td>10.1038/nmat5037</td>\n      <td>NaN</td>\n      <td>-1.0</td>\n      <td>-1.0</td>\n      <td>-1.0</td>\n      <td>-1.0</td>\n      <td>-1.0</td>\n      <td>-1.0</td>\n      <td>-1.0</td>\n      <td>-1.0</td>\n      <td>-1.0</td>\n      <td>-1.0</td>\n      <td>-1.0</td>\n      <td>-1.0</td>\n      <td>-1.0</td>\n      <td>0.0</td>\n      <td>0.0</td>\n    </tr>\n    <tr>\n      <th>14</th>\n      <td>10.1038/nmat5018</td>\n      <td>27909840.0</td>\n      <td>0.0</td>\n      <td>0.0</td>\n      <td>6.0</td>\n      <td>0.0</td>\n      <td>1.0</td>\n      <td>130.0</td>\n      <td>0.0</td>\n      <td>0.0</td>\n      <td>0.0</td>\n      <td>14.0</td>\n      <td>0.0</td>\n      <td>0.0</td>\n      <td>0.0</td>\n      <td>15.0</td>\n      <td>8.0</td>\n    </tr>\n    <tr>\n      <th>15</th>\n      <td>10.1038/NMAT5007</td>\n      <td>27918180.0</td>\n      <td>3.0</td>\n      <td>0.0</td>\n      <td>21.0</td>\n      <td>0.0</td>\n      <td>1.0</td>\n      <td>80.0</td>\n      <td>10.0</td>\n      <td>0.0</td>\n      <td>0.0</td>\n      <td>21.0</td>\n      <td>0.0</td>\n      <td>0.0</td>\n      <td>0.0</td>\n      <td>22.0</td>\n      <td>7.0</td>\n    </tr>\n    <tr>\n      <th>16</th>\n      <td>10.1038/NMAT4994</td>\n      <td>26918700.0</td>\n      <td>5.0</td>\n      <td>0.0</td>\n      <td>65.0</td>\n      <td>0.0</td>\n      <td>2.0</td>\n      <td>120.0</td>\n      <td>12.0</td>\n      <td>0.0</td>\n      <td>0.0</td>\n      <td>41.0</td>\n      <td>0.0</td>\n      <td>0.0</td>\n      <td>2.0</td>\n      <td>42.0</td>\n      <td>12.0</td>\n    </tr>\n    <tr>\n      <th>17</th>\n      <td>10.1038/NMAT4975</td>\n      <td>21358768.0</td>\n      <td>0.0</td>\n      <td>0.0</td>\n      <td>10.0</td>\n      <td>0.0</td>\n      <td>1.0</td>\n      <td>84.0</td>\n      <td>0.0</td>\n      <td>0.0</td>\n      <td>0.0</td>\n      <td>8.0</td>\n      <td>0.0</td>\n      <td>0.0</td>\n      <td>0.0</td>\n      <td>8.0</td>\n      <td>7.0</td>\n    </tr>\n    <tr>\n      <th>18</th>\n      <td>10.1038/nmat4999</td>\n      <td>27230120.0</td>\n      <td>0.0</td>\n      <td>0.0</td>\n      <td>11.0</td>\n      <td>0.0</td>\n      <td>1.0</td>\n      <td>27.0</td>\n      <td>0.0</td>\n      <td>0.0</td>\n      <td>0.0</td>\n      <td>24.0</td>\n      <td>0.0</td>\n      <td>0.0</td>\n      <td>0.0</td>\n      <td>26.0</td>\n      <td>2.0</td>\n    </tr>\n    <tr>\n      <th>19</th>\n      <td>10.1038/nmat5012</td>\n      <td>27906208.0</td>\n      <td>0.0</td>\n      <td>0.0</td>\n      <td>26.0</td>\n      <td>0.0</td>\n      <td>1.0</td>\n      <td>256.0</td>\n      <td>1.0</td>\n      <td>0.0</td>\n      <td>0.0</td>\n      <td>7.0</td>\n      <td>0.0</td>\n      <td>0.0</td>\n      <td>0.0</td>\n      <td>7.0</td>\n      <td>5.0</td>\n    </tr>\n    <tr>\n      <th>20</th>\n      <td>10.1038/nmat5010</td>\n      <td>27901663.0</td>\n      <td>0.0</td>\n      <td>0.0</td>\n      <td>14.0</td>\n      <td>0.0</td>\n      <td>1.0</td>\n      <td>203.0</td>\n      <td>0.0</td>\n      <td>0.0</td>\n      <td>0.0</td>\n      <td>9.0</td>\n      <td>0.0</td>\n      <td>0.0</td>\n      <td>0.0</td>\n      <td>10.0</td>\n      <td>7.0</td>\n    </tr>\n    <tr>\n      <th>21</th>\n      <td>10.1038/NMAT5017</td>\n      <td>27917864.0</td>\n      <td>1.0</td>\n      <td>2.0</td>\n      <td>104.0</td>\n      <td>0.0</td>\n      <td>1.0</td>\n      <td>456.0</td>\n      <td>0.0</td>\n      <td>0.0</td>\n      <td>0.0</td>\n      <td>19.0</td>\n      <td>0.0</td>\n      <td>0.0</td>\n      <td>0.0</td>\n      <td>20.0</td>\n      <td>8.0</td>\n    </tr>\n    <tr>\n      <th>22</th>\n      <td>10.1038/NMAT4987</td>\n      <td>26572851.0</td>\n      <td>0.0</td>\n      <td>0.0</td>\n      <td>96.0</td>\n      <td>0.0</td>\n      <td>1.0</td>\n      <td>214.0</td>\n      <td>0.0</td>\n      <td>0.0</td>\n      <td>0.0</td>\n      <td>8.0</td>\n      <td>0.0</td>\n      <td>0.0</td>\n      <td>0.0</td>\n      <td>8.0</td>\n      <td>6.0</td>\n    </tr>\n    <tr>\n      <th>23</th>\n      <td>10.1038/NMAT4965</td>\n      <td>23804351.0</td>\n      <td>0.0</td>\n      <td>0.0</td>\n      <td>21.0</td>\n      <td>0.0</td>\n      <td>1.0</td>\n      <td>99.0</td>\n      <td>1.0</td>\n      <td>0.0</td>\n      <td>0.0</td>\n      <td>15.0</td>\n      <td>0.0</td>\n      <td>0.0</td>\n      <td>0.0</td>\n      <td>15.0</td>\n      <td>5.0</td>\n    </tr>\n    <tr>\n      <th>24</th>\n      <td>10.1038/NMAT4967</td>\n      <td>26115753.0</td>\n      <td>0.0</td>\n      <td>0.0</td>\n      <td>15.0</td>\n      <td>0.0</td>\n      <td>1.0</td>\n      <td>69.0</td>\n      <td>0.0</td>\n      <td>0.0</td>\n      <td>0.0</td>\n      <td>3.0</td>\n      <td>0.0</td>\n      <td>0.0</td>\n      <td>0.0</td>\n      <td>3.0</td>\n      <td>1.0</td>\n    </tr>\n    <tr>\n      <th>25</th>\n      <td>10.1038/NMAT4971</td>\n      <td>9915203.0</td>\n      <td>3.0</td>\n      <td>0.0</td>\n      <td>63.0</td>\n      <td>0.0</td>\n      <td>5.0</td>\n      <td>93.0</td>\n      <td>22.0</td>\n      <td>0.0</td>\n      <td>0.0</td>\n      <td>7.0</td>\n      <td>0.0</td>\n      <td>0.0</td>\n      <td>0.0</td>\n      <td>7.0</td>\n      <td>6.0</td>\n    </tr>\n    <tr>\n      <th>26</th>\n      <td>10.1038/NMAT4969</td>\n      <td>25111022.0</td>\n      <td>7.0</td>\n      <td>0.0</td>\n      <td>32.0</td>\n      <td>0.0</td>\n      <td>4.0</td>\n      <td>136.0</td>\n      <td>16.0</td>\n      <td>0.0</td>\n      <td>0.0</td>\n      <td>28.0</td>\n      <td>1.0</td>\n      <td>0.0</td>\n      <td>0.0</td>\n      <td>32.0</td>\n      <td>8.0</td>\n    </tr>\n    <tr>\n      <th>27</th>\n      <td>10.1038/NMAT4976</td>\n      <td>26183408.0</td>\n      <td>0.0</td>\n      <td>0.0</td>\n      <td>80.0</td>\n      <td>0.0</td>\n      <td>1.0</td>\n      <td>157.0</td>\n      <td>16.0</td>\n      <td>0.0</td>\n      <td>0.0</td>\n      <td>18.0</td>\n      <td>0.0</td>\n      <td>0.0</td>\n      <td>0.0</td>\n      <td>21.0</td>\n      <td>8.0</td>\n    </tr>\n    <tr>\n      <th>28</th>\n      <td>10.1038/NMAT4998</td>\n      <td>19502228.0</td>\n      <td>1.0</td>\n      <td>0.0</td>\n      <td>74.0</td>\n      <td>0.0</td>\n      <td>1.0</td>\n      <td>272.0</td>\n      <td>8.0</td>\n      <td>0.0</td>\n      <td>0.0</td>\n      <td>139.0</td>\n      <td>0.0</td>\n      <td>0.0</td>\n      <td>0.0</td>\n      <td>238.0</td>\n      <td>43.0</td>\n    </tr>\n    <tr>\n      <th>29</th>\n      <td>10.1038/NMAT4997</td>\n      <td>27201587.0</td>\n      <td>1.0</td>\n      <td>0.0</td>\n      <td>139.0</td>\n      <td>0.0</td>\n      <td>4.0</td>\n      <td>279.0</td>\n      <td>27.0</td>\n      <td>0.0</td>\n      <td>0.0</td>\n      <td>12.0</td>\n      <td>2.0</td>\n      <td>0.0</td>\n      <td>1.0</td>\n      <td>12.0</td>\n      <td>8.0</td>\n    </tr>\n    <tr>\n      <th>...</th>\n      <td>...</td>\n      <td>...</td>\n      <td>...</td>\n      <td>...</td>\n      <td>...</td>\n      <td>...</td>\n      <td>...</td>\n      <td>...</td>\n      <td>...</td>\n      <td>...</td>\n      <td>...</td>\n      <td>...</td>\n      <td>...</td>\n      <td>...</td>\n      <td>...</td>\n      <td>...</td>\n      <td>...</td>\n    </tr>\n    <tr>\n      <th>3330</th>\n      <td>10.1002/anie.201611595</td>\n      <td>15608357.0</td>\n      <td>0.0</td>\n      <td>0.0</td>\n      <td>71.0</td>\n      <td>0.0</td>\n      <td>0.0</td>\n      <td>63.0</td>\n      <td>0.0</td>\n      <td>0.0</td>\n      <td>0.0</td>\n      <td>6.0</td>\n      <td>0.0</td>\n      <td>0.0</td>\n      <td>0.0</td>\n      <td>6.0</td>\n      <td>1.0</td>\n    </tr>\n    <tr>\n      <th>3331</th>\n      <td>10.1002/anie.201611758</td>\n      <td>15559099.0</td>\n      <td>0.0</td>\n      <td>0.0</td>\n      <td>31.0</td>\n      <td>0.0</td>\n      <td>0.0</td>\n      <td>47.0</td>\n      <td>0.0</td>\n      <td>0.0</td>\n      <td>0.0</td>\n      <td>5.0</td>\n      <td>0.0</td>\n      <td>0.0</td>\n      <td>1.0</td>\n      <td>5.0</td>\n      <td>4.0</td>\n    </tr>\n    <tr>\n      <th>3332</th>\n      <td>10.1002/anie.201611850</td>\n      <td>17266461.0</td>\n      <td>0.0</td>\n      <td>0.0</td>\n      <td>58.0</td>\n      <td>0.0</td>\n      <td>0.0</td>\n      <td>40.0</td>\n      <td>1.0</td>\n      <td>0.0</td>\n      <td>0.0</td>\n      <td>0.0</td>\n      <td>0.0</td>\n      <td>0.0</td>\n      <td>0.0</td>\n      <td>0.0</td>\n      <td>0.0</td>\n    </tr>\n    <tr>\n      <th>3333</th>\n      <td>10.1002/anie.201612332</td>\n      <td>15570326.0</td>\n      <td>0.0</td>\n      <td>0.0</td>\n      <td>16.0</td>\n      <td>0.0</td>\n      <td>0.0</td>\n      <td>22.0</td>\n      <td>0.0</td>\n      <td>0.0</td>\n      <td>0.0</td>\n      <td>2.0</td>\n      <td>0.0</td>\n      <td>0.0</td>\n      <td>0.0</td>\n      <td>2.0</td>\n      <td>1.0</td>\n    </tr>\n    <tr>\n      <th>3334</th>\n      <td>10.1002/anie.201612315</td>\n      <td>15433182.0</td>\n      <td>3.0</td>\n      <td>0.0</td>\n      <td>104.0</td>\n      <td>0.0</td>\n      <td>1.0</td>\n      <td>41.0</td>\n      <td>14.0</td>\n      <td>0.0</td>\n      <td>0.0</td>\n      <td>4.0</td>\n      <td>0.0</td>\n      <td>0.0</td>\n      <td>0.0</td>\n      <td>4.0</td>\n      <td>3.0</td>\n    </tr>\n    <tr>\n      <th>3335</th>\n      <td>10.1002/anie.201612535</td>\n      <td>15698417.0</td>\n      <td>0.0</td>\n      <td>0.0</td>\n      <td>6.0</td>\n      <td>0.0</td>\n      <td>0.0</td>\n      <td>54.0</td>\n      <td>0.0</td>\n      <td>0.0</td>\n      <td>0.0</td>\n      <td>6.0</td>\n      <td>0.0</td>\n      <td>0.0</td>\n      <td>0.0</td>\n      <td>6.0</td>\n      <td>2.0</td>\n    </tr>\n    <tr>\n      <th>3336</th>\n      <td>10.1002/anie.201608537</td>\n      <td>15417818.0</td>\n      <td>0.0</td>\n      <td>0.0</td>\n      <td>31.0</td>\n      <td>0.0</td>\n      <td>0.0</td>\n      <td>47.0</td>\n      <td>0.0</td>\n      <td>0.0</td>\n      <td>0.0</td>\n      <td>3.0</td>\n      <td>0.0</td>\n      <td>0.0</td>\n      <td>0.0</td>\n      <td>3.0</td>\n      <td>1.0</td>\n    </tr>\n    <tr>\n      <th>3337</th>\n      <td>10.1002/anie.201607344</td>\n      <td>15559101.0</td>\n      <td>0.0</td>\n      <td>0.0</td>\n      <td>9.0</td>\n      <td>0.0</td>\n      <td>2.0</td>\n      <td>20.0</td>\n      <td>0.0</td>\n      <td>0.0</td>\n      <td>0.0</td>\n      <td>4.0</td>\n      <td>0.0</td>\n      <td>0.0</td>\n      <td>0.0</td>\n      <td>4.0</td>\n      <td>3.0</td>\n    </tr>\n    <tr>\n      <th>3338</th>\n      <td>10.1002/anie.201609395</td>\n      <td>15614116.0</td>\n      <td>0.0</td>\n      <td>0.0</td>\n      <td>7.0</td>\n      <td>0.0</td>\n      <td>1.0</td>\n      <td>24.0</td>\n      <td>0.0</td>\n      <td>0.0</td>\n      <td>0.0</td>\n      <td>2.0</td>\n      <td>0.0</td>\n      <td>0.0</td>\n      <td>0.0</td>\n      <td>2.0</td>\n      <td>2.0</td>\n    </tr>\n    <tr>\n      <th>3339</th>\n      <td>10.1002/anie.201610154</td>\n      <td>15442211.0</td>\n      <td>0.0</td>\n      <td>0.0</td>\n      <td>6.0</td>\n      <td>0.0</td>\n      <td>0.0</td>\n      <td>15.0</td>\n      <td>0.0</td>\n      <td>0.0</td>\n      <td>0.0</td>\n      <td>2.0</td>\n      <td>0.0</td>\n      <td>0.0</td>\n      <td>0.0</td>\n      <td>2.0</td>\n      <td>2.0</td>\n    </tr>\n    <tr>\n      <th>3340</th>\n      <td>10.1002/anie.201610680</td>\n      <td>15562274.0</td>\n      <td>0.0</td>\n      <td>0.0</td>\n      <td>8.0</td>\n      <td>0.0</td>\n      <td>1.0</td>\n      <td>9.0</td>\n      <td>0.0</td>\n      <td>0.0</td>\n      <td>0.0</td>\n      <td>8.0</td>\n      <td>0.0</td>\n      <td>0.0</td>\n      <td>0.0</td>\n      <td>9.0</td>\n      <td>5.0</td>\n    </tr>\n    <tr>\n      <th>3341</th>\n      <td>10.1002/anie.201610722</td>\n      <td>15609072.0</td>\n      <td>0.0</td>\n      <td>0.0</td>\n      <td>20.0</td>\n      <td>0.0</td>\n      <td>1.0</td>\n      <td>66.0</td>\n      <td>0.0</td>\n      <td>0.0</td>\n      <td>0.0</td>\n      <td>18.0</td>\n      <td>0.0</td>\n      <td>0.0</td>\n      <td>0.0</td>\n      <td>18.0</td>\n      <td>4.0</td>\n    </tr>\n    <tr>\n      <th>3342</th>\n      <td>10.1002/anie.201610901</td>\n      <td>15521668.0</td>\n      <td>0.0</td>\n      <td>0.0</td>\n      <td>62.0</td>\n      <td>0.0</td>\n      <td>1.0</td>\n      <td>45.0</td>\n      <td>1.0</td>\n      <td>0.0</td>\n      <td>0.0</td>\n      <td>2.0</td>\n      <td>0.0</td>\n      <td>0.0</td>\n      <td>0.0</td>\n      <td>2.0</td>\n      <td>2.0</td>\n    </tr>\n    <tr>\n      <th>3343</th>\n      <td>10.1002/anie.201610949</td>\n      <td>15338377.0</td>\n      <td>1.0</td>\n      <td>1.0</td>\n      <td>14.0</td>\n      <td>0.0</td>\n      <td>2.0</td>\n      <td>20.0</td>\n      <td>0.0</td>\n      <td>0.0</td>\n      <td>1.0</td>\n      <td>45.0</td>\n      <td>1.0</td>\n      <td>0.0</td>\n      <td>1.0</td>\n      <td>59.0</td>\n      <td>20.0</td>\n    </tr>\n    <tr>\n      <th>3344</th>\n      <td>10.1002/anie.201611076</td>\n      <td>15562779.0</td>\n      <td>0.0</td>\n      <td>0.0</td>\n      <td>29.0</td>\n      <td>0.0</td>\n      <td>1.0</td>\n      <td>33.0</td>\n      <td>1.0</td>\n      <td>0.0</td>\n      <td>0.0</td>\n      <td>1.0</td>\n      <td>0.0</td>\n      <td>0.0</td>\n      <td>0.0</td>\n      <td>1.0</td>\n      <td>1.0</td>\n    </tr>\n    <tr>\n      <th>3345</th>\n      <td>10.1002/anie.201611197</td>\n      <td>15521866.0</td>\n      <td>0.0</td>\n      <td>0.0</td>\n      <td>9.0</td>\n      <td>0.0</td>\n      <td>1.0</td>\n      <td>19.0</td>\n      <td>1.0</td>\n      <td>0.0</td>\n      <td>0.0</td>\n      <td>1.0</td>\n      <td>0.0</td>\n      <td>0.0</td>\n      <td>0.0</td>\n      <td>1.0</td>\n      <td>1.0</td>\n    </tr>\n    <tr>\n      <th>3346</th>\n      <td>10.1002/anie.201611207</td>\n      <td>15563390.0</td>\n      <td>0.0</td>\n      <td>0.0</td>\n      <td>14.0</td>\n      <td>0.0</td>\n      <td>0.0</td>\n      <td>38.0</td>\n      <td>0.0</td>\n      <td>0.0</td>\n      <td>0.0</td>\n      <td>1.0</td>\n      <td>0.0</td>\n      <td>0.0</td>\n      <td>0.0</td>\n      <td>1.0</td>\n      <td>1.0</td>\n    </tr>\n    <tr>\n      <th>3347</th>\n      <td>10.1002/anie.201611260</td>\n      <td>15568766.0</td>\n      <td>0.0</td>\n      <td>0.0</td>\n      <td>17.0</td>\n      <td>0.0</td>\n      <td>1.0</td>\n      <td>36.0</td>\n      <td>0.0</td>\n      <td>0.0</td>\n      <td>0.0</td>\n      <td>9.0</td>\n      <td>0.0</td>\n      <td>0.0</td>\n      <td>0.0</td>\n      <td>9.0</td>\n      <td>3.0</td>\n    </tr>\n    <tr>\n      <th>3348</th>\n      <td>10.1002/anie.201611273</td>\n      <td>15563203.0</td>\n      <td>0.0</td>\n      <td>0.0</td>\n      <td>25.0</td>\n      <td>0.0</td>\n      <td>0.0</td>\n      <td>70.0</td>\n      <td>0.0</td>\n      <td>0.0</td>\n      <td>0.0</td>\n      <td>1.0</td>\n      <td>0.0</td>\n      <td>0.0</td>\n      <td>0.0</td>\n      <td>1.0</td>\n      <td>1.0</td>\n    </tr>\n    <tr>\n      <th>3349</th>\n      <td>10.1002/anie.201611297</td>\n      <td>15434989.0</td>\n      <td>0.0</td>\n      <td>0.0</td>\n      <td>3.0</td>\n      <td>0.0</td>\n      <td>0.0</td>\n      <td>25.0</td>\n      <td>1.0</td>\n      <td>0.0</td>\n      <td>0.0</td>\n      <td>5.0</td>\n      <td>0.0</td>\n      <td>0.0</td>\n      <td>0.0</td>\n      <td>5.0</td>\n      <td>1.0</td>\n    </tr>\n    <tr>\n      <th>3350</th>\n      <td>10.1002/anie.201611475</td>\n      <td>15520652.0</td>\n      <td>0.0</td>\n      <td>0.0</td>\n      <td>11.0</td>\n      <td>0.0</td>\n      <td>1.0</td>\n      <td>10.0</td>\n      <td>0.0</td>\n      <td>0.0</td>\n      <td>0.0</td>\n      <td>2.0</td>\n      <td>0.0</td>\n      <td>0.0</td>\n      <td>0.0</td>\n      <td>3.0</td>\n      <td>2.0</td>\n    </tr>\n    <tr>\n      <th>3351</th>\n      <td>10.1002/anie.201611576</td>\n      <td>15384554.0</td>\n      <td>0.0</td>\n      <td>0.0</td>\n      <td>7.0</td>\n      <td>0.0</td>\n      <td>0.0</td>\n      <td>8.0</td>\n      <td>0.0</td>\n      <td>0.0</td>\n      <td>0.0</td>\n      <td>1.0</td>\n      <td>0.0</td>\n      <td>0.0</td>\n      <td>0.0</td>\n      <td>1.0</td>\n      <td>1.0</td>\n    </tr>\n    <tr>\n      <th>3352</th>\n      <td>10.1002/anie.201611670</td>\n      <td>15561023.0</td>\n      <td>0.0</td>\n      <td>0.0</td>\n      <td>27.0</td>\n      <td>0.0</td>\n      <td>0.0</td>\n      <td>29.0</td>\n      <td>0.0</td>\n      <td>0.0</td>\n      <td>0.0</td>\n      <td>7.0</td>\n      <td>0.0</td>\n      <td>0.0</td>\n      <td>0.0</td>\n      <td>7.0</td>\n      <td>2.0</td>\n    </tr>\n    <tr>\n      <th>3353</th>\n      <td>10.1002/anie.201611770</td>\n      <td>15520842.0</td>\n      <td>0.0</td>\n      <td>0.0</td>\n      <td>64.0</td>\n      <td>0.0</td>\n      <td>0.0</td>\n      <td>30.0</td>\n      <td>1.0</td>\n      <td>0.0</td>\n      <td>0.0</td>\n      <td>2.0</td>\n      <td>0.0</td>\n      <td>0.0</td>\n      <td>0.0</td>\n      <td>2.0</td>\n      <td>2.0</td>\n    </tr>\n    <tr>\n      <th>3354</th>\n      <td>10.1002/anie.201611774</td>\n      <td>15609081.0</td>\n      <td>2.0</td>\n      <td>0.0</td>\n      <td>60.0</td>\n      <td>0.0</td>\n      <td>1.0</td>\n      <td>87.0</td>\n      <td>46.0</td>\n      <td>0.0</td>\n      <td>0.0</td>\n      <td>6.0</td>\n      <td>0.0</td>\n      <td>0.0</td>\n      <td>0.0</td>\n      <td>7.0</td>\n      <td>4.0</td>\n    </tr>\n    <tr>\n      <th>3355</th>\n      <td>10.1002/anie.201612047</td>\n      <td>15521094.0</td>\n      <td>0.0</td>\n      <td>0.0</td>\n      <td>35.0</td>\n      <td>0.0</td>\n      <td>1.0</td>\n      <td>56.0</td>\n      <td>1.0</td>\n      <td>0.0</td>\n      <td>0.0</td>\n      <td>5.0</td>\n      <td>0.0</td>\n      <td>0.0</td>\n      <td>0.0</td>\n      <td>5.0</td>\n      <td>2.0</td>\n    </tr>\n    <tr>\n      <th>3356</th>\n      <td>10.1002/anie.201612151</td>\n      <td>15433631.0</td>\n      <td>0.0</td>\n      <td>0.0</td>\n      <td>12.0</td>\n      <td>0.0</td>\n      <td>0.0</td>\n      <td>17.0</td>\n      <td>0.0</td>\n      <td>0.0</td>\n      <td>0.0</td>\n      <td>2.0</td>\n      <td>0.0</td>\n      <td>0.0</td>\n      <td>0.0</td>\n      <td>2.0</td>\n      <td>1.0</td>\n    </tr>\n    <tr>\n      <th>3357</th>\n      <td>10.1002/anie.201610125</td>\n      <td>15442879.0</td>\n      <td>0.0</td>\n      <td>0.0</td>\n      <td>40.0</td>\n      <td>0.0</td>\n      <td>0.0</td>\n      <td>51.0</td>\n      <td>0.0</td>\n      <td>0.0</td>\n      <td>0.0</td>\n      <td>2.0</td>\n      <td>0.0</td>\n      <td>0.0</td>\n      <td>0.0</td>\n      <td>2.0</td>\n      <td>2.0</td>\n    </tr>\n    <tr>\n      <th>3358</th>\n      <td>10.1002/anie.201612196</td>\n      <td>15560818.0</td>\n      <td>1.0</td>\n      <td>1.0</td>\n      <td>28.0</td>\n      <td>0.0</td>\n      <td>2.0</td>\n      <td>58.0</td>\n      <td>7.0</td>\n      <td>0.0</td>\n      <td>0.0</td>\n      <td>3.0</td>\n      <td>0.0</td>\n      <td>0.0</td>\n      <td>0.0</td>\n      <td>3.0</td>\n      <td>3.0</td>\n    </tr>\n    <tr>\n      <th>3359</th>\n      <td>10.1002/anie.201609590</td>\n      <td>15609897.0</td>\n      <td>0.0</td>\n      <td>0.0</td>\n      <td>21.0</td>\n      <td>0.0</td>\n      <td>1.0</td>\n      <td>56.0</td>\n      <td>0.0</td>\n      <td>0.0</td>\n      <td>0.0</td>\n      <td>2.0</td>\n      <td>0.0</td>\n      <td>0.0</td>\n      <td>0.0</td>\n      <td>2.0</td>\n      <td>1.0</td>\n    </tr>\n  </tbody>\n</table>\n<p>3360 rows × 17 columns</p>\n</div>"
     },
     "metadata": {},
     "execution_count": 20
    }
   ],
   "source": [
    "df_tweets_count = df_tweets.groupby(by=['doi'])['altmetric_id'].count()\n",
    "df_all = df_all.merge(df_tweets_count, left_on=['DI'], right_on=['doi'], how='left', suffixes=['', '_tweets_count'])\n",
    "df_all['altmetric_id_tweets_count'] = df_all['altmetric_id_tweets_count'].fillna(0)\n",
    "df_all = df_all.rename({'altmetric_id_tweets_count': 'tweets_count'}, axis=1)\n",
    "df_tweets_count = df_tweets[df_tweets['originalPost'] == True].groupby(by=['doi'])['altmetric_id'].count()\n",
    "df_all = df_all.merge(df_tweets_count, left_on=['DI'], right_on=['doi'], how='left', suffixes=['', '_tweets_origin_count'])\n",
    "df_all['altmetric_id_tweets_origin_count'] = df_all['altmetric_id_tweets_origin_count'].fillna(0)\n",
    "df_all = df_all.rename({'altmetric_id_tweets_origin_count': 'tweets_origin_count'}, axis=1)\n",
    "df_all\n",
    ""
   ],
   "execution_count": 20
  },
  {
   "cell_type": "code",
   "metadata": {},
   "outputs": [],
   "source": [
    "df_all.to_csv(f'{origin_folder}/all_altmetric_detail.csv', index=False)"
   ],
   "execution_count": 21
  },
  {
   "cell_type": "code",
   "metadata": {},
   "outputs": [],
   "source": [
    "%%time\n",
    "articles_dict = {}\n",
    "get_mention('fbwall')"
   ]
  },
  {
   "cell_type": "code",
   "metadata": {},
   "outputs": [],
   "source": [
    "with open(f'{origin_folder}/article_fbwalls_altmetric.json', \"w+\") as dump_f:\n",
    "    dump_f.write(json.dumps(articles_dict))"
   ]
  }
 ]
}