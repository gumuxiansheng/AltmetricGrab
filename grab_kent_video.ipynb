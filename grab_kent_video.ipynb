{
 "nbformat": 4,
 "nbformat_minor": 2,
 "metadata": {
  "language_info": {
   "name": "python",
   "codemirror_mode": {
    "name": "ipython",
    "version": 3
   },
   "version": "3.7.4"
  },
  "orig_nbformat": 2,
  "file_extension": ".py",
  "mimetype": "text/x-python",
  "name": "python",
  "npconvert_exporter": "python",
  "pygments_lexer": "ipython3",
  "version": 3
 },
 "cells": [
  {
   "cell_type": "code",
   "execution_count": 39,
   "metadata": {},
   "outputs": [],
   "source": [
    "from grab_util import *\n",
    "import json\n",
    "import pandas as pd\n",
    "import numpy as np\n",
    "import math\n",
    "import urllib\n",
    "import requests\n",
    "from requests import ConnectionError, ReadTimeout"
   ]
  },
  {
   "cell_type": "code",
   "execution_count": 40,
   "metadata": {},
   "outputs": [],
   "source": [
    "class Request(object):\n",
    "    def __init__(self, request_session):\n",
    "        self.request_session = request_session\n",
    "    \n",
    "    def get(self, url, headers={'Accept': '* / *',\n",
    "               'Accept-Language': 'zh-TW, zh; q=0.9, en-US; q=0.8, en; q=0.7, zh-CN; q=0.6',\n",
    "               'User-Agent': 'Mozilla/5.0 (Macintosh; Intel Mac OS X 10_14_1) AppleWebKit/537.36 (KHTML, like Gecko) Chrome/72.0.3610.2 Safari/537.36'\n",
    "               }, params={}, timeout=10, allow_redirects=False):\n",
    "        try:\n",
    "            print(url)\n",
    "            headers['Host'] = urllib.request.splithost(urllib.request.splittype(url)[1])[0]\n",
    "            res = self.request_session.get(url, headers=headers, params=params, timeout=timeout, allow_redirects=allow_redirects)\n",
    "        except ConnectionError as ce:\n",
    "            print('ConnectionError: ' + str(ce))\n",
    "            return get(self, url=url, headers=headers, params=params, timeout=timeout, allow_redirects=allow_redirects)\n",
    "        except ReadTimeout as rte:\n",
    "            print('ReadTimeout: ' + str(rte))\n",
    "            return get(self, url=url, headers=headers, params=params, timeout=timeout, allow_redirects=allow_redirects)\n",
    "\n",
    "        return res\n",
    "    \n",
    "    def post(self, url, data, headers={'Accept': '* / *',\n",
    "               'Accept-Language': 'zh-TW, zh; q=0.9, en-US; q=0.8, en; q=0.7, zh-CN; q=0.6',\n",
    "               'User-Agent': 'Mozilla/5.0 (Macintosh; Intel Mac OS X 10_14_1) AppleWebKit/537.36 (KHTML, like Gecko) Chrome/72.0.3610.2 Safari/537.36'\n",
    "               }, timeout=10, allow_redirects=False):\n",
    "        try:\n",
    "            headers['host'] = urllib.request.splithost(urllib.request.splittype(url)[1])[0]\n",
    "            res = self.request_session.post(url, data=data, headers=headers, timeout=timeout, allow_redirects=allow_redirects)\n",
    "        except ConnectionError as ce:\n",
    "            print('ConnectionError: ' + str(ce))\n",
    "            return post(self, url=url, data=data, headers=headers, timeout=timeout, allow_redirects=allow_redirects)\n",
    "        except ReadTimeout as rte:\n",
    "            print('ReadTimeout: ' + str(rte))\n",
    "            return post(self, url=url, data=data, headers=headers, timeout=timeout, allow_redirects=allow_redirects)\n",
    "\n",
    "        return res\n",
    "\n",
    "    def get_cookie_dict(self):\n",
    "        return requests.utils.dict_from_cookiejar(self.request_session.cookies)"
   ]
  },
  {
   "cell_type": "markdown",
   "metadata": {},
   "outputs": [],
   "source": [
    "## Initial Cookies"
   ]
  },
  {
   "cell_type": "code",
   "execution_count": 54,
   "metadata": {},
   "outputs": [
    {
     "name": "stdout",
     "output_type": "stream",
     "text": "https://moodle.kent.ac.uk/2017/course/view.php\n{'Server': 'nginx/1.17.7', 'Date': 'Tue, 31 Dec 2019 05:49:10 GMT', 'Content-Type': 'text/html; charset=utf-8', 'Transfer-Encoding': 'chunked', 'Connection': 'keep-alive', 'Vary': 'Accept-Encoding', 'X-Powered-By': 'PHP/7.2.26', 'Content-Language': 'en', 'Content-Script-Type': 'text/javascript', 'Content-Style-Type': 'text/css', 'X-UA-Compatible': 'IE=edge', 'Cache-Control': 'no-store, no-cache, must-revalidate, post-check=0, pre-check=0, no-transform', 'Pragma': 'no-cache', 'Expires': 'Mon, 20 Aug 1969 09:23:00 GMT', 'Last-Modified': 'Tue, 31 Dec 2019 05:49:10 GMT', 'X-Cache-Status': 'MISS', 'Strict-Transport-Security': 'max-age=31536000', 'Content-Encoding': 'gzip'}\n"
    }
   ],
   "source": [
    "url = \"https://moodle.kent.ac.uk/2017/course/view.php\"\n",
    "course_id = '2105'\n",
    "querystring = {\"id\":course_id}\n",
    "\n",
    "headers = {\n",
    "    'accept': \"text/html,application/xhtml+xml,application/xml;q=0.9,image/webp,image/apng,*/*;q=0.8,application/signed-exchange;v=b3;q=0.9\",\n",
    "    'accept-language': \"zh-CN,zh;q=0.9\",\n",
    "    'content-type': 'application/x-www-form-urlencoded; charset=UTF-8',\n",
    "    'cache-control': \"max-age=0,no-cache\",\n",
    "    'cookie': \"MoodleSessionkm2017=kqlic5gpke61ne7qubehp7q1rh; optimizelyEndUserId=oeu1576805091684r0.5280257672419764; optimizelySegments=%7B%22700332969%22%3A%22direct%22%2C%22703200875%22%3A%22false%22%2C%22704334772%22%3A%22gc%22%7D; optimizelyBuckets=%7B%7D; _gcl_au=1.1.91719409.1576805122; _hjid=ad8026ec-1d07-4d45-bc5d-b0c8aa8841c1; _ga=GA1.3.1786459308.1576832247; _gid=GA1.3.1328829002.1577758071; SimpleSAMLSessionID=6eecfc0413e5d07070e7466581f16621; SimpleSAMLAuthToken=_b02b7446e53ee65aed98ea8c86a6b0163a2651196f\",\n",
    "    'referer': \"https://moodle.kent.ac.uk/2017/my/index.php\",\n",
    "    'sec-fetch-mode': \"navigate\",\n",
    "    'sec-fetch-site': \"same-site\",\n",
    "    'upgrade-insecure-requests': \"1\",\n",
    "    'user-agent': \"Mozilla/5.0 (Windows NT 6.1; Win64; x64) AppleWebKit/537.36 (KHTML, like Gecko) Chrome/79.0.3945.70 Safari/537.36\",\n",
    "    'Host': \"moodle.kent.ac.uk\",\n",
    "    'Connection': \"keep-alive\"\n",
    "    }\n",
    "\n",
    "req = Request(requests.Session())\n",
    "response = req.get(url, headers, querystring, 40, False)\n",
    "\n",
    "print(response.headers)\n",
    "\n",
    "while ('Location' in response.headers):\n",
    "    headers['Referer'] = url\n",
    "    url = response.headers.get('Location')\n",
    "\n",
    "    response = req.get(url, headers=headers, params=querystring, timeout=40, allow_redirects=False)\n",
    "    print(response.headers)"
   ]
  },
  {
   "cell_type": "code",
   "execution_count": 55,
   "metadata": {},
   "outputs": [],
   "source": [
    "anchor = '\"sesskey\":\"'\n",
    "start = response.text.find(anchor)\n",
    "end = response.text.find('\"', start + len(anchor))\n",
    "sesskey = response.text[start+ len(anchor):end]"
   ]
  },
  {
   "cell_type": "code",
   "execution_count": 56,
   "metadata": {},
   "outputs": [],
   "source": [
    "url = 'https://moodle.kent.ac.uk/2017/blocks/panopto/panopto_content.php'\n",
    "headers['Referer'] = url\n",
    "headers['cookie'] = 'MoodleSessionkm2017=kqlic5gpke61ne7qubehp7q1rh; optimizelyEndUserId=oeu1576805091684r0.5280257672419764; optimizelySegments=%7B%22700332969%22%3A%22direct%22%2C%22703200875%22%3A%22false%22%2C%22704334772%22%3A%22gc%22%7D; optimizelyBuckets=%7B%7D; _gcl_au=1.1.91719409.1576805122; _hjid=ad8026ec-1d07-4d45-bc5d-b0c8aa8841c1; _ga=GA1.3.1786459308.1576832247; _gid=GA1.3.1328829002.1577758071; SimpleSAMLSessionID=6eecfc0413e5d07070e7466581f16621; SimpleSAMLAuthToken=_b02b7446e53ee65aed98ea8c86a6b0163a2651196f; _gat_kbtracker=1; _gat_kentmoodle=1'\n",
    "headers['origin'] = 'https://moodle.kent.ac.uk'\n",
    "headers['accept'] = '*/*'\n",
    "post_form = {'sesskey':sesskey, 'courseid':course_id}\n",
    "response = req.post(url, data=post_form, headers=headers)"
   ]
  },
  {
   "cell_type": "code",
   "execution_count": 57,
   "metadata": {},
   "outputs": [
    {
     "data": {
      "text/plain": "<Response [200]>"
     },
     "execution_count": 57,
     "metadata": {},
     "output_type": "execute_result"
    }
   ],
   "source": [
    "response"
   ]
  },
  {
   "cell_type": "code",
   "execution_count": 59,
   "metadata": {},
   "outputs": [],
   "source": [
    "anchor = 'href=\\'https://kent.cloud.panopto.eu/Panopto/Pages/Viewer.aspx'\n",
    "\n",
    "start = 0\n",
    "\n",
    "video_hrefs = []\n",
    "while start >= 0:\n",
    "    start = response.text.find(anchor, start)\n",
    "    if start == -1:\n",
    "        break\n",
    "    end = response.text.find('\\'', start + len(anchor))\n",
    "    video_hrefs.append(response.text[start+6:end])\n",
    "    start = end\n"
   ]
  },
  {
   "cell_type": "code",
   "execution_count": 60,
   "metadata": {},
   "outputs": [
    {
     "data": {
      "text/plain": "['https://kent.cloud.panopto.eu/Panopto/Pages/Viewer.aspx?id=6f065f8f-d9e8-4182-a23e-bce07a430c4b',\n 'https://kent.cloud.panopto.eu/Panopto/Pages/Viewer.aspx?id=c01dd0ed-e15b-433d-8790-e29b33c4cc01',\n 'https://kent.cloud.panopto.eu/Panopto/Pages/Viewer.aspx?id=39e46273-af7f-4911-9614-c27c7b030557',\n 'https://kent.cloud.panopto.eu/Panopto/Pages/Viewer.aspx?id=b52916e0-bdc2-4b0d-8a01-f6c1368a609b',\n 'https://kent.cloud.panopto.eu/Panopto/Pages/Viewer.aspx?id=0f646b59-3eea-4798-9974-1763ea5ff3b9',\n 'https://kent.cloud.panopto.eu/Panopto/Pages/Viewer.aspx?id=378dec0a-60ec-43b3-a189-7f87ec8db401',\n 'https://kent.cloud.panopto.eu/Panopto/Pages/Viewer.aspx?id=27ce9c91-b12f-4672-831a-4ccaeedb408a',\n 'https://kent.cloud.panopto.eu/Panopto/Pages/Viewer.aspx?id=1af32c9e-e0a1-4539-b0d5-11bb2ecb194f',\n 'https://kent.cloud.panopto.eu/Panopto/Pages/Viewer.aspx?id=18af3863-652b-480f-a5f6-dd99bc579ccd',\n 'https://kent.cloud.panopto.eu/Panopto/Pages/Viewer.aspx?id=96ec8713-21b2-40a8-9d13-e9f9b48e2e5b',\n 'https://kent.cloud.panopto.eu/Panopto/Pages/Viewer.aspx?id=4154d24e-3a82-4c83-be28-c1f3a889294e']"
     },
     "execution_count": 60,
     "metadata": {},
     "output_type": "execute_result"
    }
   ],
   "source": [
    "video_hrefs"
   ]
  },
  {
   "cell_type": "code",
   "execution_count": 133,
   "metadata": {},
   "outputs": [],
   "source": [
    "headers = {\n",
    "  'accept': 'text/html,application/xhtml+xml,application/xml;q=0.9,image/webp,image/apng,*/*;q=0.8,application/signed-exchange;v=b3;q=0.9',\n",
    "  'accept-encoding': 'gzip, deflate, br',\n",
    "  'accept-language': 'zh-CN,zh;q=0.9',\n",
    "  'cache-control': 'max-age=0',\n",
    "  'content-length': '15',\n",
    "  'content-type': 'application/x-www-form-urlencoded',\n",
    "  'cookie': '_ga=GA1.2.1491957841.1577065851; UserSettings=AnonymousUserID=7664f113-c2fb-471e-be42-ab2c001e726b&LastLoginMembershipProvider=Moodle; .ASPXAUTH=BB39652F8F3ED610AAF87FCD05D4868EF8DC8E2B6D93AC429CC8CB20387F6B85A888D5C12EE00BA22AAA530B8B36BFAB799B1D0AC7A8855AF1E6892CD41B0E9C2495342451B3F7A9A0ED698DDBFBFA393A135F0FA3ECC68F89437BFFC1A5D2E0112925E2BA60A1C4478B54B1FE202013984566E7322CDFC5160B2E08A3194F8FC2C20CD42D3DADDC8F9369D585B8DFE508781296F5F1A28F5E5FB91C7C1ED4A041CBB36A7B745CDB84DD8CA3A3DA1EF8C78B171A2FB086A6956A8E4576858DABD18B9676C334FD88BE013347D3044929C3DF043A5045570D2DC277D01BC31FA7CB8291A32EFEF0488935A9C2A9034F1F; _gid=GA1.2.1328811804.1577758279; unified\\wbl={\"defaultVolume\":100}; sandboxCookie=13222246741.4087; csrfToken=GEkz8%2fUTJ1M1VdCV5nPqcKN0DEOtZrqCGei6y8%2fKuZG3qClhzN1iPZ6psgKkKL3VZclX8ckP9gEwocPBEWYFi3FgX3I%2flfRLKiZhh8Bm9Vy%2fiT%2f5vcebT1DxKDg9cm0hfieQgoNbXjo3ssoyFLDe955okLqErKs0RHvjHyktTzwabqkswFweFU%2bcaCKLtdB1Dius%2b3QxIUKB7nO8ZqDxysFUIZQuAyOnWwGAyqnSBtsDIKUDRPBXkxG2q0h1MvZE',\n",
    "  'origin': 'https://moodle.kent.ac.uk',\n",
    "  'referer': 'https://moodle.kent.ac.uk/2017/course/view.php?id=2105',\n",
    "  'sec-fetch-mode': 'navigate',\n",
    "  'sec-fetch-site': 'cross-site',\n",
    "  'sec-fetch-user': '?1',\n",
    "  'upgrade-insecure-requests': '1',\n",
    "  'user-agent': 'Mozilla/5.0 (Windows NT 6.1; Win64; x64) AppleWebKit/537.36 (KHTML, like Gecko) Chrome/79.0.3945.70 Safari/537.36'\n",
    "}"
   ]
  },
  {
   "cell_type": "code",
   "execution_count": 125,
   "metadata": {},
   "outputs": [
    {
     "data": {
      "text/plain": "<Response [200]>"
     },
     "execution_count": 125,
     "metadata": {},
     "output_type": "execute_result"
    }
   ],
   "source": [
    "response = req.post(video_hrefs[10], data={'instance':'Moodle'}, headers=headers)\n",
    "response"
   ]
  },
  {
   "cell_type": "code",
   "execution_count": 134,
   "metadata": {},
   "outputs": [
    {
     "name": "stdout",
     "output_type": "stream",
     "text": "https://kent.cloud.panopto.eu/Panopto/Podcast/Download/6f065f8f-d9e8-4182-a23e-bce07a430c4b.mp4?mediaTargetType=videoPodcast\n"
    },
    {
     "ename": "KeyError",
     "evalue": "'content-disposition'",
     "output_type": "error",
     "traceback": [
      "\u001b[1;31m---------------------------------------------------------------------------\u001b[0m",
      "\u001b[1;31mKeyError\u001b[0m                                  Traceback (most recent call last)",
      "\u001b[1;32m<ipython-input-134-fa4222a931ea>\u001b[0m in \u001b[0;36m<module>\u001b[1;34m\u001b[0m\n\u001b[0;32m     13\u001b[0m         \u001b[0mprint\u001b[0m\u001b[1;33m(\u001b[0m\u001b[0mresponse\u001b[0m\u001b[1;33m.\u001b[0m\u001b[0mheaders\u001b[0m\u001b[1;33m)\u001b[0m\u001b[1;33m\u001b[0m\u001b[1;33m\u001b[0m\u001b[0m\n\u001b[0;32m     14\u001b[0m \u001b[1;33m\u001b[0m\u001b[0m\n\u001b[1;32m---> 15\u001b[1;33m     \u001b[0mstart\u001b[0m \u001b[1;33m=\u001b[0m \u001b[0mresponse\u001b[0m\u001b[1;33m.\u001b[0m\u001b[0mheaders\u001b[0m\u001b[1;33m[\u001b[0m\u001b[1;34m'Content-Disposition'\u001b[0m\u001b[1;33m]\u001b[0m\u001b[1;33m.\u001b[0m\u001b[0mfind\u001b[0m\u001b[1;33m(\u001b[0m\u001b[1;34m'filename='\u001b[0m\u001b[1;33m)\u001b[0m\u001b[1;33m\u001b[0m\u001b[1;33m\u001b[0m\u001b[0m\n\u001b[0m\u001b[0;32m     16\u001b[0m     \u001b[0mfile_name\u001b[0m \u001b[1;33m=\u001b[0m \u001b[0mresponse\u001b[0m\u001b[1;33m.\u001b[0m\u001b[0mheaders\u001b[0m\u001b[1;33m[\u001b[0m\u001b[1;34m'Content-Disposition'\u001b[0m\u001b[1;33m]\u001b[0m\u001b[1;33m[\u001b[0m\u001b[0mstart\u001b[0m\u001b[1;33m+\u001b[0m\u001b[0mlen\u001b[0m\u001b[1;33m(\u001b[0m\u001b[1;34m'filename='\u001b[0m\u001b[1;33m)\u001b[0m\u001b[1;33m]\u001b[0m\u001b[1;33m\u001b[0m\u001b[1;33m\u001b[0m\u001b[0m\n\u001b[0;32m     17\u001b[0m     \u001b[1;32mwith\u001b[0m \u001b[0mopen\u001b[0m\u001b[1;33m(\u001b[0m\u001b[1;34m'Kent_/'\u001b[0m\u001b[1;33m+\u001b[0m\u001b[0mfile_name\u001b[0m\u001b[1;33m,\u001b[0m \u001b[1;34m'wb'\u001b[0m\u001b[1;33m)\u001b[0m \u001b[1;32mas\u001b[0m \u001b[0mmp4\u001b[0m\u001b[1;33m:\u001b[0m\u001b[1;33m\u001b[0m\u001b[1;33m\u001b[0m\u001b[0m\n",
      "\u001b[1;32mE:\\ProgramData\\Anaconda3\\lib\\site-packages\\requests\\structures.py\u001b[0m in \u001b[0;36m__getitem__\u001b[1;34m(self, key)\u001b[0m\n\u001b[0;32m     50\u001b[0m \u001b[1;33m\u001b[0m\u001b[0m\n\u001b[0;32m     51\u001b[0m     \u001b[1;32mdef\u001b[0m \u001b[0m__getitem__\u001b[0m\u001b[1;33m(\u001b[0m\u001b[0mself\u001b[0m\u001b[1;33m,\u001b[0m \u001b[0mkey\u001b[0m\u001b[1;33m)\u001b[0m\u001b[1;33m:\u001b[0m\u001b[1;33m\u001b[0m\u001b[1;33m\u001b[0m\u001b[0m\n\u001b[1;32m---> 52\u001b[1;33m         \u001b[1;32mreturn\u001b[0m \u001b[0mself\u001b[0m\u001b[1;33m.\u001b[0m\u001b[0m_store\u001b[0m\u001b[1;33m[\u001b[0m\u001b[0mkey\u001b[0m\u001b[1;33m.\u001b[0m\u001b[0mlower\u001b[0m\u001b[1;33m(\u001b[0m\u001b[1;33m)\u001b[0m\u001b[1;33m]\u001b[0m\u001b[1;33m[\u001b[0m\u001b[1;36m1\u001b[0m\u001b[1;33m]\u001b[0m\u001b[1;33m\u001b[0m\u001b[1;33m\u001b[0m\u001b[0m\n\u001b[0m\u001b[0;32m     53\u001b[0m \u001b[1;33m\u001b[0m\u001b[0m\n\u001b[0;32m     54\u001b[0m     \u001b[1;32mdef\u001b[0m \u001b[0m__delitem__\u001b[0m\u001b[1;33m(\u001b[0m\u001b[0mself\u001b[0m\u001b[1;33m,\u001b[0m \u001b[0mkey\u001b[0m\u001b[1;33m)\u001b[0m\u001b[1;33m:\u001b[0m\u001b[1;33m\u001b[0m\u001b[1;33m\u001b[0m\u001b[0m\n",
      "\u001b[1;31mKeyError\u001b[0m: 'content-disposition'"
     ]
    }
   ],
   "source": [
    "for href in video_hrefs:\n",
    "    start = href.find('id=')\n",
    "    index_str = href[start+3:]\n",
    "\n",
    "    url = f'https://kent.cloud.panopto.eu/Panopto/Podcast/Download/{index_str}.mp4?mediaTargetType=videoPodcast'\n",
    "\n",
    "    response = req.get(url, headers=headers, timeout=400, allow_redirects=False)\n",
    "    while ('Location' in response.headers):\n",
    "        headers['Referer'] = url\n",
    "        url = response.headers.get('Location')\n",
    "\n",
    "        response = req.get(url, timeout=400, allow_redirects=False)\n",
    "        print(response.headers)\n",
    "\n",
    "    start = response.headers['Content-Disposition'].find('filename=')\n",
    "    file_name = response.headers['Content-Disposition'][start+len('filename='):]\n",
    "    with open('Kent_/'+file_name, 'wb') as mp4:\n",
    "        mp4.write(response.content)"
   ]
  },
  {
   "cell_type": "code",
   "execution_count": 136,
   "metadata": {},
   "outputs": [
    {
     "data": {
      "text/plain": "<Response [502]>"
     },
     "execution_count": 136,
     "metadata": {},
     "output_type": "execute_result"
    }
   ],
   "source": [
    "response"
   ]
  },
  {
   "cell_type": "code",
   "execution_count": null,
   "metadata": {},
   "outputs": [],
   "source": []
  }
 ]
}